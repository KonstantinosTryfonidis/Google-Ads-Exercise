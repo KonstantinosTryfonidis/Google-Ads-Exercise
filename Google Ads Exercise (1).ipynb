{
 "cells": [
  {
   "cell_type": "markdown",
   "id": "12f5b257",
   "metadata": {},
   "source": [
    "# Google Ads"
   ]
  },
  {
   "cell_type": "markdown",
   "id": "ccfd2f31",
   "metadata": {},
   "source": [
    "Import necessary libraries for analysis"
   ]
  },
  {
   "cell_type": "code",
   "execution_count": 25,
   "id": "13178447",
   "metadata": {},
   "outputs": [],
   "source": [
    "import numpy as np\n",
    "import pandas as pd\n",
    "import matplotlib.pyplot as plt\n",
    "import plotly.graph_objects as go\n",
    "%matplotlib inline"
   ]
  },
  {
   "cell_type": "markdown",
   "id": "8d07e9ab",
   "metadata": {},
   "source": [
    "Import the dataset we are going to analyze"
   ]
  },
  {
   "cell_type": "code",
   "execution_count": 26,
   "id": "81d30ac9",
   "metadata": {},
   "outputs": [],
   "source": [
    "df=pd.read_excel(\"C:/Users/Dell/OneDrive/Υπολογιστής/AdWords exercise (dataset).xlsx\")"
   ]
  },
  {
   "cell_type": "markdown",
   "id": "2978c6a6",
   "metadata": {},
   "source": [
    "Quick review of the data"
   ]
  },
  {
   "cell_type": "code",
   "execution_count": 27,
   "id": "f69c15c8",
   "metadata": {},
   "outputs": [
    {
     "data": {
      "text/html": [
       "<div>\n",
       "<style scoped>\n",
       "    .dataframe tbody tr th:only-of-type {\n",
       "        vertical-align: middle;\n",
       "    }\n",
       "\n",
       "    .dataframe tbody tr th {\n",
       "        vertical-align: top;\n",
       "    }\n",
       "\n",
       "    .dataframe thead th {\n",
       "        text-align: right;\n",
       "    }\n",
       "</style>\n",
       "<table border=\"1\" class=\"dataframe\">\n",
       "  <thead>\n",
       "    <tr style=\"text-align: right;\">\n",
       "      <th></th>\n",
       "      <th>Day</th>\n",
       "      <th>Campaign</th>\n",
       "      <th>AdGroup</th>\n",
       "      <th>Clicks</th>\n",
       "      <th>Impressions</th>\n",
       "      <th>CTR</th>\n",
       "      <th>Avg. CPC</th>\n",
       "      <th>Cost</th>\n",
       "      <th>Avg. position</th>\n",
       "      <th>Conversions</th>\n",
       "      <th>Cost/conversion</th>\n",
       "      <th>Conversion rate</th>\n",
       "      <th>View-through conv.</th>\n",
       "      <th>Total conv. value</th>\n",
       "    </tr>\n",
       "  </thead>\n",
       "  <tbody>\n",
       "    <tr>\n",
       "      <th>0</th>\n",
       "      <td>2013-08-05</td>\n",
       "      <td>1</td>\n",
       "      <td>100</td>\n",
       "      <td>0</td>\n",
       "      <td>1</td>\n",
       "      <td>0.0000</td>\n",
       "      <td>0.00</td>\n",
       "      <td>0.00</td>\n",
       "      <td>1.0</td>\n",
       "      <td>0</td>\n",
       "      <td>0.0</td>\n",
       "      <td>0.0</td>\n",
       "      <td>0</td>\n",
       "      <td>0.0</td>\n",
       "    </tr>\n",
       "    <tr>\n",
       "      <th>1</th>\n",
       "      <td>2013-08-08</td>\n",
       "      <td>1</td>\n",
       "      <td>100</td>\n",
       "      <td>1</td>\n",
       "      <td>3</td>\n",
       "      <td>0.3333</td>\n",
       "      <td>0.03</td>\n",
       "      <td>0.03</td>\n",
       "      <td>1.0</td>\n",
       "      <td>0</td>\n",
       "      <td>0.0</td>\n",
       "      <td>0.0</td>\n",
       "      <td>0</td>\n",
       "      <td>0.0</td>\n",
       "    </tr>\n",
       "    <tr>\n",
       "      <th>2</th>\n",
       "      <td>2013-08-10</td>\n",
       "      <td>1</td>\n",
       "      <td>100</td>\n",
       "      <td>0</td>\n",
       "      <td>4</td>\n",
       "      <td>0.0000</td>\n",
       "      <td>0.00</td>\n",
       "      <td>0.00</td>\n",
       "      <td>1.0</td>\n",
       "      <td>0</td>\n",
       "      <td>0.0</td>\n",
       "      <td>0.0</td>\n",
       "      <td>0</td>\n",
       "      <td>0.0</td>\n",
       "    </tr>\n",
       "    <tr>\n",
       "      <th>3</th>\n",
       "      <td>2013-08-14</td>\n",
       "      <td>1</td>\n",
       "      <td>100</td>\n",
       "      <td>0</td>\n",
       "      <td>1</td>\n",
       "      <td>0.0000</td>\n",
       "      <td>0.00</td>\n",
       "      <td>0.00</td>\n",
       "      <td>1.0</td>\n",
       "      <td>0</td>\n",
       "      <td>0.0</td>\n",
       "      <td>0.0</td>\n",
       "      <td>0</td>\n",
       "      <td>0.0</td>\n",
       "    </tr>\n",
       "    <tr>\n",
       "      <th>4</th>\n",
       "      <td>2013-08-18</td>\n",
       "      <td>1</td>\n",
       "      <td>100</td>\n",
       "      <td>0</td>\n",
       "      <td>1</td>\n",
       "      <td>0.0000</td>\n",
       "      <td>0.00</td>\n",
       "      <td>0.00</td>\n",
       "      <td>1.0</td>\n",
       "      <td>0</td>\n",
       "      <td>0.0</td>\n",
       "      <td>0.0</td>\n",
       "      <td>0</td>\n",
       "      <td>0.0</td>\n",
       "    </tr>\n",
       "  </tbody>\n",
       "</table>\n",
       "</div>"
      ],
      "text/plain": [
       "         Day  Campaign  AdGroup  Clicks  Impressions     CTR  Avg. CPC  Cost  \\\n",
       "0 2013-08-05         1      100       0            1  0.0000      0.00  0.00   \n",
       "1 2013-08-08         1      100       1            3  0.3333      0.03  0.03   \n",
       "2 2013-08-10         1      100       0            4  0.0000      0.00  0.00   \n",
       "3 2013-08-14         1      100       0            1  0.0000      0.00  0.00   \n",
       "4 2013-08-18         1      100       0            1  0.0000      0.00  0.00   \n",
       "\n",
       "   Avg. position  Conversions  Cost/conversion  Conversion rate  \\\n",
       "0            1.0            0              0.0              0.0   \n",
       "1            1.0            0              0.0              0.0   \n",
       "2            1.0            0              0.0              0.0   \n",
       "3            1.0            0              0.0              0.0   \n",
       "4            1.0            0              0.0              0.0   \n",
       "\n",
       "   View-through conv.  Total conv. value  \n",
       "0                   0                0.0  \n",
       "1                   0                0.0  \n",
       "2                   0                0.0  \n",
       "3                   0                0.0  \n",
       "4                   0                0.0  "
      ]
     },
     "execution_count": 27,
     "metadata": {},
     "output_type": "execute_result"
    }
   ],
   "source": [
    "df.head()"
   ]
  },
  {
   "cell_type": "code",
   "execution_count": 28,
   "id": "eae7d772",
   "metadata": {},
   "outputs": [
    {
     "data": {
      "text/html": [
       "<div>\n",
       "<style scoped>\n",
       "    .dataframe tbody tr th:only-of-type {\n",
       "        vertical-align: middle;\n",
       "    }\n",
       "\n",
       "    .dataframe tbody tr th {\n",
       "        vertical-align: top;\n",
       "    }\n",
       "\n",
       "    .dataframe thead th {\n",
       "        text-align: right;\n",
       "    }\n",
       "</style>\n",
       "<table border=\"1\" class=\"dataframe\">\n",
       "  <thead>\n",
       "    <tr style=\"text-align: right;\">\n",
       "      <th></th>\n",
       "      <th>Day</th>\n",
       "      <th>Campaign</th>\n",
       "      <th>AdGroup</th>\n",
       "      <th>Clicks</th>\n",
       "      <th>Impressions</th>\n",
       "      <th>CTR</th>\n",
       "      <th>Avg. CPC</th>\n",
       "      <th>Cost</th>\n",
       "      <th>Avg. position</th>\n",
       "      <th>Conversions</th>\n",
       "      <th>Cost/conversion</th>\n",
       "      <th>Conversion rate</th>\n",
       "      <th>View-through conv.</th>\n",
       "      <th>Total conv. value</th>\n",
       "    </tr>\n",
       "  </thead>\n",
       "  <tbody>\n",
       "    <tr>\n",
       "      <th>5210</th>\n",
       "      <td>2013-09-25</td>\n",
       "      <td>15</td>\n",
       "      <td>536</td>\n",
       "      <td>342</td>\n",
       "      <td>65510</td>\n",
       "      <td>0.0052</td>\n",
       "      <td>0.05</td>\n",
       "      <td>17.29</td>\n",
       "      <td>1.0</td>\n",
       "      <td>7</td>\n",
       "      <td>2.47</td>\n",
       "      <td>0.0205</td>\n",
       "      <td>5</td>\n",
       "      <td>445.0</td>\n",
       "    </tr>\n",
       "    <tr>\n",
       "      <th>5211</th>\n",
       "      <td>2013-09-26</td>\n",
       "      <td>15</td>\n",
       "      <td>536</td>\n",
       "      <td>213</td>\n",
       "      <td>25635</td>\n",
       "      <td>0.0083</td>\n",
       "      <td>0.04</td>\n",
       "      <td>8.97</td>\n",
       "      <td>1.0</td>\n",
       "      <td>2</td>\n",
       "      <td>4.48</td>\n",
       "      <td>0.0094</td>\n",
       "      <td>1</td>\n",
       "      <td>104.0</td>\n",
       "    </tr>\n",
       "    <tr>\n",
       "      <th>5212</th>\n",
       "      <td>2013-09-27</td>\n",
       "      <td>15</td>\n",
       "      <td>536</td>\n",
       "      <td>899</td>\n",
       "      <td>111513</td>\n",
       "      <td>0.0081</td>\n",
       "      <td>0.04</td>\n",
       "      <td>39.51</td>\n",
       "      <td>1.0</td>\n",
       "      <td>2</td>\n",
       "      <td>19.76</td>\n",
       "      <td>0.0022</td>\n",
       "      <td>7</td>\n",
       "      <td>180.0</td>\n",
       "    </tr>\n",
       "    <tr>\n",
       "      <th>5213</th>\n",
       "      <td>2013-09-20</td>\n",
       "      <td>15</td>\n",
       "      <td>537</td>\n",
       "      <td>41</td>\n",
       "      <td>12677</td>\n",
       "      <td>0.0032</td>\n",
       "      <td>0.05</td>\n",
       "      <td>1.88</td>\n",
       "      <td>1.8</td>\n",
       "      <td>0</td>\n",
       "      <td>0.00</td>\n",
       "      <td>0.0000</td>\n",
       "      <td>0</td>\n",
       "      <td>0.0</td>\n",
       "    </tr>\n",
       "    <tr>\n",
       "      <th>5214</th>\n",
       "      <td>2013-09-21</td>\n",
       "      <td>15</td>\n",
       "      <td>537</td>\n",
       "      <td>70</td>\n",
       "      <td>20220</td>\n",
       "      <td>0.0035</td>\n",
       "      <td>0.05</td>\n",
       "      <td>3.31</td>\n",
       "      <td>2.2</td>\n",
       "      <td>0</td>\n",
       "      <td>0.00</td>\n",
       "      <td>0.0000</td>\n",
       "      <td>0</td>\n",
       "      <td>0.0</td>\n",
       "    </tr>\n",
       "  </tbody>\n",
       "</table>\n",
       "</div>"
      ],
      "text/plain": [
       "            Day  Campaign  AdGroup  Clicks  Impressions     CTR  Avg. CPC  \\\n",
       "5210 2013-09-25        15      536     342        65510  0.0052      0.05   \n",
       "5211 2013-09-26        15      536     213        25635  0.0083      0.04   \n",
       "5212 2013-09-27        15      536     899       111513  0.0081      0.04   \n",
       "5213 2013-09-20        15      537      41        12677  0.0032      0.05   \n",
       "5214 2013-09-21        15      537      70        20220  0.0035      0.05   \n",
       "\n",
       "       Cost  Avg. position  Conversions  Cost/conversion  Conversion rate  \\\n",
       "5210  17.29            1.0            7             2.47           0.0205   \n",
       "5211   8.97            1.0            2             4.48           0.0094   \n",
       "5212  39.51            1.0            2            19.76           0.0022   \n",
       "5213   1.88            1.8            0             0.00           0.0000   \n",
       "5214   3.31            2.2            0             0.00           0.0000   \n",
       "\n",
       "      View-through conv.  Total conv. value  \n",
       "5210                   5              445.0  \n",
       "5211                   1              104.0  \n",
       "5212                   7              180.0  \n",
       "5213                   0                0.0  \n",
       "5214                   0                0.0  "
      ]
     },
     "execution_count": 28,
     "metadata": {},
     "output_type": "execute_result"
    }
   ],
   "source": [
    "df.tail()"
   ]
  },
  {
   "cell_type": "markdown",
   "id": "810019da",
   "metadata": {},
   "source": [
    "Check for missing values"
   ]
  },
  {
   "cell_type": "code",
   "execution_count": 29,
   "id": "417f1be3",
   "metadata": {},
   "outputs": [
    {
     "data": {
      "text/plain": [
       "Day                   0\n",
       "Campaign              0\n",
       "AdGroup               0\n",
       "Clicks                0\n",
       "Impressions           0\n",
       "CTR                   0\n",
       "Avg. CPC              0\n",
       "Cost                  0\n",
       "Avg. position         0\n",
       "Conversions           0\n",
       "Cost/conversion       0\n",
       "Conversion rate       0\n",
       "View-through conv.    0\n",
       "Total conv. value     0\n",
       "dtype: int64"
      ]
     },
     "execution_count": 29,
     "metadata": {},
     "output_type": "execute_result"
    }
   ],
   "source": [
    "df.isnull().sum()\n",
    "#we observe that there are not any missing values so we don't have to make any modifications"
   ]
  },
  {
   "cell_type": "markdown",
   "id": "a5f165b1",
   "metadata": {},
   "source": [
    "Summary statistics table "
   ]
  },
  {
   "cell_type": "code",
   "execution_count": 30,
   "id": "a7c81e91",
   "metadata": {},
   "outputs": [
    {
     "data": {
      "text/html": [
       "<div>\n",
       "<style scoped>\n",
       "    .dataframe tbody tr th:only-of-type {\n",
       "        vertical-align: middle;\n",
       "    }\n",
       "\n",
       "    .dataframe tbody tr th {\n",
       "        vertical-align: top;\n",
       "    }\n",
       "\n",
       "    .dataframe thead th {\n",
       "        text-align: right;\n",
       "    }\n",
       "</style>\n",
       "<table border=\"1\" class=\"dataframe\">\n",
       "  <thead>\n",
       "    <tr style=\"text-align: right;\">\n",
       "      <th></th>\n",
       "      <th>Campaign</th>\n",
       "      <th>AdGroup</th>\n",
       "      <th>Clicks</th>\n",
       "      <th>Impressions</th>\n",
       "      <th>CTR</th>\n",
       "      <th>Avg. CPC</th>\n",
       "      <th>Cost</th>\n",
       "      <th>Avg. position</th>\n",
       "      <th>Conversions</th>\n",
       "      <th>Cost/conversion</th>\n",
       "      <th>Conversion rate</th>\n",
       "      <th>View-through conv.</th>\n",
       "      <th>Total conv. value</th>\n",
       "    </tr>\n",
       "  </thead>\n",
       "  <tbody>\n",
       "    <tr>\n",
       "      <th>count</th>\n",
       "      <td>5215.000000</td>\n",
       "      <td>5215.000000</td>\n",
       "      <td>5215.000000</td>\n",
       "      <td>5215.000000</td>\n",
       "      <td>5215.000000</td>\n",
       "      <td>5215.000000</td>\n",
       "      <td>5215.000000</td>\n",
       "      <td>5215.000000</td>\n",
       "      <td>5215.000000</td>\n",
       "      <td>5215.000000</td>\n",
       "      <td>5215.000000</td>\n",
       "      <td>5215.000000</td>\n",
       "      <td>5215.000000</td>\n",
       "    </tr>\n",
       "    <tr>\n",
       "      <th>mean</th>\n",
       "      <td>7.821860</td>\n",
       "      <td>336.455992</td>\n",
       "      <td>26.363758</td>\n",
       "      <td>2186.010355</td>\n",
       "      <td>0.246293</td>\n",
       "      <td>0.066899</td>\n",
       "      <td>1.393091</td>\n",
       "      <td>1.078447</td>\n",
       "      <td>0.730393</td>\n",
       "      <td>0.379914</td>\n",
       "      <td>0.017785</td>\n",
       "      <td>0.332311</td>\n",
       "      <td>46.144036</td>\n",
       "    </tr>\n",
       "    <tr>\n",
       "      <th>std</th>\n",
       "      <td>6.110752</td>\n",
       "      <td>161.383728</td>\n",
       "      <td>104.726371</td>\n",
       "      <td>8400.434701</td>\n",
       "      <td>0.340551</td>\n",
       "      <td>0.088975</td>\n",
       "      <td>4.397401</td>\n",
       "      <td>0.226418</td>\n",
       "      <td>3.815131</td>\n",
       "      <td>1.446853</td>\n",
       "      <td>0.073955</td>\n",
       "      <td>1.590337</td>\n",
       "      <td>242.678090</td>\n",
       "    </tr>\n",
       "    <tr>\n",
       "      <th>min</th>\n",
       "      <td>1.000000</td>\n",
       "      <td>100.000000</td>\n",
       "      <td>0.000000</td>\n",
       "      <td>0.000000</td>\n",
       "      <td>0.000000</td>\n",
       "      <td>0.000000</td>\n",
       "      <td>0.000000</td>\n",
       "      <td>0.000000</td>\n",
       "      <td>0.000000</td>\n",
       "      <td>0.000000</td>\n",
       "      <td>0.000000</td>\n",
       "      <td>0.000000</td>\n",
       "      <td>0.000000</td>\n",
       "    </tr>\n",
       "    <tr>\n",
       "      <th>25%</th>\n",
       "      <td>3.000000</td>\n",
       "      <td>222.000000</td>\n",
       "      <td>1.000000</td>\n",
       "      <td>3.000000</td>\n",
       "      <td>0.002000</td>\n",
       "      <td>0.020000</td>\n",
       "      <td>0.020000</td>\n",
       "      <td>1.000000</td>\n",
       "      <td>0.000000</td>\n",
       "      <td>0.000000</td>\n",
       "      <td>0.000000</td>\n",
       "      <td>0.000000</td>\n",
       "      <td>0.000000</td>\n",
       "    </tr>\n",
       "    <tr>\n",
       "      <th>50%</th>\n",
       "      <td>7.000000</td>\n",
       "      <td>329.000000</td>\n",
       "      <td>3.000000</td>\n",
       "      <td>25.000000</td>\n",
       "      <td>0.008900</td>\n",
       "      <td>0.050000</td>\n",
       "      <td>0.180000</td>\n",
       "      <td>1.000000</td>\n",
       "      <td>0.000000</td>\n",
       "      <td>0.000000</td>\n",
       "      <td>0.000000</td>\n",
       "      <td>0.000000</td>\n",
       "      <td>0.000000</td>\n",
       "    </tr>\n",
       "    <tr>\n",
       "      <th>75%</th>\n",
       "      <td>15.000000</td>\n",
       "      <td>508.000000</td>\n",
       "      <td>12.000000</td>\n",
       "      <td>829.000000</td>\n",
       "      <td>0.466700</td>\n",
       "      <td>0.080000</td>\n",
       "      <td>0.880000</td>\n",
       "      <td>1.000000</td>\n",
       "      <td>0.000000</td>\n",
       "      <td>0.000000</td>\n",
       "      <td>0.000000</td>\n",
       "      <td>0.000000</td>\n",
       "      <td>0.000000</td>\n",
       "    </tr>\n",
       "    <tr>\n",
       "      <th>max</th>\n",
       "      <td>15.000000</td>\n",
       "      <td>537.000000</td>\n",
       "      <td>1602.000000</td>\n",
       "      <td>148518.000000</td>\n",
       "      <td>2.000000</td>\n",
       "      <td>1.280000</td>\n",
       "      <td>77.870000</td>\n",
       "      <td>5.000000</td>\n",
       "      <td>75.000000</td>\n",
       "      <td>23.970000</td>\n",
       "      <td>1.000000</td>\n",
       "      <td>33.000000</td>\n",
       "      <td>5687.000000</td>\n",
       "    </tr>\n",
       "  </tbody>\n",
       "</table>\n",
       "</div>"
      ],
      "text/plain": [
       "          Campaign      AdGroup       Clicks    Impressions          CTR  \\\n",
       "count  5215.000000  5215.000000  5215.000000    5215.000000  5215.000000   \n",
       "mean      7.821860   336.455992    26.363758    2186.010355     0.246293   \n",
       "std       6.110752   161.383728   104.726371    8400.434701     0.340551   \n",
       "min       1.000000   100.000000     0.000000       0.000000     0.000000   \n",
       "25%       3.000000   222.000000     1.000000       3.000000     0.002000   \n",
       "50%       7.000000   329.000000     3.000000      25.000000     0.008900   \n",
       "75%      15.000000   508.000000    12.000000     829.000000     0.466700   \n",
       "max      15.000000   537.000000  1602.000000  148518.000000     2.000000   \n",
       "\n",
       "          Avg. CPC         Cost  Avg. position  Conversions  Cost/conversion  \\\n",
       "count  5215.000000  5215.000000    5215.000000  5215.000000      5215.000000   \n",
       "mean      0.066899     1.393091       1.078447     0.730393         0.379914   \n",
       "std       0.088975     4.397401       0.226418     3.815131         1.446853   \n",
       "min       0.000000     0.000000       0.000000     0.000000         0.000000   \n",
       "25%       0.020000     0.020000       1.000000     0.000000         0.000000   \n",
       "50%       0.050000     0.180000       1.000000     0.000000         0.000000   \n",
       "75%       0.080000     0.880000       1.000000     0.000000         0.000000   \n",
       "max       1.280000    77.870000       5.000000    75.000000        23.970000   \n",
       "\n",
       "       Conversion rate  View-through conv.  Total conv. value  \n",
       "count      5215.000000         5215.000000        5215.000000  \n",
       "mean          0.017785            0.332311          46.144036  \n",
       "std           0.073955            1.590337         242.678090  \n",
       "min           0.000000            0.000000           0.000000  \n",
       "25%           0.000000            0.000000           0.000000  \n",
       "50%           0.000000            0.000000           0.000000  \n",
       "75%           0.000000            0.000000           0.000000  \n",
       "max           1.000000           33.000000        5687.000000  "
      ]
     },
     "execution_count": 30,
     "metadata": {},
     "output_type": "execute_result"
    }
   ],
   "source": [
    "df.describe(include=[np.number])"
   ]
  },
  {
   "cell_type": "markdown",
   "id": "7d9fc8d0",
   "metadata": {},
   "source": [
    "We will evaluate the performance for each of these two months"
   ]
  },
  {
   "cell_type": "code",
   "execution_count": 31,
   "id": "59ce28c3",
   "metadata": {},
   "outputs": [],
   "source": [
    "#first we will create a new column on the original dataset \n",
    "df['Month']=df['Day'].dt.to_period('M')\n",
    "\n",
    "monthly_per=df.groupby('Month').agg({'Clicks':'sum','Impressions':'sum',\n",
    "                                    'CTR':'mean','Avg. CPC':'mean',\n",
    "                                    'Cost':'sum','Conversions':'sum',\n",
    "                                    'Conversion rate':'mean','Total conv. value':'sum'\n",
    "                                    }).reset_index()\n",
    "\n"
   ]
  },
  {
   "cell_type": "code",
   "execution_count": 32,
   "id": "4103be7e",
   "metadata": {},
   "outputs": [
    {
     "data": {
      "text/html": [
       "<div>\n",
       "<style scoped>\n",
       "    .dataframe tbody tr th:only-of-type {\n",
       "        vertical-align: middle;\n",
       "    }\n",
       "\n",
       "    .dataframe tbody tr th {\n",
       "        vertical-align: top;\n",
       "    }\n",
       "\n",
       "    .dataframe thead th {\n",
       "        text-align: right;\n",
       "    }\n",
       "</style>\n",
       "<table border=\"1\" class=\"dataframe\">\n",
       "  <thead>\n",
       "    <tr style=\"text-align: right;\">\n",
       "      <th></th>\n",
       "      <th>Month</th>\n",
       "      <th>Clicks</th>\n",
       "      <th>Impressions</th>\n",
       "      <th>CTR</th>\n",
       "      <th>Avg. CPC</th>\n",
       "      <th>Cost</th>\n",
       "      <th>Conversions</th>\n",
       "      <th>Conversion rate</th>\n",
       "      <th>Total conv. value</th>\n",
       "    </tr>\n",
       "  </thead>\n",
       "  <tbody>\n",
       "    <tr>\n",
       "      <th>0</th>\n",
       "      <td>2013-08</td>\n",
       "      <td>61757</td>\n",
       "      <td>5507270</td>\n",
       "      <td>0.253785</td>\n",
       "      <td>0.068011</td>\n",
       "      <td>2996.56</td>\n",
       "      <td>1923</td>\n",
       "      <td>0.019841</td>\n",
       "      <td>130387.64</td>\n",
       "    </tr>\n",
       "    <tr>\n",
       "      <th>1</th>\n",
       "      <td>2013-09</td>\n",
       "      <td>75730</td>\n",
       "      <td>5892774</td>\n",
       "      <td>0.238249</td>\n",
       "      <td>0.065706</td>\n",
       "      <td>4268.41</td>\n",
       "      <td>1886</td>\n",
       "      <td>0.015578</td>\n",
       "      <td>110253.51</td>\n",
       "    </tr>\n",
       "  </tbody>\n",
       "</table>\n",
       "</div>"
      ],
      "text/plain": [
       "     Month  Clicks  Impressions       CTR  Avg. CPC     Cost  Conversions  \\\n",
       "0  2013-08   61757      5507270  0.253785  0.068011  2996.56         1923   \n",
       "1  2013-09   75730      5892774  0.238249  0.065706  4268.41         1886   \n",
       "\n",
       "   Conversion rate  Total conv. value  \n",
       "0         0.019841          130387.64  \n",
       "1         0.015578          110253.51  "
      ]
     },
     "execution_count": 32,
     "metadata": {},
     "output_type": "execute_result"
    }
   ],
   "source": [
    "monthly_per.to_csv('monthly_per.csv')\n",
    "monthly_per"
   ]
  },
  {
   "cell_type": "code",
   "execution_count": 33,
   "id": "845fd877",
   "metadata": {},
   "outputs": [
    {
     "data": {
      "text/html": [
       "<div>\n",
       "<style scoped>\n",
       "    .dataframe tbody tr th:only-of-type {\n",
       "        vertical-align: middle;\n",
       "    }\n",
       "\n",
       "    .dataframe tbody tr th {\n",
       "        vertical-align: top;\n",
       "    }\n",
       "\n",
       "    .dataframe thead th {\n",
       "        text-align: right;\n",
       "    }\n",
       "</style>\n",
       "<table border=\"1\" class=\"dataframe\">\n",
       "  <thead>\n",
       "    <tr style=\"text-align: right;\">\n",
       "      <th></th>\n",
       "      <th>Month</th>\n",
       "      <th>Clicks</th>\n",
       "      <th>Impressions</th>\n",
       "      <th>CTR</th>\n",
       "      <th>Avg. CPC</th>\n",
       "      <th>Cost</th>\n",
       "      <th>Conversions</th>\n",
       "      <th>Conversion rate</th>\n",
       "      <th>Total conv. value</th>\n",
       "      <th>ROAS</th>\n",
       "    </tr>\n",
       "  </thead>\n",
       "  <tbody>\n",
       "    <tr>\n",
       "      <th>0</th>\n",
       "      <td>2013-08</td>\n",
       "      <td>61757</td>\n",
       "      <td>5507270</td>\n",
       "      <td>0.253785</td>\n",
       "      <td>0.068011</td>\n",
       "      <td>2996.56</td>\n",
       "      <td>1923</td>\n",
       "      <td>0.019841</td>\n",
       "      <td>130387.64</td>\n",
       "      <td>43.512441</td>\n",
       "    </tr>\n",
       "    <tr>\n",
       "      <th>1</th>\n",
       "      <td>2013-09</td>\n",
       "      <td>75730</td>\n",
       "      <td>5892774</td>\n",
       "      <td>0.238249</td>\n",
       "      <td>0.065706</td>\n",
       "      <td>4268.41</td>\n",
       "      <td>1886</td>\n",
       "      <td>0.015578</td>\n",
       "      <td>110253.51</td>\n",
       "      <td>25.830112</td>\n",
       "    </tr>\n",
       "  </tbody>\n",
       "</table>\n",
       "</div>"
      ],
      "text/plain": [
       "     Month  Clicks  Impressions       CTR  Avg. CPC     Cost  Conversions  \\\n",
       "0  2013-08   61757      5507270  0.253785  0.068011  2996.56         1923   \n",
       "1  2013-09   75730      5892774  0.238249  0.065706  4268.41         1886   \n",
       "\n",
       "   Conversion rate  Total conv. value       ROAS  \n",
       "0         0.019841          130387.64  43.512441  \n",
       "1         0.015578          110253.51  25.830112  "
      ]
     },
     "execution_count": 33,
     "metadata": {},
     "output_type": "execute_result"
    }
   ],
   "source": [
    "#we calculate the 'ROAS' (revenue/cost),this value indicates the return we gain for a single unit we spent\n",
    "monthly_per['ROAS']=monthly_per['Total conv. value']/monthly_per['Cost']\n",
    "monthly_per"
   ]
  },
  {
   "cell_type": "code",
   "execution_count": 34,
   "id": "ca0fd201",
   "metadata": {},
   "outputs": [],
   "source": [
    "#On the first month we gained 43.51 monetary units for every single one we spent and 25.83 on the second month.\n",
    "#We observe that the performance has decreased significantly(~40%)"
   ]
  },
  {
   "cell_type": "markdown",
   "id": "9f032df9",
   "metadata": {},
   "source": [
    "Visualization"
   ]
  },
  {
   "cell_type": "code",
   "execution_count": 35,
   "id": "7c072826",
   "metadata": {},
   "outputs": [
    {
     "data": {
      "application/vnd.plotly.v1+json": {
       "config": {
        "plotlyServerURL": "https://plot.ly"
       },
       "data": [
        {
         "line": {
          "color": "blue"
         },
         "mode": "lines+markers",
         "name": "ROAS",
         "type": "scatter",
         "x": [
          "2013-08",
          "2013-09"
         ],
         "y": [
          43.512440932269,
          25.830112383768196
         ]
        },
        {
         "line": {
          "color": "green"
         },
         "mode": "lines+markers",
         "name": "Clicks",
         "type": "scatter",
         "x": [
          "2013-08",
          "2013-09"
         ],
         "y": [
          61757,
          75730
         ]
        },
        {
         "line": {
          "color": "red"
         },
         "mode": "lines+markers",
         "name": "Conversions",
         "type": "scatter",
         "x": [
          "2013-08",
          "2013-09"
         ],
         "y": [
          1923,
          1886
         ]
        },
        {
         "line": {
          "color": "orange"
         },
         "mode": "lines+markers",
         "name": "Cost",
         "type": "scatter",
         "x": [
          "2013-08",
          "2013-09"
         ],
         "y": [
          2996.56,
          4268.41
         ]
        }
       ],
       "layout": {
        "template": {
         "data": {
          "bar": [
           {
            "error_x": {
             "color": "#2a3f5f"
            },
            "error_y": {
             "color": "#2a3f5f"
            },
            "marker": {
             "line": {
              "color": "white",
              "width": 0.5
             },
             "pattern": {
              "fillmode": "overlay",
              "size": 10,
              "solidity": 0.2
             }
            },
            "type": "bar"
           }
          ],
          "barpolar": [
           {
            "marker": {
             "line": {
              "color": "white",
              "width": 0.5
             },
             "pattern": {
              "fillmode": "overlay",
              "size": 10,
              "solidity": 0.2
             }
            },
            "type": "barpolar"
           }
          ],
          "carpet": [
           {
            "aaxis": {
             "endlinecolor": "#2a3f5f",
             "gridcolor": "#C8D4E3",
             "linecolor": "#C8D4E3",
             "minorgridcolor": "#C8D4E3",
             "startlinecolor": "#2a3f5f"
            },
            "baxis": {
             "endlinecolor": "#2a3f5f",
             "gridcolor": "#C8D4E3",
             "linecolor": "#C8D4E3",
             "minorgridcolor": "#C8D4E3",
             "startlinecolor": "#2a3f5f"
            },
            "type": "carpet"
           }
          ],
          "choropleth": [
           {
            "colorbar": {
             "outlinewidth": 0,
             "ticks": ""
            },
            "type": "choropleth"
           }
          ],
          "contour": [
           {
            "colorbar": {
             "outlinewidth": 0,
             "ticks": ""
            },
            "colorscale": [
             [
              0,
              "#0d0887"
             ],
             [
              0.1111111111111111,
              "#46039f"
             ],
             [
              0.2222222222222222,
              "#7201a8"
             ],
             [
              0.3333333333333333,
              "#9c179e"
             ],
             [
              0.4444444444444444,
              "#bd3786"
             ],
             [
              0.5555555555555556,
              "#d8576b"
             ],
             [
              0.6666666666666666,
              "#ed7953"
             ],
             [
              0.7777777777777778,
              "#fb9f3a"
             ],
             [
              0.8888888888888888,
              "#fdca26"
             ],
             [
              1,
              "#f0f921"
             ]
            ],
            "type": "contour"
           }
          ],
          "contourcarpet": [
           {
            "colorbar": {
             "outlinewidth": 0,
             "ticks": ""
            },
            "type": "contourcarpet"
           }
          ],
          "heatmap": [
           {
            "colorbar": {
             "outlinewidth": 0,
             "ticks": ""
            },
            "colorscale": [
             [
              0,
              "#0d0887"
             ],
             [
              0.1111111111111111,
              "#46039f"
             ],
             [
              0.2222222222222222,
              "#7201a8"
             ],
             [
              0.3333333333333333,
              "#9c179e"
             ],
             [
              0.4444444444444444,
              "#bd3786"
             ],
             [
              0.5555555555555556,
              "#d8576b"
             ],
             [
              0.6666666666666666,
              "#ed7953"
             ],
             [
              0.7777777777777778,
              "#fb9f3a"
             ],
             [
              0.8888888888888888,
              "#fdca26"
             ],
             [
              1,
              "#f0f921"
             ]
            ],
            "type": "heatmap"
           }
          ],
          "heatmapgl": [
           {
            "colorbar": {
             "outlinewidth": 0,
             "ticks": ""
            },
            "colorscale": [
             [
              0,
              "#0d0887"
             ],
             [
              0.1111111111111111,
              "#46039f"
             ],
             [
              0.2222222222222222,
              "#7201a8"
             ],
             [
              0.3333333333333333,
              "#9c179e"
             ],
             [
              0.4444444444444444,
              "#bd3786"
             ],
             [
              0.5555555555555556,
              "#d8576b"
             ],
             [
              0.6666666666666666,
              "#ed7953"
             ],
             [
              0.7777777777777778,
              "#fb9f3a"
             ],
             [
              0.8888888888888888,
              "#fdca26"
             ],
             [
              1,
              "#f0f921"
             ]
            ],
            "type": "heatmapgl"
           }
          ],
          "histogram": [
           {
            "marker": {
             "pattern": {
              "fillmode": "overlay",
              "size": 10,
              "solidity": 0.2
             }
            },
            "type": "histogram"
           }
          ],
          "histogram2d": [
           {
            "colorbar": {
             "outlinewidth": 0,
             "ticks": ""
            },
            "colorscale": [
             [
              0,
              "#0d0887"
             ],
             [
              0.1111111111111111,
              "#46039f"
             ],
             [
              0.2222222222222222,
              "#7201a8"
             ],
             [
              0.3333333333333333,
              "#9c179e"
             ],
             [
              0.4444444444444444,
              "#bd3786"
             ],
             [
              0.5555555555555556,
              "#d8576b"
             ],
             [
              0.6666666666666666,
              "#ed7953"
             ],
             [
              0.7777777777777778,
              "#fb9f3a"
             ],
             [
              0.8888888888888888,
              "#fdca26"
             ],
             [
              1,
              "#f0f921"
             ]
            ],
            "type": "histogram2d"
           }
          ],
          "histogram2dcontour": [
           {
            "colorbar": {
             "outlinewidth": 0,
             "ticks": ""
            },
            "colorscale": [
             [
              0,
              "#0d0887"
             ],
             [
              0.1111111111111111,
              "#46039f"
             ],
             [
              0.2222222222222222,
              "#7201a8"
             ],
             [
              0.3333333333333333,
              "#9c179e"
             ],
             [
              0.4444444444444444,
              "#bd3786"
             ],
             [
              0.5555555555555556,
              "#d8576b"
             ],
             [
              0.6666666666666666,
              "#ed7953"
             ],
             [
              0.7777777777777778,
              "#fb9f3a"
             ],
             [
              0.8888888888888888,
              "#fdca26"
             ],
             [
              1,
              "#f0f921"
             ]
            ],
            "type": "histogram2dcontour"
           }
          ],
          "mesh3d": [
           {
            "colorbar": {
             "outlinewidth": 0,
             "ticks": ""
            },
            "type": "mesh3d"
           }
          ],
          "parcoords": [
           {
            "line": {
             "colorbar": {
              "outlinewidth": 0,
              "ticks": ""
             }
            },
            "type": "parcoords"
           }
          ],
          "pie": [
           {
            "automargin": true,
            "type": "pie"
           }
          ],
          "scatter": [
           {
            "fillpattern": {
             "fillmode": "overlay",
             "size": 10,
             "solidity": 0.2
            },
            "type": "scatter"
           }
          ],
          "scatter3d": [
           {
            "line": {
             "colorbar": {
              "outlinewidth": 0,
              "ticks": ""
             }
            },
            "marker": {
             "colorbar": {
              "outlinewidth": 0,
              "ticks": ""
             }
            },
            "type": "scatter3d"
           }
          ],
          "scattercarpet": [
           {
            "marker": {
             "colorbar": {
              "outlinewidth": 0,
              "ticks": ""
             }
            },
            "type": "scattercarpet"
           }
          ],
          "scattergeo": [
           {
            "marker": {
             "colorbar": {
              "outlinewidth": 0,
              "ticks": ""
             }
            },
            "type": "scattergeo"
           }
          ],
          "scattergl": [
           {
            "marker": {
             "colorbar": {
              "outlinewidth": 0,
              "ticks": ""
             }
            },
            "type": "scattergl"
           }
          ],
          "scattermapbox": [
           {
            "marker": {
             "colorbar": {
              "outlinewidth": 0,
              "ticks": ""
             }
            },
            "type": "scattermapbox"
           }
          ],
          "scatterpolar": [
           {
            "marker": {
             "colorbar": {
              "outlinewidth": 0,
              "ticks": ""
             }
            },
            "type": "scatterpolar"
           }
          ],
          "scatterpolargl": [
           {
            "marker": {
             "colorbar": {
              "outlinewidth": 0,
              "ticks": ""
             }
            },
            "type": "scatterpolargl"
           }
          ],
          "scatterternary": [
           {
            "marker": {
             "colorbar": {
              "outlinewidth": 0,
              "ticks": ""
             }
            },
            "type": "scatterternary"
           }
          ],
          "surface": [
           {
            "colorbar": {
             "outlinewidth": 0,
             "ticks": ""
            },
            "colorscale": [
             [
              0,
              "#0d0887"
             ],
             [
              0.1111111111111111,
              "#46039f"
             ],
             [
              0.2222222222222222,
              "#7201a8"
             ],
             [
              0.3333333333333333,
              "#9c179e"
             ],
             [
              0.4444444444444444,
              "#bd3786"
             ],
             [
              0.5555555555555556,
              "#d8576b"
             ],
             [
              0.6666666666666666,
              "#ed7953"
             ],
             [
              0.7777777777777778,
              "#fb9f3a"
             ],
             [
              0.8888888888888888,
              "#fdca26"
             ],
             [
              1,
              "#f0f921"
             ]
            ],
            "type": "surface"
           }
          ],
          "table": [
           {
            "cells": {
             "fill": {
              "color": "#EBF0F8"
             },
             "line": {
              "color": "white"
             }
            },
            "header": {
             "fill": {
              "color": "#C8D4E3"
             },
             "line": {
              "color": "white"
             }
            },
            "type": "table"
           }
          ]
         },
         "layout": {
          "annotationdefaults": {
           "arrowcolor": "#2a3f5f",
           "arrowhead": 0,
           "arrowwidth": 1
          },
          "autotypenumbers": "strict",
          "coloraxis": {
           "colorbar": {
            "outlinewidth": 0,
            "ticks": ""
           }
          },
          "colorscale": {
           "diverging": [
            [
             0,
             "#8e0152"
            ],
            [
             0.1,
             "#c51b7d"
            ],
            [
             0.2,
             "#de77ae"
            ],
            [
             0.3,
             "#f1b6da"
            ],
            [
             0.4,
             "#fde0ef"
            ],
            [
             0.5,
             "#f7f7f7"
            ],
            [
             0.6,
             "#e6f5d0"
            ],
            [
             0.7,
             "#b8e186"
            ],
            [
             0.8,
             "#7fbc41"
            ],
            [
             0.9,
             "#4d9221"
            ],
            [
             1,
             "#276419"
            ]
           ],
           "sequential": [
            [
             0,
             "#0d0887"
            ],
            [
             0.1111111111111111,
             "#46039f"
            ],
            [
             0.2222222222222222,
             "#7201a8"
            ],
            [
             0.3333333333333333,
             "#9c179e"
            ],
            [
             0.4444444444444444,
             "#bd3786"
            ],
            [
             0.5555555555555556,
             "#d8576b"
            ],
            [
             0.6666666666666666,
             "#ed7953"
            ],
            [
             0.7777777777777778,
             "#fb9f3a"
            ],
            [
             0.8888888888888888,
             "#fdca26"
            ],
            [
             1,
             "#f0f921"
            ]
           ],
           "sequentialminus": [
            [
             0,
             "#0d0887"
            ],
            [
             0.1111111111111111,
             "#46039f"
            ],
            [
             0.2222222222222222,
             "#7201a8"
            ],
            [
             0.3333333333333333,
             "#9c179e"
            ],
            [
             0.4444444444444444,
             "#bd3786"
            ],
            [
             0.5555555555555556,
             "#d8576b"
            ],
            [
             0.6666666666666666,
             "#ed7953"
            ],
            [
             0.7777777777777778,
             "#fb9f3a"
            ],
            [
             0.8888888888888888,
             "#fdca26"
            ],
            [
             1,
             "#f0f921"
            ]
           ]
          },
          "colorway": [
           "#636efa",
           "#EF553B",
           "#00cc96",
           "#ab63fa",
           "#FFA15A",
           "#19d3f3",
           "#FF6692",
           "#B6E880",
           "#FF97FF",
           "#FECB52"
          ],
          "font": {
           "color": "#2a3f5f"
          },
          "geo": {
           "bgcolor": "white",
           "lakecolor": "white",
           "landcolor": "white",
           "showlakes": true,
           "showland": true,
           "subunitcolor": "#C8D4E3"
          },
          "hoverlabel": {
           "align": "left"
          },
          "hovermode": "closest",
          "mapbox": {
           "style": "light"
          },
          "paper_bgcolor": "white",
          "plot_bgcolor": "white",
          "polar": {
           "angularaxis": {
            "gridcolor": "#EBF0F8",
            "linecolor": "#EBF0F8",
            "ticks": ""
           },
           "bgcolor": "white",
           "radialaxis": {
            "gridcolor": "#EBF0F8",
            "linecolor": "#EBF0F8",
            "ticks": ""
           }
          },
          "scene": {
           "xaxis": {
            "backgroundcolor": "white",
            "gridcolor": "#DFE8F3",
            "gridwidth": 2,
            "linecolor": "#EBF0F8",
            "showbackground": true,
            "ticks": "",
            "zerolinecolor": "#EBF0F8"
           },
           "yaxis": {
            "backgroundcolor": "white",
            "gridcolor": "#DFE8F3",
            "gridwidth": 2,
            "linecolor": "#EBF0F8",
            "showbackground": true,
            "ticks": "",
            "zerolinecolor": "#EBF0F8"
           },
           "zaxis": {
            "backgroundcolor": "white",
            "gridcolor": "#DFE8F3",
            "gridwidth": 2,
            "linecolor": "#EBF0F8",
            "showbackground": true,
            "ticks": "",
            "zerolinecolor": "#EBF0F8"
           }
          },
          "shapedefaults": {
           "line": {
            "color": "#2a3f5f"
           }
          },
          "ternary": {
           "aaxis": {
            "gridcolor": "#DFE8F3",
            "linecolor": "#A2B1C6",
            "ticks": ""
           },
           "baxis": {
            "gridcolor": "#DFE8F3",
            "linecolor": "#A2B1C6",
            "ticks": ""
           },
           "bgcolor": "white",
           "caxis": {
            "gridcolor": "#DFE8F3",
            "linecolor": "#A2B1C6",
            "ticks": ""
           }
          },
          "title": {
           "x": 0.05
          },
          "xaxis": {
           "automargin": true,
           "gridcolor": "#EBF0F8",
           "linecolor": "#EBF0F8",
           "ticks": "",
           "title": {
            "standoff": 15
           },
           "zerolinecolor": "#EBF0F8",
           "zerolinewidth": 2
          },
          "yaxis": {
           "automargin": true,
           "gridcolor": "#EBF0F8",
           "linecolor": "#EBF0F8",
           "ticks": "",
           "title": {
            "standoff": 15
           },
           "zerolinecolor": "#EBF0F8",
           "zerolinewidth": 2
          }
         }
        },
        "title": {
         "text": "Monthly Performance Trends"
        },
        "xaxis": {
         "title": {
          "text": "Month"
         }
        },
        "yaxis": {
         "title": {
          "text": "Metric Value"
         }
        }
       }
      },
      "text/html": [
       "<div>                            <div id=\"e18c3f15-8583-489b-84e1-4b06ed78b6c9\" class=\"plotly-graph-div\" style=\"height:525px; width:100%;\"></div>            <script type=\"text/javascript\">                require([\"plotly\"], function(Plotly) {                    window.PLOTLYENV=window.PLOTLYENV || {};                                    if (document.getElementById(\"e18c3f15-8583-489b-84e1-4b06ed78b6c9\")) {                    Plotly.newPlot(                        \"e18c3f15-8583-489b-84e1-4b06ed78b6c9\",                        [{\"line\":{\"color\":\"blue\"},\"mode\":\"lines+markers\",\"name\":\"ROAS\",\"x\":[\"2013-08\",\"2013-09\"],\"y\":[43.512440932269,25.830112383768196],\"type\":\"scatter\"},{\"line\":{\"color\":\"green\"},\"mode\":\"lines+markers\",\"name\":\"Clicks\",\"x\":[\"2013-08\",\"2013-09\"],\"y\":[61757,75730],\"type\":\"scatter\"},{\"line\":{\"color\":\"red\"},\"mode\":\"lines+markers\",\"name\":\"Conversions\",\"x\":[\"2013-08\",\"2013-09\"],\"y\":[1923,1886],\"type\":\"scatter\"},{\"line\":{\"color\":\"orange\"},\"mode\":\"lines+markers\",\"name\":\"Cost\",\"x\":[\"2013-08\",\"2013-09\"],\"y\":[2996.56,4268.41],\"type\":\"scatter\"}],                        {\"template\":{\"data\":{\"barpolar\":[{\"marker\":{\"line\":{\"color\":\"white\",\"width\":0.5},\"pattern\":{\"fillmode\":\"overlay\",\"size\":10,\"solidity\":0.2}},\"type\":\"barpolar\"}],\"bar\":[{\"error_x\":{\"color\":\"#2a3f5f\"},\"error_y\":{\"color\":\"#2a3f5f\"},\"marker\":{\"line\":{\"color\":\"white\",\"width\":0.5},\"pattern\":{\"fillmode\":\"overlay\",\"size\":10,\"solidity\":0.2}},\"type\":\"bar\"}],\"carpet\":[{\"aaxis\":{\"endlinecolor\":\"#2a3f5f\",\"gridcolor\":\"#C8D4E3\",\"linecolor\":\"#C8D4E3\",\"minorgridcolor\":\"#C8D4E3\",\"startlinecolor\":\"#2a3f5f\"},\"baxis\":{\"endlinecolor\":\"#2a3f5f\",\"gridcolor\":\"#C8D4E3\",\"linecolor\":\"#C8D4E3\",\"minorgridcolor\":\"#C8D4E3\",\"startlinecolor\":\"#2a3f5f\"},\"type\":\"carpet\"}],\"choropleth\":[{\"colorbar\":{\"outlinewidth\":0,\"ticks\":\"\"},\"type\":\"choropleth\"}],\"contourcarpet\":[{\"colorbar\":{\"outlinewidth\":0,\"ticks\":\"\"},\"type\":\"contourcarpet\"}],\"contour\":[{\"colorbar\":{\"outlinewidth\":0,\"ticks\":\"\"},\"colorscale\":[[0.0,\"#0d0887\"],[0.1111111111111111,\"#46039f\"],[0.2222222222222222,\"#7201a8\"],[0.3333333333333333,\"#9c179e\"],[0.4444444444444444,\"#bd3786\"],[0.5555555555555556,\"#d8576b\"],[0.6666666666666666,\"#ed7953\"],[0.7777777777777778,\"#fb9f3a\"],[0.8888888888888888,\"#fdca26\"],[1.0,\"#f0f921\"]],\"type\":\"contour\"}],\"heatmapgl\":[{\"colorbar\":{\"outlinewidth\":0,\"ticks\":\"\"},\"colorscale\":[[0.0,\"#0d0887\"],[0.1111111111111111,\"#46039f\"],[0.2222222222222222,\"#7201a8\"],[0.3333333333333333,\"#9c179e\"],[0.4444444444444444,\"#bd3786\"],[0.5555555555555556,\"#d8576b\"],[0.6666666666666666,\"#ed7953\"],[0.7777777777777778,\"#fb9f3a\"],[0.8888888888888888,\"#fdca26\"],[1.0,\"#f0f921\"]],\"type\":\"heatmapgl\"}],\"heatmap\":[{\"colorbar\":{\"outlinewidth\":0,\"ticks\":\"\"},\"colorscale\":[[0.0,\"#0d0887\"],[0.1111111111111111,\"#46039f\"],[0.2222222222222222,\"#7201a8\"],[0.3333333333333333,\"#9c179e\"],[0.4444444444444444,\"#bd3786\"],[0.5555555555555556,\"#d8576b\"],[0.6666666666666666,\"#ed7953\"],[0.7777777777777778,\"#fb9f3a\"],[0.8888888888888888,\"#fdca26\"],[1.0,\"#f0f921\"]],\"type\":\"heatmap\"}],\"histogram2dcontour\":[{\"colorbar\":{\"outlinewidth\":0,\"ticks\":\"\"},\"colorscale\":[[0.0,\"#0d0887\"],[0.1111111111111111,\"#46039f\"],[0.2222222222222222,\"#7201a8\"],[0.3333333333333333,\"#9c179e\"],[0.4444444444444444,\"#bd3786\"],[0.5555555555555556,\"#d8576b\"],[0.6666666666666666,\"#ed7953\"],[0.7777777777777778,\"#fb9f3a\"],[0.8888888888888888,\"#fdca26\"],[1.0,\"#f0f921\"]],\"type\":\"histogram2dcontour\"}],\"histogram2d\":[{\"colorbar\":{\"outlinewidth\":0,\"ticks\":\"\"},\"colorscale\":[[0.0,\"#0d0887\"],[0.1111111111111111,\"#46039f\"],[0.2222222222222222,\"#7201a8\"],[0.3333333333333333,\"#9c179e\"],[0.4444444444444444,\"#bd3786\"],[0.5555555555555556,\"#d8576b\"],[0.6666666666666666,\"#ed7953\"],[0.7777777777777778,\"#fb9f3a\"],[0.8888888888888888,\"#fdca26\"],[1.0,\"#f0f921\"]],\"type\":\"histogram2d\"}],\"histogram\":[{\"marker\":{\"pattern\":{\"fillmode\":\"overlay\",\"size\":10,\"solidity\":0.2}},\"type\":\"histogram\"}],\"mesh3d\":[{\"colorbar\":{\"outlinewidth\":0,\"ticks\":\"\"},\"type\":\"mesh3d\"}],\"parcoords\":[{\"line\":{\"colorbar\":{\"outlinewidth\":0,\"ticks\":\"\"}},\"type\":\"parcoords\"}],\"pie\":[{\"automargin\":true,\"type\":\"pie\"}],\"scatter3d\":[{\"line\":{\"colorbar\":{\"outlinewidth\":0,\"ticks\":\"\"}},\"marker\":{\"colorbar\":{\"outlinewidth\":0,\"ticks\":\"\"}},\"type\":\"scatter3d\"}],\"scattercarpet\":[{\"marker\":{\"colorbar\":{\"outlinewidth\":0,\"ticks\":\"\"}},\"type\":\"scattercarpet\"}],\"scattergeo\":[{\"marker\":{\"colorbar\":{\"outlinewidth\":0,\"ticks\":\"\"}},\"type\":\"scattergeo\"}],\"scattergl\":[{\"marker\":{\"colorbar\":{\"outlinewidth\":0,\"ticks\":\"\"}},\"type\":\"scattergl\"}],\"scattermapbox\":[{\"marker\":{\"colorbar\":{\"outlinewidth\":0,\"ticks\":\"\"}},\"type\":\"scattermapbox\"}],\"scatterpolargl\":[{\"marker\":{\"colorbar\":{\"outlinewidth\":0,\"ticks\":\"\"}},\"type\":\"scatterpolargl\"}],\"scatterpolar\":[{\"marker\":{\"colorbar\":{\"outlinewidth\":0,\"ticks\":\"\"}},\"type\":\"scatterpolar\"}],\"scatter\":[{\"fillpattern\":{\"fillmode\":\"overlay\",\"size\":10,\"solidity\":0.2},\"type\":\"scatter\"}],\"scatterternary\":[{\"marker\":{\"colorbar\":{\"outlinewidth\":0,\"ticks\":\"\"}},\"type\":\"scatterternary\"}],\"surface\":[{\"colorbar\":{\"outlinewidth\":0,\"ticks\":\"\"},\"colorscale\":[[0.0,\"#0d0887\"],[0.1111111111111111,\"#46039f\"],[0.2222222222222222,\"#7201a8\"],[0.3333333333333333,\"#9c179e\"],[0.4444444444444444,\"#bd3786\"],[0.5555555555555556,\"#d8576b\"],[0.6666666666666666,\"#ed7953\"],[0.7777777777777778,\"#fb9f3a\"],[0.8888888888888888,\"#fdca26\"],[1.0,\"#f0f921\"]],\"type\":\"surface\"}],\"table\":[{\"cells\":{\"fill\":{\"color\":\"#EBF0F8\"},\"line\":{\"color\":\"white\"}},\"header\":{\"fill\":{\"color\":\"#C8D4E3\"},\"line\":{\"color\":\"white\"}},\"type\":\"table\"}]},\"layout\":{\"annotationdefaults\":{\"arrowcolor\":\"#2a3f5f\",\"arrowhead\":0,\"arrowwidth\":1},\"autotypenumbers\":\"strict\",\"coloraxis\":{\"colorbar\":{\"outlinewidth\":0,\"ticks\":\"\"}},\"colorscale\":{\"diverging\":[[0,\"#8e0152\"],[0.1,\"#c51b7d\"],[0.2,\"#de77ae\"],[0.3,\"#f1b6da\"],[0.4,\"#fde0ef\"],[0.5,\"#f7f7f7\"],[0.6,\"#e6f5d0\"],[0.7,\"#b8e186\"],[0.8,\"#7fbc41\"],[0.9,\"#4d9221\"],[1,\"#276419\"]],\"sequential\":[[0.0,\"#0d0887\"],[0.1111111111111111,\"#46039f\"],[0.2222222222222222,\"#7201a8\"],[0.3333333333333333,\"#9c179e\"],[0.4444444444444444,\"#bd3786\"],[0.5555555555555556,\"#d8576b\"],[0.6666666666666666,\"#ed7953\"],[0.7777777777777778,\"#fb9f3a\"],[0.8888888888888888,\"#fdca26\"],[1.0,\"#f0f921\"]],\"sequentialminus\":[[0.0,\"#0d0887\"],[0.1111111111111111,\"#46039f\"],[0.2222222222222222,\"#7201a8\"],[0.3333333333333333,\"#9c179e\"],[0.4444444444444444,\"#bd3786\"],[0.5555555555555556,\"#d8576b\"],[0.6666666666666666,\"#ed7953\"],[0.7777777777777778,\"#fb9f3a\"],[0.8888888888888888,\"#fdca26\"],[1.0,\"#f0f921\"]]},\"colorway\":[\"#636efa\",\"#EF553B\",\"#00cc96\",\"#ab63fa\",\"#FFA15A\",\"#19d3f3\",\"#FF6692\",\"#B6E880\",\"#FF97FF\",\"#FECB52\"],\"font\":{\"color\":\"#2a3f5f\"},\"geo\":{\"bgcolor\":\"white\",\"lakecolor\":\"white\",\"landcolor\":\"white\",\"showlakes\":true,\"showland\":true,\"subunitcolor\":\"#C8D4E3\"},\"hoverlabel\":{\"align\":\"left\"},\"hovermode\":\"closest\",\"mapbox\":{\"style\":\"light\"},\"paper_bgcolor\":\"white\",\"plot_bgcolor\":\"white\",\"polar\":{\"angularaxis\":{\"gridcolor\":\"#EBF0F8\",\"linecolor\":\"#EBF0F8\",\"ticks\":\"\"},\"bgcolor\":\"white\",\"radialaxis\":{\"gridcolor\":\"#EBF0F8\",\"linecolor\":\"#EBF0F8\",\"ticks\":\"\"}},\"scene\":{\"xaxis\":{\"backgroundcolor\":\"white\",\"gridcolor\":\"#DFE8F3\",\"gridwidth\":2,\"linecolor\":\"#EBF0F8\",\"showbackground\":true,\"ticks\":\"\",\"zerolinecolor\":\"#EBF0F8\"},\"yaxis\":{\"backgroundcolor\":\"white\",\"gridcolor\":\"#DFE8F3\",\"gridwidth\":2,\"linecolor\":\"#EBF0F8\",\"showbackground\":true,\"ticks\":\"\",\"zerolinecolor\":\"#EBF0F8\"},\"zaxis\":{\"backgroundcolor\":\"white\",\"gridcolor\":\"#DFE8F3\",\"gridwidth\":2,\"linecolor\":\"#EBF0F8\",\"showbackground\":true,\"ticks\":\"\",\"zerolinecolor\":\"#EBF0F8\"}},\"shapedefaults\":{\"line\":{\"color\":\"#2a3f5f\"}},\"ternary\":{\"aaxis\":{\"gridcolor\":\"#DFE8F3\",\"linecolor\":\"#A2B1C6\",\"ticks\":\"\"},\"baxis\":{\"gridcolor\":\"#DFE8F3\",\"linecolor\":\"#A2B1C6\",\"ticks\":\"\"},\"bgcolor\":\"white\",\"caxis\":{\"gridcolor\":\"#DFE8F3\",\"linecolor\":\"#A2B1C6\",\"ticks\":\"\"}},\"title\":{\"x\":0.05},\"xaxis\":{\"automargin\":true,\"gridcolor\":\"#EBF0F8\",\"linecolor\":\"#EBF0F8\",\"ticks\":\"\",\"title\":{\"standoff\":15},\"zerolinecolor\":\"#EBF0F8\",\"zerolinewidth\":2},\"yaxis\":{\"automargin\":true,\"gridcolor\":\"#EBF0F8\",\"linecolor\":\"#EBF0F8\",\"ticks\":\"\",\"title\":{\"standoff\":15},\"zerolinecolor\":\"#EBF0F8\",\"zerolinewidth\":2}}},\"title\":{\"text\":\"Monthly Performance Trends\"},\"xaxis\":{\"title\":{\"text\":\"Month\"}},\"yaxis\":{\"title\":{\"text\":\"Metric Value\"}}},                        {\"responsive\": true}                    ).then(function(){\n",
       "                            \n",
       "var gd = document.getElementById('e18c3f15-8583-489b-84e1-4b06ed78b6c9');\n",
       "var x = new MutationObserver(function (mutations, observer) {{\n",
       "        var display = window.getComputedStyle(gd).display;\n",
       "        if (!display || display === 'none') {{\n",
       "            console.log([gd, 'removed!']);\n",
       "            Plotly.purge(gd);\n",
       "            observer.disconnect();\n",
       "        }}\n",
       "}});\n",
       "\n",
       "// Listen for the removal of the full notebook cells\n",
       "var notebookContainer = gd.closest('#notebook-container');\n",
       "if (notebookContainer) {{\n",
       "    x.observe(notebookContainer, {childList: true});\n",
       "}}\n",
       "\n",
       "// Listen for the clearing of the current output cell\n",
       "var outputEl = gd.closest('.output');\n",
       "if (outputEl) {{\n",
       "    x.observe(outputEl, {childList: true});\n",
       "}}\n",
       "\n",
       "                        })                };                });            </script>        </div>"
      ]
     },
     "metadata": {},
     "output_type": "display_data"
    }
   ],
   "source": [
    "monthly_per['Month']=monthly_per['Month'].astype('str')\n",
    "fig = go.Figure()\n",
    "\n",
    "fig.add_trace(go.Scatter(x=monthly_per[\"Month\"],y=monthly_per[\"ROAS\"], \n",
    "                         mode='lines+markers', name='ROAS', line=dict(color='blue')))\n",
    "\n",
    "fig.add_trace(go.Scatter(x=monthly_per[\"Month\"],y=monthly_per[\"Clicks\"], \n",
    "                         mode='lines+markers', name='Clicks', line=dict(color='green')))\n",
    "\n",
    "fig.add_trace(go.Scatter(x=monthly_per[\"Month\"],y=monthly_per[\"Conversions\"], \n",
    "                         mode='lines+markers', name='Conversions', line=dict(color='red')))\n",
    "\n",
    "fig.add_trace(go.Scatter(x=monthly_per[\"Month\"], y=monthly_per[\"Cost\"], \n",
    "                         mode='lines+markers', name='Cost', line=dict(color='orange')))\n",
    "\n",
    "fig.update_layout(title=\"Monthly Performance Trends\",\n",
    "                  xaxis_title=\"Month\",\n",
    "                  yaxis_title=\"Metric Value\",\n",
    "                  template=\"plotly_white\")\n",
    "\n",
    "fig.show()"
   ]
  },
  {
   "cell_type": "markdown",
   "id": "de6dfbbf",
   "metadata": {},
   "source": [
    "# Observations"
   ]
  },
  {
   "cell_type": "markdown",
   "id": "10b2de18",
   "metadata": {},
   "source": [
    "1)Clicks increased from 61757 to 75130\n",
    "2)Conversions decreased from 1923 to 1886\n",
    "2)Cost increased from 2996.56 to 4268.41\n",
    "4)ROAS decresed from 43.51 to 25.83"
   ]
  },
  {
   "cell_type": "markdown",
   "id": "7a75ba4c",
   "metadata": {},
   "source": [
    "On the  previous dataframe we will add one new column to show the percentage change through time"
   ]
  },
  {
   "cell_type": "code",
   "execution_count": 36,
   "id": "d09c1afe",
   "metadata": {},
   "outputs": [
    {
     "data": {
      "text/html": [
       "<div>\n",
       "<style scoped>\n",
       "    .dataframe tbody tr th:only-of-type {\n",
       "        vertical-align: middle;\n",
       "    }\n",
       "\n",
       "    .dataframe tbody tr th {\n",
       "        vertical-align: top;\n",
       "    }\n",
       "\n",
       "    .dataframe thead th {\n",
       "        text-align: right;\n",
       "    }\n",
       "</style>\n",
       "<table border=\"1\" class=\"dataframe\">\n",
       "  <thead>\n",
       "    <tr style=\"text-align: right;\">\n",
       "      <th>Month</th>\n",
       "      <th>2013-08</th>\n",
       "      <th>2013-09</th>\n",
       "      <th>% Change</th>\n",
       "    </tr>\n",
       "  </thead>\n",
       "  <tbody>\n",
       "    <tr>\n",
       "      <th>Clicks</th>\n",
       "      <td>61757</td>\n",
       "      <td>75730</td>\n",
       "      <td>22.625775</td>\n",
       "    </tr>\n",
       "    <tr>\n",
       "      <th>Impressions</th>\n",
       "      <td>5507270</td>\n",
       "      <td>5892774</td>\n",
       "      <td>6.999911</td>\n",
       "    </tr>\n",
       "    <tr>\n",
       "      <th>CTR</th>\n",
       "      <td>0.253785</td>\n",
       "      <td>0.238249</td>\n",
       "      <td>-6.121543</td>\n",
       "    </tr>\n",
       "    <tr>\n",
       "      <th>Avg. CPC</th>\n",
       "      <td>0.068011</td>\n",
       "      <td>0.065706</td>\n",
       "      <td>-3.38966</td>\n",
       "    </tr>\n",
       "    <tr>\n",
       "      <th>Cost</th>\n",
       "      <td>2996.56</td>\n",
       "      <td>4268.41</td>\n",
       "      <td>42.443669</td>\n",
       "    </tr>\n",
       "    <tr>\n",
       "      <th>Conversions</th>\n",
       "      <td>1923</td>\n",
       "      <td>1886</td>\n",
       "      <td>-1.924077</td>\n",
       "    </tr>\n",
       "    <tr>\n",
       "      <th>Conversion rate</th>\n",
       "      <td>0.019841</td>\n",
       "      <td>0.015578</td>\n",
       "      <td>-21.484687</td>\n",
       "    </tr>\n",
       "    <tr>\n",
       "      <th>Total conv. value</th>\n",
       "      <td>130387.64</td>\n",
       "      <td>110253.51</td>\n",
       "      <td>-15.441747</td>\n",
       "    </tr>\n",
       "    <tr>\n",
       "      <th>ROAS</th>\n",
       "      <td>43.512441</td>\n",
       "      <td>25.830112</td>\n",
       "      <td>-40.637409</td>\n",
       "    </tr>\n",
       "  </tbody>\n",
       "</table>\n",
       "</div>"
      ],
      "text/plain": [
       "Month                2013-08    2013-09   % Change\n",
       "Clicks                 61757      75730  22.625775\n",
       "Impressions          5507270    5892774   6.999911\n",
       "CTR                 0.253785   0.238249  -6.121543\n",
       "Avg. CPC            0.068011   0.065706   -3.38966\n",
       "Cost                 2996.56    4268.41  42.443669\n",
       "Conversions             1923       1886  -1.924077\n",
       "Conversion rate     0.019841   0.015578 -21.484687\n",
       "Total conv. value  130387.64  110253.51 -15.441747\n",
       "ROAS               43.512441  25.830112 -40.637409"
      ]
     },
     "execution_count": 36,
     "metadata": {},
     "output_type": "execute_result"
    }
   ],
   "source": [
    "monthly_per_transposed=monthly_per.transpose()\n",
    "\n",
    "monthly_per_transposed.columns=monthly_per_transposed.loc['Month']\n",
    "\n",
    "\n",
    "monthly_per_transposed['% Change']=np.nan\n",
    "\n",
    "monthly_per_transposed=monthly_per_transposed.iloc[1:]\n",
    "\n",
    "\n",
    "monthly_per_transposed['% Change']= (monthly_per_transposed['2013-09']-monthly_per_transposed['2013-08'])/monthly_per_transposed['2013-08'] * 100\n",
    "\n",
    "\n",
    "monthly_per_transposed"
   ]
  },
  {
   "cell_type": "markdown",
   "id": "2715851c",
   "metadata": {},
   "source": [
    "# Campaigns"
   ]
  },
  {
   "cell_type": "markdown",
   "id": "ec5569b6",
   "metadata": {},
   "source": [
    "We will group the data per campaign so we can evaluate each of them"
   ]
  },
  {
   "cell_type": "code",
   "execution_count": 37,
   "id": "d5b9a4cc",
   "metadata": {},
   "outputs": [
    {
     "data": {
      "text/html": [
       "<div>\n",
       "<style scoped>\n",
       "    .dataframe tbody tr th:only-of-type {\n",
       "        vertical-align: middle;\n",
       "    }\n",
       "\n",
       "    .dataframe tbody tr th {\n",
       "        vertical-align: top;\n",
       "    }\n",
       "\n",
       "    .dataframe thead th {\n",
       "        text-align: right;\n",
       "    }\n",
       "</style>\n",
       "<table border=\"1\" class=\"dataframe\">\n",
       "  <thead>\n",
       "    <tr style=\"text-align: right;\">\n",
       "      <th></th>\n",
       "      <th>Campaign</th>\n",
       "      <th>Clicks</th>\n",
       "      <th>Impressions</th>\n",
       "      <th>CTR</th>\n",
       "      <th>Avg. CPC</th>\n",
       "      <th>Cost</th>\n",
       "      <th>Conversions</th>\n",
       "      <th>Conversion rate</th>\n",
       "      <th>Total conv. value</th>\n",
       "    </tr>\n",
       "  </thead>\n",
       "  <tbody>\n",
       "    <tr>\n",
       "      <th>0</th>\n",
       "      <td>1</td>\n",
       "      <td>67031</td>\n",
       "      <td>119726</td>\n",
       "      <td>0.529237</td>\n",
       "      <td>0.029732</td>\n",
       "      <td>1669.29</td>\n",
       "      <td>2509</td>\n",
       "      <td>0.021280</td>\n",
       "      <td>159383.39</td>\n",
       "    </tr>\n",
       "    <tr>\n",
       "      <th>1</th>\n",
       "      <td>3</td>\n",
       "      <td>4246</td>\n",
       "      <td>13054</td>\n",
       "      <td>0.382656</td>\n",
       "      <td>0.060789</td>\n",
       "      <td>320.94</td>\n",
       "      <td>53</td>\n",
       "      <td>0.006662</td>\n",
       "      <td>4731.30</td>\n",
       "    </tr>\n",
       "    <tr>\n",
       "      <th>2</th>\n",
       "      <td>7</td>\n",
       "      <td>3455</td>\n",
       "      <td>17677</td>\n",
       "      <td>0.235734</td>\n",
       "      <td>0.179960</td>\n",
       "      <td>929.57</td>\n",
       "      <td>42</td>\n",
       "      <td>0.008005</td>\n",
       "      <td>3188.10</td>\n",
       "    </tr>\n",
       "    <tr>\n",
       "      <th>3</th>\n",
       "      <td>15</td>\n",
       "      <td>62755</td>\n",
       "      <td>11249587</td>\n",
       "      <td>0.005126</td>\n",
       "      <td>0.063368</td>\n",
       "      <td>4345.17</td>\n",
       "      <td>1205</td>\n",
       "      <td>0.026348</td>\n",
       "      <td>73338.36</td>\n",
       "    </tr>\n",
       "  </tbody>\n",
       "</table>\n",
       "</div>"
      ],
      "text/plain": [
       "   Campaign  Clicks  Impressions       CTR  Avg. CPC     Cost  Conversions  \\\n",
       "0         1   67031       119726  0.529237  0.029732  1669.29         2509   \n",
       "1         3    4246        13054  0.382656  0.060789   320.94           53   \n",
       "2         7    3455        17677  0.235734  0.179960   929.57           42   \n",
       "3        15   62755     11249587  0.005126  0.063368  4345.17         1205   \n",
       "\n",
       "   Conversion rate  Total conv. value  \n",
       "0         0.021280          159383.39  \n",
       "1         0.006662            4731.30  \n",
       "2         0.008005            3188.10  \n",
       "3         0.026348           73338.36  "
      ]
     },
     "execution_count": 37,
     "metadata": {},
     "output_type": "execute_result"
    }
   ],
   "source": [
    "campaign_per=df.groupby('Campaign').agg({'Clicks':'sum','Impressions':'sum',\n",
    "                                        'CTR':'mean','Avg. CPC':'mean',\n",
    "                                        'Cost':'sum','Conversions':'sum',\n",
    "                                        'Conversion rate':'mean','Total conv. value':'sum'\n",
    "                                        }).reset_index()\n",
    "campaign_per"
   ]
  },
  {
   "cell_type": "code",
   "execution_count": 38,
   "id": "8f4ddd3e",
   "metadata": {
    "scrolled": true
   },
   "outputs": [
    {
     "data": {
      "text/html": [
       "<div>\n",
       "<style scoped>\n",
       "    .dataframe tbody tr th:only-of-type {\n",
       "        vertical-align: middle;\n",
       "    }\n",
       "\n",
       "    .dataframe tbody tr th {\n",
       "        vertical-align: top;\n",
       "    }\n",
       "\n",
       "    .dataframe thead th {\n",
       "        text-align: right;\n",
       "    }\n",
       "</style>\n",
       "<table border=\"1\" class=\"dataframe\">\n",
       "  <thead>\n",
       "    <tr style=\"text-align: right;\">\n",
       "      <th></th>\n",
       "      <th>Campaign</th>\n",
       "      <th>Clicks</th>\n",
       "      <th>Impressions</th>\n",
       "      <th>CTR</th>\n",
       "      <th>Avg. CPC</th>\n",
       "      <th>Cost</th>\n",
       "      <th>Conversions</th>\n",
       "      <th>Conversion rate</th>\n",
       "      <th>Total conv. value</th>\n",
       "      <th>ROAS</th>\n",
       "    </tr>\n",
       "  </thead>\n",
       "  <tbody>\n",
       "    <tr>\n",
       "      <th>0</th>\n",
       "      <td>1</td>\n",
       "      <td>67031</td>\n",
       "      <td>119726</td>\n",
       "      <td>0.529237</td>\n",
       "      <td>0.029732</td>\n",
       "      <td>1669.29</td>\n",
       "      <td>2509</td>\n",
       "      <td>0.021280</td>\n",
       "      <td>159383.39</td>\n",
       "      <td>95.479749</td>\n",
       "    </tr>\n",
       "    <tr>\n",
       "      <th>1</th>\n",
       "      <td>3</td>\n",
       "      <td>4246</td>\n",
       "      <td>13054</td>\n",
       "      <td>0.382656</td>\n",
       "      <td>0.060789</td>\n",
       "      <td>320.94</td>\n",
       "      <td>53</td>\n",
       "      <td>0.006662</td>\n",
       "      <td>4731.30</td>\n",
       "      <td>14.742008</td>\n",
       "    </tr>\n",
       "    <tr>\n",
       "      <th>2</th>\n",
       "      <td>7</td>\n",
       "      <td>3455</td>\n",
       "      <td>17677</td>\n",
       "      <td>0.235734</td>\n",
       "      <td>0.179960</td>\n",
       "      <td>929.57</td>\n",
       "      <td>42</td>\n",
       "      <td>0.008005</td>\n",
       "      <td>3188.10</td>\n",
       "      <td>3.429650</td>\n",
       "    </tr>\n",
       "    <tr>\n",
       "      <th>3</th>\n",
       "      <td>15</td>\n",
       "      <td>62755</td>\n",
       "      <td>11249587</td>\n",
       "      <td>0.005126</td>\n",
       "      <td>0.063368</td>\n",
       "      <td>4345.17</td>\n",
       "      <td>1205</td>\n",
       "      <td>0.026348</td>\n",
       "      <td>73338.36</td>\n",
       "      <td>16.878134</td>\n",
       "    </tr>\n",
       "  </tbody>\n",
       "</table>\n",
       "</div>"
      ],
      "text/plain": [
       "   Campaign  Clicks  Impressions       CTR  Avg. CPC     Cost  Conversions  \\\n",
       "0         1   67031       119726  0.529237  0.029732  1669.29         2509   \n",
       "1         3    4246        13054  0.382656  0.060789   320.94           53   \n",
       "2         7    3455        17677  0.235734  0.179960   929.57           42   \n",
       "3        15   62755     11249587  0.005126  0.063368  4345.17         1205   \n",
       "\n",
       "   Conversion rate  Total conv. value       ROAS  \n",
       "0         0.021280          159383.39  95.479749  \n",
       "1         0.006662            4731.30  14.742008  \n",
       "2         0.008005            3188.10   3.429650  \n",
       "3         0.026348           73338.36  16.878134  "
      ]
     },
     "execution_count": 38,
     "metadata": {},
     "output_type": "execute_result"
    }
   ],
   "source": [
    "#calculate the ROAS\n",
    "campaign_per['ROAS']=campaign_per['Total conv. value']/campaign_per['Cost']\n",
    "\n",
    "campaign_per"
   ]
  },
  {
   "cell_type": "markdown",
   "id": "58974f0d",
   "metadata": {},
   "source": [
    "It's obvious that campaign number 1 is the most efficient by far.We could spent more on this campaign."
   ]
  },
  {
   "cell_type": "markdown",
   "id": "cf688f91",
   "metadata": {},
   "source": [
    "# Visualization"
   ]
  },
  {
   "cell_type": "code",
   "execution_count": 39,
   "id": "2b236caa",
   "metadata": {},
   "outputs": [
    {
     "data": {
      "application/vnd.plotly.v1+json": {
       "config": {
        "plotlyServerURL": "https://plot.ly"
       },
       "data": [
        {
         "marker": {
          "color": "orange"
         },
         "name": "Cost",
         "type": "bar",
         "x": [
          1,
          3,
          7,
          15
         ],
         "y": [
          1669.29,
          320.94,
          929.57,
          4345.17
         ]
        },
        {
         "marker": {
          "color": "green"
         },
         "name": "Conversions",
         "type": "bar",
         "x": [
          1,
          3,
          7,
          15
         ],
         "y": [
          2509,
          53,
          42,
          1205
         ]
        },
        {
         "marker": {
          "color": "blue"
         },
         "name": "ROAS",
         "type": "bar",
         "x": [
          1,
          3,
          7,
          15
         ],
         "y": [
          95.47974887527033,
          14.742007851934941,
          3.42965026840367,
          16.878133651847914
         ]
        }
       ],
       "layout": {
        "barmode": "group",
        "template": {
         "data": {
          "bar": [
           {
            "error_x": {
             "color": "#2a3f5f"
            },
            "error_y": {
             "color": "#2a3f5f"
            },
            "marker": {
             "line": {
              "color": "white",
              "width": 0.5
             },
             "pattern": {
              "fillmode": "overlay",
              "size": 10,
              "solidity": 0.2
             }
            },
            "type": "bar"
           }
          ],
          "barpolar": [
           {
            "marker": {
             "line": {
              "color": "white",
              "width": 0.5
             },
             "pattern": {
              "fillmode": "overlay",
              "size": 10,
              "solidity": 0.2
             }
            },
            "type": "barpolar"
           }
          ],
          "carpet": [
           {
            "aaxis": {
             "endlinecolor": "#2a3f5f",
             "gridcolor": "#C8D4E3",
             "linecolor": "#C8D4E3",
             "minorgridcolor": "#C8D4E3",
             "startlinecolor": "#2a3f5f"
            },
            "baxis": {
             "endlinecolor": "#2a3f5f",
             "gridcolor": "#C8D4E3",
             "linecolor": "#C8D4E3",
             "minorgridcolor": "#C8D4E3",
             "startlinecolor": "#2a3f5f"
            },
            "type": "carpet"
           }
          ],
          "choropleth": [
           {
            "colorbar": {
             "outlinewidth": 0,
             "ticks": ""
            },
            "type": "choropleth"
           }
          ],
          "contour": [
           {
            "colorbar": {
             "outlinewidth": 0,
             "ticks": ""
            },
            "colorscale": [
             [
              0,
              "#0d0887"
             ],
             [
              0.1111111111111111,
              "#46039f"
             ],
             [
              0.2222222222222222,
              "#7201a8"
             ],
             [
              0.3333333333333333,
              "#9c179e"
             ],
             [
              0.4444444444444444,
              "#bd3786"
             ],
             [
              0.5555555555555556,
              "#d8576b"
             ],
             [
              0.6666666666666666,
              "#ed7953"
             ],
             [
              0.7777777777777778,
              "#fb9f3a"
             ],
             [
              0.8888888888888888,
              "#fdca26"
             ],
             [
              1,
              "#f0f921"
             ]
            ],
            "type": "contour"
           }
          ],
          "contourcarpet": [
           {
            "colorbar": {
             "outlinewidth": 0,
             "ticks": ""
            },
            "type": "contourcarpet"
           }
          ],
          "heatmap": [
           {
            "colorbar": {
             "outlinewidth": 0,
             "ticks": ""
            },
            "colorscale": [
             [
              0,
              "#0d0887"
             ],
             [
              0.1111111111111111,
              "#46039f"
             ],
             [
              0.2222222222222222,
              "#7201a8"
             ],
             [
              0.3333333333333333,
              "#9c179e"
             ],
             [
              0.4444444444444444,
              "#bd3786"
             ],
             [
              0.5555555555555556,
              "#d8576b"
             ],
             [
              0.6666666666666666,
              "#ed7953"
             ],
             [
              0.7777777777777778,
              "#fb9f3a"
             ],
             [
              0.8888888888888888,
              "#fdca26"
             ],
             [
              1,
              "#f0f921"
             ]
            ],
            "type": "heatmap"
           }
          ],
          "heatmapgl": [
           {
            "colorbar": {
             "outlinewidth": 0,
             "ticks": ""
            },
            "colorscale": [
             [
              0,
              "#0d0887"
             ],
             [
              0.1111111111111111,
              "#46039f"
             ],
             [
              0.2222222222222222,
              "#7201a8"
             ],
             [
              0.3333333333333333,
              "#9c179e"
             ],
             [
              0.4444444444444444,
              "#bd3786"
             ],
             [
              0.5555555555555556,
              "#d8576b"
             ],
             [
              0.6666666666666666,
              "#ed7953"
             ],
             [
              0.7777777777777778,
              "#fb9f3a"
             ],
             [
              0.8888888888888888,
              "#fdca26"
             ],
             [
              1,
              "#f0f921"
             ]
            ],
            "type": "heatmapgl"
           }
          ],
          "histogram": [
           {
            "marker": {
             "pattern": {
              "fillmode": "overlay",
              "size": 10,
              "solidity": 0.2
             }
            },
            "type": "histogram"
           }
          ],
          "histogram2d": [
           {
            "colorbar": {
             "outlinewidth": 0,
             "ticks": ""
            },
            "colorscale": [
             [
              0,
              "#0d0887"
             ],
             [
              0.1111111111111111,
              "#46039f"
             ],
             [
              0.2222222222222222,
              "#7201a8"
             ],
             [
              0.3333333333333333,
              "#9c179e"
             ],
             [
              0.4444444444444444,
              "#bd3786"
             ],
             [
              0.5555555555555556,
              "#d8576b"
             ],
             [
              0.6666666666666666,
              "#ed7953"
             ],
             [
              0.7777777777777778,
              "#fb9f3a"
             ],
             [
              0.8888888888888888,
              "#fdca26"
             ],
             [
              1,
              "#f0f921"
             ]
            ],
            "type": "histogram2d"
           }
          ],
          "histogram2dcontour": [
           {
            "colorbar": {
             "outlinewidth": 0,
             "ticks": ""
            },
            "colorscale": [
             [
              0,
              "#0d0887"
             ],
             [
              0.1111111111111111,
              "#46039f"
             ],
             [
              0.2222222222222222,
              "#7201a8"
             ],
             [
              0.3333333333333333,
              "#9c179e"
             ],
             [
              0.4444444444444444,
              "#bd3786"
             ],
             [
              0.5555555555555556,
              "#d8576b"
             ],
             [
              0.6666666666666666,
              "#ed7953"
             ],
             [
              0.7777777777777778,
              "#fb9f3a"
             ],
             [
              0.8888888888888888,
              "#fdca26"
             ],
             [
              1,
              "#f0f921"
             ]
            ],
            "type": "histogram2dcontour"
           }
          ],
          "mesh3d": [
           {
            "colorbar": {
             "outlinewidth": 0,
             "ticks": ""
            },
            "type": "mesh3d"
           }
          ],
          "parcoords": [
           {
            "line": {
             "colorbar": {
              "outlinewidth": 0,
              "ticks": ""
             }
            },
            "type": "parcoords"
           }
          ],
          "pie": [
           {
            "automargin": true,
            "type": "pie"
           }
          ],
          "scatter": [
           {
            "fillpattern": {
             "fillmode": "overlay",
             "size": 10,
             "solidity": 0.2
            },
            "type": "scatter"
           }
          ],
          "scatter3d": [
           {
            "line": {
             "colorbar": {
              "outlinewidth": 0,
              "ticks": ""
             }
            },
            "marker": {
             "colorbar": {
              "outlinewidth": 0,
              "ticks": ""
             }
            },
            "type": "scatter3d"
           }
          ],
          "scattercarpet": [
           {
            "marker": {
             "colorbar": {
              "outlinewidth": 0,
              "ticks": ""
             }
            },
            "type": "scattercarpet"
           }
          ],
          "scattergeo": [
           {
            "marker": {
             "colorbar": {
              "outlinewidth": 0,
              "ticks": ""
             }
            },
            "type": "scattergeo"
           }
          ],
          "scattergl": [
           {
            "marker": {
             "colorbar": {
              "outlinewidth": 0,
              "ticks": ""
             }
            },
            "type": "scattergl"
           }
          ],
          "scattermapbox": [
           {
            "marker": {
             "colorbar": {
              "outlinewidth": 0,
              "ticks": ""
             }
            },
            "type": "scattermapbox"
           }
          ],
          "scatterpolar": [
           {
            "marker": {
             "colorbar": {
              "outlinewidth": 0,
              "ticks": ""
             }
            },
            "type": "scatterpolar"
           }
          ],
          "scatterpolargl": [
           {
            "marker": {
             "colorbar": {
              "outlinewidth": 0,
              "ticks": ""
             }
            },
            "type": "scatterpolargl"
           }
          ],
          "scatterternary": [
           {
            "marker": {
             "colorbar": {
              "outlinewidth": 0,
              "ticks": ""
             }
            },
            "type": "scatterternary"
           }
          ],
          "surface": [
           {
            "colorbar": {
             "outlinewidth": 0,
             "ticks": ""
            },
            "colorscale": [
             [
              0,
              "#0d0887"
             ],
             [
              0.1111111111111111,
              "#46039f"
             ],
             [
              0.2222222222222222,
              "#7201a8"
             ],
             [
              0.3333333333333333,
              "#9c179e"
             ],
             [
              0.4444444444444444,
              "#bd3786"
             ],
             [
              0.5555555555555556,
              "#d8576b"
             ],
             [
              0.6666666666666666,
              "#ed7953"
             ],
             [
              0.7777777777777778,
              "#fb9f3a"
             ],
             [
              0.8888888888888888,
              "#fdca26"
             ],
             [
              1,
              "#f0f921"
             ]
            ],
            "type": "surface"
           }
          ],
          "table": [
           {
            "cells": {
             "fill": {
              "color": "#EBF0F8"
             },
             "line": {
              "color": "white"
             }
            },
            "header": {
             "fill": {
              "color": "#C8D4E3"
             },
             "line": {
              "color": "white"
             }
            },
            "type": "table"
           }
          ]
         },
         "layout": {
          "annotationdefaults": {
           "arrowcolor": "#2a3f5f",
           "arrowhead": 0,
           "arrowwidth": 1
          },
          "autotypenumbers": "strict",
          "coloraxis": {
           "colorbar": {
            "outlinewidth": 0,
            "ticks": ""
           }
          },
          "colorscale": {
           "diverging": [
            [
             0,
             "#8e0152"
            ],
            [
             0.1,
             "#c51b7d"
            ],
            [
             0.2,
             "#de77ae"
            ],
            [
             0.3,
             "#f1b6da"
            ],
            [
             0.4,
             "#fde0ef"
            ],
            [
             0.5,
             "#f7f7f7"
            ],
            [
             0.6,
             "#e6f5d0"
            ],
            [
             0.7,
             "#b8e186"
            ],
            [
             0.8,
             "#7fbc41"
            ],
            [
             0.9,
             "#4d9221"
            ],
            [
             1,
             "#276419"
            ]
           ],
           "sequential": [
            [
             0,
             "#0d0887"
            ],
            [
             0.1111111111111111,
             "#46039f"
            ],
            [
             0.2222222222222222,
             "#7201a8"
            ],
            [
             0.3333333333333333,
             "#9c179e"
            ],
            [
             0.4444444444444444,
             "#bd3786"
            ],
            [
             0.5555555555555556,
             "#d8576b"
            ],
            [
             0.6666666666666666,
             "#ed7953"
            ],
            [
             0.7777777777777778,
             "#fb9f3a"
            ],
            [
             0.8888888888888888,
             "#fdca26"
            ],
            [
             1,
             "#f0f921"
            ]
           ],
           "sequentialminus": [
            [
             0,
             "#0d0887"
            ],
            [
             0.1111111111111111,
             "#46039f"
            ],
            [
             0.2222222222222222,
             "#7201a8"
            ],
            [
             0.3333333333333333,
             "#9c179e"
            ],
            [
             0.4444444444444444,
             "#bd3786"
            ],
            [
             0.5555555555555556,
             "#d8576b"
            ],
            [
             0.6666666666666666,
             "#ed7953"
            ],
            [
             0.7777777777777778,
             "#fb9f3a"
            ],
            [
             0.8888888888888888,
             "#fdca26"
            ],
            [
             1,
             "#f0f921"
            ]
           ]
          },
          "colorway": [
           "#636efa",
           "#EF553B",
           "#00cc96",
           "#ab63fa",
           "#FFA15A",
           "#19d3f3",
           "#FF6692",
           "#B6E880",
           "#FF97FF",
           "#FECB52"
          ],
          "font": {
           "color": "#2a3f5f"
          },
          "geo": {
           "bgcolor": "white",
           "lakecolor": "white",
           "landcolor": "white",
           "showlakes": true,
           "showland": true,
           "subunitcolor": "#C8D4E3"
          },
          "hoverlabel": {
           "align": "left"
          },
          "hovermode": "closest",
          "mapbox": {
           "style": "light"
          },
          "paper_bgcolor": "white",
          "plot_bgcolor": "white",
          "polar": {
           "angularaxis": {
            "gridcolor": "#EBF0F8",
            "linecolor": "#EBF0F8",
            "ticks": ""
           },
           "bgcolor": "white",
           "radialaxis": {
            "gridcolor": "#EBF0F8",
            "linecolor": "#EBF0F8",
            "ticks": ""
           }
          },
          "scene": {
           "xaxis": {
            "backgroundcolor": "white",
            "gridcolor": "#DFE8F3",
            "gridwidth": 2,
            "linecolor": "#EBF0F8",
            "showbackground": true,
            "ticks": "",
            "zerolinecolor": "#EBF0F8"
           },
           "yaxis": {
            "backgroundcolor": "white",
            "gridcolor": "#DFE8F3",
            "gridwidth": 2,
            "linecolor": "#EBF0F8",
            "showbackground": true,
            "ticks": "",
            "zerolinecolor": "#EBF0F8"
           },
           "zaxis": {
            "backgroundcolor": "white",
            "gridcolor": "#DFE8F3",
            "gridwidth": 2,
            "linecolor": "#EBF0F8",
            "showbackground": true,
            "ticks": "",
            "zerolinecolor": "#EBF0F8"
           }
          },
          "shapedefaults": {
           "line": {
            "color": "#2a3f5f"
           }
          },
          "ternary": {
           "aaxis": {
            "gridcolor": "#DFE8F3",
            "linecolor": "#A2B1C6",
            "ticks": ""
           },
           "baxis": {
            "gridcolor": "#DFE8F3",
            "linecolor": "#A2B1C6",
            "ticks": ""
           },
           "bgcolor": "white",
           "caxis": {
            "gridcolor": "#DFE8F3",
            "linecolor": "#A2B1C6",
            "ticks": ""
           }
          },
          "title": {
           "x": 0.05
          },
          "xaxis": {
           "automargin": true,
           "gridcolor": "#EBF0F8",
           "linecolor": "#EBF0F8",
           "ticks": "",
           "title": {
            "standoff": 15
           },
           "zerolinecolor": "#EBF0F8",
           "zerolinewidth": 2
          },
          "yaxis": {
           "automargin": true,
           "gridcolor": "#EBF0F8",
           "linecolor": "#EBF0F8",
           "ticks": "",
           "title": {
            "standoff": 15
           },
           "zerolinecolor": "#EBF0F8",
           "zerolinewidth": 2
          }
         }
        },
        "title": {
         "text": "Performance Analysis per Campaign"
        },
        "xaxis": {
         "title": {
          "text": "Campaigns"
         }
        },
        "yaxis": {
         "title": {
          "text": "Metric Values"
         }
        }
       }
      },
      "text/html": [
       "<div>                            <div id=\"820d0fca-c9f3-4d75-963f-e652529ac861\" class=\"plotly-graph-div\" style=\"height:525px; width:100%;\"></div>            <script type=\"text/javascript\">                require([\"plotly\"], function(Plotly) {                    window.PLOTLYENV=window.PLOTLYENV || {};                                    if (document.getElementById(\"820d0fca-c9f3-4d75-963f-e652529ac861\")) {                    Plotly.newPlot(                        \"820d0fca-c9f3-4d75-963f-e652529ac861\",                        [{\"marker\":{\"color\":\"orange\"},\"name\":\"Cost\",\"x\":[1,3,7,15],\"y\":[1669.29,320.94,929.57,4345.17],\"type\":\"bar\"},{\"marker\":{\"color\":\"green\"},\"name\":\"Conversions\",\"x\":[1,3,7,15],\"y\":[2509,53,42,1205],\"type\":\"bar\"},{\"marker\":{\"color\":\"blue\"},\"name\":\"ROAS\",\"x\":[1,3,7,15],\"y\":[95.47974887527033,14.742007851934941,3.42965026840367,16.878133651847914],\"type\":\"bar\"}],                        {\"template\":{\"data\":{\"barpolar\":[{\"marker\":{\"line\":{\"color\":\"white\",\"width\":0.5},\"pattern\":{\"fillmode\":\"overlay\",\"size\":10,\"solidity\":0.2}},\"type\":\"barpolar\"}],\"bar\":[{\"error_x\":{\"color\":\"#2a3f5f\"},\"error_y\":{\"color\":\"#2a3f5f\"},\"marker\":{\"line\":{\"color\":\"white\",\"width\":0.5},\"pattern\":{\"fillmode\":\"overlay\",\"size\":10,\"solidity\":0.2}},\"type\":\"bar\"}],\"carpet\":[{\"aaxis\":{\"endlinecolor\":\"#2a3f5f\",\"gridcolor\":\"#C8D4E3\",\"linecolor\":\"#C8D4E3\",\"minorgridcolor\":\"#C8D4E3\",\"startlinecolor\":\"#2a3f5f\"},\"baxis\":{\"endlinecolor\":\"#2a3f5f\",\"gridcolor\":\"#C8D4E3\",\"linecolor\":\"#C8D4E3\",\"minorgridcolor\":\"#C8D4E3\",\"startlinecolor\":\"#2a3f5f\"},\"type\":\"carpet\"}],\"choropleth\":[{\"colorbar\":{\"outlinewidth\":0,\"ticks\":\"\"},\"type\":\"choropleth\"}],\"contourcarpet\":[{\"colorbar\":{\"outlinewidth\":0,\"ticks\":\"\"},\"type\":\"contourcarpet\"}],\"contour\":[{\"colorbar\":{\"outlinewidth\":0,\"ticks\":\"\"},\"colorscale\":[[0.0,\"#0d0887\"],[0.1111111111111111,\"#46039f\"],[0.2222222222222222,\"#7201a8\"],[0.3333333333333333,\"#9c179e\"],[0.4444444444444444,\"#bd3786\"],[0.5555555555555556,\"#d8576b\"],[0.6666666666666666,\"#ed7953\"],[0.7777777777777778,\"#fb9f3a\"],[0.8888888888888888,\"#fdca26\"],[1.0,\"#f0f921\"]],\"type\":\"contour\"}],\"heatmapgl\":[{\"colorbar\":{\"outlinewidth\":0,\"ticks\":\"\"},\"colorscale\":[[0.0,\"#0d0887\"],[0.1111111111111111,\"#46039f\"],[0.2222222222222222,\"#7201a8\"],[0.3333333333333333,\"#9c179e\"],[0.4444444444444444,\"#bd3786\"],[0.5555555555555556,\"#d8576b\"],[0.6666666666666666,\"#ed7953\"],[0.7777777777777778,\"#fb9f3a\"],[0.8888888888888888,\"#fdca26\"],[1.0,\"#f0f921\"]],\"type\":\"heatmapgl\"}],\"heatmap\":[{\"colorbar\":{\"outlinewidth\":0,\"ticks\":\"\"},\"colorscale\":[[0.0,\"#0d0887\"],[0.1111111111111111,\"#46039f\"],[0.2222222222222222,\"#7201a8\"],[0.3333333333333333,\"#9c179e\"],[0.4444444444444444,\"#bd3786\"],[0.5555555555555556,\"#d8576b\"],[0.6666666666666666,\"#ed7953\"],[0.7777777777777778,\"#fb9f3a\"],[0.8888888888888888,\"#fdca26\"],[1.0,\"#f0f921\"]],\"type\":\"heatmap\"}],\"histogram2dcontour\":[{\"colorbar\":{\"outlinewidth\":0,\"ticks\":\"\"},\"colorscale\":[[0.0,\"#0d0887\"],[0.1111111111111111,\"#46039f\"],[0.2222222222222222,\"#7201a8\"],[0.3333333333333333,\"#9c179e\"],[0.4444444444444444,\"#bd3786\"],[0.5555555555555556,\"#d8576b\"],[0.6666666666666666,\"#ed7953\"],[0.7777777777777778,\"#fb9f3a\"],[0.8888888888888888,\"#fdca26\"],[1.0,\"#f0f921\"]],\"type\":\"histogram2dcontour\"}],\"histogram2d\":[{\"colorbar\":{\"outlinewidth\":0,\"ticks\":\"\"},\"colorscale\":[[0.0,\"#0d0887\"],[0.1111111111111111,\"#46039f\"],[0.2222222222222222,\"#7201a8\"],[0.3333333333333333,\"#9c179e\"],[0.4444444444444444,\"#bd3786\"],[0.5555555555555556,\"#d8576b\"],[0.6666666666666666,\"#ed7953\"],[0.7777777777777778,\"#fb9f3a\"],[0.8888888888888888,\"#fdca26\"],[1.0,\"#f0f921\"]],\"type\":\"histogram2d\"}],\"histogram\":[{\"marker\":{\"pattern\":{\"fillmode\":\"overlay\",\"size\":10,\"solidity\":0.2}},\"type\":\"histogram\"}],\"mesh3d\":[{\"colorbar\":{\"outlinewidth\":0,\"ticks\":\"\"},\"type\":\"mesh3d\"}],\"parcoords\":[{\"line\":{\"colorbar\":{\"outlinewidth\":0,\"ticks\":\"\"}},\"type\":\"parcoords\"}],\"pie\":[{\"automargin\":true,\"type\":\"pie\"}],\"scatter3d\":[{\"line\":{\"colorbar\":{\"outlinewidth\":0,\"ticks\":\"\"}},\"marker\":{\"colorbar\":{\"outlinewidth\":0,\"ticks\":\"\"}},\"type\":\"scatter3d\"}],\"scattercarpet\":[{\"marker\":{\"colorbar\":{\"outlinewidth\":0,\"ticks\":\"\"}},\"type\":\"scattercarpet\"}],\"scattergeo\":[{\"marker\":{\"colorbar\":{\"outlinewidth\":0,\"ticks\":\"\"}},\"type\":\"scattergeo\"}],\"scattergl\":[{\"marker\":{\"colorbar\":{\"outlinewidth\":0,\"ticks\":\"\"}},\"type\":\"scattergl\"}],\"scattermapbox\":[{\"marker\":{\"colorbar\":{\"outlinewidth\":0,\"ticks\":\"\"}},\"type\":\"scattermapbox\"}],\"scatterpolargl\":[{\"marker\":{\"colorbar\":{\"outlinewidth\":0,\"ticks\":\"\"}},\"type\":\"scatterpolargl\"}],\"scatterpolar\":[{\"marker\":{\"colorbar\":{\"outlinewidth\":0,\"ticks\":\"\"}},\"type\":\"scatterpolar\"}],\"scatter\":[{\"fillpattern\":{\"fillmode\":\"overlay\",\"size\":10,\"solidity\":0.2},\"type\":\"scatter\"}],\"scatterternary\":[{\"marker\":{\"colorbar\":{\"outlinewidth\":0,\"ticks\":\"\"}},\"type\":\"scatterternary\"}],\"surface\":[{\"colorbar\":{\"outlinewidth\":0,\"ticks\":\"\"},\"colorscale\":[[0.0,\"#0d0887\"],[0.1111111111111111,\"#46039f\"],[0.2222222222222222,\"#7201a8\"],[0.3333333333333333,\"#9c179e\"],[0.4444444444444444,\"#bd3786\"],[0.5555555555555556,\"#d8576b\"],[0.6666666666666666,\"#ed7953\"],[0.7777777777777778,\"#fb9f3a\"],[0.8888888888888888,\"#fdca26\"],[1.0,\"#f0f921\"]],\"type\":\"surface\"}],\"table\":[{\"cells\":{\"fill\":{\"color\":\"#EBF0F8\"},\"line\":{\"color\":\"white\"}},\"header\":{\"fill\":{\"color\":\"#C8D4E3\"},\"line\":{\"color\":\"white\"}},\"type\":\"table\"}]},\"layout\":{\"annotationdefaults\":{\"arrowcolor\":\"#2a3f5f\",\"arrowhead\":0,\"arrowwidth\":1},\"autotypenumbers\":\"strict\",\"coloraxis\":{\"colorbar\":{\"outlinewidth\":0,\"ticks\":\"\"}},\"colorscale\":{\"diverging\":[[0,\"#8e0152\"],[0.1,\"#c51b7d\"],[0.2,\"#de77ae\"],[0.3,\"#f1b6da\"],[0.4,\"#fde0ef\"],[0.5,\"#f7f7f7\"],[0.6,\"#e6f5d0\"],[0.7,\"#b8e186\"],[0.8,\"#7fbc41\"],[0.9,\"#4d9221\"],[1,\"#276419\"]],\"sequential\":[[0.0,\"#0d0887\"],[0.1111111111111111,\"#46039f\"],[0.2222222222222222,\"#7201a8\"],[0.3333333333333333,\"#9c179e\"],[0.4444444444444444,\"#bd3786\"],[0.5555555555555556,\"#d8576b\"],[0.6666666666666666,\"#ed7953\"],[0.7777777777777778,\"#fb9f3a\"],[0.8888888888888888,\"#fdca26\"],[1.0,\"#f0f921\"]],\"sequentialminus\":[[0.0,\"#0d0887\"],[0.1111111111111111,\"#46039f\"],[0.2222222222222222,\"#7201a8\"],[0.3333333333333333,\"#9c179e\"],[0.4444444444444444,\"#bd3786\"],[0.5555555555555556,\"#d8576b\"],[0.6666666666666666,\"#ed7953\"],[0.7777777777777778,\"#fb9f3a\"],[0.8888888888888888,\"#fdca26\"],[1.0,\"#f0f921\"]]},\"colorway\":[\"#636efa\",\"#EF553B\",\"#00cc96\",\"#ab63fa\",\"#FFA15A\",\"#19d3f3\",\"#FF6692\",\"#B6E880\",\"#FF97FF\",\"#FECB52\"],\"font\":{\"color\":\"#2a3f5f\"},\"geo\":{\"bgcolor\":\"white\",\"lakecolor\":\"white\",\"landcolor\":\"white\",\"showlakes\":true,\"showland\":true,\"subunitcolor\":\"#C8D4E3\"},\"hoverlabel\":{\"align\":\"left\"},\"hovermode\":\"closest\",\"mapbox\":{\"style\":\"light\"},\"paper_bgcolor\":\"white\",\"plot_bgcolor\":\"white\",\"polar\":{\"angularaxis\":{\"gridcolor\":\"#EBF0F8\",\"linecolor\":\"#EBF0F8\",\"ticks\":\"\"},\"bgcolor\":\"white\",\"radialaxis\":{\"gridcolor\":\"#EBF0F8\",\"linecolor\":\"#EBF0F8\",\"ticks\":\"\"}},\"scene\":{\"xaxis\":{\"backgroundcolor\":\"white\",\"gridcolor\":\"#DFE8F3\",\"gridwidth\":2,\"linecolor\":\"#EBF0F8\",\"showbackground\":true,\"ticks\":\"\",\"zerolinecolor\":\"#EBF0F8\"},\"yaxis\":{\"backgroundcolor\":\"white\",\"gridcolor\":\"#DFE8F3\",\"gridwidth\":2,\"linecolor\":\"#EBF0F8\",\"showbackground\":true,\"ticks\":\"\",\"zerolinecolor\":\"#EBF0F8\"},\"zaxis\":{\"backgroundcolor\":\"white\",\"gridcolor\":\"#DFE8F3\",\"gridwidth\":2,\"linecolor\":\"#EBF0F8\",\"showbackground\":true,\"ticks\":\"\",\"zerolinecolor\":\"#EBF0F8\"}},\"shapedefaults\":{\"line\":{\"color\":\"#2a3f5f\"}},\"ternary\":{\"aaxis\":{\"gridcolor\":\"#DFE8F3\",\"linecolor\":\"#A2B1C6\",\"ticks\":\"\"},\"baxis\":{\"gridcolor\":\"#DFE8F3\",\"linecolor\":\"#A2B1C6\",\"ticks\":\"\"},\"bgcolor\":\"white\",\"caxis\":{\"gridcolor\":\"#DFE8F3\",\"linecolor\":\"#A2B1C6\",\"ticks\":\"\"}},\"title\":{\"x\":0.05},\"xaxis\":{\"automargin\":true,\"gridcolor\":\"#EBF0F8\",\"linecolor\":\"#EBF0F8\",\"ticks\":\"\",\"title\":{\"standoff\":15},\"zerolinecolor\":\"#EBF0F8\",\"zerolinewidth\":2},\"yaxis\":{\"automargin\":true,\"gridcolor\":\"#EBF0F8\",\"linecolor\":\"#EBF0F8\",\"ticks\":\"\",\"title\":{\"standoff\":15},\"zerolinecolor\":\"#EBF0F8\",\"zerolinewidth\":2}}},\"title\":{\"text\":\"Performance Analysis per Campaign\"},\"xaxis\":{\"title\":{\"text\":\"Campaigns\"}},\"yaxis\":{\"title\":{\"text\":\"Metric Values\"}},\"barmode\":\"group\"},                        {\"responsive\": true}                    ).then(function(){\n",
       "                            \n",
       "var gd = document.getElementById('820d0fca-c9f3-4d75-963f-e652529ac861');\n",
       "var x = new MutationObserver(function (mutations, observer) {{\n",
       "        var display = window.getComputedStyle(gd).display;\n",
       "        if (!display || display === 'none') {{\n",
       "            console.log([gd, 'removed!']);\n",
       "            Plotly.purge(gd);\n",
       "            observer.disconnect();\n",
       "        }}\n",
       "}});\n",
       "\n",
       "// Listen for the removal of the full notebook cells\n",
       "var notebookContainer = gd.closest('#notebook-container');\n",
       "if (notebookContainer) {{\n",
       "    x.observe(notebookContainer, {childList: true});\n",
       "}}\n",
       "\n",
       "// Listen for the clearing of the current output cell\n",
       "var outputEl = gd.closest('.output');\n",
       "if (outputEl) {{\n",
       "    x.observe(outputEl, {childList: true});\n",
       "}}\n",
       "\n",
       "                        })                };                });            </script>        </div>"
      ]
     },
     "metadata": {},
     "output_type": "display_data"
    }
   ],
   "source": [
    "fig = go.Figure()\n",
    "\n",
    "fig.add_trace(go.Bar(x=campaign_per[\"Campaign\"],y=campaign_per[\"Cost\"],\n",
    "                     name=\"Cost\",marker_color=\"orange\"))\n",
    "\n",
    "fig.add_trace(go.Bar(x=campaign_per[\"Campaign\"],y=campaign_per[\"Conversions\"],\n",
    "                     name=\"Conversions\",marker_color=\"green\"))\n",
    "\n",
    "fig.add_trace(go.Bar(x=campaign_per[\"Campaign\"],y=campaign_per[\"ROAS\"],\n",
    "                     name=\"ROAS\",marker_color=\"blue\"))\n",
    "\n",
    "fig.update_layout(\n",
    "    title=\"Performance Analysis per Campaign\",\n",
    "    xaxis_title=\"Campaigns\",\n",
    "    yaxis_title=\"Metric Values\",\n",
    "    barmode=\"group\", \n",
    "    template=\"plotly_white\")\n",
    "\n",
    "fig.show()"
   ]
  },
  {
   "cell_type": "markdown",
   "id": "1156f153",
   "metadata": {},
   "source": [
    "A more detailed bar chart"
   ]
  },
  {
   "cell_type": "code",
   "execution_count": 40,
   "id": "e84b69ca",
   "metadata": {},
   "outputs": [
    {
     "data": {
      "application/vnd.plotly.v1+json": {
       "config": {
        "plotlyServerURL": "https://plot.ly"
       },
       "data": [
        {
         "marker": {
          "color": "orange"
         },
         "name": "Cost",
         "type": "bar",
         "x": [
          1,
          3,
          7,
          15
         ],
         "y": [
          1669.29,
          320.94,
          929.57,
          4345.17
         ]
        },
        {
         "marker": {
          "color": "green"
         },
         "name": "Conversions",
         "type": "bar",
         "x": [
          1,
          3,
          7,
          15
         ],
         "y": [
          2509,
          53,
          42,
          1205
         ]
        },
        {
         "marker": {
          "color": "blue"
         },
         "name": "ROAS",
         "type": "bar",
         "x": [
          1,
          3,
          7,
          15
         ],
         "y": [
          95.47974887527033,
          14.742007851934941,
          3.42965026840367,
          16.878133651847914
         ]
        },
        {
         "marker": {
          "color": "red"
         },
         "name": "Clicks",
         "type": "bar",
         "x": [
          1,
          3,
          7,
          15
         ],
         "y": [
          67031,
          4246,
          3455,
          62755
         ]
        },
        {
         "marker": {
          "color": "purple",
          "size": 8
         },
         "mode": "lines+markers",
         "name": "CPC (€)",
         "type": "scatter",
         "x": [
          1,
          3,
          7,
          15
         ],
         "y": [
          0.029732225300092337,
          0.06078947368421053,
          0.17996031746031746,
          0.06336812144212524
         ]
        }
       ],
       "layout": {
        "barmode": "group",
        "template": {
         "data": {
          "bar": [
           {
            "error_x": {
             "color": "#2a3f5f"
            },
            "error_y": {
             "color": "#2a3f5f"
            },
            "marker": {
             "line": {
              "color": "white",
              "width": 0.5
             },
             "pattern": {
              "fillmode": "overlay",
              "size": 10,
              "solidity": 0.2
             }
            },
            "type": "bar"
           }
          ],
          "barpolar": [
           {
            "marker": {
             "line": {
              "color": "white",
              "width": 0.5
             },
             "pattern": {
              "fillmode": "overlay",
              "size": 10,
              "solidity": 0.2
             }
            },
            "type": "barpolar"
           }
          ],
          "carpet": [
           {
            "aaxis": {
             "endlinecolor": "#2a3f5f",
             "gridcolor": "#C8D4E3",
             "linecolor": "#C8D4E3",
             "minorgridcolor": "#C8D4E3",
             "startlinecolor": "#2a3f5f"
            },
            "baxis": {
             "endlinecolor": "#2a3f5f",
             "gridcolor": "#C8D4E3",
             "linecolor": "#C8D4E3",
             "minorgridcolor": "#C8D4E3",
             "startlinecolor": "#2a3f5f"
            },
            "type": "carpet"
           }
          ],
          "choropleth": [
           {
            "colorbar": {
             "outlinewidth": 0,
             "ticks": ""
            },
            "type": "choropleth"
           }
          ],
          "contour": [
           {
            "colorbar": {
             "outlinewidth": 0,
             "ticks": ""
            },
            "colorscale": [
             [
              0,
              "#0d0887"
             ],
             [
              0.1111111111111111,
              "#46039f"
             ],
             [
              0.2222222222222222,
              "#7201a8"
             ],
             [
              0.3333333333333333,
              "#9c179e"
             ],
             [
              0.4444444444444444,
              "#bd3786"
             ],
             [
              0.5555555555555556,
              "#d8576b"
             ],
             [
              0.6666666666666666,
              "#ed7953"
             ],
             [
              0.7777777777777778,
              "#fb9f3a"
             ],
             [
              0.8888888888888888,
              "#fdca26"
             ],
             [
              1,
              "#f0f921"
             ]
            ],
            "type": "contour"
           }
          ],
          "contourcarpet": [
           {
            "colorbar": {
             "outlinewidth": 0,
             "ticks": ""
            },
            "type": "contourcarpet"
           }
          ],
          "heatmap": [
           {
            "colorbar": {
             "outlinewidth": 0,
             "ticks": ""
            },
            "colorscale": [
             [
              0,
              "#0d0887"
             ],
             [
              0.1111111111111111,
              "#46039f"
             ],
             [
              0.2222222222222222,
              "#7201a8"
             ],
             [
              0.3333333333333333,
              "#9c179e"
             ],
             [
              0.4444444444444444,
              "#bd3786"
             ],
             [
              0.5555555555555556,
              "#d8576b"
             ],
             [
              0.6666666666666666,
              "#ed7953"
             ],
             [
              0.7777777777777778,
              "#fb9f3a"
             ],
             [
              0.8888888888888888,
              "#fdca26"
             ],
             [
              1,
              "#f0f921"
             ]
            ],
            "type": "heatmap"
           }
          ],
          "heatmapgl": [
           {
            "colorbar": {
             "outlinewidth": 0,
             "ticks": ""
            },
            "colorscale": [
             [
              0,
              "#0d0887"
             ],
             [
              0.1111111111111111,
              "#46039f"
             ],
             [
              0.2222222222222222,
              "#7201a8"
             ],
             [
              0.3333333333333333,
              "#9c179e"
             ],
             [
              0.4444444444444444,
              "#bd3786"
             ],
             [
              0.5555555555555556,
              "#d8576b"
             ],
             [
              0.6666666666666666,
              "#ed7953"
             ],
             [
              0.7777777777777778,
              "#fb9f3a"
             ],
             [
              0.8888888888888888,
              "#fdca26"
             ],
             [
              1,
              "#f0f921"
             ]
            ],
            "type": "heatmapgl"
           }
          ],
          "histogram": [
           {
            "marker": {
             "pattern": {
              "fillmode": "overlay",
              "size": 10,
              "solidity": 0.2
             }
            },
            "type": "histogram"
           }
          ],
          "histogram2d": [
           {
            "colorbar": {
             "outlinewidth": 0,
             "ticks": ""
            },
            "colorscale": [
             [
              0,
              "#0d0887"
             ],
             [
              0.1111111111111111,
              "#46039f"
             ],
             [
              0.2222222222222222,
              "#7201a8"
             ],
             [
              0.3333333333333333,
              "#9c179e"
             ],
             [
              0.4444444444444444,
              "#bd3786"
             ],
             [
              0.5555555555555556,
              "#d8576b"
             ],
             [
              0.6666666666666666,
              "#ed7953"
             ],
             [
              0.7777777777777778,
              "#fb9f3a"
             ],
             [
              0.8888888888888888,
              "#fdca26"
             ],
             [
              1,
              "#f0f921"
             ]
            ],
            "type": "histogram2d"
           }
          ],
          "histogram2dcontour": [
           {
            "colorbar": {
             "outlinewidth": 0,
             "ticks": ""
            },
            "colorscale": [
             [
              0,
              "#0d0887"
             ],
             [
              0.1111111111111111,
              "#46039f"
             ],
             [
              0.2222222222222222,
              "#7201a8"
             ],
             [
              0.3333333333333333,
              "#9c179e"
             ],
             [
              0.4444444444444444,
              "#bd3786"
             ],
             [
              0.5555555555555556,
              "#d8576b"
             ],
             [
              0.6666666666666666,
              "#ed7953"
             ],
             [
              0.7777777777777778,
              "#fb9f3a"
             ],
             [
              0.8888888888888888,
              "#fdca26"
             ],
             [
              1,
              "#f0f921"
             ]
            ],
            "type": "histogram2dcontour"
           }
          ],
          "mesh3d": [
           {
            "colorbar": {
             "outlinewidth": 0,
             "ticks": ""
            },
            "type": "mesh3d"
           }
          ],
          "parcoords": [
           {
            "line": {
             "colorbar": {
              "outlinewidth": 0,
              "ticks": ""
             }
            },
            "type": "parcoords"
           }
          ],
          "pie": [
           {
            "automargin": true,
            "type": "pie"
           }
          ],
          "scatter": [
           {
            "fillpattern": {
             "fillmode": "overlay",
             "size": 10,
             "solidity": 0.2
            },
            "type": "scatter"
           }
          ],
          "scatter3d": [
           {
            "line": {
             "colorbar": {
              "outlinewidth": 0,
              "ticks": ""
             }
            },
            "marker": {
             "colorbar": {
              "outlinewidth": 0,
              "ticks": ""
             }
            },
            "type": "scatter3d"
           }
          ],
          "scattercarpet": [
           {
            "marker": {
             "colorbar": {
              "outlinewidth": 0,
              "ticks": ""
             }
            },
            "type": "scattercarpet"
           }
          ],
          "scattergeo": [
           {
            "marker": {
             "colorbar": {
              "outlinewidth": 0,
              "ticks": ""
             }
            },
            "type": "scattergeo"
           }
          ],
          "scattergl": [
           {
            "marker": {
             "colorbar": {
              "outlinewidth": 0,
              "ticks": ""
             }
            },
            "type": "scattergl"
           }
          ],
          "scattermapbox": [
           {
            "marker": {
             "colorbar": {
              "outlinewidth": 0,
              "ticks": ""
             }
            },
            "type": "scattermapbox"
           }
          ],
          "scatterpolar": [
           {
            "marker": {
             "colorbar": {
              "outlinewidth": 0,
              "ticks": ""
             }
            },
            "type": "scatterpolar"
           }
          ],
          "scatterpolargl": [
           {
            "marker": {
             "colorbar": {
              "outlinewidth": 0,
              "ticks": ""
             }
            },
            "type": "scatterpolargl"
           }
          ],
          "scatterternary": [
           {
            "marker": {
             "colorbar": {
              "outlinewidth": 0,
              "ticks": ""
             }
            },
            "type": "scatterternary"
           }
          ],
          "surface": [
           {
            "colorbar": {
             "outlinewidth": 0,
             "ticks": ""
            },
            "colorscale": [
             [
              0,
              "#0d0887"
             ],
             [
              0.1111111111111111,
              "#46039f"
             ],
             [
              0.2222222222222222,
              "#7201a8"
             ],
             [
              0.3333333333333333,
              "#9c179e"
             ],
             [
              0.4444444444444444,
              "#bd3786"
             ],
             [
              0.5555555555555556,
              "#d8576b"
             ],
             [
              0.6666666666666666,
              "#ed7953"
             ],
             [
              0.7777777777777778,
              "#fb9f3a"
             ],
             [
              0.8888888888888888,
              "#fdca26"
             ],
             [
              1,
              "#f0f921"
             ]
            ],
            "type": "surface"
           }
          ],
          "table": [
           {
            "cells": {
             "fill": {
              "color": "#EBF0F8"
             },
             "line": {
              "color": "white"
             }
            },
            "header": {
             "fill": {
              "color": "#C8D4E3"
             },
             "line": {
              "color": "white"
             }
            },
            "type": "table"
           }
          ]
         },
         "layout": {
          "annotationdefaults": {
           "arrowcolor": "#2a3f5f",
           "arrowhead": 0,
           "arrowwidth": 1
          },
          "autotypenumbers": "strict",
          "coloraxis": {
           "colorbar": {
            "outlinewidth": 0,
            "ticks": ""
           }
          },
          "colorscale": {
           "diverging": [
            [
             0,
             "#8e0152"
            ],
            [
             0.1,
             "#c51b7d"
            ],
            [
             0.2,
             "#de77ae"
            ],
            [
             0.3,
             "#f1b6da"
            ],
            [
             0.4,
             "#fde0ef"
            ],
            [
             0.5,
             "#f7f7f7"
            ],
            [
             0.6,
             "#e6f5d0"
            ],
            [
             0.7,
             "#b8e186"
            ],
            [
             0.8,
             "#7fbc41"
            ],
            [
             0.9,
             "#4d9221"
            ],
            [
             1,
             "#276419"
            ]
           ],
           "sequential": [
            [
             0,
             "#0d0887"
            ],
            [
             0.1111111111111111,
             "#46039f"
            ],
            [
             0.2222222222222222,
             "#7201a8"
            ],
            [
             0.3333333333333333,
             "#9c179e"
            ],
            [
             0.4444444444444444,
             "#bd3786"
            ],
            [
             0.5555555555555556,
             "#d8576b"
            ],
            [
             0.6666666666666666,
             "#ed7953"
            ],
            [
             0.7777777777777778,
             "#fb9f3a"
            ],
            [
             0.8888888888888888,
             "#fdca26"
            ],
            [
             1,
             "#f0f921"
            ]
           ],
           "sequentialminus": [
            [
             0,
             "#0d0887"
            ],
            [
             0.1111111111111111,
             "#46039f"
            ],
            [
             0.2222222222222222,
             "#7201a8"
            ],
            [
             0.3333333333333333,
             "#9c179e"
            ],
            [
             0.4444444444444444,
             "#bd3786"
            ],
            [
             0.5555555555555556,
             "#d8576b"
            ],
            [
             0.6666666666666666,
             "#ed7953"
            ],
            [
             0.7777777777777778,
             "#fb9f3a"
            ],
            [
             0.8888888888888888,
             "#fdca26"
            ],
            [
             1,
             "#f0f921"
            ]
           ]
          },
          "colorway": [
           "#636efa",
           "#EF553B",
           "#00cc96",
           "#ab63fa",
           "#FFA15A",
           "#19d3f3",
           "#FF6692",
           "#B6E880",
           "#FF97FF",
           "#FECB52"
          ],
          "font": {
           "color": "#2a3f5f"
          },
          "geo": {
           "bgcolor": "white",
           "lakecolor": "white",
           "landcolor": "white",
           "showlakes": true,
           "showland": true,
           "subunitcolor": "#C8D4E3"
          },
          "hoverlabel": {
           "align": "left"
          },
          "hovermode": "closest",
          "mapbox": {
           "style": "light"
          },
          "paper_bgcolor": "white",
          "plot_bgcolor": "white",
          "polar": {
           "angularaxis": {
            "gridcolor": "#EBF0F8",
            "linecolor": "#EBF0F8",
            "ticks": ""
           },
           "bgcolor": "white",
           "radialaxis": {
            "gridcolor": "#EBF0F8",
            "linecolor": "#EBF0F8",
            "ticks": ""
           }
          },
          "scene": {
           "xaxis": {
            "backgroundcolor": "white",
            "gridcolor": "#DFE8F3",
            "gridwidth": 2,
            "linecolor": "#EBF0F8",
            "showbackground": true,
            "ticks": "",
            "zerolinecolor": "#EBF0F8"
           },
           "yaxis": {
            "backgroundcolor": "white",
            "gridcolor": "#DFE8F3",
            "gridwidth": 2,
            "linecolor": "#EBF0F8",
            "showbackground": true,
            "ticks": "",
            "zerolinecolor": "#EBF0F8"
           },
           "zaxis": {
            "backgroundcolor": "white",
            "gridcolor": "#DFE8F3",
            "gridwidth": 2,
            "linecolor": "#EBF0F8",
            "showbackground": true,
            "ticks": "",
            "zerolinecolor": "#EBF0F8"
           }
          },
          "shapedefaults": {
           "line": {
            "color": "#2a3f5f"
           }
          },
          "ternary": {
           "aaxis": {
            "gridcolor": "#DFE8F3",
            "linecolor": "#A2B1C6",
            "ticks": ""
           },
           "baxis": {
            "gridcolor": "#DFE8F3",
            "linecolor": "#A2B1C6",
            "ticks": ""
           },
           "bgcolor": "white",
           "caxis": {
            "gridcolor": "#DFE8F3",
            "linecolor": "#A2B1C6",
            "ticks": ""
           }
          },
          "title": {
           "x": 0.05
          },
          "xaxis": {
           "automargin": true,
           "gridcolor": "#EBF0F8",
           "linecolor": "#EBF0F8",
           "ticks": "",
           "title": {
            "standoff": 15
           },
           "zerolinecolor": "#EBF0F8",
           "zerolinewidth": 2
          },
          "yaxis": {
           "automargin": true,
           "gridcolor": "#EBF0F8",
           "linecolor": "#EBF0F8",
           "ticks": "",
           "title": {
            "standoff": 15
           },
           "zerolinecolor": "#EBF0F8",
           "zerolinewidth": 2
          }
         }
        },
        "title": {
         "text": "Performance Analysis per Campaign"
        },
        "xaxis": {
         "title": {
          "text": "Campaigns"
         }
        },
        "yaxis": {
         "title": {
          "text": "Metric Values"
         }
        }
       }
      },
      "text/html": [
       "<div>                            <div id=\"5e73fe36-6cab-4ef6-bdd7-1117f9ebaddc\" class=\"plotly-graph-div\" style=\"height:525px; width:100%;\"></div>            <script type=\"text/javascript\">                require([\"plotly\"], function(Plotly) {                    window.PLOTLYENV=window.PLOTLYENV || {};                                    if (document.getElementById(\"5e73fe36-6cab-4ef6-bdd7-1117f9ebaddc\")) {                    Plotly.newPlot(                        \"5e73fe36-6cab-4ef6-bdd7-1117f9ebaddc\",                        [{\"marker\":{\"color\":\"orange\"},\"name\":\"Cost\",\"x\":[1,3,7,15],\"y\":[1669.29,320.94,929.57,4345.17],\"type\":\"bar\"},{\"marker\":{\"color\":\"green\"},\"name\":\"Conversions\",\"x\":[1,3,7,15],\"y\":[2509,53,42,1205],\"type\":\"bar\"},{\"marker\":{\"color\":\"blue\"},\"name\":\"ROAS\",\"x\":[1,3,7,15],\"y\":[95.47974887527033,14.742007851934941,3.42965026840367,16.878133651847914],\"type\":\"bar\"},{\"marker\":{\"color\":\"red\"},\"name\":\"Clicks\",\"x\":[1,3,7,15],\"y\":[67031,4246,3455,62755],\"type\":\"bar\"},{\"marker\":{\"color\":\"purple\",\"size\":8},\"mode\":\"lines+markers\",\"name\":\"CPC (\\u20ac)\",\"x\":[1,3,7,15],\"y\":[0.029732225300092337,0.06078947368421053,0.17996031746031746,0.06336812144212524],\"type\":\"scatter\"}],                        {\"template\":{\"data\":{\"barpolar\":[{\"marker\":{\"line\":{\"color\":\"white\",\"width\":0.5},\"pattern\":{\"fillmode\":\"overlay\",\"size\":10,\"solidity\":0.2}},\"type\":\"barpolar\"}],\"bar\":[{\"error_x\":{\"color\":\"#2a3f5f\"},\"error_y\":{\"color\":\"#2a3f5f\"},\"marker\":{\"line\":{\"color\":\"white\",\"width\":0.5},\"pattern\":{\"fillmode\":\"overlay\",\"size\":10,\"solidity\":0.2}},\"type\":\"bar\"}],\"carpet\":[{\"aaxis\":{\"endlinecolor\":\"#2a3f5f\",\"gridcolor\":\"#C8D4E3\",\"linecolor\":\"#C8D4E3\",\"minorgridcolor\":\"#C8D4E3\",\"startlinecolor\":\"#2a3f5f\"},\"baxis\":{\"endlinecolor\":\"#2a3f5f\",\"gridcolor\":\"#C8D4E3\",\"linecolor\":\"#C8D4E3\",\"minorgridcolor\":\"#C8D4E3\",\"startlinecolor\":\"#2a3f5f\"},\"type\":\"carpet\"}],\"choropleth\":[{\"colorbar\":{\"outlinewidth\":0,\"ticks\":\"\"},\"type\":\"choropleth\"}],\"contourcarpet\":[{\"colorbar\":{\"outlinewidth\":0,\"ticks\":\"\"},\"type\":\"contourcarpet\"}],\"contour\":[{\"colorbar\":{\"outlinewidth\":0,\"ticks\":\"\"},\"colorscale\":[[0.0,\"#0d0887\"],[0.1111111111111111,\"#46039f\"],[0.2222222222222222,\"#7201a8\"],[0.3333333333333333,\"#9c179e\"],[0.4444444444444444,\"#bd3786\"],[0.5555555555555556,\"#d8576b\"],[0.6666666666666666,\"#ed7953\"],[0.7777777777777778,\"#fb9f3a\"],[0.8888888888888888,\"#fdca26\"],[1.0,\"#f0f921\"]],\"type\":\"contour\"}],\"heatmapgl\":[{\"colorbar\":{\"outlinewidth\":0,\"ticks\":\"\"},\"colorscale\":[[0.0,\"#0d0887\"],[0.1111111111111111,\"#46039f\"],[0.2222222222222222,\"#7201a8\"],[0.3333333333333333,\"#9c179e\"],[0.4444444444444444,\"#bd3786\"],[0.5555555555555556,\"#d8576b\"],[0.6666666666666666,\"#ed7953\"],[0.7777777777777778,\"#fb9f3a\"],[0.8888888888888888,\"#fdca26\"],[1.0,\"#f0f921\"]],\"type\":\"heatmapgl\"}],\"heatmap\":[{\"colorbar\":{\"outlinewidth\":0,\"ticks\":\"\"},\"colorscale\":[[0.0,\"#0d0887\"],[0.1111111111111111,\"#46039f\"],[0.2222222222222222,\"#7201a8\"],[0.3333333333333333,\"#9c179e\"],[0.4444444444444444,\"#bd3786\"],[0.5555555555555556,\"#d8576b\"],[0.6666666666666666,\"#ed7953\"],[0.7777777777777778,\"#fb9f3a\"],[0.8888888888888888,\"#fdca26\"],[1.0,\"#f0f921\"]],\"type\":\"heatmap\"}],\"histogram2dcontour\":[{\"colorbar\":{\"outlinewidth\":0,\"ticks\":\"\"},\"colorscale\":[[0.0,\"#0d0887\"],[0.1111111111111111,\"#46039f\"],[0.2222222222222222,\"#7201a8\"],[0.3333333333333333,\"#9c179e\"],[0.4444444444444444,\"#bd3786\"],[0.5555555555555556,\"#d8576b\"],[0.6666666666666666,\"#ed7953\"],[0.7777777777777778,\"#fb9f3a\"],[0.8888888888888888,\"#fdca26\"],[1.0,\"#f0f921\"]],\"type\":\"histogram2dcontour\"}],\"histogram2d\":[{\"colorbar\":{\"outlinewidth\":0,\"ticks\":\"\"},\"colorscale\":[[0.0,\"#0d0887\"],[0.1111111111111111,\"#46039f\"],[0.2222222222222222,\"#7201a8\"],[0.3333333333333333,\"#9c179e\"],[0.4444444444444444,\"#bd3786\"],[0.5555555555555556,\"#d8576b\"],[0.6666666666666666,\"#ed7953\"],[0.7777777777777778,\"#fb9f3a\"],[0.8888888888888888,\"#fdca26\"],[1.0,\"#f0f921\"]],\"type\":\"histogram2d\"}],\"histogram\":[{\"marker\":{\"pattern\":{\"fillmode\":\"overlay\",\"size\":10,\"solidity\":0.2}},\"type\":\"histogram\"}],\"mesh3d\":[{\"colorbar\":{\"outlinewidth\":0,\"ticks\":\"\"},\"type\":\"mesh3d\"}],\"parcoords\":[{\"line\":{\"colorbar\":{\"outlinewidth\":0,\"ticks\":\"\"}},\"type\":\"parcoords\"}],\"pie\":[{\"automargin\":true,\"type\":\"pie\"}],\"scatter3d\":[{\"line\":{\"colorbar\":{\"outlinewidth\":0,\"ticks\":\"\"}},\"marker\":{\"colorbar\":{\"outlinewidth\":0,\"ticks\":\"\"}},\"type\":\"scatter3d\"}],\"scattercarpet\":[{\"marker\":{\"colorbar\":{\"outlinewidth\":0,\"ticks\":\"\"}},\"type\":\"scattercarpet\"}],\"scattergeo\":[{\"marker\":{\"colorbar\":{\"outlinewidth\":0,\"ticks\":\"\"}},\"type\":\"scattergeo\"}],\"scattergl\":[{\"marker\":{\"colorbar\":{\"outlinewidth\":0,\"ticks\":\"\"}},\"type\":\"scattergl\"}],\"scattermapbox\":[{\"marker\":{\"colorbar\":{\"outlinewidth\":0,\"ticks\":\"\"}},\"type\":\"scattermapbox\"}],\"scatterpolargl\":[{\"marker\":{\"colorbar\":{\"outlinewidth\":0,\"ticks\":\"\"}},\"type\":\"scatterpolargl\"}],\"scatterpolar\":[{\"marker\":{\"colorbar\":{\"outlinewidth\":0,\"ticks\":\"\"}},\"type\":\"scatterpolar\"}],\"scatter\":[{\"fillpattern\":{\"fillmode\":\"overlay\",\"size\":10,\"solidity\":0.2},\"type\":\"scatter\"}],\"scatterternary\":[{\"marker\":{\"colorbar\":{\"outlinewidth\":0,\"ticks\":\"\"}},\"type\":\"scatterternary\"}],\"surface\":[{\"colorbar\":{\"outlinewidth\":0,\"ticks\":\"\"},\"colorscale\":[[0.0,\"#0d0887\"],[0.1111111111111111,\"#46039f\"],[0.2222222222222222,\"#7201a8\"],[0.3333333333333333,\"#9c179e\"],[0.4444444444444444,\"#bd3786\"],[0.5555555555555556,\"#d8576b\"],[0.6666666666666666,\"#ed7953\"],[0.7777777777777778,\"#fb9f3a\"],[0.8888888888888888,\"#fdca26\"],[1.0,\"#f0f921\"]],\"type\":\"surface\"}],\"table\":[{\"cells\":{\"fill\":{\"color\":\"#EBF0F8\"},\"line\":{\"color\":\"white\"}},\"header\":{\"fill\":{\"color\":\"#C8D4E3\"},\"line\":{\"color\":\"white\"}},\"type\":\"table\"}]},\"layout\":{\"annotationdefaults\":{\"arrowcolor\":\"#2a3f5f\",\"arrowhead\":0,\"arrowwidth\":1},\"autotypenumbers\":\"strict\",\"coloraxis\":{\"colorbar\":{\"outlinewidth\":0,\"ticks\":\"\"}},\"colorscale\":{\"diverging\":[[0,\"#8e0152\"],[0.1,\"#c51b7d\"],[0.2,\"#de77ae\"],[0.3,\"#f1b6da\"],[0.4,\"#fde0ef\"],[0.5,\"#f7f7f7\"],[0.6,\"#e6f5d0\"],[0.7,\"#b8e186\"],[0.8,\"#7fbc41\"],[0.9,\"#4d9221\"],[1,\"#276419\"]],\"sequential\":[[0.0,\"#0d0887\"],[0.1111111111111111,\"#46039f\"],[0.2222222222222222,\"#7201a8\"],[0.3333333333333333,\"#9c179e\"],[0.4444444444444444,\"#bd3786\"],[0.5555555555555556,\"#d8576b\"],[0.6666666666666666,\"#ed7953\"],[0.7777777777777778,\"#fb9f3a\"],[0.8888888888888888,\"#fdca26\"],[1.0,\"#f0f921\"]],\"sequentialminus\":[[0.0,\"#0d0887\"],[0.1111111111111111,\"#46039f\"],[0.2222222222222222,\"#7201a8\"],[0.3333333333333333,\"#9c179e\"],[0.4444444444444444,\"#bd3786\"],[0.5555555555555556,\"#d8576b\"],[0.6666666666666666,\"#ed7953\"],[0.7777777777777778,\"#fb9f3a\"],[0.8888888888888888,\"#fdca26\"],[1.0,\"#f0f921\"]]},\"colorway\":[\"#636efa\",\"#EF553B\",\"#00cc96\",\"#ab63fa\",\"#FFA15A\",\"#19d3f3\",\"#FF6692\",\"#B6E880\",\"#FF97FF\",\"#FECB52\"],\"font\":{\"color\":\"#2a3f5f\"},\"geo\":{\"bgcolor\":\"white\",\"lakecolor\":\"white\",\"landcolor\":\"white\",\"showlakes\":true,\"showland\":true,\"subunitcolor\":\"#C8D4E3\"},\"hoverlabel\":{\"align\":\"left\"},\"hovermode\":\"closest\",\"mapbox\":{\"style\":\"light\"},\"paper_bgcolor\":\"white\",\"plot_bgcolor\":\"white\",\"polar\":{\"angularaxis\":{\"gridcolor\":\"#EBF0F8\",\"linecolor\":\"#EBF0F8\",\"ticks\":\"\"},\"bgcolor\":\"white\",\"radialaxis\":{\"gridcolor\":\"#EBF0F8\",\"linecolor\":\"#EBF0F8\",\"ticks\":\"\"}},\"scene\":{\"xaxis\":{\"backgroundcolor\":\"white\",\"gridcolor\":\"#DFE8F3\",\"gridwidth\":2,\"linecolor\":\"#EBF0F8\",\"showbackground\":true,\"ticks\":\"\",\"zerolinecolor\":\"#EBF0F8\"},\"yaxis\":{\"backgroundcolor\":\"white\",\"gridcolor\":\"#DFE8F3\",\"gridwidth\":2,\"linecolor\":\"#EBF0F8\",\"showbackground\":true,\"ticks\":\"\",\"zerolinecolor\":\"#EBF0F8\"},\"zaxis\":{\"backgroundcolor\":\"white\",\"gridcolor\":\"#DFE8F3\",\"gridwidth\":2,\"linecolor\":\"#EBF0F8\",\"showbackground\":true,\"ticks\":\"\",\"zerolinecolor\":\"#EBF0F8\"}},\"shapedefaults\":{\"line\":{\"color\":\"#2a3f5f\"}},\"ternary\":{\"aaxis\":{\"gridcolor\":\"#DFE8F3\",\"linecolor\":\"#A2B1C6\",\"ticks\":\"\"},\"baxis\":{\"gridcolor\":\"#DFE8F3\",\"linecolor\":\"#A2B1C6\",\"ticks\":\"\"},\"bgcolor\":\"white\",\"caxis\":{\"gridcolor\":\"#DFE8F3\",\"linecolor\":\"#A2B1C6\",\"ticks\":\"\"}},\"title\":{\"x\":0.05},\"xaxis\":{\"automargin\":true,\"gridcolor\":\"#EBF0F8\",\"linecolor\":\"#EBF0F8\",\"ticks\":\"\",\"title\":{\"standoff\":15},\"zerolinecolor\":\"#EBF0F8\",\"zerolinewidth\":2},\"yaxis\":{\"automargin\":true,\"gridcolor\":\"#EBF0F8\",\"linecolor\":\"#EBF0F8\",\"ticks\":\"\",\"title\":{\"standoff\":15},\"zerolinecolor\":\"#EBF0F8\",\"zerolinewidth\":2}}},\"title\":{\"text\":\"Performance Analysis per Campaign\"},\"xaxis\":{\"title\":{\"text\":\"Campaigns\"}},\"yaxis\":{\"title\":{\"text\":\"Metric Values\"}},\"barmode\":\"group\"},                        {\"responsive\": true}                    ).then(function(){\n",
       "                            \n",
       "var gd = document.getElementById('5e73fe36-6cab-4ef6-bdd7-1117f9ebaddc');\n",
       "var x = new MutationObserver(function (mutations, observer) {{\n",
       "        var display = window.getComputedStyle(gd).display;\n",
       "        if (!display || display === 'none') {{\n",
       "            console.log([gd, 'removed!']);\n",
       "            Plotly.purge(gd);\n",
       "            observer.disconnect();\n",
       "        }}\n",
       "}});\n",
       "\n",
       "// Listen for the removal of the full notebook cells\n",
       "var notebookContainer = gd.closest('#notebook-container');\n",
       "if (notebookContainer) {{\n",
       "    x.observe(notebookContainer, {childList: true});\n",
       "}}\n",
       "\n",
       "// Listen for the clearing of the current output cell\n",
       "var outputEl = gd.closest('.output');\n",
       "if (outputEl) {{\n",
       "    x.observe(outputEl, {childList: true});\n",
       "}}\n",
       "\n",
       "                        })                };                });            </script>        </div>"
      ]
     },
     "metadata": {},
     "output_type": "display_data"
    }
   ],
   "source": [
    "fig = go.Figure()\n",
    "\n",
    "fig.add_trace(go.Bar(x=campaign_per[\"Campaign\"],y=campaign_per[\"Cost\"],\n",
    "                     name=\"Cost\",marker_color=\"orange\"))\n",
    "\n",
    "fig.add_trace(go.Bar(x=campaign_per[\"Campaign\"],y=campaign_per[\"Conversions\"],\n",
    "                     name=\"Conversions\",marker_color=\"green\"))\n",
    "\n",
    "fig.add_trace(go.Bar(x=campaign_per[\"Campaign\"],y=campaign_per[\"ROAS\"],\n",
    "                     name=\"ROAS\",marker_color=\"blue\"))\n",
    "\n",
    "fig.add_trace(go.Bar(x=campaign_per[\"Campaign\"],y=campaign_per[\"Clicks\"],\n",
    "                     name=\"Clicks\",marker_color=\"red\"))\n",
    "\n",
    "fig.add_trace(go.Scatter(x=campaign_per[\"Campaign\"],y=campaign_per[\"Avg. CPC\"],\n",
    "                         name=\"CPC (€)\",mode=\"lines+markers\",marker=dict(color=\"purple\", size=8)))\n",
    "\n",
    "fig.update_layout(\n",
    "    title=\"Performance Analysis per Campaign\",\n",
    "    xaxis_title=\"Campaigns\",\n",
    "    yaxis_title=\"Metric Values\",\n",
    "    barmode=\"group\",  \n",
    "    template=\"plotly_white\")\n",
    "\n",
    "fig.show()"
   ]
  },
  {
   "cell_type": "markdown",
   "id": "0ffe1fa5",
   "metadata": {},
   "source": [
    "Pie chart (ROAS)"
   ]
  },
  {
   "cell_type": "code",
   "execution_count": 41,
   "id": "bcc07a1b",
   "metadata": {},
   "outputs": [
    {
     "data": {
      "application/vnd.plotly.v1+json": {
       "config": {
        "plotlyServerURL": "https://plot.ly"
       },
       "data": [
        {
         "insidetextorientation": "radial",
         "labels": [
          1,
          3,
          7,
          15
         ],
         "marker": {
          "colors": [
           "#636EFA",
           "#EF553B",
           "#00CC96",
           "#AB63FA",
           "#FFA15A"
          ]
         },
         "textinfo": "label+percent",
         "type": "pie",
         "values": [
          95.47974887527033,
          14.742007851934941,
          3.42965026840367,
          16.878133651847914
         ]
        }
       ],
       "layout": {
        "template": {
         "data": {
          "bar": [
           {
            "error_x": {
             "color": "#2a3f5f"
            },
            "error_y": {
             "color": "#2a3f5f"
            },
            "marker": {
             "line": {
              "color": "white",
              "width": 0.5
             },
             "pattern": {
              "fillmode": "overlay",
              "size": 10,
              "solidity": 0.2
             }
            },
            "type": "bar"
           }
          ],
          "barpolar": [
           {
            "marker": {
             "line": {
              "color": "white",
              "width": 0.5
             },
             "pattern": {
              "fillmode": "overlay",
              "size": 10,
              "solidity": 0.2
             }
            },
            "type": "barpolar"
           }
          ],
          "carpet": [
           {
            "aaxis": {
             "endlinecolor": "#2a3f5f",
             "gridcolor": "#C8D4E3",
             "linecolor": "#C8D4E3",
             "minorgridcolor": "#C8D4E3",
             "startlinecolor": "#2a3f5f"
            },
            "baxis": {
             "endlinecolor": "#2a3f5f",
             "gridcolor": "#C8D4E3",
             "linecolor": "#C8D4E3",
             "minorgridcolor": "#C8D4E3",
             "startlinecolor": "#2a3f5f"
            },
            "type": "carpet"
           }
          ],
          "choropleth": [
           {
            "colorbar": {
             "outlinewidth": 0,
             "ticks": ""
            },
            "type": "choropleth"
           }
          ],
          "contour": [
           {
            "colorbar": {
             "outlinewidth": 0,
             "ticks": ""
            },
            "colorscale": [
             [
              0,
              "#0d0887"
             ],
             [
              0.1111111111111111,
              "#46039f"
             ],
             [
              0.2222222222222222,
              "#7201a8"
             ],
             [
              0.3333333333333333,
              "#9c179e"
             ],
             [
              0.4444444444444444,
              "#bd3786"
             ],
             [
              0.5555555555555556,
              "#d8576b"
             ],
             [
              0.6666666666666666,
              "#ed7953"
             ],
             [
              0.7777777777777778,
              "#fb9f3a"
             ],
             [
              0.8888888888888888,
              "#fdca26"
             ],
             [
              1,
              "#f0f921"
             ]
            ],
            "type": "contour"
           }
          ],
          "contourcarpet": [
           {
            "colorbar": {
             "outlinewidth": 0,
             "ticks": ""
            },
            "type": "contourcarpet"
           }
          ],
          "heatmap": [
           {
            "colorbar": {
             "outlinewidth": 0,
             "ticks": ""
            },
            "colorscale": [
             [
              0,
              "#0d0887"
             ],
             [
              0.1111111111111111,
              "#46039f"
             ],
             [
              0.2222222222222222,
              "#7201a8"
             ],
             [
              0.3333333333333333,
              "#9c179e"
             ],
             [
              0.4444444444444444,
              "#bd3786"
             ],
             [
              0.5555555555555556,
              "#d8576b"
             ],
             [
              0.6666666666666666,
              "#ed7953"
             ],
             [
              0.7777777777777778,
              "#fb9f3a"
             ],
             [
              0.8888888888888888,
              "#fdca26"
             ],
             [
              1,
              "#f0f921"
             ]
            ],
            "type": "heatmap"
           }
          ],
          "heatmapgl": [
           {
            "colorbar": {
             "outlinewidth": 0,
             "ticks": ""
            },
            "colorscale": [
             [
              0,
              "#0d0887"
             ],
             [
              0.1111111111111111,
              "#46039f"
             ],
             [
              0.2222222222222222,
              "#7201a8"
             ],
             [
              0.3333333333333333,
              "#9c179e"
             ],
             [
              0.4444444444444444,
              "#bd3786"
             ],
             [
              0.5555555555555556,
              "#d8576b"
             ],
             [
              0.6666666666666666,
              "#ed7953"
             ],
             [
              0.7777777777777778,
              "#fb9f3a"
             ],
             [
              0.8888888888888888,
              "#fdca26"
             ],
             [
              1,
              "#f0f921"
             ]
            ],
            "type": "heatmapgl"
           }
          ],
          "histogram": [
           {
            "marker": {
             "pattern": {
              "fillmode": "overlay",
              "size": 10,
              "solidity": 0.2
             }
            },
            "type": "histogram"
           }
          ],
          "histogram2d": [
           {
            "colorbar": {
             "outlinewidth": 0,
             "ticks": ""
            },
            "colorscale": [
             [
              0,
              "#0d0887"
             ],
             [
              0.1111111111111111,
              "#46039f"
             ],
             [
              0.2222222222222222,
              "#7201a8"
             ],
             [
              0.3333333333333333,
              "#9c179e"
             ],
             [
              0.4444444444444444,
              "#bd3786"
             ],
             [
              0.5555555555555556,
              "#d8576b"
             ],
             [
              0.6666666666666666,
              "#ed7953"
             ],
             [
              0.7777777777777778,
              "#fb9f3a"
             ],
             [
              0.8888888888888888,
              "#fdca26"
             ],
             [
              1,
              "#f0f921"
             ]
            ],
            "type": "histogram2d"
           }
          ],
          "histogram2dcontour": [
           {
            "colorbar": {
             "outlinewidth": 0,
             "ticks": ""
            },
            "colorscale": [
             [
              0,
              "#0d0887"
             ],
             [
              0.1111111111111111,
              "#46039f"
             ],
             [
              0.2222222222222222,
              "#7201a8"
             ],
             [
              0.3333333333333333,
              "#9c179e"
             ],
             [
              0.4444444444444444,
              "#bd3786"
             ],
             [
              0.5555555555555556,
              "#d8576b"
             ],
             [
              0.6666666666666666,
              "#ed7953"
             ],
             [
              0.7777777777777778,
              "#fb9f3a"
             ],
             [
              0.8888888888888888,
              "#fdca26"
             ],
             [
              1,
              "#f0f921"
             ]
            ],
            "type": "histogram2dcontour"
           }
          ],
          "mesh3d": [
           {
            "colorbar": {
             "outlinewidth": 0,
             "ticks": ""
            },
            "type": "mesh3d"
           }
          ],
          "parcoords": [
           {
            "line": {
             "colorbar": {
              "outlinewidth": 0,
              "ticks": ""
             }
            },
            "type": "parcoords"
           }
          ],
          "pie": [
           {
            "automargin": true,
            "type": "pie"
           }
          ],
          "scatter": [
           {
            "fillpattern": {
             "fillmode": "overlay",
             "size": 10,
             "solidity": 0.2
            },
            "type": "scatter"
           }
          ],
          "scatter3d": [
           {
            "line": {
             "colorbar": {
              "outlinewidth": 0,
              "ticks": ""
             }
            },
            "marker": {
             "colorbar": {
              "outlinewidth": 0,
              "ticks": ""
             }
            },
            "type": "scatter3d"
           }
          ],
          "scattercarpet": [
           {
            "marker": {
             "colorbar": {
              "outlinewidth": 0,
              "ticks": ""
             }
            },
            "type": "scattercarpet"
           }
          ],
          "scattergeo": [
           {
            "marker": {
             "colorbar": {
              "outlinewidth": 0,
              "ticks": ""
             }
            },
            "type": "scattergeo"
           }
          ],
          "scattergl": [
           {
            "marker": {
             "colorbar": {
              "outlinewidth": 0,
              "ticks": ""
             }
            },
            "type": "scattergl"
           }
          ],
          "scattermapbox": [
           {
            "marker": {
             "colorbar": {
              "outlinewidth": 0,
              "ticks": ""
             }
            },
            "type": "scattermapbox"
           }
          ],
          "scatterpolar": [
           {
            "marker": {
             "colorbar": {
              "outlinewidth": 0,
              "ticks": ""
             }
            },
            "type": "scatterpolar"
           }
          ],
          "scatterpolargl": [
           {
            "marker": {
             "colorbar": {
              "outlinewidth": 0,
              "ticks": ""
             }
            },
            "type": "scatterpolargl"
           }
          ],
          "scatterternary": [
           {
            "marker": {
             "colorbar": {
              "outlinewidth": 0,
              "ticks": ""
             }
            },
            "type": "scatterternary"
           }
          ],
          "surface": [
           {
            "colorbar": {
             "outlinewidth": 0,
             "ticks": ""
            },
            "colorscale": [
             [
              0,
              "#0d0887"
             ],
             [
              0.1111111111111111,
              "#46039f"
             ],
             [
              0.2222222222222222,
              "#7201a8"
             ],
             [
              0.3333333333333333,
              "#9c179e"
             ],
             [
              0.4444444444444444,
              "#bd3786"
             ],
             [
              0.5555555555555556,
              "#d8576b"
             ],
             [
              0.6666666666666666,
              "#ed7953"
             ],
             [
              0.7777777777777778,
              "#fb9f3a"
             ],
             [
              0.8888888888888888,
              "#fdca26"
             ],
             [
              1,
              "#f0f921"
             ]
            ],
            "type": "surface"
           }
          ],
          "table": [
           {
            "cells": {
             "fill": {
              "color": "#EBF0F8"
             },
             "line": {
              "color": "white"
             }
            },
            "header": {
             "fill": {
              "color": "#C8D4E3"
             },
             "line": {
              "color": "white"
             }
            },
            "type": "table"
           }
          ]
         },
         "layout": {
          "annotationdefaults": {
           "arrowcolor": "#2a3f5f",
           "arrowhead": 0,
           "arrowwidth": 1
          },
          "autotypenumbers": "strict",
          "coloraxis": {
           "colorbar": {
            "outlinewidth": 0,
            "ticks": ""
           }
          },
          "colorscale": {
           "diverging": [
            [
             0,
             "#8e0152"
            ],
            [
             0.1,
             "#c51b7d"
            ],
            [
             0.2,
             "#de77ae"
            ],
            [
             0.3,
             "#f1b6da"
            ],
            [
             0.4,
             "#fde0ef"
            ],
            [
             0.5,
             "#f7f7f7"
            ],
            [
             0.6,
             "#e6f5d0"
            ],
            [
             0.7,
             "#b8e186"
            ],
            [
             0.8,
             "#7fbc41"
            ],
            [
             0.9,
             "#4d9221"
            ],
            [
             1,
             "#276419"
            ]
           ],
           "sequential": [
            [
             0,
             "#0d0887"
            ],
            [
             0.1111111111111111,
             "#46039f"
            ],
            [
             0.2222222222222222,
             "#7201a8"
            ],
            [
             0.3333333333333333,
             "#9c179e"
            ],
            [
             0.4444444444444444,
             "#bd3786"
            ],
            [
             0.5555555555555556,
             "#d8576b"
            ],
            [
             0.6666666666666666,
             "#ed7953"
            ],
            [
             0.7777777777777778,
             "#fb9f3a"
            ],
            [
             0.8888888888888888,
             "#fdca26"
            ],
            [
             1,
             "#f0f921"
            ]
           ],
           "sequentialminus": [
            [
             0,
             "#0d0887"
            ],
            [
             0.1111111111111111,
             "#46039f"
            ],
            [
             0.2222222222222222,
             "#7201a8"
            ],
            [
             0.3333333333333333,
             "#9c179e"
            ],
            [
             0.4444444444444444,
             "#bd3786"
            ],
            [
             0.5555555555555556,
             "#d8576b"
            ],
            [
             0.6666666666666666,
             "#ed7953"
            ],
            [
             0.7777777777777778,
             "#fb9f3a"
            ],
            [
             0.8888888888888888,
             "#fdca26"
            ],
            [
             1,
             "#f0f921"
            ]
           ]
          },
          "colorway": [
           "#636efa",
           "#EF553B",
           "#00cc96",
           "#ab63fa",
           "#FFA15A",
           "#19d3f3",
           "#FF6692",
           "#B6E880",
           "#FF97FF",
           "#FECB52"
          ],
          "font": {
           "color": "#2a3f5f"
          },
          "geo": {
           "bgcolor": "white",
           "lakecolor": "white",
           "landcolor": "white",
           "showlakes": true,
           "showland": true,
           "subunitcolor": "#C8D4E3"
          },
          "hoverlabel": {
           "align": "left"
          },
          "hovermode": "closest",
          "mapbox": {
           "style": "light"
          },
          "paper_bgcolor": "white",
          "plot_bgcolor": "white",
          "polar": {
           "angularaxis": {
            "gridcolor": "#EBF0F8",
            "linecolor": "#EBF0F8",
            "ticks": ""
           },
           "bgcolor": "white",
           "radialaxis": {
            "gridcolor": "#EBF0F8",
            "linecolor": "#EBF0F8",
            "ticks": ""
           }
          },
          "scene": {
           "xaxis": {
            "backgroundcolor": "white",
            "gridcolor": "#DFE8F3",
            "gridwidth": 2,
            "linecolor": "#EBF0F8",
            "showbackground": true,
            "ticks": "",
            "zerolinecolor": "#EBF0F8"
           },
           "yaxis": {
            "backgroundcolor": "white",
            "gridcolor": "#DFE8F3",
            "gridwidth": 2,
            "linecolor": "#EBF0F8",
            "showbackground": true,
            "ticks": "",
            "zerolinecolor": "#EBF0F8"
           },
           "zaxis": {
            "backgroundcolor": "white",
            "gridcolor": "#DFE8F3",
            "gridwidth": 2,
            "linecolor": "#EBF0F8",
            "showbackground": true,
            "ticks": "",
            "zerolinecolor": "#EBF0F8"
           }
          },
          "shapedefaults": {
           "line": {
            "color": "#2a3f5f"
           }
          },
          "ternary": {
           "aaxis": {
            "gridcolor": "#DFE8F3",
            "linecolor": "#A2B1C6",
            "ticks": ""
           },
           "baxis": {
            "gridcolor": "#DFE8F3",
            "linecolor": "#A2B1C6",
            "ticks": ""
           },
           "bgcolor": "white",
           "caxis": {
            "gridcolor": "#DFE8F3",
            "linecolor": "#A2B1C6",
            "ticks": ""
           }
          },
          "title": {
           "x": 0.05
          },
          "xaxis": {
           "automargin": true,
           "gridcolor": "#EBF0F8",
           "linecolor": "#EBF0F8",
           "ticks": "",
           "title": {
            "standoff": 15
           },
           "zerolinecolor": "#EBF0F8",
           "zerolinewidth": 2
          },
          "yaxis": {
           "automargin": true,
           "gridcolor": "#EBF0F8",
           "linecolor": "#EBF0F8",
           "ticks": "",
           "title": {
            "standoff": 15
           },
           "zerolinecolor": "#EBF0F8",
           "zerolinewidth": 2
          }
         }
        },
        "title": {
         "text": "ROAS Distribution per Campaign"
        }
       }
      },
      "text/html": [
       "<div>                            <div id=\"498a7616-79ee-46f4-8593-5cd158986755\" class=\"plotly-graph-div\" style=\"height:525px; width:100%;\"></div>            <script type=\"text/javascript\">                require([\"plotly\"], function(Plotly) {                    window.PLOTLYENV=window.PLOTLYENV || {};                                    if (document.getElementById(\"498a7616-79ee-46f4-8593-5cd158986755\")) {                    Plotly.newPlot(                        \"498a7616-79ee-46f4-8593-5cd158986755\",                        [{\"insidetextorientation\":\"radial\",\"labels\":[1,3,7,15],\"marker\":{\"colors\":[\"#636EFA\",\"#EF553B\",\"#00CC96\",\"#AB63FA\",\"#FFA15A\"]},\"textinfo\":\"label+percent\",\"values\":[95.47974887527033,14.742007851934941,3.42965026840367,16.878133651847914],\"type\":\"pie\"}],                        {\"template\":{\"data\":{\"barpolar\":[{\"marker\":{\"line\":{\"color\":\"white\",\"width\":0.5},\"pattern\":{\"fillmode\":\"overlay\",\"size\":10,\"solidity\":0.2}},\"type\":\"barpolar\"}],\"bar\":[{\"error_x\":{\"color\":\"#2a3f5f\"},\"error_y\":{\"color\":\"#2a3f5f\"},\"marker\":{\"line\":{\"color\":\"white\",\"width\":0.5},\"pattern\":{\"fillmode\":\"overlay\",\"size\":10,\"solidity\":0.2}},\"type\":\"bar\"}],\"carpet\":[{\"aaxis\":{\"endlinecolor\":\"#2a3f5f\",\"gridcolor\":\"#C8D4E3\",\"linecolor\":\"#C8D4E3\",\"minorgridcolor\":\"#C8D4E3\",\"startlinecolor\":\"#2a3f5f\"},\"baxis\":{\"endlinecolor\":\"#2a3f5f\",\"gridcolor\":\"#C8D4E3\",\"linecolor\":\"#C8D4E3\",\"minorgridcolor\":\"#C8D4E3\",\"startlinecolor\":\"#2a3f5f\"},\"type\":\"carpet\"}],\"choropleth\":[{\"colorbar\":{\"outlinewidth\":0,\"ticks\":\"\"},\"type\":\"choropleth\"}],\"contourcarpet\":[{\"colorbar\":{\"outlinewidth\":0,\"ticks\":\"\"},\"type\":\"contourcarpet\"}],\"contour\":[{\"colorbar\":{\"outlinewidth\":0,\"ticks\":\"\"},\"colorscale\":[[0.0,\"#0d0887\"],[0.1111111111111111,\"#46039f\"],[0.2222222222222222,\"#7201a8\"],[0.3333333333333333,\"#9c179e\"],[0.4444444444444444,\"#bd3786\"],[0.5555555555555556,\"#d8576b\"],[0.6666666666666666,\"#ed7953\"],[0.7777777777777778,\"#fb9f3a\"],[0.8888888888888888,\"#fdca26\"],[1.0,\"#f0f921\"]],\"type\":\"contour\"}],\"heatmapgl\":[{\"colorbar\":{\"outlinewidth\":0,\"ticks\":\"\"},\"colorscale\":[[0.0,\"#0d0887\"],[0.1111111111111111,\"#46039f\"],[0.2222222222222222,\"#7201a8\"],[0.3333333333333333,\"#9c179e\"],[0.4444444444444444,\"#bd3786\"],[0.5555555555555556,\"#d8576b\"],[0.6666666666666666,\"#ed7953\"],[0.7777777777777778,\"#fb9f3a\"],[0.8888888888888888,\"#fdca26\"],[1.0,\"#f0f921\"]],\"type\":\"heatmapgl\"}],\"heatmap\":[{\"colorbar\":{\"outlinewidth\":0,\"ticks\":\"\"},\"colorscale\":[[0.0,\"#0d0887\"],[0.1111111111111111,\"#46039f\"],[0.2222222222222222,\"#7201a8\"],[0.3333333333333333,\"#9c179e\"],[0.4444444444444444,\"#bd3786\"],[0.5555555555555556,\"#d8576b\"],[0.6666666666666666,\"#ed7953\"],[0.7777777777777778,\"#fb9f3a\"],[0.8888888888888888,\"#fdca26\"],[1.0,\"#f0f921\"]],\"type\":\"heatmap\"}],\"histogram2dcontour\":[{\"colorbar\":{\"outlinewidth\":0,\"ticks\":\"\"},\"colorscale\":[[0.0,\"#0d0887\"],[0.1111111111111111,\"#46039f\"],[0.2222222222222222,\"#7201a8\"],[0.3333333333333333,\"#9c179e\"],[0.4444444444444444,\"#bd3786\"],[0.5555555555555556,\"#d8576b\"],[0.6666666666666666,\"#ed7953\"],[0.7777777777777778,\"#fb9f3a\"],[0.8888888888888888,\"#fdca26\"],[1.0,\"#f0f921\"]],\"type\":\"histogram2dcontour\"}],\"histogram2d\":[{\"colorbar\":{\"outlinewidth\":0,\"ticks\":\"\"},\"colorscale\":[[0.0,\"#0d0887\"],[0.1111111111111111,\"#46039f\"],[0.2222222222222222,\"#7201a8\"],[0.3333333333333333,\"#9c179e\"],[0.4444444444444444,\"#bd3786\"],[0.5555555555555556,\"#d8576b\"],[0.6666666666666666,\"#ed7953\"],[0.7777777777777778,\"#fb9f3a\"],[0.8888888888888888,\"#fdca26\"],[1.0,\"#f0f921\"]],\"type\":\"histogram2d\"}],\"histogram\":[{\"marker\":{\"pattern\":{\"fillmode\":\"overlay\",\"size\":10,\"solidity\":0.2}},\"type\":\"histogram\"}],\"mesh3d\":[{\"colorbar\":{\"outlinewidth\":0,\"ticks\":\"\"},\"type\":\"mesh3d\"}],\"parcoords\":[{\"line\":{\"colorbar\":{\"outlinewidth\":0,\"ticks\":\"\"}},\"type\":\"parcoords\"}],\"pie\":[{\"automargin\":true,\"type\":\"pie\"}],\"scatter3d\":[{\"line\":{\"colorbar\":{\"outlinewidth\":0,\"ticks\":\"\"}},\"marker\":{\"colorbar\":{\"outlinewidth\":0,\"ticks\":\"\"}},\"type\":\"scatter3d\"}],\"scattercarpet\":[{\"marker\":{\"colorbar\":{\"outlinewidth\":0,\"ticks\":\"\"}},\"type\":\"scattercarpet\"}],\"scattergeo\":[{\"marker\":{\"colorbar\":{\"outlinewidth\":0,\"ticks\":\"\"}},\"type\":\"scattergeo\"}],\"scattergl\":[{\"marker\":{\"colorbar\":{\"outlinewidth\":0,\"ticks\":\"\"}},\"type\":\"scattergl\"}],\"scattermapbox\":[{\"marker\":{\"colorbar\":{\"outlinewidth\":0,\"ticks\":\"\"}},\"type\":\"scattermapbox\"}],\"scatterpolargl\":[{\"marker\":{\"colorbar\":{\"outlinewidth\":0,\"ticks\":\"\"}},\"type\":\"scatterpolargl\"}],\"scatterpolar\":[{\"marker\":{\"colorbar\":{\"outlinewidth\":0,\"ticks\":\"\"}},\"type\":\"scatterpolar\"}],\"scatter\":[{\"fillpattern\":{\"fillmode\":\"overlay\",\"size\":10,\"solidity\":0.2},\"type\":\"scatter\"}],\"scatterternary\":[{\"marker\":{\"colorbar\":{\"outlinewidth\":0,\"ticks\":\"\"}},\"type\":\"scatterternary\"}],\"surface\":[{\"colorbar\":{\"outlinewidth\":0,\"ticks\":\"\"},\"colorscale\":[[0.0,\"#0d0887\"],[0.1111111111111111,\"#46039f\"],[0.2222222222222222,\"#7201a8\"],[0.3333333333333333,\"#9c179e\"],[0.4444444444444444,\"#bd3786\"],[0.5555555555555556,\"#d8576b\"],[0.6666666666666666,\"#ed7953\"],[0.7777777777777778,\"#fb9f3a\"],[0.8888888888888888,\"#fdca26\"],[1.0,\"#f0f921\"]],\"type\":\"surface\"}],\"table\":[{\"cells\":{\"fill\":{\"color\":\"#EBF0F8\"},\"line\":{\"color\":\"white\"}},\"header\":{\"fill\":{\"color\":\"#C8D4E3\"},\"line\":{\"color\":\"white\"}},\"type\":\"table\"}]},\"layout\":{\"annotationdefaults\":{\"arrowcolor\":\"#2a3f5f\",\"arrowhead\":0,\"arrowwidth\":1},\"autotypenumbers\":\"strict\",\"coloraxis\":{\"colorbar\":{\"outlinewidth\":0,\"ticks\":\"\"}},\"colorscale\":{\"diverging\":[[0,\"#8e0152\"],[0.1,\"#c51b7d\"],[0.2,\"#de77ae\"],[0.3,\"#f1b6da\"],[0.4,\"#fde0ef\"],[0.5,\"#f7f7f7\"],[0.6,\"#e6f5d0\"],[0.7,\"#b8e186\"],[0.8,\"#7fbc41\"],[0.9,\"#4d9221\"],[1,\"#276419\"]],\"sequential\":[[0.0,\"#0d0887\"],[0.1111111111111111,\"#46039f\"],[0.2222222222222222,\"#7201a8\"],[0.3333333333333333,\"#9c179e\"],[0.4444444444444444,\"#bd3786\"],[0.5555555555555556,\"#d8576b\"],[0.6666666666666666,\"#ed7953\"],[0.7777777777777778,\"#fb9f3a\"],[0.8888888888888888,\"#fdca26\"],[1.0,\"#f0f921\"]],\"sequentialminus\":[[0.0,\"#0d0887\"],[0.1111111111111111,\"#46039f\"],[0.2222222222222222,\"#7201a8\"],[0.3333333333333333,\"#9c179e\"],[0.4444444444444444,\"#bd3786\"],[0.5555555555555556,\"#d8576b\"],[0.6666666666666666,\"#ed7953\"],[0.7777777777777778,\"#fb9f3a\"],[0.8888888888888888,\"#fdca26\"],[1.0,\"#f0f921\"]]},\"colorway\":[\"#636efa\",\"#EF553B\",\"#00cc96\",\"#ab63fa\",\"#FFA15A\",\"#19d3f3\",\"#FF6692\",\"#B6E880\",\"#FF97FF\",\"#FECB52\"],\"font\":{\"color\":\"#2a3f5f\"},\"geo\":{\"bgcolor\":\"white\",\"lakecolor\":\"white\",\"landcolor\":\"white\",\"showlakes\":true,\"showland\":true,\"subunitcolor\":\"#C8D4E3\"},\"hoverlabel\":{\"align\":\"left\"},\"hovermode\":\"closest\",\"mapbox\":{\"style\":\"light\"},\"paper_bgcolor\":\"white\",\"plot_bgcolor\":\"white\",\"polar\":{\"angularaxis\":{\"gridcolor\":\"#EBF0F8\",\"linecolor\":\"#EBF0F8\",\"ticks\":\"\"},\"bgcolor\":\"white\",\"radialaxis\":{\"gridcolor\":\"#EBF0F8\",\"linecolor\":\"#EBF0F8\",\"ticks\":\"\"}},\"scene\":{\"xaxis\":{\"backgroundcolor\":\"white\",\"gridcolor\":\"#DFE8F3\",\"gridwidth\":2,\"linecolor\":\"#EBF0F8\",\"showbackground\":true,\"ticks\":\"\",\"zerolinecolor\":\"#EBF0F8\"},\"yaxis\":{\"backgroundcolor\":\"white\",\"gridcolor\":\"#DFE8F3\",\"gridwidth\":2,\"linecolor\":\"#EBF0F8\",\"showbackground\":true,\"ticks\":\"\",\"zerolinecolor\":\"#EBF0F8\"},\"zaxis\":{\"backgroundcolor\":\"white\",\"gridcolor\":\"#DFE8F3\",\"gridwidth\":2,\"linecolor\":\"#EBF0F8\",\"showbackground\":true,\"ticks\":\"\",\"zerolinecolor\":\"#EBF0F8\"}},\"shapedefaults\":{\"line\":{\"color\":\"#2a3f5f\"}},\"ternary\":{\"aaxis\":{\"gridcolor\":\"#DFE8F3\",\"linecolor\":\"#A2B1C6\",\"ticks\":\"\"},\"baxis\":{\"gridcolor\":\"#DFE8F3\",\"linecolor\":\"#A2B1C6\",\"ticks\":\"\"},\"bgcolor\":\"white\",\"caxis\":{\"gridcolor\":\"#DFE8F3\",\"linecolor\":\"#A2B1C6\",\"ticks\":\"\"}},\"title\":{\"x\":0.05},\"xaxis\":{\"automargin\":true,\"gridcolor\":\"#EBF0F8\",\"linecolor\":\"#EBF0F8\",\"ticks\":\"\",\"title\":{\"standoff\":15},\"zerolinecolor\":\"#EBF0F8\",\"zerolinewidth\":2},\"yaxis\":{\"automargin\":true,\"gridcolor\":\"#EBF0F8\",\"linecolor\":\"#EBF0F8\",\"ticks\":\"\",\"title\":{\"standoff\":15},\"zerolinecolor\":\"#EBF0F8\",\"zerolinewidth\":2}}},\"title\":{\"text\":\"ROAS Distribution per Campaign\"}},                        {\"responsive\": true}                    ).then(function(){\n",
       "                            \n",
       "var gd = document.getElementById('498a7616-79ee-46f4-8593-5cd158986755');\n",
       "var x = new MutationObserver(function (mutations, observer) {{\n",
       "        var display = window.getComputedStyle(gd).display;\n",
       "        if (!display || display === 'none') {{\n",
       "            console.log([gd, 'removed!']);\n",
       "            Plotly.purge(gd);\n",
       "            observer.disconnect();\n",
       "        }}\n",
       "}});\n",
       "\n",
       "// Listen for the removal of the full notebook cells\n",
       "var notebookContainer = gd.closest('#notebook-container');\n",
       "if (notebookContainer) {{\n",
       "    x.observe(notebookContainer, {childList: true});\n",
       "}}\n",
       "\n",
       "// Listen for the clearing of the current output cell\n",
       "var outputEl = gd.closest('.output');\n",
       "if (outputEl) {{\n",
       "    x.observe(outputEl, {childList: true});\n",
       "}}\n",
       "\n",
       "                        })                };                });            </script>        </div>"
      ]
     },
     "metadata": {},
     "output_type": "display_data"
    }
   ],
   "source": [
    "fig = go.Figure()\n",
    "\n",
    "fig.add_trace(go.Pie(\n",
    "    labels=campaign_per[\"Campaign\"],\n",
    "    values=campaign_per[\"ROAS\"],\n",
    "    textinfo=\"label+percent\",\n",
    "    insidetextorientation=\"radial\",\n",
    "    marker=dict(colors=[\"#636EFA\", \"#EF553B\", \"#00CC96\", \"#AB63FA\", \"#FFA15A\"])))\n",
    "\n",
    "fig.update_layout(\n",
    "    title=\"ROAS Distribution per Campaign\",\n",
    "    template=\"plotly_white\")\n",
    "\n",
    "fig.show()"
   ]
  },
  {
   "cell_type": "markdown",
   "id": "29d8659d",
   "metadata": {},
   "source": [
    "Heatmap"
   ]
  },
  {
   "cell_type": "code",
   "execution_count": 42,
   "id": "0eb62182",
   "metadata": {},
   "outputs": [
    {
     "data": {
      "application/vnd.plotly.v1+json": {
       "config": {
        "plotlyServerURL": "https://plot.ly"
       },
       "data": [
        {
         "colorscale": [
          [
           0,
           "rgb(165,0,38)"
          ],
          [
           0.1,
           "rgb(215,48,39)"
          ],
          [
           0.2,
           "rgb(244,109,67)"
          ],
          [
           0.3,
           "rgb(253,174,97)"
          ],
          [
           0.4,
           "rgb(254,224,139)"
          ],
          [
           0.5,
           "rgb(255,255,191)"
          ],
          [
           0.6,
           "rgb(217,239,139)"
          ],
          [
           0.7,
           "rgb(166,217,106)"
          ],
          [
           0.8,
           "rgb(102,189,99)"
          ],
          [
           0.9,
           "rgb(26,152,80)"
          ],
          [
           1,
           "rgb(0,104,55)"
          ]
         ],
         "hoverinfo": "text",
         "text": [
          [
           1,
           0.01,
           1,
           0,
           0.34,
           1,
           0.74,
           1,
           1
          ],
          [
           0.01,
           0,
           0.72,
           0.21,
           0,
           0,
           0,
           0.01,
           0.12
          ],
          [
           0,
           0,
           0.44,
           1,
           0.15,
           0,
           0.07,
           0,
           0
          ],
          [
           0.93,
           1,
           0,
           0.22,
           1,
           0.47,
           1,
           0.45,
           0.15
          ]
         ],
         "texttemplate": "%{text}",
         "type": "heatmap",
         "x": [
          "Clicks",
          "Impressions",
          "CTR",
          "Avg. CPC",
          "Cost",
          "Conversions",
          "Conversion rate",
          "Total conv. value",
          "ROAS"
         ],
         "y": [
          1,
          3,
          7,
          15
         ],
         "z": [
          [
           1,
           0.009493319692114997,
           1,
           0,
           0.33505788685040366,
           1,
           0.7425404383462698,
           1,
           1
          ],
          [
           0.012441801937838178,
           0,
           0.7203233925587171,
           0.20673395992404817,
           0,
           0.0044588569112282124,
           0,
           0.009879939401501801,
           0.12289348685920261
          ],
          [
           0,
           0.00041142583748919706,
           0.4399971515102749,
           1,
           0.15124135548912465,
           0,
           0.06820536175372434,
           0,
           0
          ],
          [
           0.9327419151881213,
           1,
           0,
           0.2238988438071801,
           1,
           0.4714227807053101,
           1,
           0.4491189202952278,
           0.14609960865855096
          ]
         ]
        }
       ],
       "layout": {
        "template": {
         "data": {
          "bar": [
           {
            "error_x": {
             "color": "#2a3f5f"
            },
            "error_y": {
             "color": "#2a3f5f"
            },
            "marker": {
             "line": {
              "color": "white",
              "width": 0.5
             },
             "pattern": {
              "fillmode": "overlay",
              "size": 10,
              "solidity": 0.2
             }
            },
            "type": "bar"
           }
          ],
          "barpolar": [
           {
            "marker": {
             "line": {
              "color": "white",
              "width": 0.5
             },
             "pattern": {
              "fillmode": "overlay",
              "size": 10,
              "solidity": 0.2
             }
            },
            "type": "barpolar"
           }
          ],
          "carpet": [
           {
            "aaxis": {
             "endlinecolor": "#2a3f5f",
             "gridcolor": "#C8D4E3",
             "linecolor": "#C8D4E3",
             "minorgridcolor": "#C8D4E3",
             "startlinecolor": "#2a3f5f"
            },
            "baxis": {
             "endlinecolor": "#2a3f5f",
             "gridcolor": "#C8D4E3",
             "linecolor": "#C8D4E3",
             "minorgridcolor": "#C8D4E3",
             "startlinecolor": "#2a3f5f"
            },
            "type": "carpet"
           }
          ],
          "choropleth": [
           {
            "colorbar": {
             "outlinewidth": 0,
             "ticks": ""
            },
            "type": "choropleth"
           }
          ],
          "contour": [
           {
            "colorbar": {
             "outlinewidth": 0,
             "ticks": ""
            },
            "colorscale": [
             [
              0,
              "#0d0887"
             ],
             [
              0.1111111111111111,
              "#46039f"
             ],
             [
              0.2222222222222222,
              "#7201a8"
             ],
             [
              0.3333333333333333,
              "#9c179e"
             ],
             [
              0.4444444444444444,
              "#bd3786"
             ],
             [
              0.5555555555555556,
              "#d8576b"
             ],
             [
              0.6666666666666666,
              "#ed7953"
             ],
             [
              0.7777777777777778,
              "#fb9f3a"
             ],
             [
              0.8888888888888888,
              "#fdca26"
             ],
             [
              1,
              "#f0f921"
             ]
            ],
            "type": "contour"
           }
          ],
          "contourcarpet": [
           {
            "colorbar": {
             "outlinewidth": 0,
             "ticks": ""
            },
            "type": "contourcarpet"
           }
          ],
          "heatmap": [
           {
            "colorbar": {
             "outlinewidth": 0,
             "ticks": ""
            },
            "colorscale": [
             [
              0,
              "#0d0887"
             ],
             [
              0.1111111111111111,
              "#46039f"
             ],
             [
              0.2222222222222222,
              "#7201a8"
             ],
             [
              0.3333333333333333,
              "#9c179e"
             ],
             [
              0.4444444444444444,
              "#bd3786"
             ],
             [
              0.5555555555555556,
              "#d8576b"
             ],
             [
              0.6666666666666666,
              "#ed7953"
             ],
             [
              0.7777777777777778,
              "#fb9f3a"
             ],
             [
              0.8888888888888888,
              "#fdca26"
             ],
             [
              1,
              "#f0f921"
             ]
            ],
            "type": "heatmap"
           }
          ],
          "heatmapgl": [
           {
            "colorbar": {
             "outlinewidth": 0,
             "ticks": ""
            },
            "colorscale": [
             [
              0,
              "#0d0887"
             ],
             [
              0.1111111111111111,
              "#46039f"
             ],
             [
              0.2222222222222222,
              "#7201a8"
             ],
             [
              0.3333333333333333,
              "#9c179e"
             ],
             [
              0.4444444444444444,
              "#bd3786"
             ],
             [
              0.5555555555555556,
              "#d8576b"
             ],
             [
              0.6666666666666666,
              "#ed7953"
             ],
             [
              0.7777777777777778,
              "#fb9f3a"
             ],
             [
              0.8888888888888888,
              "#fdca26"
             ],
             [
              1,
              "#f0f921"
             ]
            ],
            "type": "heatmapgl"
           }
          ],
          "histogram": [
           {
            "marker": {
             "pattern": {
              "fillmode": "overlay",
              "size": 10,
              "solidity": 0.2
             }
            },
            "type": "histogram"
           }
          ],
          "histogram2d": [
           {
            "colorbar": {
             "outlinewidth": 0,
             "ticks": ""
            },
            "colorscale": [
             [
              0,
              "#0d0887"
             ],
             [
              0.1111111111111111,
              "#46039f"
             ],
             [
              0.2222222222222222,
              "#7201a8"
             ],
             [
              0.3333333333333333,
              "#9c179e"
             ],
             [
              0.4444444444444444,
              "#bd3786"
             ],
             [
              0.5555555555555556,
              "#d8576b"
             ],
             [
              0.6666666666666666,
              "#ed7953"
             ],
             [
              0.7777777777777778,
              "#fb9f3a"
             ],
             [
              0.8888888888888888,
              "#fdca26"
             ],
             [
              1,
              "#f0f921"
             ]
            ],
            "type": "histogram2d"
           }
          ],
          "histogram2dcontour": [
           {
            "colorbar": {
             "outlinewidth": 0,
             "ticks": ""
            },
            "colorscale": [
             [
              0,
              "#0d0887"
             ],
             [
              0.1111111111111111,
              "#46039f"
             ],
             [
              0.2222222222222222,
              "#7201a8"
             ],
             [
              0.3333333333333333,
              "#9c179e"
             ],
             [
              0.4444444444444444,
              "#bd3786"
             ],
             [
              0.5555555555555556,
              "#d8576b"
             ],
             [
              0.6666666666666666,
              "#ed7953"
             ],
             [
              0.7777777777777778,
              "#fb9f3a"
             ],
             [
              0.8888888888888888,
              "#fdca26"
             ],
             [
              1,
              "#f0f921"
             ]
            ],
            "type": "histogram2dcontour"
           }
          ],
          "mesh3d": [
           {
            "colorbar": {
             "outlinewidth": 0,
             "ticks": ""
            },
            "type": "mesh3d"
           }
          ],
          "parcoords": [
           {
            "line": {
             "colorbar": {
              "outlinewidth": 0,
              "ticks": ""
             }
            },
            "type": "parcoords"
           }
          ],
          "pie": [
           {
            "automargin": true,
            "type": "pie"
           }
          ],
          "scatter": [
           {
            "fillpattern": {
             "fillmode": "overlay",
             "size": 10,
             "solidity": 0.2
            },
            "type": "scatter"
           }
          ],
          "scatter3d": [
           {
            "line": {
             "colorbar": {
              "outlinewidth": 0,
              "ticks": ""
             }
            },
            "marker": {
             "colorbar": {
              "outlinewidth": 0,
              "ticks": ""
             }
            },
            "type": "scatter3d"
           }
          ],
          "scattercarpet": [
           {
            "marker": {
             "colorbar": {
              "outlinewidth": 0,
              "ticks": ""
             }
            },
            "type": "scattercarpet"
           }
          ],
          "scattergeo": [
           {
            "marker": {
             "colorbar": {
              "outlinewidth": 0,
              "ticks": ""
             }
            },
            "type": "scattergeo"
           }
          ],
          "scattergl": [
           {
            "marker": {
             "colorbar": {
              "outlinewidth": 0,
              "ticks": ""
             }
            },
            "type": "scattergl"
           }
          ],
          "scattermapbox": [
           {
            "marker": {
             "colorbar": {
              "outlinewidth": 0,
              "ticks": ""
             }
            },
            "type": "scattermapbox"
           }
          ],
          "scatterpolar": [
           {
            "marker": {
             "colorbar": {
              "outlinewidth": 0,
              "ticks": ""
             }
            },
            "type": "scatterpolar"
           }
          ],
          "scatterpolargl": [
           {
            "marker": {
             "colorbar": {
              "outlinewidth": 0,
              "ticks": ""
             }
            },
            "type": "scatterpolargl"
           }
          ],
          "scatterternary": [
           {
            "marker": {
             "colorbar": {
              "outlinewidth": 0,
              "ticks": ""
             }
            },
            "type": "scatterternary"
           }
          ],
          "surface": [
           {
            "colorbar": {
             "outlinewidth": 0,
             "ticks": ""
            },
            "colorscale": [
             [
              0,
              "#0d0887"
             ],
             [
              0.1111111111111111,
              "#46039f"
             ],
             [
              0.2222222222222222,
              "#7201a8"
             ],
             [
              0.3333333333333333,
              "#9c179e"
             ],
             [
              0.4444444444444444,
              "#bd3786"
             ],
             [
              0.5555555555555556,
              "#d8576b"
             ],
             [
              0.6666666666666666,
              "#ed7953"
             ],
             [
              0.7777777777777778,
              "#fb9f3a"
             ],
             [
              0.8888888888888888,
              "#fdca26"
             ],
             [
              1,
              "#f0f921"
             ]
            ],
            "type": "surface"
           }
          ],
          "table": [
           {
            "cells": {
             "fill": {
              "color": "#EBF0F8"
             },
             "line": {
              "color": "white"
             }
            },
            "header": {
             "fill": {
              "color": "#C8D4E3"
             },
             "line": {
              "color": "white"
             }
            },
            "type": "table"
           }
          ]
         },
         "layout": {
          "annotationdefaults": {
           "arrowcolor": "#2a3f5f",
           "arrowhead": 0,
           "arrowwidth": 1
          },
          "autotypenumbers": "strict",
          "coloraxis": {
           "colorbar": {
            "outlinewidth": 0,
            "ticks": ""
           }
          },
          "colorscale": {
           "diverging": [
            [
             0,
             "#8e0152"
            ],
            [
             0.1,
             "#c51b7d"
            ],
            [
             0.2,
             "#de77ae"
            ],
            [
             0.3,
             "#f1b6da"
            ],
            [
             0.4,
             "#fde0ef"
            ],
            [
             0.5,
             "#f7f7f7"
            ],
            [
             0.6,
             "#e6f5d0"
            ],
            [
             0.7,
             "#b8e186"
            ],
            [
             0.8,
             "#7fbc41"
            ],
            [
             0.9,
             "#4d9221"
            ],
            [
             1,
             "#276419"
            ]
           ],
           "sequential": [
            [
             0,
             "#0d0887"
            ],
            [
             0.1111111111111111,
             "#46039f"
            ],
            [
             0.2222222222222222,
             "#7201a8"
            ],
            [
             0.3333333333333333,
             "#9c179e"
            ],
            [
             0.4444444444444444,
             "#bd3786"
            ],
            [
             0.5555555555555556,
             "#d8576b"
            ],
            [
             0.6666666666666666,
             "#ed7953"
            ],
            [
             0.7777777777777778,
             "#fb9f3a"
            ],
            [
             0.8888888888888888,
             "#fdca26"
            ],
            [
             1,
             "#f0f921"
            ]
           ],
           "sequentialminus": [
            [
             0,
             "#0d0887"
            ],
            [
             0.1111111111111111,
             "#46039f"
            ],
            [
             0.2222222222222222,
             "#7201a8"
            ],
            [
             0.3333333333333333,
             "#9c179e"
            ],
            [
             0.4444444444444444,
             "#bd3786"
            ],
            [
             0.5555555555555556,
             "#d8576b"
            ],
            [
             0.6666666666666666,
             "#ed7953"
            ],
            [
             0.7777777777777778,
             "#fb9f3a"
            ],
            [
             0.8888888888888888,
             "#fdca26"
            ],
            [
             1,
             "#f0f921"
            ]
           ]
          },
          "colorway": [
           "#636efa",
           "#EF553B",
           "#00cc96",
           "#ab63fa",
           "#FFA15A",
           "#19d3f3",
           "#FF6692",
           "#B6E880",
           "#FF97FF",
           "#FECB52"
          ],
          "font": {
           "color": "#2a3f5f"
          },
          "geo": {
           "bgcolor": "white",
           "lakecolor": "white",
           "landcolor": "white",
           "showlakes": true,
           "showland": true,
           "subunitcolor": "#C8D4E3"
          },
          "hoverlabel": {
           "align": "left"
          },
          "hovermode": "closest",
          "mapbox": {
           "style": "light"
          },
          "paper_bgcolor": "white",
          "plot_bgcolor": "white",
          "polar": {
           "angularaxis": {
            "gridcolor": "#EBF0F8",
            "linecolor": "#EBF0F8",
            "ticks": ""
           },
           "bgcolor": "white",
           "radialaxis": {
            "gridcolor": "#EBF0F8",
            "linecolor": "#EBF0F8",
            "ticks": ""
           }
          },
          "scene": {
           "xaxis": {
            "backgroundcolor": "white",
            "gridcolor": "#DFE8F3",
            "gridwidth": 2,
            "linecolor": "#EBF0F8",
            "showbackground": true,
            "ticks": "",
            "zerolinecolor": "#EBF0F8"
           },
           "yaxis": {
            "backgroundcolor": "white",
            "gridcolor": "#DFE8F3",
            "gridwidth": 2,
            "linecolor": "#EBF0F8",
            "showbackground": true,
            "ticks": "",
            "zerolinecolor": "#EBF0F8"
           },
           "zaxis": {
            "backgroundcolor": "white",
            "gridcolor": "#DFE8F3",
            "gridwidth": 2,
            "linecolor": "#EBF0F8",
            "showbackground": true,
            "ticks": "",
            "zerolinecolor": "#EBF0F8"
           }
          },
          "shapedefaults": {
           "line": {
            "color": "#2a3f5f"
           }
          },
          "ternary": {
           "aaxis": {
            "gridcolor": "#DFE8F3",
            "linecolor": "#A2B1C6",
            "ticks": ""
           },
           "baxis": {
            "gridcolor": "#DFE8F3",
            "linecolor": "#A2B1C6",
            "ticks": ""
           },
           "bgcolor": "white",
           "caxis": {
            "gridcolor": "#DFE8F3",
            "linecolor": "#A2B1C6",
            "ticks": ""
           }
          },
          "title": {
           "x": 0.05
          },
          "xaxis": {
           "automargin": true,
           "gridcolor": "#EBF0F8",
           "linecolor": "#EBF0F8",
           "ticks": "",
           "title": {
            "standoff": 15
           },
           "zerolinecolor": "#EBF0F8",
           "zerolinewidth": 2
          },
          "yaxis": {
           "automargin": true,
           "gridcolor": "#EBF0F8",
           "linecolor": "#EBF0F8",
           "ticks": "",
           "title": {
            "standoff": 15
           },
           "zerolinecolor": "#EBF0F8",
           "zerolinewidth": 2
          }
         }
        },
        "title": {
         "text": "Campaign Performance Heatmap (ROAS, Clicks, Conversions, Cost)"
        },
        "xaxis": {
         "title": {
          "text": "Performance Metrics"
         }
        },
        "yaxis": {
         "title": {
          "text": "Campaigns"
         }
        }
       }
      },
      "text/html": [
       "<div>                            <div id=\"9e6549cf-343d-4db9-a3dc-48c4c1437789\" class=\"plotly-graph-div\" style=\"height:525px; width:100%;\"></div>            <script type=\"text/javascript\">                require([\"plotly\"], function(Plotly) {                    window.PLOTLYENV=window.PLOTLYENV || {};                                    if (document.getElementById(\"9e6549cf-343d-4db9-a3dc-48c4c1437789\")) {                    Plotly.newPlot(                        \"9e6549cf-343d-4db9-a3dc-48c4c1437789\",                        [{\"colorscale\":[[0.0,\"rgb(165,0,38)\"],[0.1,\"rgb(215,48,39)\"],[0.2,\"rgb(244,109,67)\"],[0.3,\"rgb(253,174,97)\"],[0.4,\"rgb(254,224,139)\"],[0.5,\"rgb(255,255,191)\"],[0.6,\"rgb(217,239,139)\"],[0.7,\"rgb(166,217,106)\"],[0.8,\"rgb(102,189,99)\"],[0.9,\"rgb(26,152,80)\"],[1.0,\"rgb(0,104,55)\"]],\"hoverinfo\":\"text\",\"text\":[[1.0,0.01,1.0,0.0,0.34,1.0,0.74,1.0,1.0],[0.01,0.0,0.72,0.21,0.0,0.0,0.0,0.01,0.12],[0.0,0.0,0.44,1.0,0.15,0.0,0.07,0.0,0.0],[0.93,1.0,0.0,0.22,1.0,0.47,1.0,0.45,0.15]],\"texttemplate\":\"%{text}\",\"x\":[\"Clicks\",\"Impressions\",\"CTR\",\"Avg. CPC\",\"Cost\",\"Conversions\",\"Conversion rate\",\"Total conv. value\",\"ROAS\"],\"y\":[1,3,7,15],\"z\":[[1.0,0.009493319692114997,1.0,0.0,0.33505788685040366,1.0,0.7425404383462698,1.0,1.0],[0.012441801937838178,0.0,0.7203233925587171,0.20673395992404817,0.0,0.0044588569112282124,0.0,0.009879939401501801,0.12289348685920261],[0.0,0.00041142583748919706,0.4399971515102749,1.0,0.15124135548912465,0.0,0.06820536175372434,0.0,0.0],[0.9327419151881213,1.0,0.0,0.2238988438071801,1.0,0.4714227807053101,1.0,0.4491189202952278,0.14609960865855096]],\"type\":\"heatmap\"}],                        {\"template\":{\"data\":{\"barpolar\":[{\"marker\":{\"line\":{\"color\":\"white\",\"width\":0.5},\"pattern\":{\"fillmode\":\"overlay\",\"size\":10,\"solidity\":0.2}},\"type\":\"barpolar\"}],\"bar\":[{\"error_x\":{\"color\":\"#2a3f5f\"},\"error_y\":{\"color\":\"#2a3f5f\"},\"marker\":{\"line\":{\"color\":\"white\",\"width\":0.5},\"pattern\":{\"fillmode\":\"overlay\",\"size\":10,\"solidity\":0.2}},\"type\":\"bar\"}],\"carpet\":[{\"aaxis\":{\"endlinecolor\":\"#2a3f5f\",\"gridcolor\":\"#C8D4E3\",\"linecolor\":\"#C8D4E3\",\"minorgridcolor\":\"#C8D4E3\",\"startlinecolor\":\"#2a3f5f\"},\"baxis\":{\"endlinecolor\":\"#2a3f5f\",\"gridcolor\":\"#C8D4E3\",\"linecolor\":\"#C8D4E3\",\"minorgridcolor\":\"#C8D4E3\",\"startlinecolor\":\"#2a3f5f\"},\"type\":\"carpet\"}],\"choropleth\":[{\"colorbar\":{\"outlinewidth\":0,\"ticks\":\"\"},\"type\":\"choropleth\"}],\"contourcarpet\":[{\"colorbar\":{\"outlinewidth\":0,\"ticks\":\"\"},\"type\":\"contourcarpet\"}],\"contour\":[{\"colorbar\":{\"outlinewidth\":0,\"ticks\":\"\"},\"colorscale\":[[0.0,\"#0d0887\"],[0.1111111111111111,\"#46039f\"],[0.2222222222222222,\"#7201a8\"],[0.3333333333333333,\"#9c179e\"],[0.4444444444444444,\"#bd3786\"],[0.5555555555555556,\"#d8576b\"],[0.6666666666666666,\"#ed7953\"],[0.7777777777777778,\"#fb9f3a\"],[0.8888888888888888,\"#fdca26\"],[1.0,\"#f0f921\"]],\"type\":\"contour\"}],\"heatmapgl\":[{\"colorbar\":{\"outlinewidth\":0,\"ticks\":\"\"},\"colorscale\":[[0.0,\"#0d0887\"],[0.1111111111111111,\"#46039f\"],[0.2222222222222222,\"#7201a8\"],[0.3333333333333333,\"#9c179e\"],[0.4444444444444444,\"#bd3786\"],[0.5555555555555556,\"#d8576b\"],[0.6666666666666666,\"#ed7953\"],[0.7777777777777778,\"#fb9f3a\"],[0.8888888888888888,\"#fdca26\"],[1.0,\"#f0f921\"]],\"type\":\"heatmapgl\"}],\"heatmap\":[{\"colorbar\":{\"outlinewidth\":0,\"ticks\":\"\"},\"colorscale\":[[0.0,\"#0d0887\"],[0.1111111111111111,\"#46039f\"],[0.2222222222222222,\"#7201a8\"],[0.3333333333333333,\"#9c179e\"],[0.4444444444444444,\"#bd3786\"],[0.5555555555555556,\"#d8576b\"],[0.6666666666666666,\"#ed7953\"],[0.7777777777777778,\"#fb9f3a\"],[0.8888888888888888,\"#fdca26\"],[1.0,\"#f0f921\"]],\"type\":\"heatmap\"}],\"histogram2dcontour\":[{\"colorbar\":{\"outlinewidth\":0,\"ticks\":\"\"},\"colorscale\":[[0.0,\"#0d0887\"],[0.1111111111111111,\"#46039f\"],[0.2222222222222222,\"#7201a8\"],[0.3333333333333333,\"#9c179e\"],[0.4444444444444444,\"#bd3786\"],[0.5555555555555556,\"#d8576b\"],[0.6666666666666666,\"#ed7953\"],[0.7777777777777778,\"#fb9f3a\"],[0.8888888888888888,\"#fdca26\"],[1.0,\"#f0f921\"]],\"type\":\"histogram2dcontour\"}],\"histogram2d\":[{\"colorbar\":{\"outlinewidth\":0,\"ticks\":\"\"},\"colorscale\":[[0.0,\"#0d0887\"],[0.1111111111111111,\"#46039f\"],[0.2222222222222222,\"#7201a8\"],[0.3333333333333333,\"#9c179e\"],[0.4444444444444444,\"#bd3786\"],[0.5555555555555556,\"#d8576b\"],[0.6666666666666666,\"#ed7953\"],[0.7777777777777778,\"#fb9f3a\"],[0.8888888888888888,\"#fdca26\"],[1.0,\"#f0f921\"]],\"type\":\"histogram2d\"}],\"histogram\":[{\"marker\":{\"pattern\":{\"fillmode\":\"overlay\",\"size\":10,\"solidity\":0.2}},\"type\":\"histogram\"}],\"mesh3d\":[{\"colorbar\":{\"outlinewidth\":0,\"ticks\":\"\"},\"type\":\"mesh3d\"}],\"parcoords\":[{\"line\":{\"colorbar\":{\"outlinewidth\":0,\"ticks\":\"\"}},\"type\":\"parcoords\"}],\"pie\":[{\"automargin\":true,\"type\":\"pie\"}],\"scatter3d\":[{\"line\":{\"colorbar\":{\"outlinewidth\":0,\"ticks\":\"\"}},\"marker\":{\"colorbar\":{\"outlinewidth\":0,\"ticks\":\"\"}},\"type\":\"scatter3d\"}],\"scattercarpet\":[{\"marker\":{\"colorbar\":{\"outlinewidth\":0,\"ticks\":\"\"}},\"type\":\"scattercarpet\"}],\"scattergeo\":[{\"marker\":{\"colorbar\":{\"outlinewidth\":0,\"ticks\":\"\"}},\"type\":\"scattergeo\"}],\"scattergl\":[{\"marker\":{\"colorbar\":{\"outlinewidth\":0,\"ticks\":\"\"}},\"type\":\"scattergl\"}],\"scattermapbox\":[{\"marker\":{\"colorbar\":{\"outlinewidth\":0,\"ticks\":\"\"}},\"type\":\"scattermapbox\"}],\"scatterpolargl\":[{\"marker\":{\"colorbar\":{\"outlinewidth\":0,\"ticks\":\"\"}},\"type\":\"scatterpolargl\"}],\"scatterpolar\":[{\"marker\":{\"colorbar\":{\"outlinewidth\":0,\"ticks\":\"\"}},\"type\":\"scatterpolar\"}],\"scatter\":[{\"fillpattern\":{\"fillmode\":\"overlay\",\"size\":10,\"solidity\":0.2},\"type\":\"scatter\"}],\"scatterternary\":[{\"marker\":{\"colorbar\":{\"outlinewidth\":0,\"ticks\":\"\"}},\"type\":\"scatterternary\"}],\"surface\":[{\"colorbar\":{\"outlinewidth\":0,\"ticks\":\"\"},\"colorscale\":[[0.0,\"#0d0887\"],[0.1111111111111111,\"#46039f\"],[0.2222222222222222,\"#7201a8\"],[0.3333333333333333,\"#9c179e\"],[0.4444444444444444,\"#bd3786\"],[0.5555555555555556,\"#d8576b\"],[0.6666666666666666,\"#ed7953\"],[0.7777777777777778,\"#fb9f3a\"],[0.8888888888888888,\"#fdca26\"],[1.0,\"#f0f921\"]],\"type\":\"surface\"}],\"table\":[{\"cells\":{\"fill\":{\"color\":\"#EBF0F8\"},\"line\":{\"color\":\"white\"}},\"header\":{\"fill\":{\"color\":\"#C8D4E3\"},\"line\":{\"color\":\"white\"}},\"type\":\"table\"}]},\"layout\":{\"annotationdefaults\":{\"arrowcolor\":\"#2a3f5f\",\"arrowhead\":0,\"arrowwidth\":1},\"autotypenumbers\":\"strict\",\"coloraxis\":{\"colorbar\":{\"outlinewidth\":0,\"ticks\":\"\"}},\"colorscale\":{\"diverging\":[[0,\"#8e0152\"],[0.1,\"#c51b7d\"],[0.2,\"#de77ae\"],[0.3,\"#f1b6da\"],[0.4,\"#fde0ef\"],[0.5,\"#f7f7f7\"],[0.6,\"#e6f5d0\"],[0.7,\"#b8e186\"],[0.8,\"#7fbc41\"],[0.9,\"#4d9221\"],[1,\"#276419\"]],\"sequential\":[[0.0,\"#0d0887\"],[0.1111111111111111,\"#46039f\"],[0.2222222222222222,\"#7201a8\"],[0.3333333333333333,\"#9c179e\"],[0.4444444444444444,\"#bd3786\"],[0.5555555555555556,\"#d8576b\"],[0.6666666666666666,\"#ed7953\"],[0.7777777777777778,\"#fb9f3a\"],[0.8888888888888888,\"#fdca26\"],[1.0,\"#f0f921\"]],\"sequentialminus\":[[0.0,\"#0d0887\"],[0.1111111111111111,\"#46039f\"],[0.2222222222222222,\"#7201a8\"],[0.3333333333333333,\"#9c179e\"],[0.4444444444444444,\"#bd3786\"],[0.5555555555555556,\"#d8576b\"],[0.6666666666666666,\"#ed7953\"],[0.7777777777777778,\"#fb9f3a\"],[0.8888888888888888,\"#fdca26\"],[1.0,\"#f0f921\"]]},\"colorway\":[\"#636efa\",\"#EF553B\",\"#00cc96\",\"#ab63fa\",\"#FFA15A\",\"#19d3f3\",\"#FF6692\",\"#B6E880\",\"#FF97FF\",\"#FECB52\"],\"font\":{\"color\":\"#2a3f5f\"},\"geo\":{\"bgcolor\":\"white\",\"lakecolor\":\"white\",\"landcolor\":\"white\",\"showlakes\":true,\"showland\":true,\"subunitcolor\":\"#C8D4E3\"},\"hoverlabel\":{\"align\":\"left\"},\"hovermode\":\"closest\",\"mapbox\":{\"style\":\"light\"},\"paper_bgcolor\":\"white\",\"plot_bgcolor\":\"white\",\"polar\":{\"angularaxis\":{\"gridcolor\":\"#EBF0F8\",\"linecolor\":\"#EBF0F8\",\"ticks\":\"\"},\"bgcolor\":\"white\",\"radialaxis\":{\"gridcolor\":\"#EBF0F8\",\"linecolor\":\"#EBF0F8\",\"ticks\":\"\"}},\"scene\":{\"xaxis\":{\"backgroundcolor\":\"white\",\"gridcolor\":\"#DFE8F3\",\"gridwidth\":2,\"linecolor\":\"#EBF0F8\",\"showbackground\":true,\"ticks\":\"\",\"zerolinecolor\":\"#EBF0F8\"},\"yaxis\":{\"backgroundcolor\":\"white\",\"gridcolor\":\"#DFE8F3\",\"gridwidth\":2,\"linecolor\":\"#EBF0F8\",\"showbackground\":true,\"ticks\":\"\",\"zerolinecolor\":\"#EBF0F8\"},\"zaxis\":{\"backgroundcolor\":\"white\",\"gridcolor\":\"#DFE8F3\",\"gridwidth\":2,\"linecolor\":\"#EBF0F8\",\"showbackground\":true,\"ticks\":\"\",\"zerolinecolor\":\"#EBF0F8\"}},\"shapedefaults\":{\"line\":{\"color\":\"#2a3f5f\"}},\"ternary\":{\"aaxis\":{\"gridcolor\":\"#DFE8F3\",\"linecolor\":\"#A2B1C6\",\"ticks\":\"\"},\"baxis\":{\"gridcolor\":\"#DFE8F3\",\"linecolor\":\"#A2B1C6\",\"ticks\":\"\"},\"bgcolor\":\"white\",\"caxis\":{\"gridcolor\":\"#DFE8F3\",\"linecolor\":\"#A2B1C6\",\"ticks\":\"\"}},\"title\":{\"x\":0.05},\"xaxis\":{\"automargin\":true,\"gridcolor\":\"#EBF0F8\",\"linecolor\":\"#EBF0F8\",\"ticks\":\"\",\"title\":{\"standoff\":15},\"zerolinecolor\":\"#EBF0F8\",\"zerolinewidth\":2},\"yaxis\":{\"automargin\":true,\"gridcolor\":\"#EBF0F8\",\"linecolor\":\"#EBF0F8\",\"ticks\":\"\",\"title\":{\"standoff\":15},\"zerolinecolor\":\"#EBF0F8\",\"zerolinewidth\":2}}},\"title\":{\"text\":\"Campaign Performance Heatmap (ROAS, Clicks, Conversions, Cost)\"},\"xaxis\":{\"title\":{\"text\":\"Performance Metrics\"}},\"yaxis\":{\"title\":{\"text\":\"Campaigns\"}}},                        {\"responsive\": true}                    ).then(function(){\n",
       "                            \n",
       "var gd = document.getElementById('9e6549cf-343d-4db9-a3dc-48c4c1437789');\n",
       "var x = new MutationObserver(function (mutations, observer) {{\n",
       "        var display = window.getComputedStyle(gd).display;\n",
       "        if (!display || display === 'none') {{\n",
       "            console.log([gd, 'removed!']);\n",
       "            Plotly.purge(gd);\n",
       "            observer.disconnect();\n",
       "        }}\n",
       "}});\n",
       "\n",
       "// Listen for the removal of the full notebook cells\n",
       "var notebookContainer = gd.closest('#notebook-container');\n",
       "if (notebookContainer) {{\n",
       "    x.observe(notebookContainer, {childList: true});\n",
       "}}\n",
       "\n",
       "// Listen for the clearing of the current output cell\n",
       "var outputEl = gd.closest('.output');\n",
       "if (outputEl) {{\n",
       "    x.observe(outputEl, {childList: true});\n",
       "}}\n",
       "\n",
       "                        })                };                });            </script>        </div>"
      ]
     },
     "metadata": {},
     "output_type": "display_data"
    }
   ],
   "source": [
    "normalized_data = campaign_per.set_index(\"Campaign\")\n",
    "normalized_data = (normalized_data - normalized_data.min()) / (normalized_data.max() - normalized_data.min())\n",
    "\n",
    "fig = go.Figure(data=go.Heatmap(\n",
    "    z=normalized_data.values,\n",
    "    x=normalized_data.columns,\n",
    "    y=normalized_data.index,\n",
    "    colorscale=\"RdYlGn\", \n",
    "    text=normalized_data.round(2).values,\n",
    "    texttemplate=\"%{text}\",\n",
    "    hoverinfo=\"text\"))\n",
    "\n",
    "fig.update_layout(\n",
    "    title=\"Campaign Performance Heatmap (ROAS, Clicks, Conversions, Cost)\",\n",
    "    xaxis=dict(title=\"Performance Metrics\"),\n",
    "    yaxis=dict(title=\"Campaigns\"),\n",
    "    template=\"plotly_white\")\n",
    "\n",
    "fig.show()"
   ]
  },
  {
   "cell_type": "markdown",
   "id": "547d76ae",
   "metadata": {},
   "source": [
    "Bar plot (CTR)"
   ]
  },
  {
   "cell_type": "code",
   "execution_count": 43,
   "id": "52fbed36",
   "metadata": {},
   "outputs": [
    {
     "data": {
      "application/vnd.plotly.v1+json": {
       "config": {
        "plotlyServerURL": "https://plot.ly"
       },
       "data": [
        {
         "marker": {
          "color": "royalblue"
         },
         "text": [
          0.53,
          0.38,
          0.24,
          0.01
         ],
         "textposition": "outside",
         "type": "bar",
         "x": [
          1,
          3,
          7,
          15
         ],
         "y": [
          0.5292373037857803,
          0.3826556578947369,
          0.23573353174603173,
          0.005126091081593928
         ]
        }
       ],
       "layout": {
        "template": {
         "data": {
          "bar": [
           {
            "error_x": {
             "color": "#2a3f5f"
            },
            "error_y": {
             "color": "#2a3f5f"
            },
            "marker": {
             "line": {
              "color": "white",
              "width": 0.5
             },
             "pattern": {
              "fillmode": "overlay",
              "size": 10,
              "solidity": 0.2
             }
            },
            "type": "bar"
           }
          ],
          "barpolar": [
           {
            "marker": {
             "line": {
              "color": "white",
              "width": 0.5
             },
             "pattern": {
              "fillmode": "overlay",
              "size": 10,
              "solidity": 0.2
             }
            },
            "type": "barpolar"
           }
          ],
          "carpet": [
           {
            "aaxis": {
             "endlinecolor": "#2a3f5f",
             "gridcolor": "#C8D4E3",
             "linecolor": "#C8D4E3",
             "minorgridcolor": "#C8D4E3",
             "startlinecolor": "#2a3f5f"
            },
            "baxis": {
             "endlinecolor": "#2a3f5f",
             "gridcolor": "#C8D4E3",
             "linecolor": "#C8D4E3",
             "minorgridcolor": "#C8D4E3",
             "startlinecolor": "#2a3f5f"
            },
            "type": "carpet"
           }
          ],
          "choropleth": [
           {
            "colorbar": {
             "outlinewidth": 0,
             "ticks": ""
            },
            "type": "choropleth"
           }
          ],
          "contour": [
           {
            "colorbar": {
             "outlinewidth": 0,
             "ticks": ""
            },
            "colorscale": [
             [
              0,
              "#0d0887"
             ],
             [
              0.1111111111111111,
              "#46039f"
             ],
             [
              0.2222222222222222,
              "#7201a8"
             ],
             [
              0.3333333333333333,
              "#9c179e"
             ],
             [
              0.4444444444444444,
              "#bd3786"
             ],
             [
              0.5555555555555556,
              "#d8576b"
             ],
             [
              0.6666666666666666,
              "#ed7953"
             ],
             [
              0.7777777777777778,
              "#fb9f3a"
             ],
             [
              0.8888888888888888,
              "#fdca26"
             ],
             [
              1,
              "#f0f921"
             ]
            ],
            "type": "contour"
           }
          ],
          "contourcarpet": [
           {
            "colorbar": {
             "outlinewidth": 0,
             "ticks": ""
            },
            "type": "contourcarpet"
           }
          ],
          "heatmap": [
           {
            "colorbar": {
             "outlinewidth": 0,
             "ticks": ""
            },
            "colorscale": [
             [
              0,
              "#0d0887"
             ],
             [
              0.1111111111111111,
              "#46039f"
             ],
             [
              0.2222222222222222,
              "#7201a8"
             ],
             [
              0.3333333333333333,
              "#9c179e"
             ],
             [
              0.4444444444444444,
              "#bd3786"
             ],
             [
              0.5555555555555556,
              "#d8576b"
             ],
             [
              0.6666666666666666,
              "#ed7953"
             ],
             [
              0.7777777777777778,
              "#fb9f3a"
             ],
             [
              0.8888888888888888,
              "#fdca26"
             ],
             [
              1,
              "#f0f921"
             ]
            ],
            "type": "heatmap"
           }
          ],
          "heatmapgl": [
           {
            "colorbar": {
             "outlinewidth": 0,
             "ticks": ""
            },
            "colorscale": [
             [
              0,
              "#0d0887"
             ],
             [
              0.1111111111111111,
              "#46039f"
             ],
             [
              0.2222222222222222,
              "#7201a8"
             ],
             [
              0.3333333333333333,
              "#9c179e"
             ],
             [
              0.4444444444444444,
              "#bd3786"
             ],
             [
              0.5555555555555556,
              "#d8576b"
             ],
             [
              0.6666666666666666,
              "#ed7953"
             ],
             [
              0.7777777777777778,
              "#fb9f3a"
             ],
             [
              0.8888888888888888,
              "#fdca26"
             ],
             [
              1,
              "#f0f921"
             ]
            ],
            "type": "heatmapgl"
           }
          ],
          "histogram": [
           {
            "marker": {
             "pattern": {
              "fillmode": "overlay",
              "size": 10,
              "solidity": 0.2
             }
            },
            "type": "histogram"
           }
          ],
          "histogram2d": [
           {
            "colorbar": {
             "outlinewidth": 0,
             "ticks": ""
            },
            "colorscale": [
             [
              0,
              "#0d0887"
             ],
             [
              0.1111111111111111,
              "#46039f"
             ],
             [
              0.2222222222222222,
              "#7201a8"
             ],
             [
              0.3333333333333333,
              "#9c179e"
             ],
             [
              0.4444444444444444,
              "#bd3786"
             ],
             [
              0.5555555555555556,
              "#d8576b"
             ],
             [
              0.6666666666666666,
              "#ed7953"
             ],
             [
              0.7777777777777778,
              "#fb9f3a"
             ],
             [
              0.8888888888888888,
              "#fdca26"
             ],
             [
              1,
              "#f0f921"
             ]
            ],
            "type": "histogram2d"
           }
          ],
          "histogram2dcontour": [
           {
            "colorbar": {
             "outlinewidth": 0,
             "ticks": ""
            },
            "colorscale": [
             [
              0,
              "#0d0887"
             ],
             [
              0.1111111111111111,
              "#46039f"
             ],
             [
              0.2222222222222222,
              "#7201a8"
             ],
             [
              0.3333333333333333,
              "#9c179e"
             ],
             [
              0.4444444444444444,
              "#bd3786"
             ],
             [
              0.5555555555555556,
              "#d8576b"
             ],
             [
              0.6666666666666666,
              "#ed7953"
             ],
             [
              0.7777777777777778,
              "#fb9f3a"
             ],
             [
              0.8888888888888888,
              "#fdca26"
             ],
             [
              1,
              "#f0f921"
             ]
            ],
            "type": "histogram2dcontour"
           }
          ],
          "mesh3d": [
           {
            "colorbar": {
             "outlinewidth": 0,
             "ticks": ""
            },
            "type": "mesh3d"
           }
          ],
          "parcoords": [
           {
            "line": {
             "colorbar": {
              "outlinewidth": 0,
              "ticks": ""
             }
            },
            "type": "parcoords"
           }
          ],
          "pie": [
           {
            "automargin": true,
            "type": "pie"
           }
          ],
          "scatter": [
           {
            "fillpattern": {
             "fillmode": "overlay",
             "size": 10,
             "solidity": 0.2
            },
            "type": "scatter"
           }
          ],
          "scatter3d": [
           {
            "line": {
             "colorbar": {
              "outlinewidth": 0,
              "ticks": ""
             }
            },
            "marker": {
             "colorbar": {
              "outlinewidth": 0,
              "ticks": ""
             }
            },
            "type": "scatter3d"
           }
          ],
          "scattercarpet": [
           {
            "marker": {
             "colorbar": {
              "outlinewidth": 0,
              "ticks": ""
             }
            },
            "type": "scattercarpet"
           }
          ],
          "scattergeo": [
           {
            "marker": {
             "colorbar": {
              "outlinewidth": 0,
              "ticks": ""
             }
            },
            "type": "scattergeo"
           }
          ],
          "scattergl": [
           {
            "marker": {
             "colorbar": {
              "outlinewidth": 0,
              "ticks": ""
             }
            },
            "type": "scattergl"
           }
          ],
          "scattermapbox": [
           {
            "marker": {
             "colorbar": {
              "outlinewidth": 0,
              "ticks": ""
             }
            },
            "type": "scattermapbox"
           }
          ],
          "scatterpolar": [
           {
            "marker": {
             "colorbar": {
              "outlinewidth": 0,
              "ticks": ""
             }
            },
            "type": "scatterpolar"
           }
          ],
          "scatterpolargl": [
           {
            "marker": {
             "colorbar": {
              "outlinewidth": 0,
              "ticks": ""
             }
            },
            "type": "scatterpolargl"
           }
          ],
          "scatterternary": [
           {
            "marker": {
             "colorbar": {
              "outlinewidth": 0,
              "ticks": ""
             }
            },
            "type": "scatterternary"
           }
          ],
          "surface": [
           {
            "colorbar": {
             "outlinewidth": 0,
             "ticks": ""
            },
            "colorscale": [
             [
              0,
              "#0d0887"
             ],
             [
              0.1111111111111111,
              "#46039f"
             ],
             [
              0.2222222222222222,
              "#7201a8"
             ],
             [
              0.3333333333333333,
              "#9c179e"
             ],
             [
              0.4444444444444444,
              "#bd3786"
             ],
             [
              0.5555555555555556,
              "#d8576b"
             ],
             [
              0.6666666666666666,
              "#ed7953"
             ],
             [
              0.7777777777777778,
              "#fb9f3a"
             ],
             [
              0.8888888888888888,
              "#fdca26"
             ],
             [
              1,
              "#f0f921"
             ]
            ],
            "type": "surface"
           }
          ],
          "table": [
           {
            "cells": {
             "fill": {
              "color": "#EBF0F8"
             },
             "line": {
              "color": "white"
             }
            },
            "header": {
             "fill": {
              "color": "#C8D4E3"
             },
             "line": {
              "color": "white"
             }
            },
            "type": "table"
           }
          ]
         },
         "layout": {
          "annotationdefaults": {
           "arrowcolor": "#2a3f5f",
           "arrowhead": 0,
           "arrowwidth": 1
          },
          "autotypenumbers": "strict",
          "coloraxis": {
           "colorbar": {
            "outlinewidth": 0,
            "ticks": ""
           }
          },
          "colorscale": {
           "diverging": [
            [
             0,
             "#8e0152"
            ],
            [
             0.1,
             "#c51b7d"
            ],
            [
             0.2,
             "#de77ae"
            ],
            [
             0.3,
             "#f1b6da"
            ],
            [
             0.4,
             "#fde0ef"
            ],
            [
             0.5,
             "#f7f7f7"
            ],
            [
             0.6,
             "#e6f5d0"
            ],
            [
             0.7,
             "#b8e186"
            ],
            [
             0.8,
             "#7fbc41"
            ],
            [
             0.9,
             "#4d9221"
            ],
            [
             1,
             "#276419"
            ]
           ],
           "sequential": [
            [
             0,
             "#0d0887"
            ],
            [
             0.1111111111111111,
             "#46039f"
            ],
            [
             0.2222222222222222,
             "#7201a8"
            ],
            [
             0.3333333333333333,
             "#9c179e"
            ],
            [
             0.4444444444444444,
             "#bd3786"
            ],
            [
             0.5555555555555556,
             "#d8576b"
            ],
            [
             0.6666666666666666,
             "#ed7953"
            ],
            [
             0.7777777777777778,
             "#fb9f3a"
            ],
            [
             0.8888888888888888,
             "#fdca26"
            ],
            [
             1,
             "#f0f921"
            ]
           ],
           "sequentialminus": [
            [
             0,
             "#0d0887"
            ],
            [
             0.1111111111111111,
             "#46039f"
            ],
            [
             0.2222222222222222,
             "#7201a8"
            ],
            [
             0.3333333333333333,
             "#9c179e"
            ],
            [
             0.4444444444444444,
             "#bd3786"
            ],
            [
             0.5555555555555556,
             "#d8576b"
            ],
            [
             0.6666666666666666,
             "#ed7953"
            ],
            [
             0.7777777777777778,
             "#fb9f3a"
            ],
            [
             0.8888888888888888,
             "#fdca26"
            ],
            [
             1,
             "#f0f921"
            ]
           ]
          },
          "colorway": [
           "#636efa",
           "#EF553B",
           "#00cc96",
           "#ab63fa",
           "#FFA15A",
           "#19d3f3",
           "#FF6692",
           "#B6E880",
           "#FF97FF",
           "#FECB52"
          ],
          "font": {
           "color": "#2a3f5f"
          },
          "geo": {
           "bgcolor": "white",
           "lakecolor": "white",
           "landcolor": "white",
           "showlakes": true,
           "showland": true,
           "subunitcolor": "#C8D4E3"
          },
          "hoverlabel": {
           "align": "left"
          },
          "hovermode": "closest",
          "mapbox": {
           "style": "light"
          },
          "paper_bgcolor": "white",
          "plot_bgcolor": "white",
          "polar": {
           "angularaxis": {
            "gridcolor": "#EBF0F8",
            "linecolor": "#EBF0F8",
            "ticks": ""
           },
           "bgcolor": "white",
           "radialaxis": {
            "gridcolor": "#EBF0F8",
            "linecolor": "#EBF0F8",
            "ticks": ""
           }
          },
          "scene": {
           "xaxis": {
            "backgroundcolor": "white",
            "gridcolor": "#DFE8F3",
            "gridwidth": 2,
            "linecolor": "#EBF0F8",
            "showbackground": true,
            "ticks": "",
            "zerolinecolor": "#EBF0F8"
           },
           "yaxis": {
            "backgroundcolor": "white",
            "gridcolor": "#DFE8F3",
            "gridwidth": 2,
            "linecolor": "#EBF0F8",
            "showbackground": true,
            "ticks": "",
            "zerolinecolor": "#EBF0F8"
           },
           "zaxis": {
            "backgroundcolor": "white",
            "gridcolor": "#DFE8F3",
            "gridwidth": 2,
            "linecolor": "#EBF0F8",
            "showbackground": true,
            "ticks": "",
            "zerolinecolor": "#EBF0F8"
           }
          },
          "shapedefaults": {
           "line": {
            "color": "#2a3f5f"
           }
          },
          "ternary": {
           "aaxis": {
            "gridcolor": "#DFE8F3",
            "linecolor": "#A2B1C6",
            "ticks": ""
           },
           "baxis": {
            "gridcolor": "#DFE8F3",
            "linecolor": "#A2B1C6",
            "ticks": ""
           },
           "bgcolor": "white",
           "caxis": {
            "gridcolor": "#DFE8F3",
            "linecolor": "#A2B1C6",
            "ticks": ""
           }
          },
          "title": {
           "x": 0.05
          },
          "xaxis": {
           "automargin": true,
           "gridcolor": "#EBF0F8",
           "linecolor": "#EBF0F8",
           "ticks": "",
           "title": {
            "standoff": 15
           },
           "zerolinecolor": "#EBF0F8",
           "zerolinewidth": 2
          },
          "yaxis": {
           "automargin": true,
           "gridcolor": "#EBF0F8",
           "linecolor": "#EBF0F8",
           "ticks": "",
           "title": {
            "standoff": 15
           },
           "zerolinecolor": "#EBF0F8",
           "zerolinewidth": 2
          }
         }
        },
        "title": {
         "text": "CTR per Campaign"
        },
        "xaxis": {
         "title": {
          "text": "Campaigns"
         }
        },
        "yaxis": {
         "tickformat": ".2%",
         "title": {
          "text": "Click-Through Rate (CTR)"
         }
        }
       }
      },
      "text/html": [
       "<div>                            <div id=\"68047e18-e3b5-410c-9567-4f5dc8f94df1\" class=\"plotly-graph-div\" style=\"height:525px; width:100%;\"></div>            <script type=\"text/javascript\">                require([\"plotly\"], function(Plotly) {                    window.PLOTLYENV=window.PLOTLYENV || {};                                    if (document.getElementById(\"68047e18-e3b5-410c-9567-4f5dc8f94df1\")) {                    Plotly.newPlot(                        \"68047e18-e3b5-410c-9567-4f5dc8f94df1\",                        [{\"marker\":{\"color\":\"royalblue\"},\"text\":[0.53,0.38,0.24,0.01],\"textposition\":\"outside\",\"x\":[1,3,7,15],\"y\":[0.5292373037857803,0.3826556578947369,0.23573353174603173,0.005126091081593928],\"type\":\"bar\"}],                        {\"template\":{\"data\":{\"barpolar\":[{\"marker\":{\"line\":{\"color\":\"white\",\"width\":0.5},\"pattern\":{\"fillmode\":\"overlay\",\"size\":10,\"solidity\":0.2}},\"type\":\"barpolar\"}],\"bar\":[{\"error_x\":{\"color\":\"#2a3f5f\"},\"error_y\":{\"color\":\"#2a3f5f\"},\"marker\":{\"line\":{\"color\":\"white\",\"width\":0.5},\"pattern\":{\"fillmode\":\"overlay\",\"size\":10,\"solidity\":0.2}},\"type\":\"bar\"}],\"carpet\":[{\"aaxis\":{\"endlinecolor\":\"#2a3f5f\",\"gridcolor\":\"#C8D4E3\",\"linecolor\":\"#C8D4E3\",\"minorgridcolor\":\"#C8D4E3\",\"startlinecolor\":\"#2a3f5f\"},\"baxis\":{\"endlinecolor\":\"#2a3f5f\",\"gridcolor\":\"#C8D4E3\",\"linecolor\":\"#C8D4E3\",\"minorgridcolor\":\"#C8D4E3\",\"startlinecolor\":\"#2a3f5f\"},\"type\":\"carpet\"}],\"choropleth\":[{\"colorbar\":{\"outlinewidth\":0,\"ticks\":\"\"},\"type\":\"choropleth\"}],\"contourcarpet\":[{\"colorbar\":{\"outlinewidth\":0,\"ticks\":\"\"},\"type\":\"contourcarpet\"}],\"contour\":[{\"colorbar\":{\"outlinewidth\":0,\"ticks\":\"\"},\"colorscale\":[[0.0,\"#0d0887\"],[0.1111111111111111,\"#46039f\"],[0.2222222222222222,\"#7201a8\"],[0.3333333333333333,\"#9c179e\"],[0.4444444444444444,\"#bd3786\"],[0.5555555555555556,\"#d8576b\"],[0.6666666666666666,\"#ed7953\"],[0.7777777777777778,\"#fb9f3a\"],[0.8888888888888888,\"#fdca26\"],[1.0,\"#f0f921\"]],\"type\":\"contour\"}],\"heatmapgl\":[{\"colorbar\":{\"outlinewidth\":0,\"ticks\":\"\"},\"colorscale\":[[0.0,\"#0d0887\"],[0.1111111111111111,\"#46039f\"],[0.2222222222222222,\"#7201a8\"],[0.3333333333333333,\"#9c179e\"],[0.4444444444444444,\"#bd3786\"],[0.5555555555555556,\"#d8576b\"],[0.6666666666666666,\"#ed7953\"],[0.7777777777777778,\"#fb9f3a\"],[0.8888888888888888,\"#fdca26\"],[1.0,\"#f0f921\"]],\"type\":\"heatmapgl\"}],\"heatmap\":[{\"colorbar\":{\"outlinewidth\":0,\"ticks\":\"\"},\"colorscale\":[[0.0,\"#0d0887\"],[0.1111111111111111,\"#46039f\"],[0.2222222222222222,\"#7201a8\"],[0.3333333333333333,\"#9c179e\"],[0.4444444444444444,\"#bd3786\"],[0.5555555555555556,\"#d8576b\"],[0.6666666666666666,\"#ed7953\"],[0.7777777777777778,\"#fb9f3a\"],[0.8888888888888888,\"#fdca26\"],[1.0,\"#f0f921\"]],\"type\":\"heatmap\"}],\"histogram2dcontour\":[{\"colorbar\":{\"outlinewidth\":0,\"ticks\":\"\"},\"colorscale\":[[0.0,\"#0d0887\"],[0.1111111111111111,\"#46039f\"],[0.2222222222222222,\"#7201a8\"],[0.3333333333333333,\"#9c179e\"],[0.4444444444444444,\"#bd3786\"],[0.5555555555555556,\"#d8576b\"],[0.6666666666666666,\"#ed7953\"],[0.7777777777777778,\"#fb9f3a\"],[0.8888888888888888,\"#fdca26\"],[1.0,\"#f0f921\"]],\"type\":\"histogram2dcontour\"}],\"histogram2d\":[{\"colorbar\":{\"outlinewidth\":0,\"ticks\":\"\"},\"colorscale\":[[0.0,\"#0d0887\"],[0.1111111111111111,\"#46039f\"],[0.2222222222222222,\"#7201a8\"],[0.3333333333333333,\"#9c179e\"],[0.4444444444444444,\"#bd3786\"],[0.5555555555555556,\"#d8576b\"],[0.6666666666666666,\"#ed7953\"],[0.7777777777777778,\"#fb9f3a\"],[0.8888888888888888,\"#fdca26\"],[1.0,\"#f0f921\"]],\"type\":\"histogram2d\"}],\"histogram\":[{\"marker\":{\"pattern\":{\"fillmode\":\"overlay\",\"size\":10,\"solidity\":0.2}},\"type\":\"histogram\"}],\"mesh3d\":[{\"colorbar\":{\"outlinewidth\":0,\"ticks\":\"\"},\"type\":\"mesh3d\"}],\"parcoords\":[{\"line\":{\"colorbar\":{\"outlinewidth\":0,\"ticks\":\"\"}},\"type\":\"parcoords\"}],\"pie\":[{\"automargin\":true,\"type\":\"pie\"}],\"scatter3d\":[{\"line\":{\"colorbar\":{\"outlinewidth\":0,\"ticks\":\"\"}},\"marker\":{\"colorbar\":{\"outlinewidth\":0,\"ticks\":\"\"}},\"type\":\"scatter3d\"}],\"scattercarpet\":[{\"marker\":{\"colorbar\":{\"outlinewidth\":0,\"ticks\":\"\"}},\"type\":\"scattercarpet\"}],\"scattergeo\":[{\"marker\":{\"colorbar\":{\"outlinewidth\":0,\"ticks\":\"\"}},\"type\":\"scattergeo\"}],\"scattergl\":[{\"marker\":{\"colorbar\":{\"outlinewidth\":0,\"ticks\":\"\"}},\"type\":\"scattergl\"}],\"scattermapbox\":[{\"marker\":{\"colorbar\":{\"outlinewidth\":0,\"ticks\":\"\"}},\"type\":\"scattermapbox\"}],\"scatterpolargl\":[{\"marker\":{\"colorbar\":{\"outlinewidth\":0,\"ticks\":\"\"}},\"type\":\"scatterpolargl\"}],\"scatterpolar\":[{\"marker\":{\"colorbar\":{\"outlinewidth\":0,\"ticks\":\"\"}},\"type\":\"scatterpolar\"}],\"scatter\":[{\"fillpattern\":{\"fillmode\":\"overlay\",\"size\":10,\"solidity\":0.2},\"type\":\"scatter\"}],\"scatterternary\":[{\"marker\":{\"colorbar\":{\"outlinewidth\":0,\"ticks\":\"\"}},\"type\":\"scatterternary\"}],\"surface\":[{\"colorbar\":{\"outlinewidth\":0,\"ticks\":\"\"},\"colorscale\":[[0.0,\"#0d0887\"],[0.1111111111111111,\"#46039f\"],[0.2222222222222222,\"#7201a8\"],[0.3333333333333333,\"#9c179e\"],[0.4444444444444444,\"#bd3786\"],[0.5555555555555556,\"#d8576b\"],[0.6666666666666666,\"#ed7953\"],[0.7777777777777778,\"#fb9f3a\"],[0.8888888888888888,\"#fdca26\"],[1.0,\"#f0f921\"]],\"type\":\"surface\"}],\"table\":[{\"cells\":{\"fill\":{\"color\":\"#EBF0F8\"},\"line\":{\"color\":\"white\"}},\"header\":{\"fill\":{\"color\":\"#C8D4E3\"},\"line\":{\"color\":\"white\"}},\"type\":\"table\"}]},\"layout\":{\"annotationdefaults\":{\"arrowcolor\":\"#2a3f5f\",\"arrowhead\":0,\"arrowwidth\":1},\"autotypenumbers\":\"strict\",\"coloraxis\":{\"colorbar\":{\"outlinewidth\":0,\"ticks\":\"\"}},\"colorscale\":{\"diverging\":[[0,\"#8e0152\"],[0.1,\"#c51b7d\"],[0.2,\"#de77ae\"],[0.3,\"#f1b6da\"],[0.4,\"#fde0ef\"],[0.5,\"#f7f7f7\"],[0.6,\"#e6f5d0\"],[0.7,\"#b8e186\"],[0.8,\"#7fbc41\"],[0.9,\"#4d9221\"],[1,\"#276419\"]],\"sequential\":[[0.0,\"#0d0887\"],[0.1111111111111111,\"#46039f\"],[0.2222222222222222,\"#7201a8\"],[0.3333333333333333,\"#9c179e\"],[0.4444444444444444,\"#bd3786\"],[0.5555555555555556,\"#d8576b\"],[0.6666666666666666,\"#ed7953\"],[0.7777777777777778,\"#fb9f3a\"],[0.8888888888888888,\"#fdca26\"],[1.0,\"#f0f921\"]],\"sequentialminus\":[[0.0,\"#0d0887\"],[0.1111111111111111,\"#46039f\"],[0.2222222222222222,\"#7201a8\"],[0.3333333333333333,\"#9c179e\"],[0.4444444444444444,\"#bd3786\"],[0.5555555555555556,\"#d8576b\"],[0.6666666666666666,\"#ed7953\"],[0.7777777777777778,\"#fb9f3a\"],[0.8888888888888888,\"#fdca26\"],[1.0,\"#f0f921\"]]},\"colorway\":[\"#636efa\",\"#EF553B\",\"#00cc96\",\"#ab63fa\",\"#FFA15A\",\"#19d3f3\",\"#FF6692\",\"#B6E880\",\"#FF97FF\",\"#FECB52\"],\"font\":{\"color\":\"#2a3f5f\"},\"geo\":{\"bgcolor\":\"white\",\"lakecolor\":\"white\",\"landcolor\":\"white\",\"showlakes\":true,\"showland\":true,\"subunitcolor\":\"#C8D4E3\"},\"hoverlabel\":{\"align\":\"left\"},\"hovermode\":\"closest\",\"mapbox\":{\"style\":\"light\"},\"paper_bgcolor\":\"white\",\"plot_bgcolor\":\"white\",\"polar\":{\"angularaxis\":{\"gridcolor\":\"#EBF0F8\",\"linecolor\":\"#EBF0F8\",\"ticks\":\"\"},\"bgcolor\":\"white\",\"radialaxis\":{\"gridcolor\":\"#EBF0F8\",\"linecolor\":\"#EBF0F8\",\"ticks\":\"\"}},\"scene\":{\"xaxis\":{\"backgroundcolor\":\"white\",\"gridcolor\":\"#DFE8F3\",\"gridwidth\":2,\"linecolor\":\"#EBF0F8\",\"showbackground\":true,\"ticks\":\"\",\"zerolinecolor\":\"#EBF0F8\"},\"yaxis\":{\"backgroundcolor\":\"white\",\"gridcolor\":\"#DFE8F3\",\"gridwidth\":2,\"linecolor\":\"#EBF0F8\",\"showbackground\":true,\"ticks\":\"\",\"zerolinecolor\":\"#EBF0F8\"},\"zaxis\":{\"backgroundcolor\":\"white\",\"gridcolor\":\"#DFE8F3\",\"gridwidth\":2,\"linecolor\":\"#EBF0F8\",\"showbackground\":true,\"ticks\":\"\",\"zerolinecolor\":\"#EBF0F8\"}},\"shapedefaults\":{\"line\":{\"color\":\"#2a3f5f\"}},\"ternary\":{\"aaxis\":{\"gridcolor\":\"#DFE8F3\",\"linecolor\":\"#A2B1C6\",\"ticks\":\"\"},\"baxis\":{\"gridcolor\":\"#DFE8F3\",\"linecolor\":\"#A2B1C6\",\"ticks\":\"\"},\"bgcolor\":\"white\",\"caxis\":{\"gridcolor\":\"#DFE8F3\",\"linecolor\":\"#A2B1C6\",\"ticks\":\"\"}},\"title\":{\"x\":0.05},\"xaxis\":{\"automargin\":true,\"gridcolor\":\"#EBF0F8\",\"linecolor\":\"#EBF0F8\",\"ticks\":\"\",\"title\":{\"standoff\":15},\"zerolinecolor\":\"#EBF0F8\",\"zerolinewidth\":2},\"yaxis\":{\"automargin\":true,\"gridcolor\":\"#EBF0F8\",\"linecolor\":\"#EBF0F8\",\"ticks\":\"\",\"title\":{\"standoff\":15},\"zerolinecolor\":\"#EBF0F8\",\"zerolinewidth\":2}}},\"yaxis\":{\"title\":{\"text\":\"Click-Through Rate (CTR)\"},\"tickformat\":\".2%\"},\"title\":{\"text\":\"CTR per Campaign\"},\"xaxis\":{\"title\":{\"text\":\"Campaigns\"}}},                        {\"responsive\": true}                    ).then(function(){\n",
       "                            \n",
       "var gd = document.getElementById('68047e18-e3b5-410c-9567-4f5dc8f94df1');\n",
       "var x = new MutationObserver(function (mutations, observer) {{\n",
       "        var display = window.getComputedStyle(gd).display;\n",
       "        if (!display || display === 'none') {{\n",
       "            console.log([gd, 'removed!']);\n",
       "            Plotly.purge(gd);\n",
       "            observer.disconnect();\n",
       "        }}\n",
       "}});\n",
       "\n",
       "// Listen for the removal of the full notebook cells\n",
       "var notebookContainer = gd.closest('#notebook-container');\n",
       "if (notebookContainer) {{\n",
       "    x.observe(notebookContainer, {childList: true});\n",
       "}}\n",
       "\n",
       "// Listen for the clearing of the current output cell\n",
       "var outputEl = gd.closest('.output');\n",
       "if (outputEl) {{\n",
       "    x.observe(outputEl, {childList: true});\n",
       "}}\n",
       "\n",
       "                        })                };                });            </script>        </div>"
      ]
     },
     "metadata": {},
     "output_type": "display_data"
    }
   ],
   "source": [
    "campaign_ctr = df.groupby(\"Campaign\")[\"CTR\"].mean().reset_index()\n",
    "\n",
    "\n",
    "fig = go.Figure(data=[\n",
    "    go.Bar(\n",
    "        x=campaign_ctr[\"Campaign\"],\n",
    "        y=campaign_ctr[\"CTR\"],\n",
    "        marker=dict(color=\"royalblue\"),\n",
    "        text=campaign_ctr[\"CTR\"].round(2),\n",
    "        textposition=\"outside\"\n",
    "    )\n",
    "])\n",
    "\n",
    "fig.update_layout(\n",
    "    title=\"CTR per Campaign\",\n",
    "    xaxis=dict(title=\"Campaigns\"),\n",
    "    yaxis=dict(title=\"Click-Through Rate (CTR)\", tickformat=\".2%\"),\n",
    "    template=\"plotly_white\"\n",
    ")\n",
    "\n",
    "fig.show()"
   ]
  },
  {
   "cell_type": "markdown",
   "id": "aaa6dafb",
   "metadata": {},
   "source": [
    "Bar plot (CPC & CTR)"
   ]
  },
  {
   "cell_type": "code",
   "execution_count": 44,
   "id": "1aa63733",
   "metadata": {},
   "outputs": [
    {
     "data": {
      "application/vnd.plotly.v1+json": {
       "config": {
        "plotlyServerURL": "https://plot.ly"
       },
       "data": [
        {
         "marker": {
          "color": "royalblue"
         },
         "name": "CTR (%)",
         "text": [
          0.53,
          0.38,
          0.24,
          0.01
         ],
         "textposition": "outside",
         "type": "bar",
         "x": [
          1,
          3,
          7,
          15
         ],
         "y": [
          0.5292373037857803,
          0.3826556578947369,
          0.23573353174603173,
          0.005126091081593928
         ],
         "yaxis": "y"
        },
        {
         "marker": {
          "color": "red"
         },
         "mode": "lines+markers",
         "name": "Avg CPC ($)",
         "type": "scatter",
         "x": [
          1,
          3,
          7,
          15
         ],
         "y": [
          0.029732225300092337,
          0.06078947368421053,
          0.17996031746031746,
          0.06336812144212524
         ],
         "yaxis": "y2"
        }
       ],
       "layout": {
        "legend": {
         "x": 0.8,
         "y": 1.1
        },
        "template": {
         "data": {
          "bar": [
           {
            "error_x": {
             "color": "#2a3f5f"
            },
            "error_y": {
             "color": "#2a3f5f"
            },
            "marker": {
             "line": {
              "color": "white",
              "width": 0.5
             },
             "pattern": {
              "fillmode": "overlay",
              "size": 10,
              "solidity": 0.2
             }
            },
            "type": "bar"
           }
          ],
          "barpolar": [
           {
            "marker": {
             "line": {
              "color": "white",
              "width": 0.5
             },
             "pattern": {
              "fillmode": "overlay",
              "size": 10,
              "solidity": 0.2
             }
            },
            "type": "barpolar"
           }
          ],
          "carpet": [
           {
            "aaxis": {
             "endlinecolor": "#2a3f5f",
             "gridcolor": "#C8D4E3",
             "linecolor": "#C8D4E3",
             "minorgridcolor": "#C8D4E3",
             "startlinecolor": "#2a3f5f"
            },
            "baxis": {
             "endlinecolor": "#2a3f5f",
             "gridcolor": "#C8D4E3",
             "linecolor": "#C8D4E3",
             "minorgridcolor": "#C8D4E3",
             "startlinecolor": "#2a3f5f"
            },
            "type": "carpet"
           }
          ],
          "choropleth": [
           {
            "colorbar": {
             "outlinewidth": 0,
             "ticks": ""
            },
            "type": "choropleth"
           }
          ],
          "contour": [
           {
            "colorbar": {
             "outlinewidth": 0,
             "ticks": ""
            },
            "colorscale": [
             [
              0,
              "#0d0887"
             ],
             [
              0.1111111111111111,
              "#46039f"
             ],
             [
              0.2222222222222222,
              "#7201a8"
             ],
             [
              0.3333333333333333,
              "#9c179e"
             ],
             [
              0.4444444444444444,
              "#bd3786"
             ],
             [
              0.5555555555555556,
              "#d8576b"
             ],
             [
              0.6666666666666666,
              "#ed7953"
             ],
             [
              0.7777777777777778,
              "#fb9f3a"
             ],
             [
              0.8888888888888888,
              "#fdca26"
             ],
             [
              1,
              "#f0f921"
             ]
            ],
            "type": "contour"
           }
          ],
          "contourcarpet": [
           {
            "colorbar": {
             "outlinewidth": 0,
             "ticks": ""
            },
            "type": "contourcarpet"
           }
          ],
          "heatmap": [
           {
            "colorbar": {
             "outlinewidth": 0,
             "ticks": ""
            },
            "colorscale": [
             [
              0,
              "#0d0887"
             ],
             [
              0.1111111111111111,
              "#46039f"
             ],
             [
              0.2222222222222222,
              "#7201a8"
             ],
             [
              0.3333333333333333,
              "#9c179e"
             ],
             [
              0.4444444444444444,
              "#bd3786"
             ],
             [
              0.5555555555555556,
              "#d8576b"
             ],
             [
              0.6666666666666666,
              "#ed7953"
             ],
             [
              0.7777777777777778,
              "#fb9f3a"
             ],
             [
              0.8888888888888888,
              "#fdca26"
             ],
             [
              1,
              "#f0f921"
             ]
            ],
            "type": "heatmap"
           }
          ],
          "heatmapgl": [
           {
            "colorbar": {
             "outlinewidth": 0,
             "ticks": ""
            },
            "colorscale": [
             [
              0,
              "#0d0887"
             ],
             [
              0.1111111111111111,
              "#46039f"
             ],
             [
              0.2222222222222222,
              "#7201a8"
             ],
             [
              0.3333333333333333,
              "#9c179e"
             ],
             [
              0.4444444444444444,
              "#bd3786"
             ],
             [
              0.5555555555555556,
              "#d8576b"
             ],
             [
              0.6666666666666666,
              "#ed7953"
             ],
             [
              0.7777777777777778,
              "#fb9f3a"
             ],
             [
              0.8888888888888888,
              "#fdca26"
             ],
             [
              1,
              "#f0f921"
             ]
            ],
            "type": "heatmapgl"
           }
          ],
          "histogram": [
           {
            "marker": {
             "pattern": {
              "fillmode": "overlay",
              "size": 10,
              "solidity": 0.2
             }
            },
            "type": "histogram"
           }
          ],
          "histogram2d": [
           {
            "colorbar": {
             "outlinewidth": 0,
             "ticks": ""
            },
            "colorscale": [
             [
              0,
              "#0d0887"
             ],
             [
              0.1111111111111111,
              "#46039f"
             ],
             [
              0.2222222222222222,
              "#7201a8"
             ],
             [
              0.3333333333333333,
              "#9c179e"
             ],
             [
              0.4444444444444444,
              "#bd3786"
             ],
             [
              0.5555555555555556,
              "#d8576b"
             ],
             [
              0.6666666666666666,
              "#ed7953"
             ],
             [
              0.7777777777777778,
              "#fb9f3a"
             ],
             [
              0.8888888888888888,
              "#fdca26"
             ],
             [
              1,
              "#f0f921"
             ]
            ],
            "type": "histogram2d"
           }
          ],
          "histogram2dcontour": [
           {
            "colorbar": {
             "outlinewidth": 0,
             "ticks": ""
            },
            "colorscale": [
             [
              0,
              "#0d0887"
             ],
             [
              0.1111111111111111,
              "#46039f"
             ],
             [
              0.2222222222222222,
              "#7201a8"
             ],
             [
              0.3333333333333333,
              "#9c179e"
             ],
             [
              0.4444444444444444,
              "#bd3786"
             ],
             [
              0.5555555555555556,
              "#d8576b"
             ],
             [
              0.6666666666666666,
              "#ed7953"
             ],
             [
              0.7777777777777778,
              "#fb9f3a"
             ],
             [
              0.8888888888888888,
              "#fdca26"
             ],
             [
              1,
              "#f0f921"
             ]
            ],
            "type": "histogram2dcontour"
           }
          ],
          "mesh3d": [
           {
            "colorbar": {
             "outlinewidth": 0,
             "ticks": ""
            },
            "type": "mesh3d"
           }
          ],
          "parcoords": [
           {
            "line": {
             "colorbar": {
              "outlinewidth": 0,
              "ticks": ""
             }
            },
            "type": "parcoords"
           }
          ],
          "pie": [
           {
            "automargin": true,
            "type": "pie"
           }
          ],
          "scatter": [
           {
            "fillpattern": {
             "fillmode": "overlay",
             "size": 10,
             "solidity": 0.2
            },
            "type": "scatter"
           }
          ],
          "scatter3d": [
           {
            "line": {
             "colorbar": {
              "outlinewidth": 0,
              "ticks": ""
             }
            },
            "marker": {
             "colorbar": {
              "outlinewidth": 0,
              "ticks": ""
             }
            },
            "type": "scatter3d"
           }
          ],
          "scattercarpet": [
           {
            "marker": {
             "colorbar": {
              "outlinewidth": 0,
              "ticks": ""
             }
            },
            "type": "scattercarpet"
           }
          ],
          "scattergeo": [
           {
            "marker": {
             "colorbar": {
              "outlinewidth": 0,
              "ticks": ""
             }
            },
            "type": "scattergeo"
           }
          ],
          "scattergl": [
           {
            "marker": {
             "colorbar": {
              "outlinewidth": 0,
              "ticks": ""
             }
            },
            "type": "scattergl"
           }
          ],
          "scattermapbox": [
           {
            "marker": {
             "colorbar": {
              "outlinewidth": 0,
              "ticks": ""
             }
            },
            "type": "scattermapbox"
           }
          ],
          "scatterpolar": [
           {
            "marker": {
             "colorbar": {
              "outlinewidth": 0,
              "ticks": ""
             }
            },
            "type": "scatterpolar"
           }
          ],
          "scatterpolargl": [
           {
            "marker": {
             "colorbar": {
              "outlinewidth": 0,
              "ticks": ""
             }
            },
            "type": "scatterpolargl"
           }
          ],
          "scatterternary": [
           {
            "marker": {
             "colorbar": {
              "outlinewidth": 0,
              "ticks": ""
             }
            },
            "type": "scatterternary"
           }
          ],
          "surface": [
           {
            "colorbar": {
             "outlinewidth": 0,
             "ticks": ""
            },
            "colorscale": [
             [
              0,
              "#0d0887"
             ],
             [
              0.1111111111111111,
              "#46039f"
             ],
             [
              0.2222222222222222,
              "#7201a8"
             ],
             [
              0.3333333333333333,
              "#9c179e"
             ],
             [
              0.4444444444444444,
              "#bd3786"
             ],
             [
              0.5555555555555556,
              "#d8576b"
             ],
             [
              0.6666666666666666,
              "#ed7953"
             ],
             [
              0.7777777777777778,
              "#fb9f3a"
             ],
             [
              0.8888888888888888,
              "#fdca26"
             ],
             [
              1,
              "#f0f921"
             ]
            ],
            "type": "surface"
           }
          ],
          "table": [
           {
            "cells": {
             "fill": {
              "color": "#EBF0F8"
             },
             "line": {
              "color": "white"
             }
            },
            "header": {
             "fill": {
              "color": "#C8D4E3"
             },
             "line": {
              "color": "white"
             }
            },
            "type": "table"
           }
          ]
         },
         "layout": {
          "annotationdefaults": {
           "arrowcolor": "#2a3f5f",
           "arrowhead": 0,
           "arrowwidth": 1
          },
          "autotypenumbers": "strict",
          "coloraxis": {
           "colorbar": {
            "outlinewidth": 0,
            "ticks": ""
           }
          },
          "colorscale": {
           "diverging": [
            [
             0,
             "#8e0152"
            ],
            [
             0.1,
             "#c51b7d"
            ],
            [
             0.2,
             "#de77ae"
            ],
            [
             0.3,
             "#f1b6da"
            ],
            [
             0.4,
             "#fde0ef"
            ],
            [
             0.5,
             "#f7f7f7"
            ],
            [
             0.6,
             "#e6f5d0"
            ],
            [
             0.7,
             "#b8e186"
            ],
            [
             0.8,
             "#7fbc41"
            ],
            [
             0.9,
             "#4d9221"
            ],
            [
             1,
             "#276419"
            ]
           ],
           "sequential": [
            [
             0,
             "#0d0887"
            ],
            [
             0.1111111111111111,
             "#46039f"
            ],
            [
             0.2222222222222222,
             "#7201a8"
            ],
            [
             0.3333333333333333,
             "#9c179e"
            ],
            [
             0.4444444444444444,
             "#bd3786"
            ],
            [
             0.5555555555555556,
             "#d8576b"
            ],
            [
             0.6666666666666666,
             "#ed7953"
            ],
            [
             0.7777777777777778,
             "#fb9f3a"
            ],
            [
             0.8888888888888888,
             "#fdca26"
            ],
            [
             1,
             "#f0f921"
            ]
           ],
           "sequentialminus": [
            [
             0,
             "#0d0887"
            ],
            [
             0.1111111111111111,
             "#46039f"
            ],
            [
             0.2222222222222222,
             "#7201a8"
            ],
            [
             0.3333333333333333,
             "#9c179e"
            ],
            [
             0.4444444444444444,
             "#bd3786"
            ],
            [
             0.5555555555555556,
             "#d8576b"
            ],
            [
             0.6666666666666666,
             "#ed7953"
            ],
            [
             0.7777777777777778,
             "#fb9f3a"
            ],
            [
             0.8888888888888888,
             "#fdca26"
            ],
            [
             1,
             "#f0f921"
            ]
           ]
          },
          "colorway": [
           "#636efa",
           "#EF553B",
           "#00cc96",
           "#ab63fa",
           "#FFA15A",
           "#19d3f3",
           "#FF6692",
           "#B6E880",
           "#FF97FF",
           "#FECB52"
          ],
          "font": {
           "color": "#2a3f5f"
          },
          "geo": {
           "bgcolor": "white",
           "lakecolor": "white",
           "landcolor": "white",
           "showlakes": true,
           "showland": true,
           "subunitcolor": "#C8D4E3"
          },
          "hoverlabel": {
           "align": "left"
          },
          "hovermode": "closest",
          "mapbox": {
           "style": "light"
          },
          "paper_bgcolor": "white",
          "plot_bgcolor": "white",
          "polar": {
           "angularaxis": {
            "gridcolor": "#EBF0F8",
            "linecolor": "#EBF0F8",
            "ticks": ""
           },
           "bgcolor": "white",
           "radialaxis": {
            "gridcolor": "#EBF0F8",
            "linecolor": "#EBF0F8",
            "ticks": ""
           }
          },
          "scene": {
           "xaxis": {
            "backgroundcolor": "white",
            "gridcolor": "#DFE8F3",
            "gridwidth": 2,
            "linecolor": "#EBF0F8",
            "showbackground": true,
            "ticks": "",
            "zerolinecolor": "#EBF0F8"
           },
           "yaxis": {
            "backgroundcolor": "white",
            "gridcolor": "#DFE8F3",
            "gridwidth": 2,
            "linecolor": "#EBF0F8",
            "showbackground": true,
            "ticks": "",
            "zerolinecolor": "#EBF0F8"
           },
           "zaxis": {
            "backgroundcolor": "white",
            "gridcolor": "#DFE8F3",
            "gridwidth": 2,
            "linecolor": "#EBF0F8",
            "showbackground": true,
            "ticks": "",
            "zerolinecolor": "#EBF0F8"
           }
          },
          "shapedefaults": {
           "line": {
            "color": "#2a3f5f"
           }
          },
          "ternary": {
           "aaxis": {
            "gridcolor": "#DFE8F3",
            "linecolor": "#A2B1C6",
            "ticks": ""
           },
           "baxis": {
            "gridcolor": "#DFE8F3",
            "linecolor": "#A2B1C6",
            "ticks": ""
           },
           "bgcolor": "white",
           "caxis": {
            "gridcolor": "#DFE8F3",
            "linecolor": "#A2B1C6",
            "ticks": ""
           }
          },
          "title": {
           "x": 0.05
          },
          "xaxis": {
           "automargin": true,
           "gridcolor": "#EBF0F8",
           "linecolor": "#EBF0F8",
           "ticks": "",
           "title": {
            "standoff": 15
           },
           "zerolinecolor": "#EBF0F8",
           "zerolinewidth": 2
          },
          "yaxis": {
           "automargin": true,
           "gridcolor": "#EBF0F8",
           "linecolor": "#EBF0F8",
           "ticks": "",
           "title": {
            "standoff": 15
           },
           "zerolinecolor": "#EBF0F8",
           "zerolinewidth": 2
          }
         }
        },
        "title": {
         "text": "CTR & CPC per Campaign"
        },
        "xaxis": {
         "title": {
          "text": "Campaigns"
         }
        },
        "yaxis": {
         "tickformat": ".2%",
         "title": {
          "text": "Click-Through Rate (CTR %)"
         }
        },
        "yaxis2": {
         "overlaying": "y",
         "side": "right",
         "title": {
          "text": "Average CPC ($)"
         }
        }
       }
      },
      "text/html": [
       "<div>                            <div id=\"0dbd9f70-d929-4dcf-ad06-899ee5650296\" class=\"plotly-graph-div\" style=\"height:525px; width:100%;\"></div>            <script type=\"text/javascript\">                require([\"plotly\"], function(Plotly) {                    window.PLOTLYENV=window.PLOTLYENV || {};                                    if (document.getElementById(\"0dbd9f70-d929-4dcf-ad06-899ee5650296\")) {                    Plotly.newPlot(                        \"0dbd9f70-d929-4dcf-ad06-899ee5650296\",                        [{\"marker\":{\"color\":\"royalblue\"},\"name\":\"CTR (%)\",\"text\":[0.53,0.38,0.24,0.01],\"textposition\":\"outside\",\"x\":[1,3,7,15],\"y\":[0.5292373037857803,0.3826556578947369,0.23573353174603173,0.005126091081593928],\"yaxis\":\"y\",\"type\":\"bar\"},{\"marker\":{\"color\":\"red\"},\"mode\":\"lines+markers\",\"name\":\"Avg CPC ($)\",\"x\":[1,3,7,15],\"y\":[0.029732225300092337,0.06078947368421053,0.17996031746031746,0.06336812144212524],\"yaxis\":\"y2\",\"type\":\"scatter\"}],                        {\"template\":{\"data\":{\"barpolar\":[{\"marker\":{\"line\":{\"color\":\"white\",\"width\":0.5},\"pattern\":{\"fillmode\":\"overlay\",\"size\":10,\"solidity\":0.2}},\"type\":\"barpolar\"}],\"bar\":[{\"error_x\":{\"color\":\"#2a3f5f\"},\"error_y\":{\"color\":\"#2a3f5f\"},\"marker\":{\"line\":{\"color\":\"white\",\"width\":0.5},\"pattern\":{\"fillmode\":\"overlay\",\"size\":10,\"solidity\":0.2}},\"type\":\"bar\"}],\"carpet\":[{\"aaxis\":{\"endlinecolor\":\"#2a3f5f\",\"gridcolor\":\"#C8D4E3\",\"linecolor\":\"#C8D4E3\",\"minorgridcolor\":\"#C8D4E3\",\"startlinecolor\":\"#2a3f5f\"},\"baxis\":{\"endlinecolor\":\"#2a3f5f\",\"gridcolor\":\"#C8D4E3\",\"linecolor\":\"#C8D4E3\",\"minorgridcolor\":\"#C8D4E3\",\"startlinecolor\":\"#2a3f5f\"},\"type\":\"carpet\"}],\"choropleth\":[{\"colorbar\":{\"outlinewidth\":0,\"ticks\":\"\"},\"type\":\"choropleth\"}],\"contourcarpet\":[{\"colorbar\":{\"outlinewidth\":0,\"ticks\":\"\"},\"type\":\"contourcarpet\"}],\"contour\":[{\"colorbar\":{\"outlinewidth\":0,\"ticks\":\"\"},\"colorscale\":[[0.0,\"#0d0887\"],[0.1111111111111111,\"#46039f\"],[0.2222222222222222,\"#7201a8\"],[0.3333333333333333,\"#9c179e\"],[0.4444444444444444,\"#bd3786\"],[0.5555555555555556,\"#d8576b\"],[0.6666666666666666,\"#ed7953\"],[0.7777777777777778,\"#fb9f3a\"],[0.8888888888888888,\"#fdca26\"],[1.0,\"#f0f921\"]],\"type\":\"contour\"}],\"heatmapgl\":[{\"colorbar\":{\"outlinewidth\":0,\"ticks\":\"\"},\"colorscale\":[[0.0,\"#0d0887\"],[0.1111111111111111,\"#46039f\"],[0.2222222222222222,\"#7201a8\"],[0.3333333333333333,\"#9c179e\"],[0.4444444444444444,\"#bd3786\"],[0.5555555555555556,\"#d8576b\"],[0.6666666666666666,\"#ed7953\"],[0.7777777777777778,\"#fb9f3a\"],[0.8888888888888888,\"#fdca26\"],[1.0,\"#f0f921\"]],\"type\":\"heatmapgl\"}],\"heatmap\":[{\"colorbar\":{\"outlinewidth\":0,\"ticks\":\"\"},\"colorscale\":[[0.0,\"#0d0887\"],[0.1111111111111111,\"#46039f\"],[0.2222222222222222,\"#7201a8\"],[0.3333333333333333,\"#9c179e\"],[0.4444444444444444,\"#bd3786\"],[0.5555555555555556,\"#d8576b\"],[0.6666666666666666,\"#ed7953\"],[0.7777777777777778,\"#fb9f3a\"],[0.8888888888888888,\"#fdca26\"],[1.0,\"#f0f921\"]],\"type\":\"heatmap\"}],\"histogram2dcontour\":[{\"colorbar\":{\"outlinewidth\":0,\"ticks\":\"\"},\"colorscale\":[[0.0,\"#0d0887\"],[0.1111111111111111,\"#46039f\"],[0.2222222222222222,\"#7201a8\"],[0.3333333333333333,\"#9c179e\"],[0.4444444444444444,\"#bd3786\"],[0.5555555555555556,\"#d8576b\"],[0.6666666666666666,\"#ed7953\"],[0.7777777777777778,\"#fb9f3a\"],[0.8888888888888888,\"#fdca26\"],[1.0,\"#f0f921\"]],\"type\":\"histogram2dcontour\"}],\"histogram2d\":[{\"colorbar\":{\"outlinewidth\":0,\"ticks\":\"\"},\"colorscale\":[[0.0,\"#0d0887\"],[0.1111111111111111,\"#46039f\"],[0.2222222222222222,\"#7201a8\"],[0.3333333333333333,\"#9c179e\"],[0.4444444444444444,\"#bd3786\"],[0.5555555555555556,\"#d8576b\"],[0.6666666666666666,\"#ed7953\"],[0.7777777777777778,\"#fb9f3a\"],[0.8888888888888888,\"#fdca26\"],[1.0,\"#f0f921\"]],\"type\":\"histogram2d\"}],\"histogram\":[{\"marker\":{\"pattern\":{\"fillmode\":\"overlay\",\"size\":10,\"solidity\":0.2}},\"type\":\"histogram\"}],\"mesh3d\":[{\"colorbar\":{\"outlinewidth\":0,\"ticks\":\"\"},\"type\":\"mesh3d\"}],\"parcoords\":[{\"line\":{\"colorbar\":{\"outlinewidth\":0,\"ticks\":\"\"}},\"type\":\"parcoords\"}],\"pie\":[{\"automargin\":true,\"type\":\"pie\"}],\"scatter3d\":[{\"line\":{\"colorbar\":{\"outlinewidth\":0,\"ticks\":\"\"}},\"marker\":{\"colorbar\":{\"outlinewidth\":0,\"ticks\":\"\"}},\"type\":\"scatter3d\"}],\"scattercarpet\":[{\"marker\":{\"colorbar\":{\"outlinewidth\":0,\"ticks\":\"\"}},\"type\":\"scattercarpet\"}],\"scattergeo\":[{\"marker\":{\"colorbar\":{\"outlinewidth\":0,\"ticks\":\"\"}},\"type\":\"scattergeo\"}],\"scattergl\":[{\"marker\":{\"colorbar\":{\"outlinewidth\":0,\"ticks\":\"\"}},\"type\":\"scattergl\"}],\"scattermapbox\":[{\"marker\":{\"colorbar\":{\"outlinewidth\":0,\"ticks\":\"\"}},\"type\":\"scattermapbox\"}],\"scatterpolargl\":[{\"marker\":{\"colorbar\":{\"outlinewidth\":0,\"ticks\":\"\"}},\"type\":\"scatterpolargl\"}],\"scatterpolar\":[{\"marker\":{\"colorbar\":{\"outlinewidth\":0,\"ticks\":\"\"}},\"type\":\"scatterpolar\"}],\"scatter\":[{\"fillpattern\":{\"fillmode\":\"overlay\",\"size\":10,\"solidity\":0.2},\"type\":\"scatter\"}],\"scatterternary\":[{\"marker\":{\"colorbar\":{\"outlinewidth\":0,\"ticks\":\"\"}},\"type\":\"scatterternary\"}],\"surface\":[{\"colorbar\":{\"outlinewidth\":0,\"ticks\":\"\"},\"colorscale\":[[0.0,\"#0d0887\"],[0.1111111111111111,\"#46039f\"],[0.2222222222222222,\"#7201a8\"],[0.3333333333333333,\"#9c179e\"],[0.4444444444444444,\"#bd3786\"],[0.5555555555555556,\"#d8576b\"],[0.6666666666666666,\"#ed7953\"],[0.7777777777777778,\"#fb9f3a\"],[0.8888888888888888,\"#fdca26\"],[1.0,\"#f0f921\"]],\"type\":\"surface\"}],\"table\":[{\"cells\":{\"fill\":{\"color\":\"#EBF0F8\"},\"line\":{\"color\":\"white\"}},\"header\":{\"fill\":{\"color\":\"#C8D4E3\"},\"line\":{\"color\":\"white\"}},\"type\":\"table\"}]},\"layout\":{\"annotationdefaults\":{\"arrowcolor\":\"#2a3f5f\",\"arrowhead\":0,\"arrowwidth\":1},\"autotypenumbers\":\"strict\",\"coloraxis\":{\"colorbar\":{\"outlinewidth\":0,\"ticks\":\"\"}},\"colorscale\":{\"diverging\":[[0,\"#8e0152\"],[0.1,\"#c51b7d\"],[0.2,\"#de77ae\"],[0.3,\"#f1b6da\"],[0.4,\"#fde0ef\"],[0.5,\"#f7f7f7\"],[0.6,\"#e6f5d0\"],[0.7,\"#b8e186\"],[0.8,\"#7fbc41\"],[0.9,\"#4d9221\"],[1,\"#276419\"]],\"sequential\":[[0.0,\"#0d0887\"],[0.1111111111111111,\"#46039f\"],[0.2222222222222222,\"#7201a8\"],[0.3333333333333333,\"#9c179e\"],[0.4444444444444444,\"#bd3786\"],[0.5555555555555556,\"#d8576b\"],[0.6666666666666666,\"#ed7953\"],[0.7777777777777778,\"#fb9f3a\"],[0.8888888888888888,\"#fdca26\"],[1.0,\"#f0f921\"]],\"sequentialminus\":[[0.0,\"#0d0887\"],[0.1111111111111111,\"#46039f\"],[0.2222222222222222,\"#7201a8\"],[0.3333333333333333,\"#9c179e\"],[0.4444444444444444,\"#bd3786\"],[0.5555555555555556,\"#d8576b\"],[0.6666666666666666,\"#ed7953\"],[0.7777777777777778,\"#fb9f3a\"],[0.8888888888888888,\"#fdca26\"],[1.0,\"#f0f921\"]]},\"colorway\":[\"#636efa\",\"#EF553B\",\"#00cc96\",\"#ab63fa\",\"#FFA15A\",\"#19d3f3\",\"#FF6692\",\"#B6E880\",\"#FF97FF\",\"#FECB52\"],\"font\":{\"color\":\"#2a3f5f\"},\"geo\":{\"bgcolor\":\"white\",\"lakecolor\":\"white\",\"landcolor\":\"white\",\"showlakes\":true,\"showland\":true,\"subunitcolor\":\"#C8D4E3\"},\"hoverlabel\":{\"align\":\"left\"},\"hovermode\":\"closest\",\"mapbox\":{\"style\":\"light\"},\"paper_bgcolor\":\"white\",\"plot_bgcolor\":\"white\",\"polar\":{\"angularaxis\":{\"gridcolor\":\"#EBF0F8\",\"linecolor\":\"#EBF0F8\",\"ticks\":\"\"},\"bgcolor\":\"white\",\"radialaxis\":{\"gridcolor\":\"#EBF0F8\",\"linecolor\":\"#EBF0F8\",\"ticks\":\"\"}},\"scene\":{\"xaxis\":{\"backgroundcolor\":\"white\",\"gridcolor\":\"#DFE8F3\",\"gridwidth\":2,\"linecolor\":\"#EBF0F8\",\"showbackground\":true,\"ticks\":\"\",\"zerolinecolor\":\"#EBF0F8\"},\"yaxis\":{\"backgroundcolor\":\"white\",\"gridcolor\":\"#DFE8F3\",\"gridwidth\":2,\"linecolor\":\"#EBF0F8\",\"showbackground\":true,\"ticks\":\"\",\"zerolinecolor\":\"#EBF0F8\"},\"zaxis\":{\"backgroundcolor\":\"white\",\"gridcolor\":\"#DFE8F3\",\"gridwidth\":2,\"linecolor\":\"#EBF0F8\",\"showbackground\":true,\"ticks\":\"\",\"zerolinecolor\":\"#EBF0F8\"}},\"shapedefaults\":{\"line\":{\"color\":\"#2a3f5f\"}},\"ternary\":{\"aaxis\":{\"gridcolor\":\"#DFE8F3\",\"linecolor\":\"#A2B1C6\",\"ticks\":\"\"},\"baxis\":{\"gridcolor\":\"#DFE8F3\",\"linecolor\":\"#A2B1C6\",\"ticks\":\"\"},\"bgcolor\":\"white\",\"caxis\":{\"gridcolor\":\"#DFE8F3\",\"linecolor\":\"#A2B1C6\",\"ticks\":\"\"}},\"title\":{\"x\":0.05},\"xaxis\":{\"automargin\":true,\"gridcolor\":\"#EBF0F8\",\"linecolor\":\"#EBF0F8\",\"ticks\":\"\",\"title\":{\"standoff\":15},\"zerolinecolor\":\"#EBF0F8\",\"zerolinewidth\":2},\"yaxis\":{\"automargin\":true,\"gridcolor\":\"#EBF0F8\",\"linecolor\":\"#EBF0F8\",\"ticks\":\"\",\"title\":{\"standoff\":15},\"zerolinecolor\":\"#EBF0F8\",\"zerolinewidth\":2}}},\"yaxis\":{\"title\":{\"text\":\"Click-Through Rate (CTR %)\"},\"tickformat\":\".2%\"},\"yaxis2\":{\"title\":{\"text\":\"Average CPC ($)\"},\"overlaying\":\"y\",\"side\":\"right\"},\"legend\":{\"x\":0.8,\"y\":1.1},\"title\":{\"text\":\"CTR & CPC per Campaign\"},\"xaxis\":{\"title\":{\"text\":\"Campaigns\"}}},                        {\"responsive\": true}                    ).then(function(){\n",
       "                            \n",
       "var gd = document.getElementById('0dbd9f70-d929-4dcf-ad06-899ee5650296');\n",
       "var x = new MutationObserver(function (mutations, observer) {{\n",
       "        var display = window.getComputedStyle(gd).display;\n",
       "        if (!display || display === 'none') {{\n",
       "            console.log([gd, 'removed!']);\n",
       "            Plotly.purge(gd);\n",
       "            observer.disconnect();\n",
       "        }}\n",
       "}});\n",
       "\n",
       "// Listen for the removal of the full notebook cells\n",
       "var notebookContainer = gd.closest('#notebook-container');\n",
       "if (notebookContainer) {{\n",
       "    x.observe(notebookContainer, {childList: true});\n",
       "}}\n",
       "\n",
       "// Listen for the clearing of the current output cell\n",
       "var outputEl = gd.closest('.output');\n",
       "if (outputEl) {{\n",
       "    x.observe(outputEl, {childList: true});\n",
       "}}\n",
       "\n",
       "                        })                };                });            </script>        </div>"
      ]
     },
     "metadata": {},
     "output_type": "display_data"
    }
   ],
   "source": [
    "campaign_metrics = df.groupby(\"Campaign\")[[\"CTR\", \"Avg. CPC\"]].mean().reset_index()\n",
    "\n",
    "fig = go.Figure()\n",
    "\n",
    "fig.add_trace(go.Bar(\n",
    "    x=campaign_metrics[\"Campaign\"],\n",
    "    y=campaign_metrics[\"CTR\"],\n",
    "    name=\"CTR (%)\",\n",
    "    marker=dict(color=\"royalblue\"),\n",
    "    text=campaign_metrics[\"CTR\"].round(2),\n",
    "    textposition=\"outside\",\n",
    "    yaxis=\"y1\"\n",
    "))\n",
    "\n",
    "fig.add_trace(go.Scatter(\n",
    "    x=campaign_metrics[\"Campaign\"],\n",
    "    y=campaign_metrics[\"Avg. CPC\"],\n",
    "    name=\"Avg CPC ($)\",\n",
    "    mode=\"lines+markers\",\n",
    "    marker=dict(color=\"red\"),\n",
    "    yaxis=\"y2\"\n",
    "))\n",
    "\n",
    "fig.update_layout(\n",
    "    title=\"CTR & CPC per Campaign\",\n",
    "    xaxis=dict(title=\"Campaigns\"),\n",
    "    yaxis=dict(title=\"Click-Through Rate (CTR %)\", tickformat=\".2%\"),\n",
    "    yaxis2=dict(title=\"Average CPC ($)\", overlaying=\"y\", side=\"right\"),\n",
    "    template=\"plotly_white\",\n",
    "    legend=dict(x=0.8, y=1.1)\n",
    ")\n",
    "\n",
    "fig.show()"
   ]
  },
  {
   "cell_type": "markdown",
   "id": "b541b5a9",
   "metadata": {},
   "source": [
    "# Campaign 1"
   ]
  },
  {
   "cell_type": "code",
   "execution_count": 45,
   "id": "476448f4",
   "metadata": {},
   "outputs": [],
   "source": [
    "df_3=df[df['Campaign']==1]"
   ]
  },
  {
   "cell_type": "code",
   "execution_count": 46,
   "id": "ca50c0cb",
   "metadata": {},
   "outputs": [
    {
     "data": {
      "text/html": [
       "<div>\n",
       "<style scoped>\n",
       "    .dataframe tbody tr th:only-of-type {\n",
       "        vertical-align: middle;\n",
       "    }\n",
       "\n",
       "    .dataframe tbody tr th {\n",
       "        vertical-align: top;\n",
       "    }\n",
       "\n",
       "    .dataframe thead th {\n",
       "        text-align: right;\n",
       "    }\n",
       "</style>\n",
       "<table border=\"1\" class=\"dataframe\">\n",
       "  <thead>\n",
       "    <tr style=\"text-align: right;\">\n",
       "      <th></th>\n",
       "      <th>Day</th>\n",
       "      <th>Campaign</th>\n",
       "      <th>AdGroup</th>\n",
       "      <th>Clicks</th>\n",
       "      <th>Impressions</th>\n",
       "      <th>CTR</th>\n",
       "      <th>Avg. CPC</th>\n",
       "      <th>Cost</th>\n",
       "      <th>Avg. position</th>\n",
       "      <th>Conversions</th>\n",
       "      <th>Cost/conversion</th>\n",
       "      <th>Conversion rate</th>\n",
       "      <th>View-through conv.</th>\n",
       "      <th>Total conv. value</th>\n",
       "      <th>Month</th>\n",
       "    </tr>\n",
       "  </thead>\n",
       "  <tbody>\n",
       "    <tr>\n",
       "      <th>0</th>\n",
       "      <td>2013-08-05</td>\n",
       "      <td>1</td>\n",
       "      <td>100</td>\n",
       "      <td>0</td>\n",
       "      <td>1</td>\n",
       "      <td>0.0000</td>\n",
       "      <td>0.00</td>\n",
       "      <td>0.00</td>\n",
       "      <td>1.0</td>\n",
       "      <td>0</td>\n",
       "      <td>0.00</td>\n",
       "      <td>0.0000</td>\n",
       "      <td>0</td>\n",
       "      <td>0.00</td>\n",
       "      <td>2013-08</td>\n",
       "    </tr>\n",
       "    <tr>\n",
       "      <th>1</th>\n",
       "      <td>2013-08-08</td>\n",
       "      <td>1</td>\n",
       "      <td>100</td>\n",
       "      <td>1</td>\n",
       "      <td>3</td>\n",
       "      <td>0.3333</td>\n",
       "      <td>0.03</td>\n",
       "      <td>0.03</td>\n",
       "      <td>1.0</td>\n",
       "      <td>0</td>\n",
       "      <td>0.00</td>\n",
       "      <td>0.0000</td>\n",
       "      <td>0</td>\n",
       "      <td>0.00</td>\n",
       "      <td>2013-08</td>\n",
       "    </tr>\n",
       "    <tr>\n",
       "      <th>2</th>\n",
       "      <td>2013-08-10</td>\n",
       "      <td>1</td>\n",
       "      <td>100</td>\n",
       "      <td>0</td>\n",
       "      <td>4</td>\n",
       "      <td>0.0000</td>\n",
       "      <td>0.00</td>\n",
       "      <td>0.00</td>\n",
       "      <td>1.0</td>\n",
       "      <td>0</td>\n",
       "      <td>0.00</td>\n",
       "      <td>0.0000</td>\n",
       "      <td>0</td>\n",
       "      <td>0.00</td>\n",
       "      <td>2013-08</td>\n",
       "    </tr>\n",
       "    <tr>\n",
       "      <th>3</th>\n",
       "      <td>2013-08-14</td>\n",
       "      <td>1</td>\n",
       "      <td>100</td>\n",
       "      <td>0</td>\n",
       "      <td>1</td>\n",
       "      <td>0.0000</td>\n",
       "      <td>0.00</td>\n",
       "      <td>0.00</td>\n",
       "      <td>1.0</td>\n",
       "      <td>0</td>\n",
       "      <td>0.00</td>\n",
       "      <td>0.0000</td>\n",
       "      <td>0</td>\n",
       "      <td>0.00</td>\n",
       "      <td>2013-08</td>\n",
       "    </tr>\n",
       "    <tr>\n",
       "      <th>4</th>\n",
       "      <td>2013-08-18</td>\n",
       "      <td>1</td>\n",
       "      <td>100</td>\n",
       "      <td>0</td>\n",
       "      <td>1</td>\n",
       "      <td>0.0000</td>\n",
       "      <td>0.00</td>\n",
       "      <td>0.00</td>\n",
       "      <td>1.0</td>\n",
       "      <td>0</td>\n",
       "      <td>0.00</td>\n",
       "      <td>0.0000</td>\n",
       "      <td>0</td>\n",
       "      <td>0.00</td>\n",
       "      <td>2013-08</td>\n",
       "    </tr>\n",
       "    <tr>\n",
       "      <th>...</th>\n",
       "      <td>...</td>\n",
       "      <td>...</td>\n",
       "      <td>...</td>\n",
       "      <td>...</td>\n",
       "      <td>...</td>\n",
       "      <td>...</td>\n",
       "      <td>...</td>\n",
       "      <td>...</td>\n",
       "      <td>...</td>\n",
       "      <td>...</td>\n",
       "      <td>...</td>\n",
       "      <td>...</td>\n",
       "      <td>...</td>\n",
       "      <td>...</td>\n",
       "      <td>...</td>\n",
       "    </tr>\n",
       "    <tr>\n",
       "      <th>1078</th>\n",
       "      <td>2013-09-23</td>\n",
       "      <td>1</td>\n",
       "      <td>493</td>\n",
       "      <td>1602</td>\n",
       "      <td>2947</td>\n",
       "      <td>0.5436</td>\n",
       "      <td>0.02</td>\n",
       "      <td>35.43</td>\n",
       "      <td>1.0</td>\n",
       "      <td>45</td>\n",
       "      <td>0.79</td>\n",
       "      <td>0.0281</td>\n",
       "      <td>0</td>\n",
       "      <td>2805.61</td>\n",
       "      <td>2013-09</td>\n",
       "    </tr>\n",
       "    <tr>\n",
       "      <th>1079</th>\n",
       "      <td>2013-09-24</td>\n",
       "      <td>1</td>\n",
       "      <td>493</td>\n",
       "      <td>1443</td>\n",
       "      <td>2752</td>\n",
       "      <td>0.5243</td>\n",
       "      <td>0.02</td>\n",
       "      <td>30.85</td>\n",
       "      <td>1.0</td>\n",
       "      <td>47</td>\n",
       "      <td>0.66</td>\n",
       "      <td>0.0326</td>\n",
       "      <td>0</td>\n",
       "      <td>1934.10</td>\n",
       "      <td>2013-09</td>\n",
       "    </tr>\n",
       "    <tr>\n",
       "      <th>1080</th>\n",
       "      <td>2013-09-25</td>\n",
       "      <td>1</td>\n",
       "      <td>493</td>\n",
       "      <td>1406</td>\n",
       "      <td>2670</td>\n",
       "      <td>0.5266</td>\n",
       "      <td>0.02</td>\n",
       "      <td>31.30</td>\n",
       "      <td>1.0</td>\n",
       "      <td>41</td>\n",
       "      <td>0.76</td>\n",
       "      <td>0.0292</td>\n",
       "      <td>0</td>\n",
       "      <td>2531.31</td>\n",
       "      <td>2013-09</td>\n",
       "    </tr>\n",
       "    <tr>\n",
       "      <th>1081</th>\n",
       "      <td>2013-09-26</td>\n",
       "      <td>1</td>\n",
       "      <td>493</td>\n",
       "      <td>1561</td>\n",
       "      <td>2606</td>\n",
       "      <td>0.5990</td>\n",
       "      <td>0.02</td>\n",
       "      <td>32.55</td>\n",
       "      <td>1.0</td>\n",
       "      <td>30</td>\n",
       "      <td>1.08</td>\n",
       "      <td>0.0192</td>\n",
       "      <td>0</td>\n",
       "      <td>1908.10</td>\n",
       "      <td>2013-09</td>\n",
       "    </tr>\n",
       "    <tr>\n",
       "      <th>1082</th>\n",
       "      <td>2013-09-27</td>\n",
       "      <td>1</td>\n",
       "      <td>493</td>\n",
       "      <td>1271</td>\n",
       "      <td>2279</td>\n",
       "      <td>0.5577</td>\n",
       "      <td>0.02</td>\n",
       "      <td>26.12</td>\n",
       "      <td>1.0</td>\n",
       "      <td>19</td>\n",
       "      <td>1.37</td>\n",
       "      <td>0.0149</td>\n",
       "      <td>0</td>\n",
       "      <td>1227.70</td>\n",
       "      <td>2013-09</td>\n",
       "    </tr>\n",
       "  </tbody>\n",
       "</table>\n",
       "<p>1083 rows × 15 columns</p>\n",
       "</div>"
      ],
      "text/plain": [
       "            Day  Campaign  AdGroup  Clicks  Impressions     CTR  Avg. CPC  \\\n",
       "0    2013-08-05         1      100       0            1  0.0000      0.00   \n",
       "1    2013-08-08         1      100       1            3  0.3333      0.03   \n",
       "2    2013-08-10         1      100       0            4  0.0000      0.00   \n",
       "3    2013-08-14         1      100       0            1  0.0000      0.00   \n",
       "4    2013-08-18         1      100       0            1  0.0000      0.00   \n",
       "...         ...       ...      ...     ...          ...     ...       ...   \n",
       "1078 2013-09-23         1      493    1602         2947  0.5436      0.02   \n",
       "1079 2013-09-24         1      493    1443         2752  0.5243      0.02   \n",
       "1080 2013-09-25         1      493    1406         2670  0.5266      0.02   \n",
       "1081 2013-09-26         1      493    1561         2606  0.5990      0.02   \n",
       "1082 2013-09-27         1      493    1271         2279  0.5577      0.02   \n",
       "\n",
       "       Cost  Avg. position  Conversions  Cost/conversion  Conversion rate  \\\n",
       "0      0.00            1.0            0             0.00           0.0000   \n",
       "1      0.03            1.0            0             0.00           0.0000   \n",
       "2      0.00            1.0            0             0.00           0.0000   \n",
       "3      0.00            1.0            0             0.00           0.0000   \n",
       "4      0.00            1.0            0             0.00           0.0000   \n",
       "...     ...            ...          ...              ...              ...   \n",
       "1078  35.43            1.0           45             0.79           0.0281   \n",
       "1079  30.85            1.0           47             0.66           0.0326   \n",
       "1080  31.30            1.0           41             0.76           0.0292   \n",
       "1081  32.55            1.0           30             1.08           0.0192   \n",
       "1082  26.12            1.0           19             1.37           0.0149   \n",
       "\n",
       "      View-through conv.  Total conv. value    Month  \n",
       "0                      0               0.00  2013-08  \n",
       "1                      0               0.00  2013-08  \n",
       "2                      0               0.00  2013-08  \n",
       "3                      0               0.00  2013-08  \n",
       "4                      0               0.00  2013-08  \n",
       "...                  ...                ...      ...  \n",
       "1078                   0            2805.61  2013-09  \n",
       "1079                   0            1934.10  2013-09  \n",
       "1080                   0            2531.31  2013-09  \n",
       "1081                   0            1908.10  2013-09  \n",
       "1082                   0            1227.70  2013-09  \n",
       "\n",
       "[1083 rows x 15 columns]"
      ]
     },
     "execution_count": 46,
     "metadata": {},
     "output_type": "execute_result"
    }
   ],
   "source": [
    "df_3"
   ]
  },
  {
   "cell_type": "code",
   "execution_count": 47,
   "id": "729256ab",
   "metadata": {},
   "outputs": [
    {
     "data": {
      "text/html": [
       "<div>\n",
       "<style scoped>\n",
       "    .dataframe tbody tr th:only-of-type {\n",
       "        vertical-align: middle;\n",
       "    }\n",
       "\n",
       "    .dataframe tbody tr th {\n",
       "        vertical-align: top;\n",
       "    }\n",
       "\n",
       "    .dataframe thead th {\n",
       "        text-align: right;\n",
       "    }\n",
       "</style>\n",
       "<table border=\"1\" class=\"dataframe\">\n",
       "  <thead>\n",
       "    <tr style=\"text-align: right;\">\n",
       "      <th></th>\n",
       "      <th>AdGroup</th>\n",
       "      <th>Clicks</th>\n",
       "      <th>Impressions</th>\n",
       "      <th>CTR</th>\n",
       "      <th>Avg. CPC</th>\n",
       "      <th>Cost</th>\n",
       "      <th>Conversions</th>\n",
       "      <th>Conversion rate</th>\n",
       "      <th>Total conv. value</th>\n",
       "      <th>ROAS</th>\n",
       "    </tr>\n",
       "  </thead>\n",
       "  <tbody>\n",
       "    <tr>\n",
       "      <th>0</th>\n",
       "      <td>100</td>\n",
       "      <td>10</td>\n",
       "      <td>45</td>\n",
       "      <td>0.210143</td>\n",
       "      <td>0.013043</td>\n",
       "      <td>0.43</td>\n",
       "      <td>0</td>\n",
       "      <td>0.000000</td>\n",
       "      <td>0.00</td>\n",
       "      <td>0.000000</td>\n",
       "    </tr>\n",
       "    <tr>\n",
       "      <th>1</th>\n",
       "      <td>101</td>\n",
       "      <td>267</td>\n",
       "      <td>841</td>\n",
       "      <td>0.348581</td>\n",
       "      <td>0.050517</td>\n",
       "      <td>13.50</td>\n",
       "      <td>10</td>\n",
       "      <td>0.024159</td>\n",
       "      <td>523.00</td>\n",
       "      <td>38.740741</td>\n",
       "    </tr>\n",
       "    <tr>\n",
       "      <th>2</th>\n",
       "      <td>102</td>\n",
       "      <td>439</td>\n",
       "      <td>795</td>\n",
       "      <td>0.558524</td>\n",
       "      <td>0.024310</td>\n",
       "      <td>10.60</td>\n",
       "      <td>5</td>\n",
       "      <td>0.014369</td>\n",
       "      <td>335.00</td>\n",
       "      <td>31.603774</td>\n",
       "    </tr>\n",
       "    <tr>\n",
       "      <th>3</th>\n",
       "      <td>103</td>\n",
       "      <td>149</td>\n",
       "      <td>174</td>\n",
       "      <td>0.906252</td>\n",
       "      <td>0.018182</td>\n",
       "      <td>2.51</td>\n",
       "      <td>8</td>\n",
       "      <td>0.067964</td>\n",
       "      <td>393.00</td>\n",
       "      <td>156.573705</td>\n",
       "    </tr>\n",
       "    <tr>\n",
       "      <th>4</th>\n",
       "      <td>104</td>\n",
       "      <td>11870</td>\n",
       "      <td>20048</td>\n",
       "      <td>0.608298</td>\n",
       "      <td>0.024314</td>\n",
       "      <td>299.70</td>\n",
       "      <td>438</td>\n",
       "      <td>0.039808</td>\n",
       "      <td>28217.22</td>\n",
       "      <td>94.151552</td>\n",
       "    </tr>\n",
       "    <tr>\n",
       "      <th>5</th>\n",
       "      <td>105</td>\n",
       "      <td>204</td>\n",
       "      <td>323</td>\n",
       "      <td>0.643446</td>\n",
       "      <td>0.022143</td>\n",
       "      <td>4.89</td>\n",
       "      <td>8</td>\n",
       "      <td>0.024004</td>\n",
       "      <td>339.00</td>\n",
       "      <td>69.325153</td>\n",
       "    </tr>\n",
       "    <tr>\n",
       "      <th>6</th>\n",
       "      <td>106</td>\n",
       "      <td>28</td>\n",
       "      <td>57</td>\n",
       "      <td>0.467814</td>\n",
       "      <td>0.012759</td>\n",
       "      <td>0.48</td>\n",
       "      <td>0</td>\n",
       "      <td>0.000000</td>\n",
       "      <td>0.00</td>\n",
       "      <td>0.000000</td>\n",
       "    </tr>\n",
       "    <tr>\n",
       "      <th>7</th>\n",
       "      <td>107</td>\n",
       "      <td>1026</td>\n",
       "      <td>1858</td>\n",
       "      <td>0.556269</td>\n",
       "      <td>0.038621</td>\n",
       "      <td>40.25</td>\n",
       "      <td>40</td>\n",
       "      <td>0.035750</td>\n",
       "      <td>2424.49</td>\n",
       "      <td>60.235776</td>\n",
       "    </tr>\n",
       "    <tr>\n",
       "      <th>8</th>\n",
       "      <td>108</td>\n",
       "      <td>1009</td>\n",
       "      <td>1409</td>\n",
       "      <td>0.721491</td>\n",
       "      <td>0.026207</td>\n",
       "      <td>25.39</td>\n",
       "      <td>16</td>\n",
       "      <td>0.017109</td>\n",
       "      <td>1360.89</td>\n",
       "      <td>53.599449</td>\n",
       "    </tr>\n",
       "    <tr>\n",
       "      <th>9</th>\n",
       "      <td>109</td>\n",
       "      <td>72</td>\n",
       "      <td>145</td>\n",
       "      <td>0.492645</td>\n",
       "      <td>0.025098</td>\n",
       "      <td>2.51</td>\n",
       "      <td>1</td>\n",
       "      <td>0.003922</td>\n",
       "      <td>90.00</td>\n",
       "      <td>35.856574</td>\n",
       "    </tr>\n",
       "    <tr>\n",
       "      <th>10</th>\n",
       "      <td>110</td>\n",
       "      <td>30</td>\n",
       "      <td>54</td>\n",
       "      <td>0.626958</td>\n",
       "      <td>0.038387</td>\n",
       "      <td>1.56</td>\n",
       "      <td>1</td>\n",
       "      <td>0.032258</td>\n",
       "      <td>90.00</td>\n",
       "      <td>57.692308</td>\n",
       "    </tr>\n",
       "    <tr>\n",
       "      <th>11</th>\n",
       "      <td>111</td>\n",
       "      <td>26</td>\n",
       "      <td>52</td>\n",
       "      <td>0.450979</td>\n",
       "      <td>0.045294</td>\n",
       "      <td>1.95</td>\n",
       "      <td>0</td>\n",
       "      <td>0.000000</td>\n",
       "      <td>0.00</td>\n",
       "      <td>0.000000</td>\n",
       "    </tr>\n",
       "    <tr>\n",
       "      <th>12</th>\n",
       "      <td>112</td>\n",
       "      <td>45</td>\n",
       "      <td>89</td>\n",
       "      <td>0.554947</td>\n",
       "      <td>0.025937</td>\n",
       "      <td>1.48</td>\n",
       "      <td>0</td>\n",
       "      <td>0.000000</td>\n",
       "      <td>0.00</td>\n",
       "      <td>0.000000</td>\n",
       "    </tr>\n",
       "    <tr>\n",
       "      <th>13</th>\n",
       "      <td>113</td>\n",
       "      <td>39</td>\n",
       "      <td>83</td>\n",
       "      <td>0.500856</td>\n",
       "      <td>0.022800</td>\n",
       "      <td>1.10</td>\n",
       "      <td>0</td>\n",
       "      <td>0.000000</td>\n",
       "      <td>0.00</td>\n",
       "      <td>0.000000</td>\n",
       "    </tr>\n",
       "    <tr>\n",
       "      <th>14</th>\n",
       "      <td>114</td>\n",
       "      <td>27</td>\n",
       "      <td>68</td>\n",
       "      <td>0.413877</td>\n",
       "      <td>0.014571</td>\n",
       "      <td>0.82</td>\n",
       "      <td>1</td>\n",
       "      <td>0.028571</td>\n",
       "      <td>55.00</td>\n",
       "      <td>67.073171</td>\n",
       "    </tr>\n",
       "    <tr>\n",
       "      <th>15</th>\n",
       "      <td>115</td>\n",
       "      <td>2075</td>\n",
       "      <td>3415</td>\n",
       "      <td>0.618991</td>\n",
       "      <td>0.051034</td>\n",
       "      <td>103.69</td>\n",
       "      <td>43</td>\n",
       "      <td>0.021055</td>\n",
       "      <td>2355.00</td>\n",
       "      <td>22.711930</td>\n",
       "    </tr>\n",
       "    <tr>\n",
       "      <th>16</th>\n",
       "      <td>116</td>\n",
       "      <td>56</td>\n",
       "      <td>82</td>\n",
       "      <td>0.697128</td>\n",
       "      <td>0.019655</td>\n",
       "      <td>1.15</td>\n",
       "      <td>0</td>\n",
       "      <td>0.000000</td>\n",
       "      <td>0.00</td>\n",
       "      <td>0.000000</td>\n",
       "    </tr>\n",
       "    <tr>\n",
       "      <th>17</th>\n",
       "      <td>117</td>\n",
       "      <td>4</td>\n",
       "      <td>6</td>\n",
       "      <td>0.583333</td>\n",
       "      <td>0.016667</td>\n",
       "      <td>0.10</td>\n",
       "      <td>0</td>\n",
       "      <td>0.000000</td>\n",
       "      <td>0.00</td>\n",
       "      <td>0.000000</td>\n",
       "    </tr>\n",
       "    <tr>\n",
       "      <th>18</th>\n",
       "      <td>118</td>\n",
       "      <td>2</td>\n",
       "      <td>2</td>\n",
       "      <td>1.000000</td>\n",
       "      <td>0.060000</td>\n",
       "      <td>0.11</td>\n",
       "      <td>0</td>\n",
       "      <td>0.000000</td>\n",
       "      <td>0.00</td>\n",
       "      <td>0.000000</td>\n",
       "    </tr>\n",
       "    <tr>\n",
       "      <th>19</th>\n",
       "      <td>119</td>\n",
       "      <td>20</td>\n",
       "      <td>38</td>\n",
       "      <td>0.618058</td>\n",
       "      <td>0.014167</td>\n",
       "      <td>0.40</td>\n",
       "      <td>2</td>\n",
       "      <td>0.062500</td>\n",
       "      <td>80.00</td>\n",
       "      <td>200.000000</td>\n",
       "    </tr>\n",
       "    <tr>\n",
       "      <th>20</th>\n",
       "      <td>120</td>\n",
       "      <td>21</td>\n",
       "      <td>37</td>\n",
       "      <td>0.663974</td>\n",
       "      <td>0.013478</td>\n",
       "      <td>0.40</td>\n",
       "      <td>0</td>\n",
       "      <td>0.000000</td>\n",
       "      <td>0.00</td>\n",
       "      <td>0.000000</td>\n",
       "    </tr>\n",
       "    <tr>\n",
       "      <th>21</th>\n",
       "      <td>121</td>\n",
       "      <td>1469</td>\n",
       "      <td>2976</td>\n",
       "      <td>0.469005</td>\n",
       "      <td>0.040000</td>\n",
       "      <td>54.47</td>\n",
       "      <td>68</td>\n",
       "      <td>0.039498</td>\n",
       "      <td>4241.10</td>\n",
       "      <td>77.861208</td>\n",
       "    </tr>\n",
       "    <tr>\n",
       "      <th>22</th>\n",
       "      <td>122</td>\n",
       "      <td>393</td>\n",
       "      <td>1717</td>\n",
       "      <td>0.230433</td>\n",
       "      <td>0.063519</td>\n",
       "      <td>21.37</td>\n",
       "      <td>15</td>\n",
       "      <td>0.036278</td>\n",
       "      <td>969.00</td>\n",
       "      <td>45.343940</td>\n",
       "    </tr>\n",
       "    <tr>\n",
       "      <th>23</th>\n",
       "      <td>123</td>\n",
       "      <td>58</td>\n",
       "      <td>137</td>\n",
       "      <td>0.415873</td>\n",
       "      <td>0.035385</td>\n",
       "      <td>3.02</td>\n",
       "      <td>2</td>\n",
       "      <td>0.012819</td>\n",
       "      <td>94.00</td>\n",
       "      <td>31.125828</td>\n",
       "    </tr>\n",
       "    <tr>\n",
       "      <th>24</th>\n",
       "      <td>124</td>\n",
       "      <td>12</td>\n",
       "      <td>34</td>\n",
       "      <td>0.356064</td>\n",
       "      <td>0.010455</td>\n",
       "      <td>0.29</td>\n",
       "      <td>0</td>\n",
       "      <td>0.000000</td>\n",
       "      <td>0.00</td>\n",
       "      <td>0.000000</td>\n",
       "    </tr>\n",
       "    <tr>\n",
       "      <th>25</th>\n",
       "      <td>125</td>\n",
       "      <td>55</td>\n",
       "      <td>118</td>\n",
       "      <td>0.542647</td>\n",
       "      <td>0.016222</td>\n",
       "      <td>1.22</td>\n",
       "      <td>0</td>\n",
       "      <td>0.000000</td>\n",
       "      <td>0.00</td>\n",
       "      <td>0.000000</td>\n",
       "    </tr>\n",
       "    <tr>\n",
       "      <th>26</th>\n",
       "      <td>126</td>\n",
       "      <td>4</td>\n",
       "      <td>10</td>\n",
       "      <td>0.437500</td>\n",
       "      <td>0.008750</td>\n",
       "      <td>0.07</td>\n",
       "      <td>0</td>\n",
       "      <td>0.000000</td>\n",
       "      <td>0.00</td>\n",
       "      <td>0.000000</td>\n",
       "    </tr>\n",
       "    <tr>\n",
       "      <th>27</th>\n",
       "      <td>127</td>\n",
       "      <td>12</td>\n",
       "      <td>25</td>\n",
       "      <td>0.489581</td>\n",
       "      <td>0.019375</td>\n",
       "      <td>0.35</td>\n",
       "      <td>0</td>\n",
       "      <td>0.000000</td>\n",
       "      <td>0.00</td>\n",
       "      <td>0.000000</td>\n",
       "    </tr>\n",
       "    <tr>\n",
       "      <th>28</th>\n",
       "      <td>493</td>\n",
       "      <td>47609</td>\n",
       "      <td>85088</td>\n",
       "      <td>0.561900</td>\n",
       "      <td>0.020862</td>\n",
       "      <td>1075.48</td>\n",
       "      <td>1851</td>\n",
       "      <td>0.039491</td>\n",
       "      <td>117816.69</td>\n",
       "      <td>109.548006</td>\n",
       "    </tr>\n",
       "  </tbody>\n",
       "</table>\n",
       "</div>"
      ],
      "text/plain": [
       "    AdGroup  Clicks  Impressions       CTR  Avg. CPC     Cost  Conversions  \\\n",
       "0       100      10           45  0.210143  0.013043     0.43            0   \n",
       "1       101     267          841  0.348581  0.050517    13.50           10   \n",
       "2       102     439          795  0.558524  0.024310    10.60            5   \n",
       "3       103     149          174  0.906252  0.018182     2.51            8   \n",
       "4       104   11870        20048  0.608298  0.024314   299.70          438   \n",
       "5       105     204          323  0.643446  0.022143     4.89            8   \n",
       "6       106      28           57  0.467814  0.012759     0.48            0   \n",
       "7       107    1026         1858  0.556269  0.038621    40.25           40   \n",
       "8       108    1009         1409  0.721491  0.026207    25.39           16   \n",
       "9       109      72          145  0.492645  0.025098     2.51            1   \n",
       "10      110      30           54  0.626958  0.038387     1.56            1   \n",
       "11      111      26           52  0.450979  0.045294     1.95            0   \n",
       "12      112      45           89  0.554947  0.025937     1.48            0   \n",
       "13      113      39           83  0.500856  0.022800     1.10            0   \n",
       "14      114      27           68  0.413877  0.014571     0.82            1   \n",
       "15      115    2075         3415  0.618991  0.051034   103.69           43   \n",
       "16      116      56           82  0.697128  0.019655     1.15            0   \n",
       "17      117       4            6  0.583333  0.016667     0.10            0   \n",
       "18      118       2            2  1.000000  0.060000     0.11            0   \n",
       "19      119      20           38  0.618058  0.014167     0.40            2   \n",
       "20      120      21           37  0.663974  0.013478     0.40            0   \n",
       "21      121    1469         2976  0.469005  0.040000    54.47           68   \n",
       "22      122     393         1717  0.230433  0.063519    21.37           15   \n",
       "23      123      58          137  0.415873  0.035385     3.02            2   \n",
       "24      124      12           34  0.356064  0.010455     0.29            0   \n",
       "25      125      55          118  0.542647  0.016222     1.22            0   \n",
       "26      126       4           10  0.437500  0.008750     0.07            0   \n",
       "27      127      12           25  0.489581  0.019375     0.35            0   \n",
       "28      493   47609        85088  0.561900  0.020862  1075.48         1851   \n",
       "\n",
       "    Conversion rate  Total conv. value        ROAS  \n",
       "0          0.000000               0.00    0.000000  \n",
       "1          0.024159             523.00   38.740741  \n",
       "2          0.014369             335.00   31.603774  \n",
       "3          0.067964             393.00  156.573705  \n",
       "4          0.039808           28217.22   94.151552  \n",
       "5          0.024004             339.00   69.325153  \n",
       "6          0.000000               0.00    0.000000  \n",
       "7          0.035750            2424.49   60.235776  \n",
       "8          0.017109            1360.89   53.599449  \n",
       "9          0.003922              90.00   35.856574  \n",
       "10         0.032258              90.00   57.692308  \n",
       "11         0.000000               0.00    0.000000  \n",
       "12         0.000000               0.00    0.000000  \n",
       "13         0.000000               0.00    0.000000  \n",
       "14         0.028571              55.00   67.073171  \n",
       "15         0.021055            2355.00   22.711930  \n",
       "16         0.000000               0.00    0.000000  \n",
       "17         0.000000               0.00    0.000000  \n",
       "18         0.000000               0.00    0.000000  \n",
       "19         0.062500              80.00  200.000000  \n",
       "20         0.000000               0.00    0.000000  \n",
       "21         0.039498            4241.10   77.861208  \n",
       "22         0.036278             969.00   45.343940  \n",
       "23         0.012819              94.00   31.125828  \n",
       "24         0.000000               0.00    0.000000  \n",
       "25         0.000000               0.00    0.000000  \n",
       "26         0.000000               0.00    0.000000  \n",
       "27         0.000000               0.00    0.000000  \n",
       "28         0.039491          117816.69  109.548006  "
      ]
     },
     "execution_count": 47,
     "metadata": {},
     "output_type": "execute_result"
    }
   ],
   "source": [
    "monthly_per_cam1=df_3.groupby('AdGroup').agg({'Clicks':'sum','Impressions':'sum',\n",
    "                                    'CTR':'mean','Avg. CPC':'mean',\n",
    "                                    'Cost':'sum','Conversions':'sum',\n",
    "                                    'Conversion rate':'mean','Total conv. value':'sum'\n",
    "                                    }).reset_index()\n",
    "\n",
    "monthly_per_cam1['ROAS']=monthly_per_cam1['Total conv. value']/monthly_per_cam1['Cost']\n",
    "\n",
    "monthly_per_cam1"
   ]
  },
  {
   "cell_type": "code",
   "execution_count": 48,
   "id": "dd164ac5",
   "metadata": {},
   "outputs": [
    {
     "data": {
      "application/vnd.plotly.v1+json": {
       "config": {
        "plotlyServerURL": "https://plot.ly"
       },
       "data": [
        {
         "marker": {
          "color": "royalblue"
         },
         "text": [
          0.21,
          0.35,
          0.56,
          0.91,
          0.61,
          0.64,
          0.47,
          0.56,
          0.72,
          0.49,
          0.63,
          0.45,
          0.55,
          0.5,
          0.41,
          0.62,
          0.7,
          0.58,
          1,
          0.62,
          0.66,
          0.47,
          0.23,
          0.42,
          0.36,
          0.54,
          0.44,
          0.49,
          0.56
         ],
         "textposition": "outside",
         "type": "bar",
         "x": [
          100,
          101,
          102,
          103,
          104,
          105,
          106,
          107,
          108,
          109,
          110,
          111,
          112,
          113,
          114,
          115,
          116,
          117,
          118,
          119,
          120,
          121,
          122,
          123,
          124,
          125,
          126,
          127,
          493
         ],
         "y": [
          0.21014347826086954,
          0.3485810344827586,
          0.5585241379310344,
          0.9062515151515151,
          0.6082980392156863,
          0.6434464285714286,
          0.4678137931034482,
          0.5562689655172415,
          0.7214913793103448,
          0.4926450980392157,
          0.626958064516129,
          0.45097941176470585,
          0.554946875,
          0.500856,
          0.41387714285714283,
          0.6189913793103448,
          0.6971275862068965,
          0.5833333333333334,
          1,
          0.6180583333333333,
          0.6639739130434783,
          0.46900517241379314,
          0.23043333333333335,
          0.4158730769230769,
          0.35606363636363636,
          0.5426466666666667,
          0.4375,
          0.48958124999999997,
          0.5619000000000001
         ]
        }
       ],
       "layout": {
        "template": {
         "data": {
          "bar": [
           {
            "error_x": {
             "color": "#2a3f5f"
            },
            "error_y": {
             "color": "#2a3f5f"
            },
            "marker": {
             "line": {
              "color": "white",
              "width": 0.5
             },
             "pattern": {
              "fillmode": "overlay",
              "size": 10,
              "solidity": 0.2
             }
            },
            "type": "bar"
           }
          ],
          "barpolar": [
           {
            "marker": {
             "line": {
              "color": "white",
              "width": 0.5
             },
             "pattern": {
              "fillmode": "overlay",
              "size": 10,
              "solidity": 0.2
             }
            },
            "type": "barpolar"
           }
          ],
          "carpet": [
           {
            "aaxis": {
             "endlinecolor": "#2a3f5f",
             "gridcolor": "#C8D4E3",
             "linecolor": "#C8D4E3",
             "minorgridcolor": "#C8D4E3",
             "startlinecolor": "#2a3f5f"
            },
            "baxis": {
             "endlinecolor": "#2a3f5f",
             "gridcolor": "#C8D4E3",
             "linecolor": "#C8D4E3",
             "minorgridcolor": "#C8D4E3",
             "startlinecolor": "#2a3f5f"
            },
            "type": "carpet"
           }
          ],
          "choropleth": [
           {
            "colorbar": {
             "outlinewidth": 0,
             "ticks": ""
            },
            "type": "choropleth"
           }
          ],
          "contour": [
           {
            "colorbar": {
             "outlinewidth": 0,
             "ticks": ""
            },
            "colorscale": [
             [
              0,
              "#0d0887"
             ],
             [
              0.1111111111111111,
              "#46039f"
             ],
             [
              0.2222222222222222,
              "#7201a8"
             ],
             [
              0.3333333333333333,
              "#9c179e"
             ],
             [
              0.4444444444444444,
              "#bd3786"
             ],
             [
              0.5555555555555556,
              "#d8576b"
             ],
             [
              0.6666666666666666,
              "#ed7953"
             ],
             [
              0.7777777777777778,
              "#fb9f3a"
             ],
             [
              0.8888888888888888,
              "#fdca26"
             ],
             [
              1,
              "#f0f921"
             ]
            ],
            "type": "contour"
           }
          ],
          "contourcarpet": [
           {
            "colorbar": {
             "outlinewidth": 0,
             "ticks": ""
            },
            "type": "contourcarpet"
           }
          ],
          "heatmap": [
           {
            "colorbar": {
             "outlinewidth": 0,
             "ticks": ""
            },
            "colorscale": [
             [
              0,
              "#0d0887"
             ],
             [
              0.1111111111111111,
              "#46039f"
             ],
             [
              0.2222222222222222,
              "#7201a8"
             ],
             [
              0.3333333333333333,
              "#9c179e"
             ],
             [
              0.4444444444444444,
              "#bd3786"
             ],
             [
              0.5555555555555556,
              "#d8576b"
             ],
             [
              0.6666666666666666,
              "#ed7953"
             ],
             [
              0.7777777777777778,
              "#fb9f3a"
             ],
             [
              0.8888888888888888,
              "#fdca26"
             ],
             [
              1,
              "#f0f921"
             ]
            ],
            "type": "heatmap"
           }
          ],
          "heatmapgl": [
           {
            "colorbar": {
             "outlinewidth": 0,
             "ticks": ""
            },
            "colorscale": [
             [
              0,
              "#0d0887"
             ],
             [
              0.1111111111111111,
              "#46039f"
             ],
             [
              0.2222222222222222,
              "#7201a8"
             ],
             [
              0.3333333333333333,
              "#9c179e"
             ],
             [
              0.4444444444444444,
              "#bd3786"
             ],
             [
              0.5555555555555556,
              "#d8576b"
             ],
             [
              0.6666666666666666,
              "#ed7953"
             ],
             [
              0.7777777777777778,
              "#fb9f3a"
             ],
             [
              0.8888888888888888,
              "#fdca26"
             ],
             [
              1,
              "#f0f921"
             ]
            ],
            "type": "heatmapgl"
           }
          ],
          "histogram": [
           {
            "marker": {
             "pattern": {
              "fillmode": "overlay",
              "size": 10,
              "solidity": 0.2
             }
            },
            "type": "histogram"
           }
          ],
          "histogram2d": [
           {
            "colorbar": {
             "outlinewidth": 0,
             "ticks": ""
            },
            "colorscale": [
             [
              0,
              "#0d0887"
             ],
             [
              0.1111111111111111,
              "#46039f"
             ],
             [
              0.2222222222222222,
              "#7201a8"
             ],
             [
              0.3333333333333333,
              "#9c179e"
             ],
             [
              0.4444444444444444,
              "#bd3786"
             ],
             [
              0.5555555555555556,
              "#d8576b"
             ],
             [
              0.6666666666666666,
              "#ed7953"
             ],
             [
              0.7777777777777778,
              "#fb9f3a"
             ],
             [
              0.8888888888888888,
              "#fdca26"
             ],
             [
              1,
              "#f0f921"
             ]
            ],
            "type": "histogram2d"
           }
          ],
          "histogram2dcontour": [
           {
            "colorbar": {
             "outlinewidth": 0,
             "ticks": ""
            },
            "colorscale": [
             [
              0,
              "#0d0887"
             ],
             [
              0.1111111111111111,
              "#46039f"
             ],
             [
              0.2222222222222222,
              "#7201a8"
             ],
             [
              0.3333333333333333,
              "#9c179e"
             ],
             [
              0.4444444444444444,
              "#bd3786"
             ],
             [
              0.5555555555555556,
              "#d8576b"
             ],
             [
              0.6666666666666666,
              "#ed7953"
             ],
             [
              0.7777777777777778,
              "#fb9f3a"
             ],
             [
              0.8888888888888888,
              "#fdca26"
             ],
             [
              1,
              "#f0f921"
             ]
            ],
            "type": "histogram2dcontour"
           }
          ],
          "mesh3d": [
           {
            "colorbar": {
             "outlinewidth": 0,
             "ticks": ""
            },
            "type": "mesh3d"
           }
          ],
          "parcoords": [
           {
            "line": {
             "colorbar": {
              "outlinewidth": 0,
              "ticks": ""
             }
            },
            "type": "parcoords"
           }
          ],
          "pie": [
           {
            "automargin": true,
            "type": "pie"
           }
          ],
          "scatter": [
           {
            "fillpattern": {
             "fillmode": "overlay",
             "size": 10,
             "solidity": 0.2
            },
            "type": "scatter"
           }
          ],
          "scatter3d": [
           {
            "line": {
             "colorbar": {
              "outlinewidth": 0,
              "ticks": ""
             }
            },
            "marker": {
             "colorbar": {
              "outlinewidth": 0,
              "ticks": ""
             }
            },
            "type": "scatter3d"
           }
          ],
          "scattercarpet": [
           {
            "marker": {
             "colorbar": {
              "outlinewidth": 0,
              "ticks": ""
             }
            },
            "type": "scattercarpet"
           }
          ],
          "scattergeo": [
           {
            "marker": {
             "colorbar": {
              "outlinewidth": 0,
              "ticks": ""
             }
            },
            "type": "scattergeo"
           }
          ],
          "scattergl": [
           {
            "marker": {
             "colorbar": {
              "outlinewidth": 0,
              "ticks": ""
             }
            },
            "type": "scattergl"
           }
          ],
          "scattermapbox": [
           {
            "marker": {
             "colorbar": {
              "outlinewidth": 0,
              "ticks": ""
             }
            },
            "type": "scattermapbox"
           }
          ],
          "scatterpolar": [
           {
            "marker": {
             "colorbar": {
              "outlinewidth": 0,
              "ticks": ""
             }
            },
            "type": "scatterpolar"
           }
          ],
          "scatterpolargl": [
           {
            "marker": {
             "colorbar": {
              "outlinewidth": 0,
              "ticks": ""
             }
            },
            "type": "scatterpolargl"
           }
          ],
          "scatterternary": [
           {
            "marker": {
             "colorbar": {
              "outlinewidth": 0,
              "ticks": ""
             }
            },
            "type": "scatterternary"
           }
          ],
          "surface": [
           {
            "colorbar": {
             "outlinewidth": 0,
             "ticks": ""
            },
            "colorscale": [
             [
              0,
              "#0d0887"
             ],
             [
              0.1111111111111111,
              "#46039f"
             ],
             [
              0.2222222222222222,
              "#7201a8"
             ],
             [
              0.3333333333333333,
              "#9c179e"
             ],
             [
              0.4444444444444444,
              "#bd3786"
             ],
             [
              0.5555555555555556,
              "#d8576b"
             ],
             [
              0.6666666666666666,
              "#ed7953"
             ],
             [
              0.7777777777777778,
              "#fb9f3a"
             ],
             [
              0.8888888888888888,
              "#fdca26"
             ],
             [
              1,
              "#f0f921"
             ]
            ],
            "type": "surface"
           }
          ],
          "table": [
           {
            "cells": {
             "fill": {
              "color": "#EBF0F8"
             },
             "line": {
              "color": "white"
             }
            },
            "header": {
             "fill": {
              "color": "#C8D4E3"
             },
             "line": {
              "color": "white"
             }
            },
            "type": "table"
           }
          ]
         },
         "layout": {
          "annotationdefaults": {
           "arrowcolor": "#2a3f5f",
           "arrowhead": 0,
           "arrowwidth": 1
          },
          "autotypenumbers": "strict",
          "coloraxis": {
           "colorbar": {
            "outlinewidth": 0,
            "ticks": ""
           }
          },
          "colorscale": {
           "diverging": [
            [
             0,
             "#8e0152"
            ],
            [
             0.1,
             "#c51b7d"
            ],
            [
             0.2,
             "#de77ae"
            ],
            [
             0.3,
             "#f1b6da"
            ],
            [
             0.4,
             "#fde0ef"
            ],
            [
             0.5,
             "#f7f7f7"
            ],
            [
             0.6,
             "#e6f5d0"
            ],
            [
             0.7,
             "#b8e186"
            ],
            [
             0.8,
             "#7fbc41"
            ],
            [
             0.9,
             "#4d9221"
            ],
            [
             1,
             "#276419"
            ]
           ],
           "sequential": [
            [
             0,
             "#0d0887"
            ],
            [
             0.1111111111111111,
             "#46039f"
            ],
            [
             0.2222222222222222,
             "#7201a8"
            ],
            [
             0.3333333333333333,
             "#9c179e"
            ],
            [
             0.4444444444444444,
             "#bd3786"
            ],
            [
             0.5555555555555556,
             "#d8576b"
            ],
            [
             0.6666666666666666,
             "#ed7953"
            ],
            [
             0.7777777777777778,
             "#fb9f3a"
            ],
            [
             0.8888888888888888,
             "#fdca26"
            ],
            [
             1,
             "#f0f921"
            ]
           ],
           "sequentialminus": [
            [
             0,
             "#0d0887"
            ],
            [
             0.1111111111111111,
             "#46039f"
            ],
            [
             0.2222222222222222,
             "#7201a8"
            ],
            [
             0.3333333333333333,
             "#9c179e"
            ],
            [
             0.4444444444444444,
             "#bd3786"
            ],
            [
             0.5555555555555556,
             "#d8576b"
            ],
            [
             0.6666666666666666,
             "#ed7953"
            ],
            [
             0.7777777777777778,
             "#fb9f3a"
            ],
            [
             0.8888888888888888,
             "#fdca26"
            ],
            [
             1,
             "#f0f921"
            ]
           ]
          },
          "colorway": [
           "#636efa",
           "#EF553B",
           "#00cc96",
           "#ab63fa",
           "#FFA15A",
           "#19d3f3",
           "#FF6692",
           "#B6E880",
           "#FF97FF",
           "#FECB52"
          ],
          "font": {
           "color": "#2a3f5f"
          },
          "geo": {
           "bgcolor": "white",
           "lakecolor": "white",
           "landcolor": "white",
           "showlakes": true,
           "showland": true,
           "subunitcolor": "#C8D4E3"
          },
          "hoverlabel": {
           "align": "left"
          },
          "hovermode": "closest",
          "mapbox": {
           "style": "light"
          },
          "paper_bgcolor": "white",
          "plot_bgcolor": "white",
          "polar": {
           "angularaxis": {
            "gridcolor": "#EBF0F8",
            "linecolor": "#EBF0F8",
            "ticks": ""
           },
           "bgcolor": "white",
           "radialaxis": {
            "gridcolor": "#EBF0F8",
            "linecolor": "#EBF0F8",
            "ticks": ""
           }
          },
          "scene": {
           "xaxis": {
            "backgroundcolor": "white",
            "gridcolor": "#DFE8F3",
            "gridwidth": 2,
            "linecolor": "#EBF0F8",
            "showbackground": true,
            "ticks": "",
            "zerolinecolor": "#EBF0F8"
           },
           "yaxis": {
            "backgroundcolor": "white",
            "gridcolor": "#DFE8F3",
            "gridwidth": 2,
            "linecolor": "#EBF0F8",
            "showbackground": true,
            "ticks": "",
            "zerolinecolor": "#EBF0F8"
           },
           "zaxis": {
            "backgroundcolor": "white",
            "gridcolor": "#DFE8F3",
            "gridwidth": 2,
            "linecolor": "#EBF0F8",
            "showbackground": true,
            "ticks": "",
            "zerolinecolor": "#EBF0F8"
           }
          },
          "shapedefaults": {
           "line": {
            "color": "#2a3f5f"
           }
          },
          "ternary": {
           "aaxis": {
            "gridcolor": "#DFE8F3",
            "linecolor": "#A2B1C6",
            "ticks": ""
           },
           "baxis": {
            "gridcolor": "#DFE8F3",
            "linecolor": "#A2B1C6",
            "ticks": ""
           },
           "bgcolor": "white",
           "caxis": {
            "gridcolor": "#DFE8F3",
            "linecolor": "#A2B1C6",
            "ticks": ""
           }
          },
          "title": {
           "x": 0.05
          },
          "xaxis": {
           "automargin": true,
           "gridcolor": "#EBF0F8",
           "linecolor": "#EBF0F8",
           "ticks": "",
           "title": {
            "standoff": 15
           },
           "zerolinecolor": "#EBF0F8",
           "zerolinewidth": 2
          },
          "yaxis": {
           "automargin": true,
           "gridcolor": "#EBF0F8",
           "linecolor": "#EBF0F8",
           "ticks": "",
           "title": {
            "standoff": 15
           },
           "zerolinecolor": "#EBF0F8",
           "zerolinewidth": 2
          }
         }
        },
        "title": {
         "text": "CTR per AdGroup (Campaign 1)"
        },
        "xaxis": {
         "title": {
          "text": "AdGroup"
         }
        },
        "yaxis": {
         "tickformat": ".2%",
         "title": {
          "text": "Click-Through Rate (CTR)"
         }
        }
       }
      },
      "text/html": [
       "<div>                            <div id=\"1fa8704b-cd15-4a17-bede-e026629247b6\" class=\"plotly-graph-div\" style=\"height:525px; width:100%;\"></div>            <script type=\"text/javascript\">                require([\"plotly\"], function(Plotly) {                    window.PLOTLYENV=window.PLOTLYENV || {};                                    if (document.getElementById(\"1fa8704b-cd15-4a17-bede-e026629247b6\")) {                    Plotly.newPlot(                        \"1fa8704b-cd15-4a17-bede-e026629247b6\",                        [{\"marker\":{\"color\":\"royalblue\"},\"text\":[0.21,0.35,0.56,0.91,0.61,0.64,0.47,0.56,0.72,0.49,0.63,0.45,0.55,0.5,0.41,0.62,0.7,0.58,1.0,0.62,0.66,0.47,0.23,0.42,0.36,0.54,0.44,0.49,0.56],\"textposition\":\"outside\",\"x\":[100,101,102,103,104,105,106,107,108,109,110,111,112,113,114,115,116,117,118,119,120,121,122,123,124,125,126,127,493],\"y\":[0.21014347826086954,0.3485810344827586,0.5585241379310344,0.9062515151515151,0.6082980392156863,0.6434464285714286,0.4678137931034482,0.5562689655172415,0.7214913793103448,0.4926450980392157,0.626958064516129,0.45097941176470585,0.554946875,0.500856,0.41387714285714283,0.6189913793103448,0.6971275862068965,0.5833333333333334,1.0,0.6180583333333333,0.6639739130434783,0.46900517241379314,0.23043333333333335,0.4158730769230769,0.35606363636363636,0.5426466666666667,0.4375,0.48958124999999997,0.5619000000000001],\"type\":\"bar\"}],                        {\"template\":{\"data\":{\"barpolar\":[{\"marker\":{\"line\":{\"color\":\"white\",\"width\":0.5},\"pattern\":{\"fillmode\":\"overlay\",\"size\":10,\"solidity\":0.2}},\"type\":\"barpolar\"}],\"bar\":[{\"error_x\":{\"color\":\"#2a3f5f\"},\"error_y\":{\"color\":\"#2a3f5f\"},\"marker\":{\"line\":{\"color\":\"white\",\"width\":0.5},\"pattern\":{\"fillmode\":\"overlay\",\"size\":10,\"solidity\":0.2}},\"type\":\"bar\"}],\"carpet\":[{\"aaxis\":{\"endlinecolor\":\"#2a3f5f\",\"gridcolor\":\"#C8D4E3\",\"linecolor\":\"#C8D4E3\",\"minorgridcolor\":\"#C8D4E3\",\"startlinecolor\":\"#2a3f5f\"},\"baxis\":{\"endlinecolor\":\"#2a3f5f\",\"gridcolor\":\"#C8D4E3\",\"linecolor\":\"#C8D4E3\",\"minorgridcolor\":\"#C8D4E3\",\"startlinecolor\":\"#2a3f5f\"},\"type\":\"carpet\"}],\"choropleth\":[{\"colorbar\":{\"outlinewidth\":0,\"ticks\":\"\"},\"type\":\"choropleth\"}],\"contourcarpet\":[{\"colorbar\":{\"outlinewidth\":0,\"ticks\":\"\"},\"type\":\"contourcarpet\"}],\"contour\":[{\"colorbar\":{\"outlinewidth\":0,\"ticks\":\"\"},\"colorscale\":[[0.0,\"#0d0887\"],[0.1111111111111111,\"#46039f\"],[0.2222222222222222,\"#7201a8\"],[0.3333333333333333,\"#9c179e\"],[0.4444444444444444,\"#bd3786\"],[0.5555555555555556,\"#d8576b\"],[0.6666666666666666,\"#ed7953\"],[0.7777777777777778,\"#fb9f3a\"],[0.8888888888888888,\"#fdca26\"],[1.0,\"#f0f921\"]],\"type\":\"contour\"}],\"heatmapgl\":[{\"colorbar\":{\"outlinewidth\":0,\"ticks\":\"\"},\"colorscale\":[[0.0,\"#0d0887\"],[0.1111111111111111,\"#46039f\"],[0.2222222222222222,\"#7201a8\"],[0.3333333333333333,\"#9c179e\"],[0.4444444444444444,\"#bd3786\"],[0.5555555555555556,\"#d8576b\"],[0.6666666666666666,\"#ed7953\"],[0.7777777777777778,\"#fb9f3a\"],[0.8888888888888888,\"#fdca26\"],[1.0,\"#f0f921\"]],\"type\":\"heatmapgl\"}],\"heatmap\":[{\"colorbar\":{\"outlinewidth\":0,\"ticks\":\"\"},\"colorscale\":[[0.0,\"#0d0887\"],[0.1111111111111111,\"#46039f\"],[0.2222222222222222,\"#7201a8\"],[0.3333333333333333,\"#9c179e\"],[0.4444444444444444,\"#bd3786\"],[0.5555555555555556,\"#d8576b\"],[0.6666666666666666,\"#ed7953\"],[0.7777777777777778,\"#fb9f3a\"],[0.8888888888888888,\"#fdca26\"],[1.0,\"#f0f921\"]],\"type\":\"heatmap\"}],\"histogram2dcontour\":[{\"colorbar\":{\"outlinewidth\":0,\"ticks\":\"\"},\"colorscale\":[[0.0,\"#0d0887\"],[0.1111111111111111,\"#46039f\"],[0.2222222222222222,\"#7201a8\"],[0.3333333333333333,\"#9c179e\"],[0.4444444444444444,\"#bd3786\"],[0.5555555555555556,\"#d8576b\"],[0.6666666666666666,\"#ed7953\"],[0.7777777777777778,\"#fb9f3a\"],[0.8888888888888888,\"#fdca26\"],[1.0,\"#f0f921\"]],\"type\":\"histogram2dcontour\"}],\"histogram2d\":[{\"colorbar\":{\"outlinewidth\":0,\"ticks\":\"\"},\"colorscale\":[[0.0,\"#0d0887\"],[0.1111111111111111,\"#46039f\"],[0.2222222222222222,\"#7201a8\"],[0.3333333333333333,\"#9c179e\"],[0.4444444444444444,\"#bd3786\"],[0.5555555555555556,\"#d8576b\"],[0.6666666666666666,\"#ed7953\"],[0.7777777777777778,\"#fb9f3a\"],[0.8888888888888888,\"#fdca26\"],[1.0,\"#f0f921\"]],\"type\":\"histogram2d\"}],\"histogram\":[{\"marker\":{\"pattern\":{\"fillmode\":\"overlay\",\"size\":10,\"solidity\":0.2}},\"type\":\"histogram\"}],\"mesh3d\":[{\"colorbar\":{\"outlinewidth\":0,\"ticks\":\"\"},\"type\":\"mesh3d\"}],\"parcoords\":[{\"line\":{\"colorbar\":{\"outlinewidth\":0,\"ticks\":\"\"}},\"type\":\"parcoords\"}],\"pie\":[{\"automargin\":true,\"type\":\"pie\"}],\"scatter3d\":[{\"line\":{\"colorbar\":{\"outlinewidth\":0,\"ticks\":\"\"}},\"marker\":{\"colorbar\":{\"outlinewidth\":0,\"ticks\":\"\"}},\"type\":\"scatter3d\"}],\"scattercarpet\":[{\"marker\":{\"colorbar\":{\"outlinewidth\":0,\"ticks\":\"\"}},\"type\":\"scattercarpet\"}],\"scattergeo\":[{\"marker\":{\"colorbar\":{\"outlinewidth\":0,\"ticks\":\"\"}},\"type\":\"scattergeo\"}],\"scattergl\":[{\"marker\":{\"colorbar\":{\"outlinewidth\":0,\"ticks\":\"\"}},\"type\":\"scattergl\"}],\"scattermapbox\":[{\"marker\":{\"colorbar\":{\"outlinewidth\":0,\"ticks\":\"\"}},\"type\":\"scattermapbox\"}],\"scatterpolargl\":[{\"marker\":{\"colorbar\":{\"outlinewidth\":0,\"ticks\":\"\"}},\"type\":\"scatterpolargl\"}],\"scatterpolar\":[{\"marker\":{\"colorbar\":{\"outlinewidth\":0,\"ticks\":\"\"}},\"type\":\"scatterpolar\"}],\"scatter\":[{\"fillpattern\":{\"fillmode\":\"overlay\",\"size\":10,\"solidity\":0.2},\"type\":\"scatter\"}],\"scatterternary\":[{\"marker\":{\"colorbar\":{\"outlinewidth\":0,\"ticks\":\"\"}},\"type\":\"scatterternary\"}],\"surface\":[{\"colorbar\":{\"outlinewidth\":0,\"ticks\":\"\"},\"colorscale\":[[0.0,\"#0d0887\"],[0.1111111111111111,\"#46039f\"],[0.2222222222222222,\"#7201a8\"],[0.3333333333333333,\"#9c179e\"],[0.4444444444444444,\"#bd3786\"],[0.5555555555555556,\"#d8576b\"],[0.6666666666666666,\"#ed7953\"],[0.7777777777777778,\"#fb9f3a\"],[0.8888888888888888,\"#fdca26\"],[1.0,\"#f0f921\"]],\"type\":\"surface\"}],\"table\":[{\"cells\":{\"fill\":{\"color\":\"#EBF0F8\"},\"line\":{\"color\":\"white\"}},\"header\":{\"fill\":{\"color\":\"#C8D4E3\"},\"line\":{\"color\":\"white\"}},\"type\":\"table\"}]},\"layout\":{\"annotationdefaults\":{\"arrowcolor\":\"#2a3f5f\",\"arrowhead\":0,\"arrowwidth\":1},\"autotypenumbers\":\"strict\",\"coloraxis\":{\"colorbar\":{\"outlinewidth\":0,\"ticks\":\"\"}},\"colorscale\":{\"diverging\":[[0,\"#8e0152\"],[0.1,\"#c51b7d\"],[0.2,\"#de77ae\"],[0.3,\"#f1b6da\"],[0.4,\"#fde0ef\"],[0.5,\"#f7f7f7\"],[0.6,\"#e6f5d0\"],[0.7,\"#b8e186\"],[0.8,\"#7fbc41\"],[0.9,\"#4d9221\"],[1,\"#276419\"]],\"sequential\":[[0.0,\"#0d0887\"],[0.1111111111111111,\"#46039f\"],[0.2222222222222222,\"#7201a8\"],[0.3333333333333333,\"#9c179e\"],[0.4444444444444444,\"#bd3786\"],[0.5555555555555556,\"#d8576b\"],[0.6666666666666666,\"#ed7953\"],[0.7777777777777778,\"#fb9f3a\"],[0.8888888888888888,\"#fdca26\"],[1.0,\"#f0f921\"]],\"sequentialminus\":[[0.0,\"#0d0887\"],[0.1111111111111111,\"#46039f\"],[0.2222222222222222,\"#7201a8\"],[0.3333333333333333,\"#9c179e\"],[0.4444444444444444,\"#bd3786\"],[0.5555555555555556,\"#d8576b\"],[0.6666666666666666,\"#ed7953\"],[0.7777777777777778,\"#fb9f3a\"],[0.8888888888888888,\"#fdca26\"],[1.0,\"#f0f921\"]]},\"colorway\":[\"#636efa\",\"#EF553B\",\"#00cc96\",\"#ab63fa\",\"#FFA15A\",\"#19d3f3\",\"#FF6692\",\"#B6E880\",\"#FF97FF\",\"#FECB52\"],\"font\":{\"color\":\"#2a3f5f\"},\"geo\":{\"bgcolor\":\"white\",\"lakecolor\":\"white\",\"landcolor\":\"white\",\"showlakes\":true,\"showland\":true,\"subunitcolor\":\"#C8D4E3\"},\"hoverlabel\":{\"align\":\"left\"},\"hovermode\":\"closest\",\"mapbox\":{\"style\":\"light\"},\"paper_bgcolor\":\"white\",\"plot_bgcolor\":\"white\",\"polar\":{\"angularaxis\":{\"gridcolor\":\"#EBF0F8\",\"linecolor\":\"#EBF0F8\",\"ticks\":\"\"},\"bgcolor\":\"white\",\"radialaxis\":{\"gridcolor\":\"#EBF0F8\",\"linecolor\":\"#EBF0F8\",\"ticks\":\"\"}},\"scene\":{\"xaxis\":{\"backgroundcolor\":\"white\",\"gridcolor\":\"#DFE8F3\",\"gridwidth\":2,\"linecolor\":\"#EBF0F8\",\"showbackground\":true,\"ticks\":\"\",\"zerolinecolor\":\"#EBF0F8\"},\"yaxis\":{\"backgroundcolor\":\"white\",\"gridcolor\":\"#DFE8F3\",\"gridwidth\":2,\"linecolor\":\"#EBF0F8\",\"showbackground\":true,\"ticks\":\"\",\"zerolinecolor\":\"#EBF0F8\"},\"zaxis\":{\"backgroundcolor\":\"white\",\"gridcolor\":\"#DFE8F3\",\"gridwidth\":2,\"linecolor\":\"#EBF0F8\",\"showbackground\":true,\"ticks\":\"\",\"zerolinecolor\":\"#EBF0F8\"}},\"shapedefaults\":{\"line\":{\"color\":\"#2a3f5f\"}},\"ternary\":{\"aaxis\":{\"gridcolor\":\"#DFE8F3\",\"linecolor\":\"#A2B1C6\",\"ticks\":\"\"},\"baxis\":{\"gridcolor\":\"#DFE8F3\",\"linecolor\":\"#A2B1C6\",\"ticks\":\"\"},\"bgcolor\":\"white\",\"caxis\":{\"gridcolor\":\"#DFE8F3\",\"linecolor\":\"#A2B1C6\",\"ticks\":\"\"}},\"title\":{\"x\":0.05},\"xaxis\":{\"automargin\":true,\"gridcolor\":\"#EBF0F8\",\"linecolor\":\"#EBF0F8\",\"ticks\":\"\",\"title\":{\"standoff\":15},\"zerolinecolor\":\"#EBF0F8\",\"zerolinewidth\":2},\"yaxis\":{\"automargin\":true,\"gridcolor\":\"#EBF0F8\",\"linecolor\":\"#EBF0F8\",\"ticks\":\"\",\"title\":{\"standoff\":15},\"zerolinecolor\":\"#EBF0F8\",\"zerolinewidth\":2}}},\"yaxis\":{\"title\":{\"text\":\"Click-Through Rate (CTR)\"},\"tickformat\":\".2%\"},\"title\":{\"text\":\"CTR per AdGroup (Campaign 1)\"},\"xaxis\":{\"title\":{\"text\":\"AdGroup\"}}},                        {\"responsive\": true}                    ).then(function(){\n",
       "                            \n",
       "var gd = document.getElementById('1fa8704b-cd15-4a17-bede-e026629247b6');\n",
       "var x = new MutationObserver(function (mutations, observer) {{\n",
       "        var display = window.getComputedStyle(gd).display;\n",
       "        if (!display || display === 'none') {{\n",
       "            console.log([gd, 'removed!']);\n",
       "            Plotly.purge(gd);\n",
       "            observer.disconnect();\n",
       "        }}\n",
       "}});\n",
       "\n",
       "// Listen for the removal of the full notebook cells\n",
       "var notebookContainer = gd.closest('#notebook-container');\n",
       "if (notebookContainer) {{\n",
       "    x.observe(notebookContainer, {childList: true});\n",
       "}}\n",
       "\n",
       "// Listen for the clearing of the current output cell\n",
       "var outputEl = gd.closest('.output');\n",
       "if (outputEl) {{\n",
       "    x.observe(outputEl, {childList: true});\n",
       "}}\n",
       "\n",
       "                        })                };                });            </script>        </div>"
      ]
     },
     "metadata": {},
     "output_type": "display_data"
    }
   ],
   "source": [
    "fig = go.Figure(data=[\n",
    "    go.Bar(\n",
    "        x=monthly_per_cam1['AdGroup'],\n",
    "        y=monthly_per_cam1[\"CTR\"],\n",
    "        marker=dict(color=\"royalblue\"),\n",
    "        text=monthly_per_cam1[\"CTR\"].round(2),\n",
    "        textposition=\"outside\"\n",
    "    )\n",
    "])\n",
    "\n",
    "fig.update_layout(\n",
    "    title=\"CTR per AdGroup (Campaign 1)\",\n",
    "    xaxis=dict(title='AdGroup'),\n",
    "    yaxis=dict(title=\"Click-Through Rate (CTR)\", tickformat=\".2%\"),\n",
    "    template=\"plotly_white\"\n",
    ")\n",
    "\n",
    "fig.show()"
   ]
  },
  {
   "cell_type": "markdown",
   "id": "2795c218",
   "metadata": {},
   "source": [
    "# Performance Analysis for each Ad Group"
   ]
  },
  {
   "cell_type": "code",
   "execution_count": 49,
   "id": "e243a63b",
   "metadata": {},
   "outputs": [
    {
     "data": {
      "text/html": [
       "<div>\n",
       "<style scoped>\n",
       "    .dataframe tbody tr th:only-of-type {\n",
       "        vertical-align: middle;\n",
       "    }\n",
       "\n",
       "    .dataframe tbody tr th {\n",
       "        vertical-align: top;\n",
       "    }\n",
       "\n",
       "    .dataframe thead th {\n",
       "        text-align: right;\n",
       "    }\n",
       "</style>\n",
       "<table border=\"1\" class=\"dataframe\">\n",
       "  <thead>\n",
       "    <tr style=\"text-align: right;\">\n",
       "      <th></th>\n",
       "      <th>AdGroup</th>\n",
       "      <th>Clicks</th>\n",
       "      <th>Impressions</th>\n",
       "      <th>CTR</th>\n",
       "      <th>Avg. CPC</th>\n",
       "      <th>Cost</th>\n",
       "      <th>Conversions</th>\n",
       "      <th>Conversion rate</th>\n",
       "      <th>Total conv. value</th>\n",
       "      <th>ROAS</th>\n",
       "    </tr>\n",
       "  </thead>\n",
       "  <tbody>\n",
       "    <tr>\n",
       "      <th>32</th>\n",
       "      <td>218</td>\n",
       "      <td>17</td>\n",
       "      <td>70</td>\n",
       "      <td>0.246294</td>\n",
       "      <td>0.015556</td>\n",
       "      <td>0.68</td>\n",
       "      <td>1</td>\n",
       "      <td>0.013889</td>\n",
       "      <td>225.00</td>\n",
       "      <td>330.882353</td>\n",
       "    </tr>\n",
       "    <tr>\n",
       "      <th>19</th>\n",
       "      <td>119</td>\n",
       "      <td>20</td>\n",
       "      <td>38</td>\n",
       "      <td>0.618058</td>\n",
       "      <td>0.014167</td>\n",
       "      <td>0.40</td>\n",
       "      <td>2</td>\n",
       "      <td>0.062500</td>\n",
       "      <td>80.00</td>\n",
       "      <td>200.000000</td>\n",
       "    </tr>\n",
       "    <tr>\n",
       "      <th>3</th>\n",
       "      <td>103</td>\n",
       "      <td>149</td>\n",
       "      <td>174</td>\n",
       "      <td>0.906252</td>\n",
       "      <td>0.018182</td>\n",
       "      <td>2.51</td>\n",
       "      <td>8</td>\n",
       "      <td>0.067964</td>\n",
       "      <td>393.00</td>\n",
       "      <td>156.573705</td>\n",
       "    </tr>\n",
       "    <tr>\n",
       "      <th>90</th>\n",
       "      <td>493</td>\n",
       "      <td>47609</td>\n",
       "      <td>85088</td>\n",
       "      <td>0.561900</td>\n",
       "      <td>0.020862</td>\n",
       "      <td>1075.48</td>\n",
       "      <td>1851</td>\n",
       "      <td>0.039491</td>\n",
       "      <td>117816.69</td>\n",
       "      <td>109.548006</td>\n",
       "    </tr>\n",
       "    <tr>\n",
       "      <th>37</th>\n",
       "      <td>223</td>\n",
       "      <td>31</td>\n",
       "      <td>67</td>\n",
       "      <td>0.497143</td>\n",
       "      <td>0.024857</td>\n",
       "      <td>1.37</td>\n",
       "      <td>1</td>\n",
       "      <td>0.014286</td>\n",
       "      <td>143.00</td>\n",
       "      <td>104.379562</td>\n",
       "    </tr>\n",
       "    <tr>\n",
       "      <th>...</th>\n",
       "      <td>...</td>\n",
       "      <td>...</td>\n",
       "      <td>...</td>\n",
       "      <td>...</td>\n",
       "      <td>...</td>\n",
       "      <td>...</td>\n",
       "      <td>...</td>\n",
       "      <td>...</td>\n",
       "      <td>...</td>\n",
       "      <td>...</td>\n",
       "    </tr>\n",
       "    <tr>\n",
       "      <th>52</th>\n",
       "      <td>238</td>\n",
       "      <td>12</td>\n",
       "      <td>57</td>\n",
       "      <td>0.238890</td>\n",
       "      <td>0.016000</td>\n",
       "      <td>0.87</td>\n",
       "      <td>0</td>\n",
       "      <td>0.000000</td>\n",
       "      <td>0.00</td>\n",
       "      <td>0.000000</td>\n",
       "    </tr>\n",
       "    <tr>\n",
       "      <th>134</th>\n",
       "      <td>537</td>\n",
       "      <td>111</td>\n",
       "      <td>32897</td>\n",
       "      <td>0.003350</td>\n",
       "      <td>0.050000</td>\n",
       "      <td>5.19</td>\n",
       "      <td>0</td>\n",
       "      <td>0.000000</td>\n",
       "      <td>0.00</td>\n",
       "      <td>0.000000</td>\n",
       "    </tr>\n",
       "    <tr>\n",
       "      <th>77</th>\n",
       "      <td>263</td>\n",
       "      <td>0</td>\n",
       "      <td>2</td>\n",
       "      <td>0.000000</td>\n",
       "      <td>0.000000</td>\n",
       "      <td>0.00</td>\n",
       "      <td>0</td>\n",
       "      <td>0.000000</td>\n",
       "      <td>0.00</td>\n",
       "      <td>NaN</td>\n",
       "    </tr>\n",
       "    <tr>\n",
       "      <th>111</th>\n",
       "      <td>514</td>\n",
       "      <td>0</td>\n",
       "      <td>893</td>\n",
       "      <td>0.000000</td>\n",
       "      <td>0.000000</td>\n",
       "      <td>0.00</td>\n",
       "      <td>0</td>\n",
       "      <td>0.000000</td>\n",
       "      <td>0.00</td>\n",
       "      <td>NaN</td>\n",
       "    </tr>\n",
       "    <tr>\n",
       "      <th>113</th>\n",
       "      <td>516</td>\n",
       "      <td>0</td>\n",
       "      <td>103</td>\n",
       "      <td>0.000000</td>\n",
       "      <td>0.000000</td>\n",
       "      <td>0.00</td>\n",
       "      <td>0</td>\n",
       "      <td>0.000000</td>\n",
       "      <td>0.00</td>\n",
       "      <td>NaN</td>\n",
       "    </tr>\n",
       "  </tbody>\n",
       "</table>\n",
       "<p>135 rows × 10 columns</p>\n",
       "</div>"
      ],
      "text/plain": [
       "     AdGroup  Clicks  Impressions       CTR  Avg. CPC     Cost  Conversions  \\\n",
       "32       218      17           70  0.246294  0.015556     0.68            1   \n",
       "19       119      20           38  0.618058  0.014167     0.40            2   \n",
       "3        103     149          174  0.906252  0.018182     2.51            8   \n",
       "90       493   47609        85088  0.561900  0.020862  1075.48         1851   \n",
       "37       223      31           67  0.497143  0.024857     1.37            1   \n",
       "..       ...     ...          ...       ...       ...      ...          ...   \n",
       "52       238      12           57  0.238890  0.016000     0.87            0   \n",
       "134      537     111        32897  0.003350  0.050000     5.19            0   \n",
       "77       263       0            2  0.000000  0.000000     0.00            0   \n",
       "111      514       0          893  0.000000  0.000000     0.00            0   \n",
       "113      516       0          103  0.000000  0.000000     0.00            0   \n",
       "\n",
       "     Conversion rate  Total conv. value        ROAS  \n",
       "32          0.013889             225.00  330.882353  \n",
       "19          0.062500              80.00  200.000000  \n",
       "3           0.067964             393.00  156.573705  \n",
       "90          0.039491          117816.69  109.548006  \n",
       "37          0.014286             143.00  104.379562  \n",
       "..               ...                ...         ...  \n",
       "52          0.000000               0.00    0.000000  \n",
       "134         0.000000               0.00    0.000000  \n",
       "77          0.000000               0.00         NaN  \n",
       "111         0.000000               0.00         NaN  \n",
       "113         0.000000               0.00         NaN  \n",
       "\n",
       "[135 rows x 10 columns]"
      ]
     },
     "execution_count": 49,
     "metadata": {},
     "output_type": "execute_result"
    }
   ],
   "source": [
    "adgroup_per=df.groupby(\"AdGroup\").agg({\n",
    "    \"Clicks\":\"sum\",\n",
    "    \"Impressions\":\"sum\",\n",
    "    \"CTR\": \"mean\",\n",
    "    \"Avg. CPC\":\"mean\",\n",
    "    \"Cost\":\"sum\",\n",
    "    \"Conversions\":\"sum\",\n",
    "    \"Conversion rate\":\"mean\",\n",
    "    \"Total conv. value\":\"sum\"\n",
    "}).reset_index()\n",
    "\n",
    "adgroup_per[\"ROAS\"]=adgroup_per[\"Total conv. value\"]/adgroup_per[\"Cost\"]\n",
    "\n",
    "adgroup_per=adgroup_per.sort_values(by=\"ROAS\", ascending=False)\n",
    "\n",
    "adgroup_per"
   ]
  },
  {
   "cell_type": "code",
   "execution_count": 50,
   "id": "22c6a552",
   "metadata": {},
   "outputs": [
    {
     "data": {
      "text/html": [
       "<div>\n",
       "<style scoped>\n",
       "    .dataframe tbody tr th:only-of-type {\n",
       "        vertical-align: middle;\n",
       "    }\n",
       "\n",
       "    .dataframe tbody tr th {\n",
       "        vertical-align: top;\n",
       "    }\n",
       "\n",
       "    .dataframe thead th {\n",
       "        text-align: right;\n",
       "    }\n",
       "</style>\n",
       "<table border=\"1\" class=\"dataframe\">\n",
       "  <thead>\n",
       "    <tr style=\"text-align: right;\">\n",
       "      <th></th>\n",
       "      <th>Clicks</th>\n",
       "      <th>Impressions</th>\n",
       "      <th>CTR</th>\n",
       "      <th>Avg. CPC</th>\n",
       "      <th>Cost</th>\n",
       "      <th>Conversions</th>\n",
       "      <th>Conversion rate</th>\n",
       "      <th>Total conv. value</th>\n",
       "      <th>ROAS</th>\n",
       "    </tr>\n",
       "  </thead>\n",
       "  <tbody>\n",
       "    <tr>\n",
       "      <th>count</th>\n",
       "      <td>135.000000</td>\n",
       "      <td>1.350000e+02</td>\n",
       "      <td>135.000000</td>\n",
       "      <td>135.000000</td>\n",
       "      <td>135.000000</td>\n",
       "      <td>135.000000</td>\n",
       "      <td>135.000000</td>\n",
       "      <td>135.000000</td>\n",
       "      <td>132.000000</td>\n",
       "    </tr>\n",
       "    <tr>\n",
       "      <th>mean</th>\n",
       "      <td>1018.422222</td>\n",
       "      <td>8.444477e+04</td>\n",
       "      <td>0.283719</td>\n",
       "      <td>0.057588</td>\n",
       "      <td>53.814593</td>\n",
       "      <td>28.214815</td>\n",
       "      <td>0.013031</td>\n",
       "      <td>1782.527037</td>\n",
       "      <td>22.354031</td>\n",
       "    </tr>\n",
       "    <tr>\n",
       "      <th>std</th>\n",
       "      <td>4667.707182</td>\n",
       "      <td>3.661563e+05</td>\n",
       "      <td>0.241347</td>\n",
       "      <td>0.049517</td>\n",
       "      <td>176.332737</td>\n",
       "      <td>165.375393</td>\n",
       "      <td>0.016881</td>\n",
       "      <td>10502.928590</td>\n",
       "      <td>41.511389</td>\n",
       "    </tr>\n",
       "    <tr>\n",
       "      <th>min</th>\n",
       "      <td>0.000000</td>\n",
       "      <td>2.000000e+00</td>\n",
       "      <td>0.000000</td>\n",
       "      <td>0.000000</td>\n",
       "      <td>0.000000</td>\n",
       "      <td>0.000000</td>\n",
       "      <td>0.000000</td>\n",
       "      <td>0.000000</td>\n",
       "      <td>0.000000</td>\n",
       "    </tr>\n",
       "    <tr>\n",
       "      <th>25%</th>\n",
       "      <td>12.000000</td>\n",
       "      <td>4.800000e+01</td>\n",
       "      <td>0.006802</td>\n",
       "      <td>0.024312</td>\n",
       "      <td>0.820000</td>\n",
       "      <td>0.000000</td>\n",
       "      <td>0.000000</td>\n",
       "      <td>0.000000</td>\n",
       "      <td>0.000000</td>\n",
       "    </tr>\n",
       "    <tr>\n",
       "      <th>50%</th>\n",
       "      <td>56.000000</td>\n",
       "      <td>3.230000e+02</td>\n",
       "      <td>0.327245</td>\n",
       "      <td>0.049138</td>\n",
       "      <td>4.540000</td>\n",
       "      <td>1.000000</td>\n",
       "      <td>0.006034</td>\n",
       "      <td>59.000000</td>\n",
       "      <td>4.893305</td>\n",
       "    </tr>\n",
       "    <tr>\n",
       "      <th>75%</th>\n",
       "      <td>311.000000</td>\n",
       "      <td>1.695550e+04</td>\n",
       "      <td>0.446591</td>\n",
       "      <td>0.072171</td>\n",
       "      <td>25.880000</td>\n",
       "      <td>9.500000</td>\n",
       "      <td>0.019562</td>\n",
       "      <td>568.250000</td>\n",
       "      <td>31.672191</td>\n",
       "    </tr>\n",
       "    <tr>\n",
       "      <th>max</th>\n",
       "      <td>47609.000000</td>\n",
       "      <td>3.902249e+06</td>\n",
       "      <td>1.000000</td>\n",
       "      <td>0.295263</td>\n",
       "      <td>1465.230000</td>\n",
       "      <td>1851.000000</td>\n",
       "      <td>0.069986</td>\n",
       "      <td>117816.690000</td>\n",
       "      <td>330.882353</td>\n",
       "    </tr>\n",
       "  </tbody>\n",
       "</table>\n",
       "</div>"
      ],
      "text/plain": [
       "             Clicks   Impressions         CTR    Avg. CPC         Cost  \\\n",
       "count    135.000000  1.350000e+02  135.000000  135.000000   135.000000   \n",
       "mean    1018.422222  8.444477e+04    0.283719    0.057588    53.814593   \n",
       "std     4667.707182  3.661563e+05    0.241347    0.049517   176.332737   \n",
       "min        0.000000  2.000000e+00    0.000000    0.000000     0.000000   \n",
       "25%       12.000000  4.800000e+01    0.006802    0.024312     0.820000   \n",
       "50%       56.000000  3.230000e+02    0.327245    0.049138     4.540000   \n",
       "75%      311.000000  1.695550e+04    0.446591    0.072171    25.880000   \n",
       "max    47609.000000  3.902249e+06    1.000000    0.295263  1465.230000   \n",
       "\n",
       "       Conversions  Conversion rate  Total conv. value        ROAS  \n",
       "count   135.000000       135.000000         135.000000  132.000000  \n",
       "mean     28.214815         0.013031        1782.527037   22.354031  \n",
       "std     165.375393         0.016881       10502.928590   41.511389  \n",
       "min       0.000000         0.000000           0.000000    0.000000  \n",
       "25%       0.000000         0.000000           0.000000    0.000000  \n",
       "50%       1.000000         0.006034          59.000000    4.893305  \n",
       "75%       9.500000         0.019562         568.250000   31.672191  \n",
       "max    1851.000000         0.069986      117816.690000  330.882353  "
      ]
     },
     "execution_count": 50,
     "metadata": {},
     "output_type": "execute_result"
    }
   ],
   "source": [
    "adgroup_per.iloc[:,1:].describe()"
   ]
  },
  {
   "cell_type": "markdown",
   "id": "cf7c512b",
   "metadata": {},
   "source": [
    "Visualization (AdGroups)"
   ]
  },
  {
   "cell_type": "code",
   "execution_count": 51,
   "id": "eb2058d0",
   "metadata": {},
   "outputs": [
    {
     "data": {
      "application/vnd.plotly.v1+json": {
       "config": {
        "plotlyServerURL": "https://plot.ly"
       },
       "data": [
        {
         "colorbar": {
          "title": {
           "text": "CTR (%)"
          }
         },
         "colorscale": [
          [
           0,
           "rgb(247,251,255)"
          ],
          [
           0.125,
           "rgb(222,235,247)"
          ],
          [
           0.25,
           "rgb(198,219,239)"
          ],
          [
           0.375,
           "rgb(158,202,225)"
          ],
          [
           0.5,
           "rgb(107,174,214)"
          ],
          [
           0.625,
           "rgb(66,146,198)"
          ],
          [
           0.75,
           "rgb(33,113,181)"
          ],
          [
           0.875,
           "rgb(8,81,156)"
          ],
          [
           1,
           "rgb(8,48,107)"
          ]
         ],
         "type": "heatmap",
         "x": [
          1,
          3,
          7,
          15
         ],
         "y": [
          100,
          101,
          102,
          103,
          104,
          105,
          106,
          107,
          108,
          109,
          110,
          111,
          112,
          113,
          114,
          115,
          116,
          117,
          118,
          119,
          120,
          121,
          122,
          123,
          124,
          125,
          126,
          127,
          214,
          215,
          216,
          217,
          218,
          219,
          220,
          221,
          222,
          223,
          224,
          225,
          226,
          227,
          228,
          229,
          230,
          231,
          232,
          233,
          234,
          235,
          236,
          237,
          238,
          239,
          240,
          241,
          242,
          243,
          244,
          245,
          246,
          247,
          248,
          249,
          250,
          251,
          252,
          253,
          254,
          255,
          256,
          257,
          258,
          259,
          260,
          261,
          262,
          263,
          264,
          265,
          303,
          329,
          330,
          331,
          332,
          333,
          334,
          335,
          336,
          337,
          493,
          494,
          495,
          496,
          497,
          498,
          499,
          500,
          501,
          502,
          503,
          504,
          505,
          506,
          507,
          508,
          509,
          510,
          511,
          512,
          513,
          514,
          515,
          516,
          517,
          518,
          519,
          520,
          521,
          522,
          523,
          524,
          525,
          526,
          527,
          528,
          529,
          530,
          531,
          532,
          533,
          534,
          535,
          536,
          537
         ],
         "z": [
          [
           0.21014347826086954,
           null,
           null,
           null
          ],
          [
           0.3485810344827586,
           null,
           null,
           null
          ],
          [
           0.5585241379310344,
           null,
           null,
           null
          ],
          [
           0.9062515151515151,
           null,
           null,
           null
          ],
          [
           0.6082980392156863,
           null,
           null,
           null
          ],
          [
           0.6434464285714286,
           null,
           null,
           null
          ],
          [
           0.4678137931034482,
           null,
           null,
           null
          ],
          [
           0.5562689655172415,
           null,
           null,
           null
          ],
          [
           0.7214913793103448,
           null,
           null,
           null
          ],
          [
           0.4926450980392157,
           null,
           null,
           null
          ],
          [
           0.626958064516129,
           null,
           null,
           null
          ],
          [
           0.45097941176470585,
           null,
           null,
           null
          ],
          [
           0.554946875,
           null,
           null,
           null
          ],
          [
           0.500856,
           null,
           null,
           null
          ],
          [
           0.41387714285714283,
           null,
           null,
           null
          ],
          [
           0.6189913793103448,
           null,
           null,
           null
          ],
          [
           0.6971275862068965,
           null,
           null,
           null
          ],
          [
           0.5833333333333334,
           null,
           null,
           null
          ],
          [
           1,
           null,
           null,
           null
          ],
          [
           0.6180583333333333,
           null,
           null,
           null
          ],
          [
           0.6639739130434783,
           null,
           null,
           null
          ],
          [
           0.46900517241379314,
           null,
           null,
           null
          ],
          [
           0.23043333333333335,
           null,
           null,
           null
          ],
          [
           0.4158730769230769,
           null,
           null,
           null
          ],
          [
           0.35606363636363636,
           null,
           null,
           null
          ],
          [
           0.5426466666666667,
           null,
           null,
           null
          ],
          [
           0.4375,
           null,
           null,
           null
          ],
          [
           0.48958124999999997,
           null,
           null,
           null
          ],
          [
           null,
           0.28702068965517247,
           null,
           null
          ],
          [
           null,
           0.40713928571428576,
           null,
           null
          ],
          [
           null,
           0.3684210526315789,
           null,
           null
          ],
          [
           null,
           0.44220175438596493,
           null,
           null
          ],
          [
           null,
           0.24629444444444445,
           null,
           null
          ],
          [
           null,
           0.640625,
           null,
           null
          ],
          [
           null,
           0.3272448275862069,
           null,
           null
          ],
          [
           null,
           0.16665999999999997,
           null,
           null
          ],
          [
           null,
           0.16071428571428573,
           null,
           null
          ],
          [
           null,
           0.4971428571428571,
           null,
           null
          ],
          [
           null,
           0.2674595238095238,
           null,
           null
          ],
          [
           null,
           0.2700344827586207,
           null,
           null
          ],
          [
           null,
           0.40009814814814815,
           null,
           null
          ],
          [
           null,
           0.38235294117647056,
           null,
           null
          ],
          [
           null,
           0.3505724137931034,
           null,
           null
          ],
          [
           null,
           0.3849190476190476,
           null,
           null
          ],
          [
           null,
           0.36505517241379315,
           null,
           null
          ],
          [
           null,
           0.375415,
           null,
           null
          ],
          [
           null,
           0.28847454545454543,
           null,
           null
          ],
          [
           null,
           0.21794615384615385,
           null,
           null
          ],
          [
           null,
           0.37161052631578945,
           null,
           null
          ],
          [
           null,
           0.42000000000000004,
           null,
           null
          ],
          [
           null,
           0.14285714285714285,
           null,
           null
          ],
          [
           null,
           0.4,
           null,
           null
          ],
          [
           null,
           0.23889000000000002,
           null,
           null
          ],
          [
           null,
           0.8571428571428571,
           null,
           null
          ],
          [
           null,
           0.38458035714285715,
           null,
           null
          ],
          [
           null,
           0.5454545454545454,
           null,
           null
          ],
          [
           null,
           0.4636363636363636,
           null,
           null
          ],
          [
           null,
           0.36666666666666664,
           null,
           null
          ],
          [
           null,
           0.3684210526315789,
           null,
           null
          ],
          [
           null,
           0.33623939393939395,
           null,
           null
          ],
          [
           null,
           0.42381176470588233,
           null,
           null
          ],
          [
           null,
           0.3666666666666667,
           null,
           null
          ],
          [
           null,
           0.3611083333333333,
           null,
           null
          ],
          [
           null,
           0.3746470588235294,
           null,
           null
          ],
          [
           null,
           0.1,
           null,
           null
          ],
          [
           null,
           0.41500000000000004,
           null,
           null
          ],
          [
           null,
           0.47130175438596494,
           null,
           null
          ],
          [
           null,
           0.54806875,
           null,
           null
          ],
          [
           null,
           0.46665999999999996,
           null,
           null
          ],
          [
           null,
           0.3979740740740741,
           null,
           null
          ],
          [
           null,
           0.4234259259259259,
           null,
           null
          ],
          [
           null,
           0.42026379310344825,
           null,
           null
          ],
          [
           null,
           0.39203200000000005,
           null,
           null
          ],
          [
           null,
           0.5,
           null,
           null
          ],
          [
           null,
           0.35714285714285715,
           null,
           null
          ],
          [
           null,
           0.7222222222222222,
           null,
           null
          ],
          [
           null,
           0.5675275862068966,
           null,
           null
          ],
          [
           null,
           0,
           null,
           null
          ],
          [
           null,
           0.5,
           null,
           null
          ],
          [
           null,
           0.42561818181818184,
           null,
           null
          ],
          [
           null,
           null,
           0.17818245614035086,
           null
          ],
          [
           null,
           null,
           0.25696140350877195,
           null
          ],
          [
           null,
           null,
           0.20718545454545453,
           null
          ],
          [
           null,
           null,
           0.23243333333333333,
           null
          ],
          [
           null,
           null,
           0.12522413793103448,
           null
          ],
          [
           null,
           null,
           0.24385263157894735,
           null
          ],
          [
           null,
           null,
           0.33023023255813955,
           null
          ],
          [
           null,
           null,
           0.2699527272727273,
           null
          ],
          [
           null,
           null,
           0.21073035714285715,
           null
          ],
          [
           null,
           null,
           0.2890342105263158,
           null
          ],
          [
           0.5619000000000001,
           null,
           null,
           null
          ],
          [
           null,
           null,
           null,
           0.024869047619047617
          ],
          [
           null,
           null,
           null,
           0.007235714285714285
          ],
          [
           null,
           null,
           null,
           0.004676785714285715
          ],
          [
           null,
           null,
           null,
           0.006513793103448276
          ],
          [
           null,
           null,
           null,
           0.005484210526315789
          ],
          [
           null,
           null,
           null,
           0.006963793103448275
          ],
          [
           null,
           null,
           null,
           0.0054775862068965515
          ],
          [
           null,
           null,
           null,
           0.008401724137931034
          ],
          [
           null,
           null,
           null,
           0.005698275862068966
          ],
          [
           null,
           null,
           null,
           0.006498275862068966
          ],
          [
           null,
           null,
           null,
           0.0061
          ],
          [
           null,
           null,
           null,
           0.007843103448275863
          ],
          [
           null,
           null,
           null,
           0.006639655172413793
          ],
          [
           null,
           null,
           null,
           0.00855438596491228
          ],
          [
           null,
           null,
           null,
           0.0099
          ],
          [
           null,
           null,
           null,
           0.016633333333333333
          ],
          [
           null,
           null,
           null,
           0.010015686274509805
          ],
          [
           null,
           null,
           null,
           0.0081125
          ],
          [
           null,
           null,
           null,
           0.006165517241379311
          ],
          [
           null,
           null,
           null,
           0.004103448275862068
          ],
          [
           null,
           null,
           null,
           0
          ],
          [
           null,
           null,
           null,
           0.003425
          ],
          [
           null,
           null,
           null,
           0
          ],
          [
           null,
           null,
           null,
           0.0038362068965517243
          ],
          [
           null,
           null,
           null,
           0.0023172413793103447
          ],
          [
           null,
           null,
           null,
           0.00226551724137931
          ],
          [
           null,
           null,
           null,
           0.001975862068965517
          ],
          [
           null,
           null,
           null,
           0.004162068965517241
          ],
          [
           null,
           null,
           null,
           0.0021413793103448276
          ],
          [
           null,
           null,
           null,
           0.003220689655172414
          ],
          [
           null,
           null,
           null,
           0.0018896551724137932
          ],
          [
           null,
           null,
           null,
           0.00306
          ],
          [
           null,
           null,
           null,
           0.0042782608695652175
          ],
          [
           null,
           null,
           null,
           0.0008302325581395349
          ],
          [
           null,
           null,
           null,
           0.0032396551724137935
          ],
          [
           null,
           null,
           null,
           0.002182758620689655
          ],
          [
           null,
           null,
           null,
           0.0040894736842105265
          ],
          [
           null,
           null,
           null,
           0.003543859649122807
          ],
          [
           null,
           null,
           null,
           0.0102
          ],
          [
           null,
           null,
           null,
           0.00126078431372549
          ],
          [
           null,
           null,
           null,
           0.00256551724137931
          ],
          [
           null,
           null,
           null,
           0.0024155172413793105
          ],
          [
           null,
           null,
           null,
           0.005867241379310345
          ],
          [
           null,
           null,
           null,
           0.00335
          ]
         ]
        }
       ],
       "layout": {
        "template": {
         "data": {
          "bar": [
           {
            "error_x": {
             "color": "#2a3f5f"
            },
            "error_y": {
             "color": "#2a3f5f"
            },
            "marker": {
             "line": {
              "color": "white",
              "width": 0.5
             },
             "pattern": {
              "fillmode": "overlay",
              "size": 10,
              "solidity": 0.2
             }
            },
            "type": "bar"
           }
          ],
          "barpolar": [
           {
            "marker": {
             "line": {
              "color": "white",
              "width": 0.5
             },
             "pattern": {
              "fillmode": "overlay",
              "size": 10,
              "solidity": 0.2
             }
            },
            "type": "barpolar"
           }
          ],
          "carpet": [
           {
            "aaxis": {
             "endlinecolor": "#2a3f5f",
             "gridcolor": "#C8D4E3",
             "linecolor": "#C8D4E3",
             "minorgridcolor": "#C8D4E3",
             "startlinecolor": "#2a3f5f"
            },
            "baxis": {
             "endlinecolor": "#2a3f5f",
             "gridcolor": "#C8D4E3",
             "linecolor": "#C8D4E3",
             "minorgridcolor": "#C8D4E3",
             "startlinecolor": "#2a3f5f"
            },
            "type": "carpet"
           }
          ],
          "choropleth": [
           {
            "colorbar": {
             "outlinewidth": 0,
             "ticks": ""
            },
            "type": "choropleth"
           }
          ],
          "contour": [
           {
            "colorbar": {
             "outlinewidth": 0,
             "ticks": ""
            },
            "colorscale": [
             [
              0,
              "#0d0887"
             ],
             [
              0.1111111111111111,
              "#46039f"
             ],
             [
              0.2222222222222222,
              "#7201a8"
             ],
             [
              0.3333333333333333,
              "#9c179e"
             ],
             [
              0.4444444444444444,
              "#bd3786"
             ],
             [
              0.5555555555555556,
              "#d8576b"
             ],
             [
              0.6666666666666666,
              "#ed7953"
             ],
             [
              0.7777777777777778,
              "#fb9f3a"
             ],
             [
              0.8888888888888888,
              "#fdca26"
             ],
             [
              1,
              "#f0f921"
             ]
            ],
            "type": "contour"
           }
          ],
          "contourcarpet": [
           {
            "colorbar": {
             "outlinewidth": 0,
             "ticks": ""
            },
            "type": "contourcarpet"
           }
          ],
          "heatmap": [
           {
            "colorbar": {
             "outlinewidth": 0,
             "ticks": ""
            },
            "colorscale": [
             [
              0,
              "#0d0887"
             ],
             [
              0.1111111111111111,
              "#46039f"
             ],
             [
              0.2222222222222222,
              "#7201a8"
             ],
             [
              0.3333333333333333,
              "#9c179e"
             ],
             [
              0.4444444444444444,
              "#bd3786"
             ],
             [
              0.5555555555555556,
              "#d8576b"
             ],
             [
              0.6666666666666666,
              "#ed7953"
             ],
             [
              0.7777777777777778,
              "#fb9f3a"
             ],
             [
              0.8888888888888888,
              "#fdca26"
             ],
             [
              1,
              "#f0f921"
             ]
            ],
            "type": "heatmap"
           }
          ],
          "heatmapgl": [
           {
            "colorbar": {
             "outlinewidth": 0,
             "ticks": ""
            },
            "colorscale": [
             [
              0,
              "#0d0887"
             ],
             [
              0.1111111111111111,
              "#46039f"
             ],
             [
              0.2222222222222222,
              "#7201a8"
             ],
             [
              0.3333333333333333,
              "#9c179e"
             ],
             [
              0.4444444444444444,
              "#bd3786"
             ],
             [
              0.5555555555555556,
              "#d8576b"
             ],
             [
              0.6666666666666666,
              "#ed7953"
             ],
             [
              0.7777777777777778,
              "#fb9f3a"
             ],
             [
              0.8888888888888888,
              "#fdca26"
             ],
             [
              1,
              "#f0f921"
             ]
            ],
            "type": "heatmapgl"
           }
          ],
          "histogram": [
           {
            "marker": {
             "pattern": {
              "fillmode": "overlay",
              "size": 10,
              "solidity": 0.2
             }
            },
            "type": "histogram"
           }
          ],
          "histogram2d": [
           {
            "colorbar": {
             "outlinewidth": 0,
             "ticks": ""
            },
            "colorscale": [
             [
              0,
              "#0d0887"
             ],
             [
              0.1111111111111111,
              "#46039f"
             ],
             [
              0.2222222222222222,
              "#7201a8"
             ],
             [
              0.3333333333333333,
              "#9c179e"
             ],
             [
              0.4444444444444444,
              "#bd3786"
             ],
             [
              0.5555555555555556,
              "#d8576b"
             ],
             [
              0.6666666666666666,
              "#ed7953"
             ],
             [
              0.7777777777777778,
              "#fb9f3a"
             ],
             [
              0.8888888888888888,
              "#fdca26"
             ],
             [
              1,
              "#f0f921"
             ]
            ],
            "type": "histogram2d"
           }
          ],
          "histogram2dcontour": [
           {
            "colorbar": {
             "outlinewidth": 0,
             "ticks": ""
            },
            "colorscale": [
             [
              0,
              "#0d0887"
             ],
             [
              0.1111111111111111,
              "#46039f"
             ],
             [
              0.2222222222222222,
              "#7201a8"
             ],
             [
              0.3333333333333333,
              "#9c179e"
             ],
             [
              0.4444444444444444,
              "#bd3786"
             ],
             [
              0.5555555555555556,
              "#d8576b"
             ],
             [
              0.6666666666666666,
              "#ed7953"
             ],
             [
              0.7777777777777778,
              "#fb9f3a"
             ],
             [
              0.8888888888888888,
              "#fdca26"
             ],
             [
              1,
              "#f0f921"
             ]
            ],
            "type": "histogram2dcontour"
           }
          ],
          "mesh3d": [
           {
            "colorbar": {
             "outlinewidth": 0,
             "ticks": ""
            },
            "type": "mesh3d"
           }
          ],
          "parcoords": [
           {
            "line": {
             "colorbar": {
              "outlinewidth": 0,
              "ticks": ""
             }
            },
            "type": "parcoords"
           }
          ],
          "pie": [
           {
            "automargin": true,
            "type": "pie"
           }
          ],
          "scatter": [
           {
            "fillpattern": {
             "fillmode": "overlay",
             "size": 10,
             "solidity": 0.2
            },
            "type": "scatter"
           }
          ],
          "scatter3d": [
           {
            "line": {
             "colorbar": {
              "outlinewidth": 0,
              "ticks": ""
             }
            },
            "marker": {
             "colorbar": {
              "outlinewidth": 0,
              "ticks": ""
             }
            },
            "type": "scatter3d"
           }
          ],
          "scattercarpet": [
           {
            "marker": {
             "colorbar": {
              "outlinewidth": 0,
              "ticks": ""
             }
            },
            "type": "scattercarpet"
           }
          ],
          "scattergeo": [
           {
            "marker": {
             "colorbar": {
              "outlinewidth": 0,
              "ticks": ""
             }
            },
            "type": "scattergeo"
           }
          ],
          "scattergl": [
           {
            "marker": {
             "colorbar": {
              "outlinewidth": 0,
              "ticks": ""
             }
            },
            "type": "scattergl"
           }
          ],
          "scattermapbox": [
           {
            "marker": {
             "colorbar": {
              "outlinewidth": 0,
              "ticks": ""
             }
            },
            "type": "scattermapbox"
           }
          ],
          "scatterpolar": [
           {
            "marker": {
             "colorbar": {
              "outlinewidth": 0,
              "ticks": ""
             }
            },
            "type": "scatterpolar"
           }
          ],
          "scatterpolargl": [
           {
            "marker": {
             "colorbar": {
              "outlinewidth": 0,
              "ticks": ""
             }
            },
            "type": "scatterpolargl"
           }
          ],
          "scatterternary": [
           {
            "marker": {
             "colorbar": {
              "outlinewidth": 0,
              "ticks": ""
             }
            },
            "type": "scatterternary"
           }
          ],
          "surface": [
           {
            "colorbar": {
             "outlinewidth": 0,
             "ticks": ""
            },
            "colorscale": [
             [
              0,
              "#0d0887"
             ],
             [
              0.1111111111111111,
              "#46039f"
             ],
             [
              0.2222222222222222,
              "#7201a8"
             ],
             [
              0.3333333333333333,
              "#9c179e"
             ],
             [
              0.4444444444444444,
              "#bd3786"
             ],
             [
              0.5555555555555556,
              "#d8576b"
             ],
             [
              0.6666666666666666,
              "#ed7953"
             ],
             [
              0.7777777777777778,
              "#fb9f3a"
             ],
             [
              0.8888888888888888,
              "#fdca26"
             ],
             [
              1,
              "#f0f921"
             ]
            ],
            "type": "surface"
           }
          ],
          "table": [
           {
            "cells": {
             "fill": {
              "color": "#EBF0F8"
             },
             "line": {
              "color": "white"
             }
            },
            "header": {
             "fill": {
              "color": "#C8D4E3"
             },
             "line": {
              "color": "white"
             }
            },
            "type": "table"
           }
          ]
         },
         "layout": {
          "annotationdefaults": {
           "arrowcolor": "#2a3f5f",
           "arrowhead": 0,
           "arrowwidth": 1
          },
          "autotypenumbers": "strict",
          "coloraxis": {
           "colorbar": {
            "outlinewidth": 0,
            "ticks": ""
           }
          },
          "colorscale": {
           "diverging": [
            [
             0,
             "#8e0152"
            ],
            [
             0.1,
             "#c51b7d"
            ],
            [
             0.2,
             "#de77ae"
            ],
            [
             0.3,
             "#f1b6da"
            ],
            [
             0.4,
             "#fde0ef"
            ],
            [
             0.5,
             "#f7f7f7"
            ],
            [
             0.6,
             "#e6f5d0"
            ],
            [
             0.7,
             "#b8e186"
            ],
            [
             0.8,
             "#7fbc41"
            ],
            [
             0.9,
             "#4d9221"
            ],
            [
             1,
             "#276419"
            ]
           ],
           "sequential": [
            [
             0,
             "#0d0887"
            ],
            [
             0.1111111111111111,
             "#46039f"
            ],
            [
             0.2222222222222222,
             "#7201a8"
            ],
            [
             0.3333333333333333,
             "#9c179e"
            ],
            [
             0.4444444444444444,
             "#bd3786"
            ],
            [
             0.5555555555555556,
             "#d8576b"
            ],
            [
             0.6666666666666666,
             "#ed7953"
            ],
            [
             0.7777777777777778,
             "#fb9f3a"
            ],
            [
             0.8888888888888888,
             "#fdca26"
            ],
            [
             1,
             "#f0f921"
            ]
           ],
           "sequentialminus": [
            [
             0,
             "#0d0887"
            ],
            [
             0.1111111111111111,
             "#46039f"
            ],
            [
             0.2222222222222222,
             "#7201a8"
            ],
            [
             0.3333333333333333,
             "#9c179e"
            ],
            [
             0.4444444444444444,
             "#bd3786"
            ],
            [
             0.5555555555555556,
             "#d8576b"
            ],
            [
             0.6666666666666666,
             "#ed7953"
            ],
            [
             0.7777777777777778,
             "#fb9f3a"
            ],
            [
             0.8888888888888888,
             "#fdca26"
            ],
            [
             1,
             "#f0f921"
            ]
           ]
          },
          "colorway": [
           "#636efa",
           "#EF553B",
           "#00cc96",
           "#ab63fa",
           "#FFA15A",
           "#19d3f3",
           "#FF6692",
           "#B6E880",
           "#FF97FF",
           "#FECB52"
          ],
          "font": {
           "color": "#2a3f5f"
          },
          "geo": {
           "bgcolor": "white",
           "lakecolor": "white",
           "landcolor": "white",
           "showlakes": true,
           "showland": true,
           "subunitcolor": "#C8D4E3"
          },
          "hoverlabel": {
           "align": "left"
          },
          "hovermode": "closest",
          "mapbox": {
           "style": "light"
          },
          "paper_bgcolor": "white",
          "plot_bgcolor": "white",
          "polar": {
           "angularaxis": {
            "gridcolor": "#EBF0F8",
            "linecolor": "#EBF0F8",
            "ticks": ""
           },
           "bgcolor": "white",
           "radialaxis": {
            "gridcolor": "#EBF0F8",
            "linecolor": "#EBF0F8",
            "ticks": ""
           }
          },
          "scene": {
           "xaxis": {
            "backgroundcolor": "white",
            "gridcolor": "#DFE8F3",
            "gridwidth": 2,
            "linecolor": "#EBF0F8",
            "showbackground": true,
            "ticks": "",
            "zerolinecolor": "#EBF0F8"
           },
           "yaxis": {
            "backgroundcolor": "white",
            "gridcolor": "#DFE8F3",
            "gridwidth": 2,
            "linecolor": "#EBF0F8",
            "showbackground": true,
            "ticks": "",
            "zerolinecolor": "#EBF0F8"
           },
           "zaxis": {
            "backgroundcolor": "white",
            "gridcolor": "#DFE8F3",
            "gridwidth": 2,
            "linecolor": "#EBF0F8",
            "showbackground": true,
            "ticks": "",
            "zerolinecolor": "#EBF0F8"
           }
          },
          "shapedefaults": {
           "line": {
            "color": "#2a3f5f"
           }
          },
          "ternary": {
           "aaxis": {
            "gridcolor": "#DFE8F3",
            "linecolor": "#A2B1C6",
            "ticks": ""
           },
           "baxis": {
            "gridcolor": "#DFE8F3",
            "linecolor": "#A2B1C6",
            "ticks": ""
           },
           "bgcolor": "white",
           "caxis": {
            "gridcolor": "#DFE8F3",
            "linecolor": "#A2B1C6",
            "ticks": ""
           }
          },
          "title": {
           "x": 0.05
          },
          "xaxis": {
           "automargin": true,
           "gridcolor": "#EBF0F8",
           "linecolor": "#EBF0F8",
           "ticks": "",
           "title": {
            "standoff": 15
           },
           "zerolinecolor": "#EBF0F8",
           "zerolinewidth": 2
          },
          "yaxis": {
           "automargin": true,
           "gridcolor": "#EBF0F8",
           "linecolor": "#EBF0F8",
           "ticks": "",
           "title": {
            "standoff": 15
           },
           "zerolinecolor": "#EBF0F8",
           "zerolinewidth": 2
          }
         }
        },
        "title": {
         "text": "CTR Consistency Across Campaigns & Ad Groups"
        },
        "xaxis": {
         "title": {
          "text": "Campaign"
         }
        },
        "yaxis": {
         "title": {
          "text": "Ad Group"
         }
        }
       }
      },
      "text/html": [
       "<div>                            <div id=\"51644958-f7bd-4997-bd4d-5708ae2199d6\" class=\"plotly-graph-div\" style=\"height:525px; width:100%;\"></div>            <script type=\"text/javascript\">                require([\"plotly\"], function(Plotly) {                    window.PLOTLYENV=window.PLOTLYENV || {};                                    if (document.getElementById(\"51644958-f7bd-4997-bd4d-5708ae2199d6\")) {                    Plotly.newPlot(                        \"51644958-f7bd-4997-bd4d-5708ae2199d6\",                        [{\"colorbar\":{\"title\":{\"text\":\"CTR (%)\"}},\"colorscale\":[[0.0,\"rgb(247,251,255)\"],[0.125,\"rgb(222,235,247)\"],[0.25,\"rgb(198,219,239)\"],[0.375,\"rgb(158,202,225)\"],[0.5,\"rgb(107,174,214)\"],[0.625,\"rgb(66,146,198)\"],[0.75,\"rgb(33,113,181)\"],[0.875,\"rgb(8,81,156)\"],[1.0,\"rgb(8,48,107)\"]],\"x\":[1,3,7,15],\"y\":[100,101,102,103,104,105,106,107,108,109,110,111,112,113,114,115,116,117,118,119,120,121,122,123,124,125,126,127,214,215,216,217,218,219,220,221,222,223,224,225,226,227,228,229,230,231,232,233,234,235,236,237,238,239,240,241,242,243,244,245,246,247,248,249,250,251,252,253,254,255,256,257,258,259,260,261,262,263,264,265,303,329,330,331,332,333,334,335,336,337,493,494,495,496,497,498,499,500,501,502,503,504,505,506,507,508,509,510,511,512,513,514,515,516,517,518,519,520,521,522,523,524,525,526,527,528,529,530,531,532,533,534,535,536,537],\"z\":[[0.21014347826086954,null,null,null],[0.3485810344827586,null,null,null],[0.5585241379310344,null,null,null],[0.9062515151515151,null,null,null],[0.6082980392156863,null,null,null],[0.6434464285714286,null,null,null],[0.4678137931034482,null,null,null],[0.5562689655172415,null,null,null],[0.7214913793103448,null,null,null],[0.4926450980392157,null,null,null],[0.626958064516129,null,null,null],[0.45097941176470585,null,null,null],[0.554946875,null,null,null],[0.500856,null,null,null],[0.41387714285714283,null,null,null],[0.6189913793103448,null,null,null],[0.6971275862068965,null,null,null],[0.5833333333333334,null,null,null],[1.0,null,null,null],[0.6180583333333333,null,null,null],[0.6639739130434783,null,null,null],[0.46900517241379314,null,null,null],[0.23043333333333335,null,null,null],[0.4158730769230769,null,null,null],[0.35606363636363636,null,null,null],[0.5426466666666667,null,null,null],[0.4375,null,null,null],[0.48958124999999997,null,null,null],[null,0.28702068965517247,null,null],[null,0.40713928571428576,null,null],[null,0.3684210526315789,null,null],[null,0.44220175438596493,null,null],[null,0.24629444444444445,null,null],[null,0.640625,null,null],[null,0.3272448275862069,null,null],[null,0.16665999999999997,null,null],[null,0.16071428571428573,null,null],[null,0.4971428571428571,null,null],[null,0.2674595238095238,null,null],[null,0.2700344827586207,null,null],[null,0.40009814814814815,null,null],[null,0.38235294117647056,null,null],[null,0.3505724137931034,null,null],[null,0.3849190476190476,null,null],[null,0.36505517241379315,null,null],[null,0.375415,null,null],[null,0.28847454545454543,null,null],[null,0.21794615384615385,null,null],[null,0.37161052631578945,null,null],[null,0.42000000000000004,null,null],[null,0.14285714285714285,null,null],[null,0.4,null,null],[null,0.23889000000000002,null,null],[null,0.8571428571428571,null,null],[null,0.38458035714285715,null,null],[null,0.5454545454545454,null,null],[null,0.4636363636363636,null,null],[null,0.36666666666666664,null,null],[null,0.3684210526315789,null,null],[null,0.33623939393939395,null,null],[null,0.42381176470588233,null,null],[null,0.3666666666666667,null,null],[null,0.3611083333333333,null,null],[null,0.3746470588235294,null,null],[null,0.1,null,null],[null,0.41500000000000004,null,null],[null,0.47130175438596494,null,null],[null,0.54806875,null,null],[null,0.46665999999999996,null,null],[null,0.3979740740740741,null,null],[null,0.4234259259259259,null,null],[null,0.42026379310344825,null,null],[null,0.39203200000000005,null,null],[null,0.5,null,null],[null,0.35714285714285715,null,null],[null,0.7222222222222222,null,null],[null,0.5675275862068966,null,null],[null,0.0,null,null],[null,0.5,null,null],[null,0.42561818181818184,null,null],[null,null,0.17818245614035086,null],[null,null,0.25696140350877195,null],[null,null,0.20718545454545453,null],[null,null,0.23243333333333333,null],[null,null,0.12522413793103448,null],[null,null,0.24385263157894735,null],[null,null,0.33023023255813955,null],[null,null,0.2699527272727273,null],[null,null,0.21073035714285715,null],[null,null,0.2890342105263158,null],[0.5619000000000001,null,null,null],[null,null,null,0.024869047619047617],[null,null,null,0.007235714285714285],[null,null,null,0.004676785714285715],[null,null,null,0.006513793103448276],[null,null,null,0.005484210526315789],[null,null,null,0.006963793103448275],[null,null,null,0.0054775862068965515],[null,null,null,0.008401724137931034],[null,null,null,0.005698275862068966],[null,null,null,0.006498275862068966],[null,null,null,0.0061],[null,null,null,0.007843103448275863],[null,null,null,0.006639655172413793],[null,null,null,0.00855438596491228],[null,null,null,0.0099],[null,null,null,0.016633333333333333],[null,null,null,0.010015686274509805],[null,null,null,0.0081125],[null,null,null,0.006165517241379311],[null,null,null,0.004103448275862068],[null,null,null,0.0],[null,null,null,0.003425],[null,null,null,0.0],[null,null,null,0.0038362068965517243],[null,null,null,0.0023172413793103447],[null,null,null,0.00226551724137931],[null,null,null,0.001975862068965517],[null,null,null,0.004162068965517241],[null,null,null,0.0021413793103448276],[null,null,null,0.003220689655172414],[null,null,null,0.0018896551724137932],[null,null,null,0.00306],[null,null,null,0.0042782608695652175],[null,null,null,0.0008302325581395349],[null,null,null,0.0032396551724137935],[null,null,null,0.002182758620689655],[null,null,null,0.0040894736842105265],[null,null,null,0.003543859649122807],[null,null,null,0.0102],[null,null,null,0.00126078431372549],[null,null,null,0.00256551724137931],[null,null,null,0.0024155172413793105],[null,null,null,0.005867241379310345],[null,null,null,0.00335]],\"type\":\"heatmap\"}],                        {\"template\":{\"data\":{\"barpolar\":[{\"marker\":{\"line\":{\"color\":\"white\",\"width\":0.5},\"pattern\":{\"fillmode\":\"overlay\",\"size\":10,\"solidity\":0.2}},\"type\":\"barpolar\"}],\"bar\":[{\"error_x\":{\"color\":\"#2a3f5f\"},\"error_y\":{\"color\":\"#2a3f5f\"},\"marker\":{\"line\":{\"color\":\"white\",\"width\":0.5},\"pattern\":{\"fillmode\":\"overlay\",\"size\":10,\"solidity\":0.2}},\"type\":\"bar\"}],\"carpet\":[{\"aaxis\":{\"endlinecolor\":\"#2a3f5f\",\"gridcolor\":\"#C8D4E3\",\"linecolor\":\"#C8D4E3\",\"minorgridcolor\":\"#C8D4E3\",\"startlinecolor\":\"#2a3f5f\"},\"baxis\":{\"endlinecolor\":\"#2a3f5f\",\"gridcolor\":\"#C8D4E3\",\"linecolor\":\"#C8D4E3\",\"minorgridcolor\":\"#C8D4E3\",\"startlinecolor\":\"#2a3f5f\"},\"type\":\"carpet\"}],\"choropleth\":[{\"colorbar\":{\"outlinewidth\":0,\"ticks\":\"\"},\"type\":\"choropleth\"}],\"contourcarpet\":[{\"colorbar\":{\"outlinewidth\":0,\"ticks\":\"\"},\"type\":\"contourcarpet\"}],\"contour\":[{\"colorbar\":{\"outlinewidth\":0,\"ticks\":\"\"},\"colorscale\":[[0.0,\"#0d0887\"],[0.1111111111111111,\"#46039f\"],[0.2222222222222222,\"#7201a8\"],[0.3333333333333333,\"#9c179e\"],[0.4444444444444444,\"#bd3786\"],[0.5555555555555556,\"#d8576b\"],[0.6666666666666666,\"#ed7953\"],[0.7777777777777778,\"#fb9f3a\"],[0.8888888888888888,\"#fdca26\"],[1.0,\"#f0f921\"]],\"type\":\"contour\"}],\"heatmapgl\":[{\"colorbar\":{\"outlinewidth\":0,\"ticks\":\"\"},\"colorscale\":[[0.0,\"#0d0887\"],[0.1111111111111111,\"#46039f\"],[0.2222222222222222,\"#7201a8\"],[0.3333333333333333,\"#9c179e\"],[0.4444444444444444,\"#bd3786\"],[0.5555555555555556,\"#d8576b\"],[0.6666666666666666,\"#ed7953\"],[0.7777777777777778,\"#fb9f3a\"],[0.8888888888888888,\"#fdca26\"],[1.0,\"#f0f921\"]],\"type\":\"heatmapgl\"}],\"heatmap\":[{\"colorbar\":{\"outlinewidth\":0,\"ticks\":\"\"},\"colorscale\":[[0.0,\"#0d0887\"],[0.1111111111111111,\"#46039f\"],[0.2222222222222222,\"#7201a8\"],[0.3333333333333333,\"#9c179e\"],[0.4444444444444444,\"#bd3786\"],[0.5555555555555556,\"#d8576b\"],[0.6666666666666666,\"#ed7953\"],[0.7777777777777778,\"#fb9f3a\"],[0.8888888888888888,\"#fdca26\"],[1.0,\"#f0f921\"]],\"type\":\"heatmap\"}],\"histogram2dcontour\":[{\"colorbar\":{\"outlinewidth\":0,\"ticks\":\"\"},\"colorscale\":[[0.0,\"#0d0887\"],[0.1111111111111111,\"#46039f\"],[0.2222222222222222,\"#7201a8\"],[0.3333333333333333,\"#9c179e\"],[0.4444444444444444,\"#bd3786\"],[0.5555555555555556,\"#d8576b\"],[0.6666666666666666,\"#ed7953\"],[0.7777777777777778,\"#fb9f3a\"],[0.8888888888888888,\"#fdca26\"],[1.0,\"#f0f921\"]],\"type\":\"histogram2dcontour\"}],\"histogram2d\":[{\"colorbar\":{\"outlinewidth\":0,\"ticks\":\"\"},\"colorscale\":[[0.0,\"#0d0887\"],[0.1111111111111111,\"#46039f\"],[0.2222222222222222,\"#7201a8\"],[0.3333333333333333,\"#9c179e\"],[0.4444444444444444,\"#bd3786\"],[0.5555555555555556,\"#d8576b\"],[0.6666666666666666,\"#ed7953\"],[0.7777777777777778,\"#fb9f3a\"],[0.8888888888888888,\"#fdca26\"],[1.0,\"#f0f921\"]],\"type\":\"histogram2d\"}],\"histogram\":[{\"marker\":{\"pattern\":{\"fillmode\":\"overlay\",\"size\":10,\"solidity\":0.2}},\"type\":\"histogram\"}],\"mesh3d\":[{\"colorbar\":{\"outlinewidth\":0,\"ticks\":\"\"},\"type\":\"mesh3d\"}],\"parcoords\":[{\"line\":{\"colorbar\":{\"outlinewidth\":0,\"ticks\":\"\"}},\"type\":\"parcoords\"}],\"pie\":[{\"automargin\":true,\"type\":\"pie\"}],\"scatter3d\":[{\"line\":{\"colorbar\":{\"outlinewidth\":0,\"ticks\":\"\"}},\"marker\":{\"colorbar\":{\"outlinewidth\":0,\"ticks\":\"\"}},\"type\":\"scatter3d\"}],\"scattercarpet\":[{\"marker\":{\"colorbar\":{\"outlinewidth\":0,\"ticks\":\"\"}},\"type\":\"scattercarpet\"}],\"scattergeo\":[{\"marker\":{\"colorbar\":{\"outlinewidth\":0,\"ticks\":\"\"}},\"type\":\"scattergeo\"}],\"scattergl\":[{\"marker\":{\"colorbar\":{\"outlinewidth\":0,\"ticks\":\"\"}},\"type\":\"scattergl\"}],\"scattermapbox\":[{\"marker\":{\"colorbar\":{\"outlinewidth\":0,\"ticks\":\"\"}},\"type\":\"scattermapbox\"}],\"scatterpolargl\":[{\"marker\":{\"colorbar\":{\"outlinewidth\":0,\"ticks\":\"\"}},\"type\":\"scatterpolargl\"}],\"scatterpolar\":[{\"marker\":{\"colorbar\":{\"outlinewidth\":0,\"ticks\":\"\"}},\"type\":\"scatterpolar\"}],\"scatter\":[{\"fillpattern\":{\"fillmode\":\"overlay\",\"size\":10,\"solidity\":0.2},\"type\":\"scatter\"}],\"scatterternary\":[{\"marker\":{\"colorbar\":{\"outlinewidth\":0,\"ticks\":\"\"}},\"type\":\"scatterternary\"}],\"surface\":[{\"colorbar\":{\"outlinewidth\":0,\"ticks\":\"\"},\"colorscale\":[[0.0,\"#0d0887\"],[0.1111111111111111,\"#46039f\"],[0.2222222222222222,\"#7201a8\"],[0.3333333333333333,\"#9c179e\"],[0.4444444444444444,\"#bd3786\"],[0.5555555555555556,\"#d8576b\"],[0.6666666666666666,\"#ed7953\"],[0.7777777777777778,\"#fb9f3a\"],[0.8888888888888888,\"#fdca26\"],[1.0,\"#f0f921\"]],\"type\":\"surface\"}],\"table\":[{\"cells\":{\"fill\":{\"color\":\"#EBF0F8\"},\"line\":{\"color\":\"white\"}},\"header\":{\"fill\":{\"color\":\"#C8D4E3\"},\"line\":{\"color\":\"white\"}},\"type\":\"table\"}]},\"layout\":{\"annotationdefaults\":{\"arrowcolor\":\"#2a3f5f\",\"arrowhead\":0,\"arrowwidth\":1},\"autotypenumbers\":\"strict\",\"coloraxis\":{\"colorbar\":{\"outlinewidth\":0,\"ticks\":\"\"}},\"colorscale\":{\"diverging\":[[0,\"#8e0152\"],[0.1,\"#c51b7d\"],[0.2,\"#de77ae\"],[0.3,\"#f1b6da\"],[0.4,\"#fde0ef\"],[0.5,\"#f7f7f7\"],[0.6,\"#e6f5d0\"],[0.7,\"#b8e186\"],[0.8,\"#7fbc41\"],[0.9,\"#4d9221\"],[1,\"#276419\"]],\"sequential\":[[0.0,\"#0d0887\"],[0.1111111111111111,\"#46039f\"],[0.2222222222222222,\"#7201a8\"],[0.3333333333333333,\"#9c179e\"],[0.4444444444444444,\"#bd3786\"],[0.5555555555555556,\"#d8576b\"],[0.6666666666666666,\"#ed7953\"],[0.7777777777777778,\"#fb9f3a\"],[0.8888888888888888,\"#fdca26\"],[1.0,\"#f0f921\"]],\"sequentialminus\":[[0.0,\"#0d0887\"],[0.1111111111111111,\"#46039f\"],[0.2222222222222222,\"#7201a8\"],[0.3333333333333333,\"#9c179e\"],[0.4444444444444444,\"#bd3786\"],[0.5555555555555556,\"#d8576b\"],[0.6666666666666666,\"#ed7953\"],[0.7777777777777778,\"#fb9f3a\"],[0.8888888888888888,\"#fdca26\"],[1.0,\"#f0f921\"]]},\"colorway\":[\"#636efa\",\"#EF553B\",\"#00cc96\",\"#ab63fa\",\"#FFA15A\",\"#19d3f3\",\"#FF6692\",\"#B6E880\",\"#FF97FF\",\"#FECB52\"],\"font\":{\"color\":\"#2a3f5f\"},\"geo\":{\"bgcolor\":\"white\",\"lakecolor\":\"white\",\"landcolor\":\"white\",\"showlakes\":true,\"showland\":true,\"subunitcolor\":\"#C8D4E3\"},\"hoverlabel\":{\"align\":\"left\"},\"hovermode\":\"closest\",\"mapbox\":{\"style\":\"light\"},\"paper_bgcolor\":\"white\",\"plot_bgcolor\":\"white\",\"polar\":{\"angularaxis\":{\"gridcolor\":\"#EBF0F8\",\"linecolor\":\"#EBF0F8\",\"ticks\":\"\"},\"bgcolor\":\"white\",\"radialaxis\":{\"gridcolor\":\"#EBF0F8\",\"linecolor\":\"#EBF0F8\",\"ticks\":\"\"}},\"scene\":{\"xaxis\":{\"backgroundcolor\":\"white\",\"gridcolor\":\"#DFE8F3\",\"gridwidth\":2,\"linecolor\":\"#EBF0F8\",\"showbackground\":true,\"ticks\":\"\",\"zerolinecolor\":\"#EBF0F8\"},\"yaxis\":{\"backgroundcolor\":\"white\",\"gridcolor\":\"#DFE8F3\",\"gridwidth\":2,\"linecolor\":\"#EBF0F8\",\"showbackground\":true,\"ticks\":\"\",\"zerolinecolor\":\"#EBF0F8\"},\"zaxis\":{\"backgroundcolor\":\"white\",\"gridcolor\":\"#DFE8F3\",\"gridwidth\":2,\"linecolor\":\"#EBF0F8\",\"showbackground\":true,\"ticks\":\"\",\"zerolinecolor\":\"#EBF0F8\"}},\"shapedefaults\":{\"line\":{\"color\":\"#2a3f5f\"}},\"ternary\":{\"aaxis\":{\"gridcolor\":\"#DFE8F3\",\"linecolor\":\"#A2B1C6\",\"ticks\":\"\"},\"baxis\":{\"gridcolor\":\"#DFE8F3\",\"linecolor\":\"#A2B1C6\",\"ticks\":\"\"},\"bgcolor\":\"white\",\"caxis\":{\"gridcolor\":\"#DFE8F3\",\"linecolor\":\"#A2B1C6\",\"ticks\":\"\"}},\"title\":{\"x\":0.05},\"xaxis\":{\"automargin\":true,\"gridcolor\":\"#EBF0F8\",\"linecolor\":\"#EBF0F8\",\"ticks\":\"\",\"title\":{\"standoff\":15},\"zerolinecolor\":\"#EBF0F8\",\"zerolinewidth\":2},\"yaxis\":{\"automargin\":true,\"gridcolor\":\"#EBF0F8\",\"linecolor\":\"#EBF0F8\",\"ticks\":\"\",\"title\":{\"standoff\":15},\"zerolinecolor\":\"#EBF0F8\",\"zerolinewidth\":2}}},\"title\":{\"text\":\"CTR Consistency Across Campaigns & Ad Groups\"},\"xaxis\":{\"title\":{\"text\":\"Campaign\"}},\"yaxis\":{\"title\":{\"text\":\"Ad Group\"}}},                        {\"responsive\": true}                    ).then(function(){\n",
       "                            \n",
       "var gd = document.getElementById('51644958-f7bd-4997-bd4d-5708ae2199d6');\n",
       "var x = new MutationObserver(function (mutations, observer) {{\n",
       "        var display = window.getComputedStyle(gd).display;\n",
       "        if (!display || display === 'none') {{\n",
       "            console.log([gd, 'removed!']);\n",
       "            Plotly.purge(gd);\n",
       "            observer.disconnect();\n",
       "        }}\n",
       "}});\n",
       "\n",
       "// Listen for the removal of the full notebook cells\n",
       "var notebookContainer = gd.closest('#notebook-container');\n",
       "if (notebookContainer) {{\n",
       "    x.observe(notebookContainer, {childList: true});\n",
       "}}\n",
       "\n",
       "// Listen for the clearing of the current output cell\n",
       "var outputEl = gd.closest('.output');\n",
       "if (outputEl) {{\n",
       "    x.observe(outputEl, {childList: true});\n",
       "}}\n",
       "\n",
       "                        })                };                });            </script>        </div>"
      ]
     },
     "metadata": {},
     "output_type": "display_data"
    }
   ],
   "source": [
    "campaign_adgroup_pivot = df.pivot_table(index=\"AdGroup\", columns=\"Campaign\", values=\"CTR\", aggfunc=\"mean\")\n",
    "\n",
    "# Heatmap\n",
    "fig = go.Figure(data=go.Heatmap(\n",
    "    z=campaign_adgroup_pivot.values,\n",
    "    x=campaign_adgroup_pivot.columns,\n",
    "    y=campaign_adgroup_pivot.index,\n",
    "    colorscale=\"Blues\",\n",
    "    colorbar=dict(title=\"CTR (%)\")\n",
    "))\n",
    "\n",
    "# Προσαρμογή γραφήματος\n",
    "fig.update_layout(\n",
    "    title=\"CTR Consistency Across Campaigns & Ad Groups\",\n",
    "    xaxis_title=\"Campaign\",\n",
    "    yaxis_title=\"Ad Group\",\n",
    "    template=\"plotly_white\"\n",
    ")\n",
    "\n",
    "# Προβολή γραφήματος\n",
    "fig.show()"
   ]
  },
  {
   "cell_type": "code",
   "execution_count": 52,
   "id": "33f87d7e",
   "metadata": {},
   "outputs": [
    {
     "data": {
      "application/vnd.plotly.v1+json": {
       "config": {
        "plotlyServerURL": "https://plot.ly"
       },
       "data": [
        {
         "boxmean": true,
         "name": "1",
         "type": "box",
         "y": [
          0,
          0.3333,
          0,
          0,
          0,
          0,
          0.25,
          1,
          1,
          0,
          0.25,
          0,
          0,
          1,
          1,
          0,
          0,
          0,
          0,
          0,
          0,
          0,
          0,
          0.4667,
          0.3636,
          0.5556,
          0.3571,
          0.3529,
          0.2308,
          0.4286,
          0.3846,
          0.2308,
          0.125,
          0.6667,
          0.3077,
          0.25,
          0.3333,
          0.25,
          0.1429,
          0.3636,
          0.4,
          0.3077,
          0.5714,
          0.25,
          0.5625,
          0.6,
          0.8571,
          1,
          0.6667,
          0.4,
          0.4,
          0.4167,
          0.4,
          0.2,
          0.3333,
          0.1,
          0.5455,
          0.1429,
          0,
          0.2778,
          0.2,
          0.3,
          0.3462,
          0.1429,
          0.2857,
          0.2222,
          0.5,
          0.4167,
          0.2727,
          0.375,
          0.1935,
          0.1481,
          0.2222,
          0.35,
          0.2759,
          0.3333,
          0.1053,
          0.2222,
          0.3,
          0.2258,
          0.5385,
          0.5714,
          1,
          0.5455,
          0.5714,
          0.5625,
          0.5,
          0.6562,
          0.8333,
          0.5,
          0.4615,
          0.75,
          0.7273,
          0.6875,
          0.619,
          0.7143,
          0.6364,
          0.5556,
          0.8,
          0.5294,
          1,
          0.4,
          0.2727,
          0.75,
          0.2222,
          0.5,
          0.5,
          0.8571,
          0.5556,
          0.375,
          0.5,
          0.75,
          0.6667,
          0.6667,
          0.7143,
          0.2857,
          0.3889,
          0.25,
          0.2,
          0.5,
          0.6667,
          0.6667,
          0.7778,
          0.4286,
          0.4286,
          0.3333,
          0.4286,
          0.3333,
          0.2308,
          0.5862,
          0.5417,
          0.5161,
          0.5,
          0.6129,
          0.5122,
          0.6857,
          0.5357,
          0.5,
          0.5333,
          1,
          1,
          1,
          1,
          1.3333,
          1,
          1,
          1,
          1,
          0.6667,
          1,
          0.7273,
          1.1,
          1,
          0.6667,
          1,
          1,
          1.3333,
          1,
          0.5,
          0.8889,
          0.9091,
          0.5,
          0.75,
          1,
          1.125,
          0.6154,
          0.5714,
          0.7692,
          0.6667,
          1.2,
          1.0833,
          0.5,
          0.6238,
          0.5023,
          0.6104,
          0.5814,
          0.6588,
          0.6103,
          0.5943,
          0.5989,
          0.6631,
          0.7258,
          0.6047,
          0.6173,
          0.6536,
          0.6987,
          0.5696,
          0.6364,
          0.6202,
          0.6435,
          0.6272,
          0.6682,
          0.6463,
          0.5369,
          0.6016,
          0.5941,
          0.6943,
          0.6332,
          0.6992,
          0.6566,
          0.609,
          0.6201,
          0.6436,
          0.6484,
          0.6564,
          0.6434,
          0.6347,
          0.5847,
          0.5743,
          0.5677,
          0.6227,
          0.5574,
          0.5712,
          0.5585,
          0.5498,
          0.5821,
          0.5796,
          0.6314,
          0.544,
          0.5319,
          0.5412,
          0.4854,
          0.515,
          0.6667,
          0.625,
          0.7,
          1,
          1,
          1,
          0.5,
          0.6667,
          1,
          0,
          0.6667,
          0.75,
          0.8333,
          0,
          0.8571,
          1,
          1,
          0.8,
          0,
          1,
          0.25,
          0.6,
          1,
          0.8571,
          0.4286,
          0.75,
          1,
          1,
          0.75,
          0.75,
          0.5,
          0.2,
          0.6,
          0.7778,
          0.5,
          0.3333,
          0,
          0.2857,
          0.4286,
          0.5556,
          1,
          0.5714,
          0.6667,
          0.5,
          1,
          0.75,
          0.5556,
          0.75,
          0.8571,
          0.7273,
          0.5,
          0.7647,
          0.4167,
          0.5,
          0.2857,
          0.5556,
          0,
          0,
          0,
          0.5,
          0,
          1,
          0,
          1,
          0,
          0.5,
          0,
          0.3333,
          1,
          1,
          0,
          1,
          1,
          0.3333,
          0.5,
          1,
          1,
          0,
          0.6667,
          0.3333,
          0,
          0.5,
          1,
          0.4,
          0.5,
          0.3667,
          0.6667,
          0.5588,
          0.6923,
          0.5556,
          0.6061,
          0.5833,
          0.5862,
          0.45,
          0.5238,
          0.5652,
          0.5357,
          0.4615,
          0.5652,
          0.8667,
          0.5455,
          0.5,
          0.5455,
          0.4839,
          0.52,
          0.3333,
          0.525,
          0.5938,
          0.7931,
          0.5263,
          0.6562,
          0.5,
          0.7027,
          0.5312,
          0.6857,
          0.56,
          0.6129,
          0.4878,
          0.5556,
          0.4545,
          0.4444,
          0.439,
          0.6,
          0.6111,
          0.8444,
          0.7188,
          0.5128,
          0.5263,
          0.5833,
          0.5714,
          0.7941,
          0.4524,
          0.619,
          0.5278,
          0.5,
          0.4615,
          0.5,
          0.4878,
          0.3548,
          0.5806,
          0.4262,
          0.5,
          0.5111,
          0.72,
          0.7308,
          0.8571,
          0.6087,
          0.7143,
          0.7073,
          0.8571,
          0.72,
          0.8261,
          0.5714,
          0.6875,
          0.6818,
          0.6842,
          0.8125,
          0.8333,
          0.5882,
          0.8667,
          0.6875,
          0.7857,
          0.7333,
          0.8235,
          0.85,
          0.7568,
          0.5417,
          0.6842,
          0.5909,
          0.6087,
          0.6774,
          1.1818,
          0.4286,
          0.9,
          0.8824,
          0.8,
          0.8333,
          0.5882,
          0.28,
          0.7778,
          0.7812,
          0.8889,
          0.75,
          0.8148,
          0.8077,
          0.6154,
          0.6,
          0.7619,
          0.8065,
          0.825,
          0.4815,
          0.75,
          0.5238,
          0.5778,
          0.6111,
          0.8333,
          0.6,
          0.7083,
          0.7353,
          0.8636,
          0.6316,
          0,
          0.5,
          1,
          0,
          0.5,
          0.6667,
          0,
          0.3333,
          0.5,
          1.5,
          0.3333,
          0,
          1,
          1,
          1,
          0.3333,
          1,
          0.3333,
          0.2,
          0,
          1,
          0,
          0,
          0,
          0,
          1,
          0.7,
          0,
          0.6667,
          0.5,
          1,
          1,
          0.75,
          0.5,
          0.375,
          0,
          0.5,
          0,
          0,
          0.3333,
          0.5,
          0,
          1,
          1,
          0.6,
          0,
          0.6,
          0.5,
          0.6,
          0.8,
          1,
          0,
          1,
          0,
          1,
          0,
          1,
          0.5,
          0.2857,
          0,
          1,
          0.4,
          0.5,
          1,
          1,
          1,
          1,
          0,
          0.25,
          0.5,
          1,
          1,
          0,
          1,
          0.5,
          0,
          1,
          0.5,
          1,
          1,
          1,
          1,
          1,
          0,
          1,
          0,
          1,
          0,
          1,
          0,
          1,
          1,
          0,
          0,
          1,
          1,
          0,
          0,
          0,
          1,
          0.5,
          0,
          0,
          1.3333,
          1,
          0,
          1,
          0.5,
          0.5,
          0,
          0,
          0.5,
          0,
          0,
          1,
          0,
          0,
          0,
          0,
          1,
          1,
          0,
          1,
          0,
          0.5,
          1,
          1,
          1,
          1,
          0.5,
          1,
          0,
          0,
          1,
          1,
          1,
          0.3333,
          0.2,
          0.5,
          1,
          0.75,
          0.2,
          0.625,
          0.75,
          1,
          0,
          0,
          0.4,
          0.5,
          1,
          0.5,
          1,
          0.5714,
          1,
          1,
          0.5,
          0.25,
          1,
          0.5,
          0,
          0,
          0.5,
          0,
          0.75,
          0,
          0.4,
          0.2,
          0.25,
          0.6,
          0,
          1,
          0.8333,
          0.1667,
          0.5,
          0,
          0.2857,
          1,
          1,
          1,
          1,
          1,
          0,
          0,
          2,
          0,
          0,
          0,
          0,
          0,
          0.5,
          0,
          1,
          0.5,
          0.6,
          0.5,
          0,
          0,
          0,
          0.1,
          1,
          0,
          0,
          0,
          0,
          1,
          0.5,
          1,
          0,
          0.5417,
          0.54,
          0.5625,
          0.5667,
          0.5357,
          0.6863,
          0.6667,
          0.6818,
          0.7447,
          0.7273,
          0.8636,
          0.7778,
          0.6667,
          0.7273,
          0.5417,
          0.6829,
          0.6957,
          0.6857,
          0.614,
          0.6562,
          0.5345,
          0.7042,
          0.6269,
          0.6571,
          0.7059,
          0.6349,
          0.6885,
          0.5932,
          0.5556,
          0.5741,
          0.6341,
          0.6389,
          0.68,
          0.5686,
          0.7407,
          0.4366,
          0.6977,
          0.6235,
          0.5538,
          0.5176,
          0.6479,
          0.5645,
          0.6216,
          0.6322,
          0.5645,
          0.6308,
          0.6216,
          0.5,
          0.5341,
          0.5079,
          0.4884,
          0.5068,
          0.5,
          0.5,
          0.7143,
          0.5288,
          0.6629,
          0.6438,
          0.5,
          0.3333,
          1,
          1,
          0.6667,
          0.3333,
          1,
          0.6,
          0.6667,
          0.6667,
          1,
          1,
          1,
          0.5,
          1,
          0.75,
          0.5,
          0.5,
          0.7,
          1,
          0.5,
          0.5,
          0,
          0,
          1,
          1,
          1,
          1,
          0.5,
          1,
          0,
          0.75,
          1,
          0,
          1,
          0,
          0,
          1,
          1,
          0.1667,
          1,
          0.6667,
          1,
          0.5,
          1,
          1,
          1,
          1,
          1,
          1,
          1,
          0,
          0,
          0.5,
          0,
          0,
          1,
          1,
          1,
          0,
          1,
          0,
          2,
          1,
          1,
          0,
          0.5,
          2,
          1,
          0.5714,
          1,
          1,
          0.5,
          0,
          0.2,
          1,
          0,
          0,
          0,
          0.5,
          0.5455,
          0.4259,
          0.6957,
          0.6,
          0.4074,
          0.5405,
          0.5625,
          0.5283,
          0.4545,
          0.5455,
          0.5517,
          0.6444,
          0.5,
          0.4839,
          0.4,
          0.4516,
          0.5556,
          0.4091,
          0.587,
          0.5094,
          0.375,
          0.5082,
          0.4872,
          0.5156,
          0.5946,
          0.587,
          0.6471,
          0.6545,
          0.6207,
          0.5504,
          0.5071,
          0.5,
          0.4902,
          0.3846,
          0.4146,
          0.3774,
          0.5769,
          0.4516,
          0.3529,
          0.5111,
          0.4375,
          0.3469,
          0.381,
          0.3571,
          0.3953,
          0.3415,
          0.3023,
          0.2143,
          0.5714,
          0.4,
          0.5278,
          0,
          0.4375,
          0.1875,
          0.35,
          0.4444,
          0.4359,
          0.5667,
          0.4,
          0.1724,
          0.1923,
          0.1304,
          0.1538,
          0.2143,
          0.2353,
          0.1667,
          0.0938,
          0.2308,
          0.087,
          0.2857,
          0.25,
          0.1364,
          0.0769,
          0.5,
          0,
          0.1667,
          0.2857,
          0.375,
          0.3448,
          0.2609,
          0.2162,
          0.2778,
          0.2059,
          0.4762,
          0.2258,
          0.3158,
          0.1905,
          0.1277,
          0.1538,
          0.0938,
          0.1154,
          0.375,
          0.2174,
          0.25,
          0.1613,
          0.1957,
          0.1875,
          0.3793,
          0.2759,
          0.3235,
          0.325,
          0.2545,
          0.2308,
          0.2889,
          0.1628,
          0.1842,
          0.2,
          0.2667,
          0.1892,
          0.2222,
          0.2553,
          0.3404,
          0.5,
          0.5,
          0.3333,
          0.25,
          0.5,
          1,
          0.25,
          0,
          0.6667,
          0.5,
          1,
          0,
          0,
          0,
          0.6667,
          0.5,
          0.5,
          1,
          1,
          0.6,
          0,
          0,
          0.6667,
          0.2,
          0,
          0,
          0.5,
          0.6,
          0,
          0,
          1,
          0,
          0,
          1,
          1,
          0.5,
          0.2857,
          0,
          0.4,
          0,
          0.5,
          0,
          0.5,
          0,
          0.3333,
          1,
          0.4286,
          0.4444,
          0,
          1,
          0.5,
          1,
          0,
          1,
          0,
          1,
          0,
          0,
          0,
          0,
          0,
          0,
          0,
          1,
          1,
          1,
          0.6667,
          0,
          0.6667,
          0,
          0,
          0,
          1,
          0.5,
          1,
          1,
          1,
          0.5,
          0.3333,
          0,
          0.4,
          0.5,
          1,
          0.8,
          1,
          1.3333,
          0.5,
          1,
          0.5,
          1,
          0,
          0,
          0,
          1,
          0,
          0.4,
          1,
          0,
          0,
          1,
          0,
          0,
          1,
          0.1667,
          0.3333,
          0,
          1,
          0.1429,
          0.6667,
          0.3333,
          0.2,
          0.1429,
          1,
          0.5,
          1,
          0.6667,
          1,
          1,
          0,
          1,
          0,
          1,
          0,
          0,
          0.5,
          0,
          1,
          1,
          0.5,
          0,
          0,
          1,
          1,
          0.3333,
          0,
          0,
          1,
          0,
          1,
          1,
          0.5,
          0,
          0.5,
          0.5891,
          0.6188,
          0.6019,
          0.6308,
          0.6154,
          0.5944,
          0.5612,
          0.5949,
          0.5787,
          0.5661,
          0.6095,
          0.5632,
          0.5652,
          0.5709,
          0.5778,
          0.5896,
          0.56,
          0.5638,
          0.5501,
          0.5504,
          0.5539,
          0.5795,
          0.5861,
          0.5729,
          0.5876,
          0.5554,
          0.5977,
          0.5486,
          0.5724,
          0.5579,
          0.55,
          0.5792,
          0.5618,
          0.5453,
          0.5531,
          0.5567,
          0.5325,
          0.5422,
          0.5287,
          0.5392,
          0.5355,
          0.555,
          0.513,
          0.5425,
          0.525,
          0.5493,
          0.5241,
          0.5014,
          0.5009,
          0.5386,
          0.568,
          0.5579,
          0.5753,
          0.5436,
          0.5243,
          0.5266,
          0.599,
          0.5577
         ]
        },
        {
         "boxmean": true,
         "name": "3",
         "type": "box",
         "y": [
          0.2059,
          0.3913,
          0.1622,
          0.2593,
          0.4242,
          0.3043,
          0.4667,
          0.5,
          0.2128,
          0.375,
          0.35,
          0.4211,
          0.4167,
          0.1667,
          0.25,
          0.4545,
          0.2105,
          0.4,
          0.2,
          0.2963,
          0.2308,
          0.2759,
          0.3929,
          0.3,
          0.3125,
          0.3929,
          0.3077,
          0.2727,
          0.1667,
          0.3333,
          0.3939,
          0.2778,
          0.1667,
          0.3,
          0.1324,
          0.1311,
          0.3182,
          0.3333,
          0.1818,
          0.2857,
          0.2963,
          0.0625,
          0.24,
          0.2381,
          0.2273,
          0.4,
          0.1562,
          0.3913,
          0.3158,
          0.1795,
          0.3125,
          0.3846,
          0.4364,
          0.2381,
          0.3333,
          0.3077,
          0,
          0.1538,
          0,
          0,
          1,
          1,
          0,
          0,
          0,
          0.3333,
          0.3333,
          0.5,
          0.3333,
          0,
          1,
          0.5,
          0,
          1,
          0.5,
          0.5,
          0.2,
          0,
          0,
          0.2,
          1,
          1,
          0,
          0,
          1,
          1,
          0,
          1,
          0,
          0,
          0,
          0,
          0,
          0,
          0,
          1,
          0,
          0,
          1,
          0,
          1,
          1,
          1,
          1,
          0,
          0.3333,
          0,
          0.5,
          1,
          0.2222,
          0.1429,
          0.375,
          0.2,
          0.375,
          0.4,
          0.6,
          0.25,
          0.25,
          0.7143,
          1,
          0.375,
          0,
          1,
          0.4,
          0.4444,
          0.5556,
          0.7778,
          0.7143,
          0.75,
          1,
          0.4,
          0.2,
          0.3333,
          0.5455,
          0.2,
          0.5,
          0.5,
          0,
          0.2,
          0.1429,
          0.1,
          0.25,
          0.8,
          0.5385,
          1,
          0.2,
          0.5714,
          0.2632,
          0.5,
          0.4615,
          0.2857,
          0.4545,
          0.4,
          0.4,
          0.2353,
          0.3333,
          0.4,
          0.5625,
          0.4783,
          0.2667,
          0.6364,
          0.6667,
          1,
          0,
          0.3333,
          0,
          0,
          0,
          0,
          1,
          1,
          1,
          0,
          0.3333,
          0,
          0,
          0,
          0.3333,
          1,
          0,
          0,
          0,
          0,
          0,
          0.5,
          0,
          0.6667,
          0,
          0.1667,
          0,
          0,
          0.2,
          0.3333,
          0,
          0,
          0,
          0,
          1,
          0,
          1,
          2,
          2,
          1,
          0,
          1,
          1,
          0.5,
          0,
          0.25,
          0,
          0.5,
          1,
          0,
          0,
          0.2857,
          0.3235,
          0.2857,
          0.6154,
          0.3947,
          0.2917,
          0.3913,
          0.381,
          0.4615,
          0.381,
          0.1,
          0.425,
          0.2903,
          0.2609,
          0.25,
          0.4706,
          0.1667,
          0.2143,
          0.3333,
          0.2456,
          0.1346,
          0.3226,
          0.2821,
          0.2353,
          0.3636,
          0.2564,
          0.1304,
          0.2955,
          0.3429,
          0.32,
          0.3143,
          0.2222,
          0.359,
          0.3036,
          0.4286,
          0.3235,
          0.4865,
          0.4054,
          0.2222,
          0.3182,
          0.3962,
          0.2364,
          0.2727,
          0.2857,
          0.2683,
          0.425,
          0.2911,
          0.3774,
          0.2778,
          0.3673,
          0.3438,
          0.3148,
          0.2933,
          0.2857,
          0.2593,
          0.38,
          1,
          0.2703,
          0,
          0.3333,
          0,
          0,
          0.5,
          0,
          1,
          0,
          0,
          0,
          0,
          0,
          0,
          0,
          0,
          0.5,
          0,
          0,
          0.5,
          0.125,
          0,
          0,
          0,
          0.25,
          0,
          1,
          0.5,
          0,
          1,
          1,
          1,
          0.5,
          1,
          0,
          0.5,
          0,
          1,
          1,
          0,
          1,
          0,
          0,
          1,
          0,
          0,
          2,
          0,
          1,
          0,
          1,
          0.5,
          0.25,
          0.5,
          1,
          0,
          0,
          0,
          0.25,
          1,
          0.4,
          0,
          0.5,
          0,
          0,
          0,
          0,
          0,
          0,
          0.5,
          1,
          0.5,
          0,
          0,
          0,
          0.6667,
          0,
          0.5,
          0,
          0,
          0.5,
          1,
          0,
          0,
          0,
          1,
          0.3333,
          0,
          0.3333,
          0,
          0,
          0.2,
          0,
          0.3333,
          1,
          0,
          0.5,
          0.6667,
          1,
          0,
          0.2,
          0.5,
          0,
          0,
          0.3158,
          0.3714,
          0.2143,
          0.36,
          0.3171,
          0.1935,
          0.2941,
          0.2105,
          0.2258,
          0.2667,
          0.1818,
          0.2143,
          0.3077,
          0.25,
          0.0769,
          0.3548,
          0.2353,
          0.1852,
          0.2,
          0.2414,
          0.3111,
          0.3659,
          0.2586,
          0.0909,
          0.275,
          0.1912,
          0.2,
          0.2182,
          0.1667,
          0.2029,
          0.1176,
          0.2679,
          0.2615,
          0.325,
          0.25,
          0.2029,
          0.3659,
          0.2381,
          0.4375,
          0.3404,
          0.3077,
          0.3404,
          0.2794,
          0.5455,
          0.3125,
          0.241,
          0.2794,
          0.25,
          0.1481,
          0.431,
          0.3014,
          0.3929,
          0.3016,
          0.1412,
          0.3614,
          0.3393,
          0.1667,
          0.4186,
          0.5,
          0.6667,
          0,
          0.6,
          0.4286,
          1,
          0.1429,
          0.7778,
          0.5,
          0.6667,
          0,
          1,
          0,
          2,
          0.5,
          0.25,
          0.625,
          0.6667,
          1,
          0.0833,
          0.0769,
          0.8,
          0.5,
          0,
          0,
          0,
          0.1739,
          0,
          0.5,
          0.25,
          0.4,
          0.25,
          0.1111,
          0.25,
          0.375,
          0.3913,
          0.25,
          0.4667,
          0.6154,
          0.3,
          0.2857,
          0.3571,
          0.1875,
          0.4444,
          0.5385,
          0.6667,
          0.3636,
          0.4167,
          0.25,
          0.4286,
          0.1667,
          0.1818,
          0.2,
          0,
          1,
          1,
          0,
          0,
          1,
          2,
          0,
          0,
          0,
          0,
          0,
          0,
          0,
          0,
          0,
          1,
          0.5,
          0,
          0,
          0,
          1,
          0,
          0,
          0.3333,
          0,
          0,
          0,
          0,
          0,
          1,
          1,
          1,
          1,
          0.5,
          0,
          0,
          0,
          0,
          0,
          0,
          0,
          0,
          1,
          2,
          0.3333,
          1,
          0.3333,
          0.6667,
          0,
          0,
          0,
          0,
          1,
          0,
          0,
          0,
          0,
          0.3333,
          1,
          1,
          0.25,
          1,
          0,
          0.5,
          1,
          1,
          0,
          0,
          0.25,
          0.5,
          0.3,
          0.3529,
          0.125,
          0.1667,
          0,
          0.0816,
          0,
          0.5,
          0.6,
          0.6,
          0.8333,
          0,
          0,
          0.3333,
          0.6,
          0.5,
          0.4,
          0.3333,
          0,
          0.2727,
          0.25,
          0.6667,
          1,
          0.5714,
          0.4,
          0.625,
          0.25,
          0.1429,
          0.7143,
          0.4,
          1,
          0,
          0.3333,
          0.4286,
          0.125,
          0.3889,
          0.4,
          0.2,
          0.5,
          0.3333,
          0.1111,
          0.2,
          0.7143,
          0.36,
          0.1429,
          0.5,
          0.3,
          0.25,
          0.5714,
          0.4286,
          0.5,
          0.0667,
          0.25,
          1,
          0.3,
          0,
          0.5,
          1,
          0,
          0.5,
          0.25,
          0.5,
          1,
          0.5,
          0,
          0,
          0.3333,
          0,
          0,
          1,
          0,
          0,
          1,
          0.8,
          1,
          0,
          0,
          0.5,
          1,
          0,
          0.5,
          0.3333,
          0.1667,
          1,
          0.3333,
          0,
          0.2,
          0,
          1,
          0.2,
          0.4,
          1,
          0,
          0,
          0,
          0.6667,
          0.3333,
          0.6667,
          1,
          0.3333,
          0,
          0.2857,
          0,
          1,
          0.6,
          0.75,
          0,
          0,
          1,
          1,
          0,
          0,
          0.2,
          0.3333,
          0,
          0,
          0,
          0.0625,
          0,
          0.5,
          0,
          0.375,
          0,
          0,
          0.3333,
          0.2,
          0.4286,
          0.3333,
          0.3333,
          0.2727,
          0.0833,
          0.2143,
          0.1429,
          0.5,
          0,
          0.3333,
          0.1765,
          0.25,
          0.5,
          0.2222,
          0.0769,
          0,
          0.4,
          0.2,
          0.0769,
          0.4,
          0.2143,
          0.2857,
          0.6154,
          0.1667,
          1,
          0,
          0,
          0,
          0.5,
          0,
          0.3333,
          0,
          0,
          0,
          0.5,
          0,
          0.5,
          0.25,
          0.6842,
          0.4211,
          0.6667,
          0.2667,
          0.5217,
          0,
          0.3333,
          0.3333,
          0.625,
          0,
          0.1765,
          0.5,
          0.375,
          0.3333,
          0.3333,
          0.5,
          0.5,
          0.25,
          0.2941,
          0.2727,
          0.3333,
          0.1818,
          0.4167,
          0.5333,
          0.25,
          0.3793,
          0.5333,
          0.2609,
          0.2857,
          0.5,
          0.2308,
          0.15,
          0.2917,
          0.55,
          0.3333,
          0.1765,
          0.4737,
          0.1379,
          0.375,
          0.1905,
          0.4211,
          0.3636,
          0.5556,
          0.3846,
          0.4667,
          0.4348,
          0.4,
          0.375,
          0.375,
          0.28,
          0.4348,
          0.32,
          0.15,
          0.5,
          1,
          0.5,
          1,
          0.2,
          0.5,
          1,
          0,
          0,
          0.5,
          0,
          0,
          1,
          1,
          0,
          0,
          0,
          0,
          0,
          0,
          1,
          0,
          0,
          1,
          0,
          0,
          1,
          0,
          0.75,
          1,
          0,
          0,
          0,
          0,
          0,
          0,
          0,
          1,
          0,
          0,
          0.25,
          0,
          1,
          0,
          0,
          0,
          0.1667,
          0,
          0,
          0,
          0,
          0,
          0,
          0,
          2,
          1,
          1,
          1,
          1,
          0,
          2,
          0,
          0.3333,
          0.4167,
          0.25,
          0.5,
          0.75,
          0.7143,
          0.2222,
          0.4286,
          0.3333,
          0.6667,
          0.4286,
          0.6667,
          0.2857,
          1,
          0,
          0.25,
          0.1111,
          0.5556,
          0.5,
          0.1818,
          0.1818,
          0.6667,
          0.3333,
          0.4545,
          0.5,
          0,
          0.625,
          0.3,
          0,
          0.3333,
          0,
          0.3,
          0.2353,
          0.2,
          0.2,
          0.5714,
          0.3333,
          0.1667,
          0.5,
          0.1429,
          0.25,
          0.5,
          0.375,
          0.625,
          0.4286,
          0.6667,
          0.4,
          0.25,
          0.6,
          0.6,
          0.6667,
          0.2857,
          0.25,
          0,
          1,
          0,
          0,
          0,
          1,
          0,
          0,
          0.5,
          1,
          0,
          1,
          1.5,
          1,
          1,
          1,
          0,
          1,
          0,
          0,
          0,
          1,
          1,
          0,
          0.5,
          1,
          0,
          0.5,
          0,
          0,
          0.2,
          1,
          0,
          2,
          0,
          0,
          0,
          1,
          0,
          2,
          0,
          0.5,
          0,
          0,
          0,
          0,
          0,
          0,
          0,
          1,
          1,
          0,
          1,
          1,
          0.5,
          0,
          0,
          0.5,
          1,
          0,
          0,
          0,
          0,
          1,
          0,
          0,
          1,
          0,
          0,
          1,
          0.2857,
          0,
          1,
          1,
          0.6,
          0.25,
          0,
          0.5,
          0,
          0.6667,
          0,
          0,
          0.6667,
          0.3333,
          0.5,
          0,
          0.6,
          0,
          0.2,
          0.5,
          0.5,
          0,
          0.0769,
          0,
          1,
          0,
          0.3333,
          0,
          1,
          0,
          0.3333,
          0.5,
          0.25,
          0,
          1,
          0,
          1,
          0,
          0,
          1,
          0,
          1,
          0,
          0.3333,
          0,
          1,
          0.1429,
          0,
          0,
          0,
          0,
          0,
          1,
          0,
          1,
          1,
          0.1667,
          0.6667,
          0,
          0,
          0.5,
          0,
          0,
          1,
          1,
          0.6,
          2,
          0,
          0,
          1,
          1,
          0,
          0,
          0,
          0.5,
          1,
          0.25,
          0,
          0,
          1,
          0,
          0.25,
          0.5,
          0.6667,
          1,
          1,
          0.5,
          0,
          0,
          0.5,
          0,
          0.4,
          0.3333,
          0,
          0,
          1,
          0,
          0.3333,
          1,
          1,
          0,
          1,
          0,
          0,
          0,
          0,
          0,
          1,
          0,
          1,
          0,
          0,
          0,
          1,
          0.5,
          1,
          0.5,
          0,
          0,
          0.5,
          0.6667,
          0,
          1,
          0,
          0,
          0,
          0,
          1,
          0.5,
          1,
          0,
          0,
          1,
          0,
          0.5714,
          0.3333,
          0.3333,
          0.3333,
          0,
          0.5,
          0,
          0,
          0,
          0.5,
          0,
          1,
          0,
          1,
          0,
          0,
          1,
          0,
          1,
          1,
          0,
          0.6667,
          0,
          0,
          0.8,
          0,
          0.5,
          0,
          0.3333,
          1,
          0,
          1,
          0.4,
          0.875,
          0.3333,
          0.2632,
          0.3333,
          0.4545,
          0.25,
          0.6154,
          0.375,
          0.4286,
          0.375,
          0.6667,
          0.3333,
          0.1111,
          0.6,
          1,
          0.4615,
          0.375,
          0.6,
          0.6,
          0.3333,
          0.1579,
          0.3571,
          0.125,
          0.5,
          1,
          0.5455,
          0.3333,
          0.625,
          0.4,
          0.3333,
          0.0938,
          0.2273,
          0.2308,
          0.3077,
          0.5714,
          1,
          0.7778,
          0.1429,
          0.625,
          0.4286,
          0.75,
          0.5,
          0.5,
          0.2727,
          0.5455,
          0.25,
          0.1333,
          0.375,
          0.5455,
          0.4,
          0.5,
          0.6923,
          0.3333,
          1,
          0.5,
          2,
          0.6667,
          0,
          0.6667,
          1,
          0.5,
          0.5,
          0.2143,
          0.5,
          0,
          0,
          1,
          1,
          1,
          0,
          0,
          0,
          0.6667,
          0.6667,
          0.5,
          0.5,
          0.75,
          0,
          0,
          0.6667,
          0.25,
          1,
          0.1429,
          1,
          0.75,
          1,
          0.3333,
          1,
          0,
          0,
          0.5,
          0.5,
          0.3333,
          1,
          0.6667,
          1,
          1,
          0.3333,
          1,
          0.2,
          0,
          0.5,
          1,
          0.3333,
          0,
          0,
          1,
          1,
          0,
          0.6667,
          0.5,
          1,
          0,
          0.6667,
          0.6667,
          0,
          0.4,
          0.25,
          0,
          0,
          0.25,
          0.5714,
          0,
          1,
          0,
          0.3333,
          0,
          1,
          0,
          1,
          0,
          0,
          0.3333,
          1,
          0.2857,
          0.75,
          0,
          0,
          0.5,
          0.75,
          1,
          0,
          0.5,
          0.5714,
          0.6667,
          0.4286,
          0,
          0.5,
          0.6667,
          0,
          0,
          0.5,
          0.5,
          0.5,
          0.4,
          0,
          0.6667,
          1,
          0,
          0.6667,
          0.5,
          0.5,
          0.625,
          0.8,
          0.5556,
          0.5,
          0.5556,
          0.1667,
          0,
          0.8,
          1,
          1,
          0.5556,
          0,
          0.4,
          0.4,
          0.4286,
          0.5,
          0,
          0.2857,
          0.5,
          0.3333,
          0.1667,
          0.3333,
          0.2,
          0.5556,
          0.5,
          0.5,
          0.3333,
          0.2,
          1.3333,
          0.7,
          0.5,
          0.5714,
          0.3333,
          0.3333,
          0.2857,
          0.5556,
          0.3,
          0.5,
          0.3333,
          0.5,
          0,
          0.0909,
          0.3333,
          0.5,
          1,
          0,
          0.3333,
          0,
          0.5,
          0,
          1,
          0,
          0.3333,
          0.3333,
          0.3077,
          0.3333,
          0.5556,
          0.6667,
          0.2,
          0.375,
          0.3333,
          0.1923,
          0.6154,
          1,
          0.4,
          0.4,
          0.25,
          0.2222,
          0,
          0.2857,
          0.375,
          0.4,
          0.3636,
          0.7,
          0.5294,
          0.5,
          0.3684,
          0.1765,
          0.4,
          0.6,
          0.25,
          0.2,
          0.3333,
          0.5,
          0.5714,
          0.375,
          0.3,
          0.7059,
          0.6667,
          0.625,
          0.2727,
          0.4615,
          0.2778,
          0.375,
          0.25,
          0.75,
          0.7143,
          0.4167,
          0.1667,
          0.4375,
          0.625,
          0.5455,
          0.3929,
          0.2857,
          0.5,
          0.1875,
          0.6154,
          0.3333,
          0.3571,
          0.4762,
          0,
          0.8571,
          0.3333,
          1,
          1,
          0.6667,
          0,
          0.6667,
          0,
          0,
          0,
          0,
          1,
          0,
          1,
          0,
          0.25,
          1,
          0,
          1,
          0.3333,
          0,
          0.6667,
          1,
          0.25,
          0,
          0,
          0.4,
          0.5,
          0,
          0.5,
          0.1333,
          0,
          0.3333,
          0.7778,
          1,
          0,
          0.2857,
          0.2,
          0.6667,
          0,
          0,
          0,
          1,
          0.6,
          0,
          0.5,
          0.5,
          0.2857,
          0.6667,
          0.2857,
          0.8,
          0.5,
          1,
          0,
          1,
          0,
          1,
          0,
          0,
          1,
          0.5,
          0,
          1,
          0,
          1,
          0,
          0,
          1,
          1,
          1,
          0.5,
          0,
          1,
          1,
          1,
          0,
          0,
          1,
          1,
          0.5,
          1,
          0,
          1,
          1,
          0,
          0,
          0,
          0,
          0.5,
          1,
          1,
          0.5,
          1,
          1,
          1,
          0.5,
          1,
          0,
          2,
          0,
          0,
          0.125,
          0,
          0.3333,
          1,
          0,
          0.5,
          0.5,
          1,
          0,
          0,
          1,
          0,
          0,
          0.5,
          0.5,
          0,
          0.5,
          0.1818,
          1,
          1
         ]
        },
        {
         "boxmean": true,
         "name": "7",
         "type": "box",
         "y": [
          0.3125,
          0.4737,
          0.2222,
          0.375,
          0.35,
          0.0909,
          0.16,
          0.2105,
          0.4444,
          0.2727,
          0,
          0.3333,
          0.0714,
          0.2,
          0.5,
          0.375,
          0.4286,
          0.12,
          0.3333,
          0.1613,
          0.25,
          0.2,
          0.25,
          0.1053,
          0.4,
          0.1667,
          0.2727,
          0.2667,
          0.1905,
          0.2727,
          0.0833,
          0.1304,
          0,
          0.36,
          0.3636,
          0.3333,
          0.3077,
          0.2143,
          0.4,
          0.3125,
          0.3846,
          0.4706,
          0.3889,
          0.2778,
          0.4,
          0,
          0.381,
          0.1739,
          0.2778,
          0.1333,
          0.2222,
          0.2143,
          0.3158,
          0.0588,
          0,
          0.3,
          0.3333,
          0.2857,
          0.3333,
          1,
          0,
          0,
          0.1667,
          0,
          0,
          0.3333,
          0.6667,
          0,
          0,
          0.1429,
          0,
          0.25,
          0,
          0.3333,
          0.3333,
          0.3333,
          0,
          0.1,
          0.25,
          0,
          0.25,
          0.25,
          0,
          0,
          0.1429,
          0.1429,
          0,
          0.6667,
          0.3333,
          0.0833,
          0,
          0,
          0.1429,
          0.3333,
          0.2,
          0.2857,
          0.1667,
          0.2,
          0.1667,
          0.3333,
          0,
          0.4,
          0.2857,
          0.4,
          0.5,
          0,
          0,
          1,
          0,
          0,
          0.3333,
          0.25,
          0.4667,
          0.2432,
          0.2069,
          0.2593,
          0.3265,
          0.2895,
          0.5588,
          0.1667,
          0.1053,
          0.1739,
          0.2778,
          0.3469,
          0.3125,
          0.1739,
          0.4167,
          0.3077,
          0.2727,
          0.3333,
          0.2703,
          0.3,
          0.375,
          0.32,
          0.3103,
          0.3226,
          0.3571,
          0.24,
          0.3529,
          0.2857,
          0.1875,
          0.25,
          0.3,
          0.2273,
          0.12,
          0.3793,
          0.0526,
          0.1467,
          0.2464,
          0.1429,
          0.1724,
          0.1449,
          0.1935,
          0.209,
          0.1111,
          0.25,
          0.2727,
          0.1463,
          0.1667,
          0.2034,
          0.1343,
          0.1702,
          0.1613,
          0.0732,
          0.1,
          0.0345,
          0.2368,
          0.0435,
          0,
          0.5,
          0,
          0,
          0,
          0,
          0,
          0.5,
          0.4,
          0,
          0.1667,
          0,
          0.625,
          0.2,
          0,
          0,
          0,
          0.0909,
          0.2727,
          0.4,
          0,
          0.3333,
          0,
          0,
          0,
          0.1429,
          0,
          0,
          0,
          0,
          0.2179,
          0.1891,
          0.1919,
          0.2349,
          0.2037,
          0.1949,
          0.1921,
          0.1347,
          0.2402,
          0.1436,
          0.1961,
          0.24,
          0.1676,
          0.1525,
          0.2222,
          0.1387,
          0.1543,
          0.1074,
          0.1243,
          0.113,
          0.1923,
          0.1715,
          0.1623,
          0.1806,
          0.1793,
          0.0884,
          0.141,
          0.1575,
          0.1947,
          0.1143,
          0.2028,
          0.1389,
          0.1894,
          0.2015,
          0.1641,
          0.2143,
          0.1723,
          0.195,
          0.1888,
          0.2058,
          0.1919,
          0.1792,
          0.1903,
          0.2041,
          0.2246,
          0.1861,
          0.2273,
          0.2419,
          0.2438,
          0.1529,
          0.1407,
          0.184,
          0.2276,
          0.1986,
          0.1118,
          0.2377,
          0,
          0.4,
          0.2222,
          0.037,
          0.25,
          0.2308,
          0.24,
          0.0909,
          0.2083,
          0.2308,
          0.1538,
          0.1667,
          0.1667,
          0.1875,
          0.2308,
          0.1429,
          0.0556,
          0.1111,
          0.2857,
          0.12,
          0.1667,
          0.25,
          0.3333,
          0.4706,
          0.3158,
          0.0714,
          0.1,
          0.1538,
          0.3333,
          0.4167,
          0.2857,
          0.1,
          0.375,
          0.2069,
          0.1818,
          0.2162,
          0.1538,
          0.375,
          0.4348,
          0.087,
          0.4242,
          0.4667,
          0.1667,
          0.45,
          0.7143,
          0.2222,
          0.2683,
          0.25,
          0.32,
          0.4444,
          0.2105,
          0.3529,
          0.2857,
          0.0833,
          0.1667,
          0.1818,
          0.3333,
          0,
          0.3333,
          1,
          0,
          0.3333,
          0.5,
          1,
          0,
          0.0833,
          0,
          1,
          1,
          0.3333,
          0,
          0.5,
          0.1667,
          0,
          0.6667,
          1,
          0,
          1,
          0,
          0,
          0.25,
          1,
          0.3333,
          0,
          0.5,
          0,
          1,
          0.2,
          1,
          0,
          0,
          0,
          0,
          0.6667,
          0,
          0,
          0,
          0.3333,
          0,
          0,
          0,
          0.1667,
          0,
          0,
          0.1667,
          0.5,
          0.2857,
          0.25,
          0,
          0.2,
          0,
          2,
          0,
          0,
          1,
          0.3333,
          0.3333,
          0.6667,
          0,
          1,
          0.5,
          0,
          0,
          0.25,
          1,
          0.3333,
          0.1,
          0,
          0.0625,
          0.5,
          1,
          0,
          0.25,
          0.3333,
          0.3333,
          0.5,
          1,
          0,
          0.5,
          0.25,
          0.3333,
          0.1667,
          0,
          0,
          0.0909,
          0.1667,
          0.25,
          0,
          0.025,
          0,
          0,
          0,
          0,
          0,
          0,
          0,
          0,
          0.4,
          0.2143,
          0.3333,
          0.25,
          0.2857,
          0.2727,
          0.4,
          0.2727,
          0.3333,
          0.1667,
          0,
          0.0909,
          0,
          0.4286,
          0.75,
          0.5,
          0.1,
          0,
          0,
          0,
          0.0769,
          0.3333,
          0,
          0.375,
          0.25,
          0.3333,
          0,
          0.6,
          0.25,
          0.1667,
          0,
          0.75,
          0.6,
          0.0909,
          0.1667,
          0,
          0,
          0.6,
          0.1667,
          0.0909,
          0.3,
          0.0833,
          0.2,
          0,
          0,
          0.2,
          0.25,
          0.2857,
          0,
          0,
          0,
          0.3333,
          0,
          0.5,
          0,
          0,
          0.1667,
          0.3333,
          0.3333,
          0,
          0,
          0,
          1,
          0,
          1,
          0,
          0,
          1,
          0,
          0.5,
          0,
          0,
          0,
          0,
          0.6667,
          0,
          0.75,
          0.5,
          0,
          0.5,
          1,
          0.5,
          0,
          0,
          1,
          0,
          0.3333,
          1,
          0,
          0,
          0.4,
          0,
          0
         ]
        },
        {
         "boxmean": true,
         "name": "15",
         "type": "box",
         "y": [
          0,
          0,
          0,
          0,
          0,
          0,
          0,
          0,
          0,
          0,
          0,
          0,
          0,
          0,
          0,
          0,
          0,
          0,
          0,
          0,
          0,
          0,
          0,
          0,
          0,
          0,
          0,
          1,
          0,
          0,
          0,
          0,
          0,
          0,
          0,
          0,
          0,
          0.0282,
          0.0088,
          0,
          0.0075,
          0,
          0.0107,
          0.0074,
          0.0067,
          0.0102,
          0.0052,
          0.0049,
          0.0063,
          0.0068,
          0.0064,
          0.0073,
          0.0065,
          0.0058,
          0.0074,
          0.0055,
          0.0068,
          0.0069,
          0.0087,
          0.0065,
          0.006,
          0.0054,
          0.005,
          0.0059,
          0.0044,
          0.0059,
          0.006,
          0.0054,
          0.0057,
          0.0067,
          0.0059,
          0.0057,
          0.0052,
          0.0059,
          0.0064,
          0.0052,
          0.0063,
          0.0082,
          0.0098,
          0.009,
          0.0054,
          0.0061,
          0.0097,
          0.0079,
          0.0118,
          0.0098,
          0.0107,
          0.0109,
          0.01,
          0.0066,
          0.0079,
          0.0081,
          0.0078,
          0.0068,
          0.0093,
          0.0094,
          0.009,
          0.008,
          0.0074,
          0.0096,
          0.004,
          0.0042,
          0,
          0.01,
          0,
          0.0047,
          0.0017,
          0.0065,
          0.0045,
          0.0019,
          0.0081,
          0,
          0.0027,
          0.0109,
          0.0041,
          0.0018,
          0.0053,
          0.0075,
          0.0029,
          0.0041,
          0.0064,
          0.0063,
          0.0016,
          0.005,
          0.0059,
          0.0024,
          0.0011,
          0.0061,
          0.0047,
          0.0019,
          0.0013,
          0.0013,
          0.0029,
          0.0122,
          0,
          0,
          0,
          0,
          0,
          0,
          0.0095,
          0.009,
          0.0082,
          0.0052,
          0.0042,
          0.0053,
          0.0024,
          0.0064,
          0.0042,
          0.0102,
          0.0069,
          0.0082,
          0.0113,
          0.0099,
          0.0058,
          0.0096,
          0.0074,
          0.0049,
          0.0063,
          0.0055,
          0.0067,
          0.0064,
          0.0038,
          0.0036,
          0.0039,
          0.0067,
          0.0075,
          0.0067,
          0.0048,
          0.01,
          0.0058,
          0.0031,
          0.0063,
          0.0051,
          0.008,
          0.0042,
          0.0064,
          0.0069,
          0.0072,
          0.0071,
          0.0062,
          0.0061,
          0.0049,
          0.0038,
          0.0054,
          0.0051,
          0.0071,
          0.0051,
          0.0052,
          0.0092,
          0.0085,
          0.0086,
          0.0089,
          0.0098,
          0.0097,
          0.0069,
          0.0057,
          0.0049,
          0.0057,
          0.0053,
          0.0062,
          0.0063,
          0.0073,
          0.0064,
          0.005,
          0.0042,
          0.0058,
          0.0053,
          0.0052,
          0.0052,
          0.0169,
          0.0122,
          0,
          0.0408,
          0.0036,
          0.0074,
          0.0075,
          0.0038,
          0.0032,
          0.0039,
          0.0095,
          0.0074,
          0.0147,
          0.003,
          0.0119,
          0.0104,
          0.0138,
          0.0051,
          0.0029,
          0.0031,
          0,
          0.0028,
          0.003,
          0.0025,
          0.0024,
          0.0053,
          0.0098,
          0.0057,
          0.0021,
          0.0051,
          0.0031,
          0.0068,
          0.0025,
          0,
          0,
          0.0082,
          0.0137,
          0.0116,
          0,
          0,
          0,
          0,
          0,
          0,
          0,
          0,
          0,
          0,
          0,
          0,
          0,
          0,
          0.0124,
          0.003,
          0.0046,
          0.0106,
          0.0043,
          0.0205,
          0.0206,
          0.0065,
          0.0076,
          0.0065,
          0.0068,
          0.0071,
          0.0074,
          0.0075,
          0.0072,
          0.0059,
          0.0074,
          0.007,
          0.0076,
          0.0062,
          0.006,
          0.0049,
          0.0061,
          0.0069,
          0.0054,
          0.0062,
          0.0061,
          0.0075,
          0.0068,
          0.007,
          0.006,
          0.0059,
          0.0075,
          0.0065,
          0.0049,
          0.0072,
          0.0065,
          0.0059,
          0.0051,
          0.0061,
          0.007,
          0.0066,
          0.0053,
          0.0093,
          0.0091,
          0.0041,
          0.006,
          0.0102,
          0.0088,
          0.011,
          0.0098,
          0.0078,
          0.0088,
          0.0089,
          0.0074,
          0.0059,
          0.006,
          0.0049,
          0.0059,
          0.0063,
          0.0056,
          0.0056,
          0.006,
          0.0133,
          0.0091,
          0.0078,
          0,
          0,
          0.0091,
          0.0056,
          0.0073,
          0.0065,
          0,
          0.0018,
          0,
          0,
          0.0113,
          0.0038,
          0,
          0.0054,
          0.0041,
          0.0069,
          0.0026,
          0.002,
          0.0052,
          0.0043,
          0.0013,
          0.0024,
          0.005,
          0.003,
          0.0047,
          0.0034,
          0.0053,
          0.0033,
          0.0089,
          0.0025,
          0.0104,
          0.0035,
          0.008,
          0.0054,
          0.0041,
          0.0118,
          0,
          0.0086,
          0.0101,
          0,
          0.0041,
          0.0149,
          0.0044,
          0.0081,
          0.0053,
          0.0025,
          0.0104,
          0.0055,
          0.0021,
          0.0038,
          0.0056,
          0.0079,
          0.0111,
          0.0074,
          0.0078,
          0.0199,
          0.0115,
          0.0096,
          0.0086,
          0.0083,
          0.0081,
          0.0075,
          0.0094,
          0.0085,
          0.0097,
          0.0087,
          0.0073,
          0.0062,
          0.0077,
          0.0089,
          0.0068,
          0.0059,
          0.007,
          0.006,
          0.0059,
          0.0075,
          0.007,
          0.0057,
          0.0046,
          0.0069,
          0.0065,
          0.0052,
          0.0064,
          0.0061,
          0.0051,
          0.0049,
          0.0065,
          0.0065,
          0.0049,
          0.0047,
          0.0047,
          0.0052,
          0.0088,
          0.0124,
          0.0125,
          0.0102,
          0.0135,
          0.0121,
          0.0095,
          0.0128,
          0.012,
          0.0104,
          0.0114,
          0.0119,
          0.0086,
          0.0095,
          0.0093,
          0.0081,
          0.0075,
          0.0097,
          0.01,
          0.0093,
          0.01,
          0.0162,
          0.0131,
          0.0097,
          0.0069,
          0.0015,
          0.0033,
          0.0038,
          0.0028,
          0.0071,
          0.0057,
          0.0061,
          0.0054,
          0.004,
          0.0066,
          0.0073,
          0,
          0.0072,
          0.0074,
          0.0036,
          0.0053,
          0.0074,
          0.0049,
          0.0063,
          0.0085,
          0.0051,
          0.0029,
          0.001,
          0.0042,
          0.0055,
          0.0084,
          0.0058,
          0.0013,
          0.0016,
          0.0036,
          0.0064,
          0.0019,
          0.0015,
          0.0021,
          0,
          0.0056,
          0.0101,
          0,
          0.0217,
          0.0129,
          0.006,
          0.0063,
          0,
          0.002,
          0.0082,
          0.0041,
          0.0037,
          0.0054,
          0.006,
          0.0062,
          0.0074,
          0.008,
          0.0067,
          0.006,
          0.0198,
          0.0123,
          0.0068,
          0.0054,
          0.006,
          0.0062,
          0.006,
          0.0053,
          0.0061,
          0.0076,
          0.0074,
          0.0063,
          0.005,
          0.0066,
          0.0053,
          0.0051,
          0.0052,
          0.006,
          0.0049,
          0.0057,
          0.0042,
          0.0049,
          0.0054,
          0.0057,
          0.0063,
          0.0055,
          0.0064,
          0.0058,
          0.0069,
          0.0068,
          0.0057,
          0.0051,
          0.0052,
          0.0056,
          0.0052,
          0.005,
          0.0064,
          0.0055,
          0.0097,
          0.0066,
          0.0055,
          0.006,
          0.0081,
          0.0084,
          0.0104,
          0.0105,
          0.0059,
          0.0077,
          0.007,
          0.0084,
          0.0069,
          0.0058,
          0.0066,
          0.0056,
          0.0073,
          0.006,
          0.0071,
          0.0072,
          0.0119,
          0.0098,
          0.0046,
          0.0068,
          0.0048,
          0.0048,
          0.0052,
          0.002,
          0.0021,
          0,
          0.0065,
          0,
          0.0041,
          0.0048,
          0.0055,
          0.0084,
          0.0021,
          0,
          0.0041,
          0.0057,
          0.0031,
          0.005,
          0.0049,
          0.0062,
          0.0042,
          0.0062,
          0.0094,
          0.0051,
          0.0121,
          0.0067,
          0.0036,
          0.0031,
          0.0088,
          0.0022,
          0.0045,
          0.0054,
          0.0058,
          0.0079,
          0.0062,
          0.0113,
          0.0045,
          0.0025,
          0.009,
          0.0102,
          0.0185,
          0.0059,
          0.008,
          0.011,
          0.0067,
          0.0097,
          0.0099,
          0.0052,
          0.0044,
          0.0061,
          0.0063,
          0.008,
          0.0032,
          0.0061,
          0.0178,
          0.0076,
          0.0103,
          0.0044,
          0.0048,
          0.0077,
          0.0066,
          0.0074,
          0.0079,
          0.006,
          0.0046,
          0.0051,
          0.0047,
          0.0067,
          0.006,
          0.0031,
          0.0095,
          0.007,
          0.0126,
          0.0076,
          0.012,
          0.0084,
          0.0089,
          0.0123,
          0.0103,
          0.0087,
          0.0074,
          0.0075,
          0.01,
          0.0082,
          0.0095,
          0.0084,
          0.0094,
          0.0088,
          0.0085,
          0.0085,
          0.0073,
          0.0082,
          0.008,
          0.0087,
          0.0111,
          0.0112,
          0.0142,
          0.0088,
          0.0105,
          0.0072,
          0.0061,
          0.0059,
          0.006,
          0.0076,
          0.0044,
          0.0055,
          0.0059,
          0.0037,
          0.0067,
          0.0083,
          0.0042,
          0.0057,
          0.0121,
          0.0088,
          0,
          0,
          0,
          0,
          0,
          0,
          0.0147,
          0.0056,
          0.0046,
          0.0051,
          0.0155,
          0.0044,
          0.0049,
          0.0186,
          0,
          0.0108,
          0.0154,
          0.0031,
          0.0055,
          0.0107,
          0.005,
          0.0063,
          0.01,
          0.0022,
          0.0027,
          0.0059,
          0,
          0.0082,
          0.0064,
          0.005,
          0.0053,
          0.0044,
          0,
          0.0088,
          0.0183,
          0.0066,
          0,
          0,
          0,
          0.0147,
          0,
          0.0435,
          0.0056,
          0,
          0.01,
          0,
          0,
          0,
          0.0075,
          0.0093,
          0,
          0.0146,
          0.0088,
          0.0157,
          0.0104,
          0.0115,
          0.0119,
          0.0076,
          0.0064,
          0.0107,
          0.0101,
          0.0069,
          0.009,
          0.0096,
          0.0093,
          0.01,
          0.0108,
          0.0079,
          0.009,
          0.007,
          0.0083,
          0.0071,
          0.0063,
          0.0075,
          0.0077,
          0.0059,
          0.0102,
          0.0089,
          0.0093,
          0.0062,
          0.0093,
          0.0084,
          0.0071,
          0.0073,
          0.0087,
          0.0059,
          0.0071,
          0.008,
          0.0071,
          0.0074,
          0.0071,
          0.0065,
          0.0057,
          0.0064,
          0.0114,
          0.0149,
          0.0141,
          0.0149,
          0.0094,
          0.007,
          0.0112,
          0.0089,
          0.0102,
          0.0098,
          0.0084,
          0.0095,
          0.008,
          0.0064,
          0.006,
          0.0069,
          0.0061,
          0.0048,
          0.0044,
          0.0079,
          0.0213,
          0,
          0,
          0,
          0.0234,
          0.0119,
          0.016,
          0.012,
          0.0069,
          0.0102,
          0.0054,
          0.0156,
          0.0126,
          0.0082,
          0.0081,
          0.0028,
          0.0055,
          0.0142,
          0.0079,
          0.0031,
          0.0035,
          0.0041,
          0.0035,
          0.0065,
          0.0111,
          0.0099,
          0.0096,
          0.0142,
          0.0107,
          0.0091,
          0.0091,
          0.0124,
          0.0102,
          0.008,
          0.0072,
          0.0078,
          0.0155,
          0.0139,
          0.0066,
          0.0113,
          0.0117,
          0.0147,
          0.0046,
          0.0069,
          0.0058,
          0.0073,
          0.0107,
          0.0086,
          0.008,
          0.0074,
          0.0116,
          0.0038,
          0.0135,
          0.0079,
          0.0154,
          0.0174,
          0.0106,
          0.0504,
          0,
          0.0316,
          0.0183,
          0.0312,
          0.0076,
          0.0226,
          0.0183,
          0.023,
          0.0184,
          0.0103,
          0.0116,
          0.0111,
          0.0161,
          0.0095,
          0.006,
          0.0159,
          0.0106,
          0.0178,
          0.007,
          0.0048,
          0.0023,
          0.0095,
          0.0096,
          0.0036,
          0.0062,
          0.0024,
          0.0051,
          0.0078,
          0.0023,
          0.0054,
          0.0102,
          0,
          0.0231,
          0.0072,
          0.011,
          0.006,
          0.0238,
          0,
          0,
          0,
          0.0263,
          0.0121,
          0.0191,
          0.009,
          0.0078,
          0.0089,
          0.0033,
          0.0068,
          0.0073,
          0.0046,
          0.0063,
          0.0065,
          0.0067,
          0.0088,
          0.0059,
          0.0077,
          0.0085,
          0.0079,
          0.0074,
          0.0074,
          0.0115,
          0.0086,
          0.0038,
          0.0051,
          0.0041,
          0.0053,
          0.0051,
          0.0039,
          0.0028,
          0.003,
          0.0046,
          0.011,
          0.0032,
          0.0047,
          0.0044,
          0.004,
          0.0065,
          0.0023,
          0.0016,
          0.004,
          0.0102,
          0.0069,
          0.0056,
          0.0072,
          0.0073,
          0.0053,
          0.0065,
          0.0055,
          0.0078,
          0.0055,
          0.0065,
          0.0054,
          0.0066,
          0.007,
          0.006,
          0.0061,
          0.0066,
          0.0035,
          0.0067,
          0.0033,
          0.0067,
          0.0091,
          0.0168,
          0.0036,
          0.0102,
          0.0087,
          0.0058,
          0.0032,
          0.0055,
          0.0065,
          0.008,
          0.0065,
          0.0046,
          0.0066,
          0.0079,
          0.0076,
          0.0079,
          0.009,
          0.0086,
          0.0099,
          0.0042,
          0.0016,
          0.0039,
          0.0054,
          0.0046,
          0.0027,
          0.0034,
          0.0034,
          0.0052,
          0.0098,
          0.008,
          0.0059,
          0.004,
          0.0008,
          0,
          0.0023,
          0.0026,
          0.0008,
          0.0015,
          0.0043,
          0.0015,
          0.0049,
          0.0032,
          0.0074,
          0.003,
          0.0012,
          0.0063,
          0.0085,
          0.0041,
          0.0039,
          0.0028,
          0.0034,
          0.0036,
          0.0036,
          0.0049,
          0.0011,
          0.0016,
          0.003,
          0.0024,
          0.005,
          0.0055,
          0.0033,
          0.0063,
          0.0013,
          0.0026,
          0.0026,
          0.0062,
          0.0049,
          0.0031,
          0.0072,
          0.005,
          0.0034,
          0.0063,
          0.0056,
          0.0054,
          0.0069,
          0.005,
          0.0076,
          0,
          0,
          0,
          0,
          0,
          0,
          0,
          0,
          0,
          0,
          0,
          0,
          0,
          0,
          0,
          0,
          0,
          0,
          0,
          0,
          0,
          0,
          0,
          0,
          0,
          0,
          0,
          0,
          0,
          0,
          0,
          0,
          0,
          0,
          0,
          0,
          0,
          0,
          0,
          0,
          0,
          0,
          0.0018,
          0.0052,
          0.0067,
          0,
          0,
          0,
          0,
          0.0018,
          0.0029,
          0.0042,
          0.0021,
          0.0018,
          0.0035,
          0.0028,
          0.0031,
          0.0033,
          0.004,
          0.0037,
          0.0032,
          0.003,
          0.004,
          0.0031,
          0.0039,
          0.0035,
          0.0035,
          0.0022,
          0.0026,
          0.0027,
          0.0035,
          0.0049,
          0.0029,
          0.0044,
          0.0038,
          0.0033,
          0.0029,
          0.003,
          0.0023,
          0.0029,
          0.003,
          0.0043,
          0.004,
          0.0044,
          0.0031,
          0.0051,
          0.0053,
          0.0031,
          0.0047,
          0.0036,
          0.0031,
          0.0059,
          0.0033,
          0.0066,
          0.003,
          0.0045,
          0.0031,
          0.0029,
          0.0053,
          0.0059,
          0.0059,
          0.0053,
          0.0063,
          0.0059,
          0.0055,
          0.0066,
          0.004,
          0.0023,
          0.0024,
          0.0027,
          0,
          0,
          0.0023,
          0.0021,
          0.0025,
          0,
          0.0025,
          0,
          0.0058,
          0.002,
          0.0019,
          0.0025,
          0,
          0,
          0,
          0,
          0.0048,
          0.0027,
          0.0013,
          0.0013,
          0,
          0.0017,
          0.0047,
          0.005,
          0.0011,
          0,
          0.0044,
          0.0033,
          0.0067,
          0.0012,
          0.0035,
          0.0025,
          0,
          0,
          0.0065,
          0.0031,
          0,
          0.003,
          0.0027,
          0.0042,
          0,
          0.0036,
          0.0031,
          0.0012,
          0.0025,
          0.0011,
          0,
          0.0062,
          0.0012,
          0.0062,
          0.0022,
          0.0039,
          0,
          0.0105,
          0,
          0.0004,
          0.0013,
          0,
          0.0026,
          0.0018,
          0.0012,
          0.0028,
          0.0024,
          0.0022,
          0.0036,
          0.0019,
          0.0028,
          0.003,
          0.0022,
          0.002,
          0.0027,
          0.0006,
          0.0007,
          0.0021,
          0.0026,
          0.0013,
          0.0028,
          0.0024,
          0.0023,
          0.0024,
          0.0025,
          0.0029,
          0.0017,
          0.0019,
          0.0023,
          0.001,
          0.0016,
          0.0008,
          0.0022,
          0.0014,
          0.0016,
          0.0022,
          0.0014,
          0.0022,
          0.0023,
          0,
          0.0008,
          0.0016,
          0.0015,
          0.0026,
          0.0025,
          0.0031,
          0.0034,
          0.003,
          0.0045,
          0.0031,
          0.0045,
          0.0038,
          0.003,
          0.0031,
          0.0033,
          0.0047,
          0.0048,
          0,
          0,
          0,
          0,
          0,
          0,
          0,
          0,
          0,
          0,
          0.0148,
          0.0075,
          0.004,
          0,
          0,
          0,
          0,
          0,
          0,
          0,
          0,
          0,
          0,
          0.0118,
          0.003,
          0.0044,
          0,
          0,
          0,
          0.0053,
          0.0065,
          0,
          0,
          0,
          0.0029,
          0,
          0,
          0,
          0.0104,
          0,
          0,
          0,
          0,
          0.0127,
          0.0053,
          0.0048,
          0,
          0.0039,
          0,
          0,
          0.0021,
          0.0028,
          0.0015,
          0.0028,
          0.0019,
          0,
          0.0062,
          0,
          0.0038,
          0.0041,
          0.0044,
          0.0027,
          0.0026,
          0.0038,
          0.0035,
          0.0033,
          0.0035,
          0.0038,
          0.0049,
          0.0027,
          0.0029,
          0.0035,
          0.0031,
          0.0027,
          0.0027,
          0.0033,
          0.0027,
          0.0033,
          0.004,
          0.004,
          0.0033,
          0.0036,
          0.0032,
          0.0028,
          0.0035,
          0.0034,
          0.0032,
          0.0026,
          0.0025,
          0.004,
          0.0036,
          0.0038,
          0.0042,
          0.0036,
          0.0048,
          0.0053,
          0.0046,
          0.0046,
          0.0044,
          0.0036,
          0.0064,
          0.0045,
          0.0051,
          0.004,
          0.0037,
          0.0051,
          0.0053,
          0.0067,
          0.0082,
          0.0058,
          0.0065,
          0.0066,
          0.006,
          0.0045,
          0.0069,
          0.0062,
          0.0015,
          0.0028,
          0.0018,
          0.0016,
          0.0026,
          0,
          0.0045,
          0.003,
          0,
          0.0017,
          0.0026,
          0.0011,
          0.0027,
          0,
          0,
          0.0029,
          0.0016,
          0,
          0.0013,
          0.0036,
          0,
          0,
          0.0011,
          0.0027,
          0.0025,
          0.0009,
          0.0039,
          0,
          0,
          0.0024,
          0.0013,
          0.0028,
          0.0019,
          0.0009,
          0.0009,
          0,
          0.0032,
          0,
          0,
          0,
          0,
          0,
          0,
          0,
          0.0054,
          0,
          0.0078,
          0.0027,
          0.004,
          0.0044,
          0.0017,
          0.0081,
          0.0075,
          0.0095,
          0.0041,
          0.0028,
          0.0033,
          0.0031,
          0.0031,
          0.0026,
          0.0028,
          0.003,
          0.0036,
          0.0031,
          0.0031,
          0.0034,
          0.0032,
          0.003,
          0.0031,
          0.0021,
          0.0027,
          0.0022,
          0.0018,
          0.0028,
          0.0017,
          0.003,
          0.003,
          0.0034,
          0.0035,
          0.0032,
          0.0027,
          0.0031,
          0.0024,
          0.003,
          0.0029,
          0.0029,
          0.0016,
          0.0024,
          0.0026,
          0.0029,
          0.0026,
          0.0025,
          0.0025,
          0.003,
          0.0051,
          0.002,
          0.0031,
          0.0024,
          0.0031,
          0.0017,
          0.0038,
          0.0026,
          0.0043,
          0.0038,
          0.0033,
          0.0036,
          0.0039,
          0.0053,
          0.0054,
          0.0041,
          0.0043,
          0.0043,
          0.0045,
          0.0049,
          0.0061,
          0.0047,
          0,
          0.0033,
          0.0046,
          0,
          0.0036,
          0,
          0.0014,
          0.0031,
          0.0012,
          0.0013,
          0.0027,
          0.0062,
          0.0011,
          0.0015,
          0.0017,
          0.0031,
          0.0015,
          0.0028,
          0.003,
          0.0023,
          0.0034,
          0.0018,
          0.0034,
          0.001,
          0.0012,
          0,
          0.0009,
          0.0024,
          0,
          0.0011,
          0.001,
          0.0012,
          0.0021,
          0,
          0.002,
          0,
          0.0047,
          0,
          0,
          0,
          0,
          0,
          0,
          0,
          0,
          0,
          0,
          0.0043,
          0.0022,
          0.0028,
          0.0045,
          0.0034,
          0.0037,
          0.0023,
          0.003,
          0.0043,
          0.0053,
          0.0032,
          0.002,
          0.002,
          0.0032,
          0.0022,
          0.0026,
          0.0029,
          0.0025,
          0.004,
          0.0026,
          0.0025,
          0.0027,
          0.0024,
          0.002,
          0.0023,
          0.0013,
          0.0033,
          0.0032,
          0.0032,
          0.0031,
          0.0029,
          0.0031,
          0.0028,
          0.003,
          0.0046,
          0.0036,
          0.0032,
          0.0026,
          0.0033,
          0.0025,
          0.0022,
          0.0026,
          0.0031,
          0.0031,
          0.0034,
          0.0028,
          0.0029,
          0.0044,
          0.0039,
          0.0031,
          0.0051,
          0.0044,
          0.0036,
          0.0031,
          0.0053,
          0.0031,
          0,
          0,
          0,
          0,
          0,
          0,
          0,
          0.0093,
          0.0032,
          0,
          0.0019,
          0.0044,
          0.004,
          0.0025,
          0.0045,
          0.0027,
          0.0094,
          0.0053,
          0.0092,
          0.0032,
          0.01,
          0.0212,
          0.0076,
          0,
          0,
          0,
          0.0238,
          0,
          0,
          0,
          0,
          0,
          0,
          0,
          0,
          0,
          0,
          0,
          0,
          0,
          0,
          0,
          0,
          0,
          0,
          0,
          0,
          0,
          0,
          0,
          0,
          0,
          0,
          0,
          0,
          0,
          0,
          0,
          0,
          0,
          0,
          0.0051,
          0.0021,
          0.0023,
          0,
          0.0024,
          0.0026,
          0.0029,
          0.0028,
          0.0031,
          0.0033,
          0.0027,
          0.0032,
          0.0029,
          0.0031,
          0.0034,
          0.0044,
          0.003,
          0.0038,
          0.0032,
          0.0019,
          0.0027,
          0.0025,
          0.0043,
          0.0027,
          0.0049,
          0.0041,
          0.0022,
          0.0032,
          0.0033,
          0.0021,
          0.0031,
          0.0037,
          0.0027,
          0.0027,
          0.0039,
          0.0042,
          0.0028,
          0.0026,
          0.0023,
          0.0022,
          0.0027,
          0.0035,
          0,
          0.0038,
          0.0044,
          0.0021,
          0.0054,
          0.0028,
          0.001,
          0.0022,
          0.0011,
          0.0031,
          0.0033,
          0.0022,
          0.0033,
          0.0037,
          0.0024,
          0.0042,
          0.005,
          0.0046,
          0.0044,
          0.0092,
          0.005,
          0,
          0,
          0,
          0,
          0,
          0,
          0,
          0,
          0,
          0,
          0,
          0,
          0,
          0,
          0.0051,
          0,
          0,
          0,
          0,
          0.0056,
          0,
          0,
          0.0022,
          0.0024,
          0.0024,
          0.0076,
          0,
          0,
          0.0021,
          0.0033,
          0.0025,
          0.0025,
          0,
          0.0024,
          0.004,
          0.0051,
          0.007,
          0.0056,
          0,
          0,
          0.006,
          0,
          0.0065,
          0.0083,
          0,
          0,
          0.0058,
          0,
          0.0018,
          0.002,
          0.0085,
          0.0046,
          0,
          0.0127,
          0.0027,
          0.0059,
          0,
          0.002,
          0.0042,
          0.0039,
          0.0038,
          0.0029,
          0.003,
          0.0041,
          0.0036,
          0.0032,
          0.0034,
          0.0033,
          0.0032,
          0.0027,
          0.0033,
          0.0027,
          0.0047,
          0.0025,
          0.0024,
          0.0025,
          0.0033,
          0.0018,
          0.0021,
          0.003,
          0.0021,
          0.0028,
          0.003,
          0.0027,
          0.0043,
          0.004,
          0.0028,
          0.0045,
          0.0016,
          0.0034,
          0.0019,
          0.0027,
          0.0021,
          0.0024,
          0.0058,
          0.0067,
          0.0076,
          0.0045,
          0.0049,
          0.0041,
          0.0048,
          0.0047,
          0.0056,
          0.0068,
          0.0069,
          0.0043,
          0.0058,
          0.0095,
          0.0072,
          0.0079,
          0.0066,
          0.0065,
          0.0052,
          0.006,
          0.0018,
          0,
          0,
          0,
          0,
          0,
          0,
          0,
          0,
          0,
          0,
          0,
          0,
          0,
          0,
          0,
          0,
          0,
          0,
          0,
          0,
          0,
          0,
          0,
          0.0309,
          0,
          0.0022,
          0.0029,
          0.0067,
          0.0019,
          0.0172,
          0,
          0.0027,
          0.0022,
          0.004,
          0.0046,
          0,
          0,
          0,
          0,
          0,
          0,
          0,
          0,
          0.0476,
          0,
          0,
          0,
          0,
          0,
          0,
          0,
          0.0048,
          0.0107,
          0.0089,
          0.0097,
          0.0127,
          0.0323,
          0.0204,
          0,
          0,
          0,
          0,
          0,
          0,
          0,
          0,
          0,
          0,
          0,
          0,
          0,
          0,
          0,
          0,
          0.0051,
          0,
          0.0054,
          0,
          0.0043,
          0,
          0,
          0,
          0.0065,
          0,
          0.0059,
          0,
          0,
          0,
          0,
          0,
          0,
          0,
          0,
          0,
          0,
          0,
          0,
          0,
          0,
          0,
          0,
          0.0028,
          0.0048,
          0.0073,
          0.004,
          0.0026,
          0.0055,
          0.003,
          0.0046,
          0.0025,
          0.001,
          0.0012,
          0.0014,
          0,
          0.0042,
          0.0025,
          0,
          0.0014,
          0.0011,
          0,
          0.0028,
          0.0012,
          0.0009,
          0,
          0.0024,
          0.0018,
          0.0018,
          0.0017,
          0.0013,
          0.0018,
          0.0017,
          0.0018,
          0.0032,
          0.0025,
          0.0022,
          0.0033,
          0.0027,
          0.0017,
          0.0027,
          0.0027,
          0.0041,
          0.0036,
          0.0045,
          0.0047,
          0.0037,
          0.0043,
          0.0029,
          0.0034,
          0.0042,
          0.0019,
          0.0039,
          0.003,
          0.0041,
          0.0029,
          0.0014,
          0.005,
          0.0031,
          0.0025,
          0.0023,
          0.0042,
          0.0026,
          0.0046,
          0.0038,
          0.0044,
          0.0049,
          0.0034,
          0.0009,
          0.0015,
          0.0015,
          0.0034,
          0.0037,
          0.0019,
          0.0017,
          0,
          0.0017,
          0.0024,
          0.0015,
          0.0019,
          0.0019,
          0.0034,
          0.0033,
          0.0022,
          0.0028,
          0.0043,
          0.0022,
          0.0034,
          0.0027,
          0.0029,
          0.0027,
          0.0013,
          0.0051,
          0.0023,
          0.0012,
          0.0018,
          0.0026,
          0.0008,
          0.0008,
          0.0022,
          0.0024,
          0.0011,
          0.0018,
          0.0018,
          0.0006,
          0.0037,
          0.0028,
          0.0031,
          0.0051,
          0.0036,
          0.0026,
          0.0013,
          0.0009,
          0.0024,
          0.0018,
          0.0023,
          0.0023,
          0.0027,
          0.0015,
          0.0036,
          0.0023,
          0.0028,
          0.0025,
          0.0018,
          0.0044,
          0.0022,
          0.0031,
          0.004,
          0.0075,
          0.0064,
          0.0063,
          0.0062,
          0.0064,
          0.0074,
          0.0061,
          0.0065,
          0.007,
          0.0072,
          0.0063,
          0.0064,
          0.0063,
          0.0058,
          0.0063,
          0.006,
          0.0061,
          0.006,
          0.0061,
          0.0056,
          0.0059,
          0.0054,
          0.0058,
          0.005,
          0.0053,
          0.0051,
          0.005,
          0.0049,
          0.0049,
          0.0059,
          0.0053,
          0.005,
          0.0043,
          0.0047,
          0.0053,
          0.0061,
          0.0067,
          0.0065,
          0.0058,
          0.0069,
          0.0049,
          0.0042,
          0.006,
          0.006,
          0.0061,
          0.0052,
          0.0055,
          0.0053,
          0.0056,
          0.0053,
          0.0052,
          0.0053,
          0.0062,
          0.0054,
          0.0048,
          0.0052,
          0.0083,
          0.0081,
          0.0032,
          0.0035
         ]
        }
       ],
       "layout": {
        "template": {
         "data": {
          "bar": [
           {
            "error_x": {
             "color": "#2a3f5f"
            },
            "error_y": {
             "color": "#2a3f5f"
            },
            "marker": {
             "line": {
              "color": "white",
              "width": 0.5
             },
             "pattern": {
              "fillmode": "overlay",
              "size": 10,
              "solidity": 0.2
             }
            },
            "type": "bar"
           }
          ],
          "barpolar": [
           {
            "marker": {
             "line": {
              "color": "white",
              "width": 0.5
             },
             "pattern": {
              "fillmode": "overlay",
              "size": 10,
              "solidity": 0.2
             }
            },
            "type": "barpolar"
           }
          ],
          "carpet": [
           {
            "aaxis": {
             "endlinecolor": "#2a3f5f",
             "gridcolor": "#C8D4E3",
             "linecolor": "#C8D4E3",
             "minorgridcolor": "#C8D4E3",
             "startlinecolor": "#2a3f5f"
            },
            "baxis": {
             "endlinecolor": "#2a3f5f",
             "gridcolor": "#C8D4E3",
             "linecolor": "#C8D4E3",
             "minorgridcolor": "#C8D4E3",
             "startlinecolor": "#2a3f5f"
            },
            "type": "carpet"
           }
          ],
          "choropleth": [
           {
            "colorbar": {
             "outlinewidth": 0,
             "ticks": ""
            },
            "type": "choropleth"
           }
          ],
          "contour": [
           {
            "colorbar": {
             "outlinewidth": 0,
             "ticks": ""
            },
            "colorscale": [
             [
              0,
              "#0d0887"
             ],
             [
              0.1111111111111111,
              "#46039f"
             ],
             [
              0.2222222222222222,
              "#7201a8"
             ],
             [
              0.3333333333333333,
              "#9c179e"
             ],
             [
              0.4444444444444444,
              "#bd3786"
             ],
             [
              0.5555555555555556,
              "#d8576b"
             ],
             [
              0.6666666666666666,
              "#ed7953"
             ],
             [
              0.7777777777777778,
              "#fb9f3a"
             ],
             [
              0.8888888888888888,
              "#fdca26"
             ],
             [
              1,
              "#f0f921"
             ]
            ],
            "type": "contour"
           }
          ],
          "contourcarpet": [
           {
            "colorbar": {
             "outlinewidth": 0,
             "ticks": ""
            },
            "type": "contourcarpet"
           }
          ],
          "heatmap": [
           {
            "colorbar": {
             "outlinewidth": 0,
             "ticks": ""
            },
            "colorscale": [
             [
              0,
              "#0d0887"
             ],
             [
              0.1111111111111111,
              "#46039f"
             ],
             [
              0.2222222222222222,
              "#7201a8"
             ],
             [
              0.3333333333333333,
              "#9c179e"
             ],
             [
              0.4444444444444444,
              "#bd3786"
             ],
             [
              0.5555555555555556,
              "#d8576b"
             ],
             [
              0.6666666666666666,
              "#ed7953"
             ],
             [
              0.7777777777777778,
              "#fb9f3a"
             ],
             [
              0.8888888888888888,
              "#fdca26"
             ],
             [
              1,
              "#f0f921"
             ]
            ],
            "type": "heatmap"
           }
          ],
          "heatmapgl": [
           {
            "colorbar": {
             "outlinewidth": 0,
             "ticks": ""
            },
            "colorscale": [
             [
              0,
              "#0d0887"
             ],
             [
              0.1111111111111111,
              "#46039f"
             ],
             [
              0.2222222222222222,
              "#7201a8"
             ],
             [
              0.3333333333333333,
              "#9c179e"
             ],
             [
              0.4444444444444444,
              "#bd3786"
             ],
             [
              0.5555555555555556,
              "#d8576b"
             ],
             [
              0.6666666666666666,
              "#ed7953"
             ],
             [
              0.7777777777777778,
              "#fb9f3a"
             ],
             [
              0.8888888888888888,
              "#fdca26"
             ],
             [
              1,
              "#f0f921"
             ]
            ],
            "type": "heatmapgl"
           }
          ],
          "histogram": [
           {
            "marker": {
             "pattern": {
              "fillmode": "overlay",
              "size": 10,
              "solidity": 0.2
             }
            },
            "type": "histogram"
           }
          ],
          "histogram2d": [
           {
            "colorbar": {
             "outlinewidth": 0,
             "ticks": ""
            },
            "colorscale": [
             [
              0,
              "#0d0887"
             ],
             [
              0.1111111111111111,
              "#46039f"
             ],
             [
              0.2222222222222222,
              "#7201a8"
             ],
             [
              0.3333333333333333,
              "#9c179e"
             ],
             [
              0.4444444444444444,
              "#bd3786"
             ],
             [
              0.5555555555555556,
              "#d8576b"
             ],
             [
              0.6666666666666666,
              "#ed7953"
             ],
             [
              0.7777777777777778,
              "#fb9f3a"
             ],
             [
              0.8888888888888888,
              "#fdca26"
             ],
             [
              1,
              "#f0f921"
             ]
            ],
            "type": "histogram2d"
           }
          ],
          "histogram2dcontour": [
           {
            "colorbar": {
             "outlinewidth": 0,
             "ticks": ""
            },
            "colorscale": [
             [
              0,
              "#0d0887"
             ],
             [
              0.1111111111111111,
              "#46039f"
             ],
             [
              0.2222222222222222,
              "#7201a8"
             ],
             [
              0.3333333333333333,
              "#9c179e"
             ],
             [
              0.4444444444444444,
              "#bd3786"
             ],
             [
              0.5555555555555556,
              "#d8576b"
             ],
             [
              0.6666666666666666,
              "#ed7953"
             ],
             [
              0.7777777777777778,
              "#fb9f3a"
             ],
             [
              0.8888888888888888,
              "#fdca26"
             ],
             [
              1,
              "#f0f921"
             ]
            ],
            "type": "histogram2dcontour"
           }
          ],
          "mesh3d": [
           {
            "colorbar": {
             "outlinewidth": 0,
             "ticks": ""
            },
            "type": "mesh3d"
           }
          ],
          "parcoords": [
           {
            "line": {
             "colorbar": {
              "outlinewidth": 0,
              "ticks": ""
             }
            },
            "type": "parcoords"
           }
          ],
          "pie": [
           {
            "automargin": true,
            "type": "pie"
           }
          ],
          "scatter": [
           {
            "fillpattern": {
             "fillmode": "overlay",
             "size": 10,
             "solidity": 0.2
            },
            "type": "scatter"
           }
          ],
          "scatter3d": [
           {
            "line": {
             "colorbar": {
              "outlinewidth": 0,
              "ticks": ""
             }
            },
            "marker": {
             "colorbar": {
              "outlinewidth": 0,
              "ticks": ""
             }
            },
            "type": "scatter3d"
           }
          ],
          "scattercarpet": [
           {
            "marker": {
             "colorbar": {
              "outlinewidth": 0,
              "ticks": ""
             }
            },
            "type": "scattercarpet"
           }
          ],
          "scattergeo": [
           {
            "marker": {
             "colorbar": {
              "outlinewidth": 0,
              "ticks": ""
             }
            },
            "type": "scattergeo"
           }
          ],
          "scattergl": [
           {
            "marker": {
             "colorbar": {
              "outlinewidth": 0,
              "ticks": ""
             }
            },
            "type": "scattergl"
           }
          ],
          "scattermapbox": [
           {
            "marker": {
             "colorbar": {
              "outlinewidth": 0,
              "ticks": ""
             }
            },
            "type": "scattermapbox"
           }
          ],
          "scatterpolar": [
           {
            "marker": {
             "colorbar": {
              "outlinewidth": 0,
              "ticks": ""
             }
            },
            "type": "scatterpolar"
           }
          ],
          "scatterpolargl": [
           {
            "marker": {
             "colorbar": {
              "outlinewidth": 0,
              "ticks": ""
             }
            },
            "type": "scatterpolargl"
           }
          ],
          "scatterternary": [
           {
            "marker": {
             "colorbar": {
              "outlinewidth": 0,
              "ticks": ""
             }
            },
            "type": "scatterternary"
           }
          ],
          "surface": [
           {
            "colorbar": {
             "outlinewidth": 0,
             "ticks": ""
            },
            "colorscale": [
             [
              0,
              "#0d0887"
             ],
             [
              0.1111111111111111,
              "#46039f"
             ],
             [
              0.2222222222222222,
              "#7201a8"
             ],
             [
              0.3333333333333333,
              "#9c179e"
             ],
             [
              0.4444444444444444,
              "#bd3786"
             ],
             [
              0.5555555555555556,
              "#d8576b"
             ],
             [
              0.6666666666666666,
              "#ed7953"
             ],
             [
              0.7777777777777778,
              "#fb9f3a"
             ],
             [
              0.8888888888888888,
              "#fdca26"
             ],
             [
              1,
              "#f0f921"
             ]
            ],
            "type": "surface"
           }
          ],
          "table": [
           {
            "cells": {
             "fill": {
              "color": "#EBF0F8"
             },
             "line": {
              "color": "white"
             }
            },
            "header": {
             "fill": {
              "color": "#C8D4E3"
             },
             "line": {
              "color": "white"
             }
            },
            "type": "table"
           }
          ]
         },
         "layout": {
          "annotationdefaults": {
           "arrowcolor": "#2a3f5f",
           "arrowhead": 0,
           "arrowwidth": 1
          },
          "autotypenumbers": "strict",
          "coloraxis": {
           "colorbar": {
            "outlinewidth": 0,
            "ticks": ""
           }
          },
          "colorscale": {
           "diverging": [
            [
             0,
             "#8e0152"
            ],
            [
             0.1,
             "#c51b7d"
            ],
            [
             0.2,
             "#de77ae"
            ],
            [
             0.3,
             "#f1b6da"
            ],
            [
             0.4,
             "#fde0ef"
            ],
            [
             0.5,
             "#f7f7f7"
            ],
            [
             0.6,
             "#e6f5d0"
            ],
            [
             0.7,
             "#b8e186"
            ],
            [
             0.8,
             "#7fbc41"
            ],
            [
             0.9,
             "#4d9221"
            ],
            [
             1,
             "#276419"
            ]
           ],
           "sequential": [
            [
             0,
             "#0d0887"
            ],
            [
             0.1111111111111111,
             "#46039f"
            ],
            [
             0.2222222222222222,
             "#7201a8"
            ],
            [
             0.3333333333333333,
             "#9c179e"
            ],
            [
             0.4444444444444444,
             "#bd3786"
            ],
            [
             0.5555555555555556,
             "#d8576b"
            ],
            [
             0.6666666666666666,
             "#ed7953"
            ],
            [
             0.7777777777777778,
             "#fb9f3a"
            ],
            [
             0.8888888888888888,
             "#fdca26"
            ],
            [
             1,
             "#f0f921"
            ]
           ],
           "sequentialminus": [
            [
             0,
             "#0d0887"
            ],
            [
             0.1111111111111111,
             "#46039f"
            ],
            [
             0.2222222222222222,
             "#7201a8"
            ],
            [
             0.3333333333333333,
             "#9c179e"
            ],
            [
             0.4444444444444444,
             "#bd3786"
            ],
            [
             0.5555555555555556,
             "#d8576b"
            ],
            [
             0.6666666666666666,
             "#ed7953"
            ],
            [
             0.7777777777777778,
             "#fb9f3a"
            ],
            [
             0.8888888888888888,
             "#fdca26"
            ],
            [
             1,
             "#f0f921"
            ]
           ]
          },
          "colorway": [
           "#636efa",
           "#EF553B",
           "#00cc96",
           "#ab63fa",
           "#FFA15A",
           "#19d3f3",
           "#FF6692",
           "#B6E880",
           "#FF97FF",
           "#FECB52"
          ],
          "font": {
           "color": "#2a3f5f"
          },
          "geo": {
           "bgcolor": "white",
           "lakecolor": "white",
           "landcolor": "white",
           "showlakes": true,
           "showland": true,
           "subunitcolor": "#C8D4E3"
          },
          "hoverlabel": {
           "align": "left"
          },
          "hovermode": "closest",
          "mapbox": {
           "style": "light"
          },
          "paper_bgcolor": "white",
          "plot_bgcolor": "white",
          "polar": {
           "angularaxis": {
            "gridcolor": "#EBF0F8",
            "linecolor": "#EBF0F8",
            "ticks": ""
           },
           "bgcolor": "white",
           "radialaxis": {
            "gridcolor": "#EBF0F8",
            "linecolor": "#EBF0F8",
            "ticks": ""
           }
          },
          "scene": {
           "xaxis": {
            "backgroundcolor": "white",
            "gridcolor": "#DFE8F3",
            "gridwidth": 2,
            "linecolor": "#EBF0F8",
            "showbackground": true,
            "ticks": "",
            "zerolinecolor": "#EBF0F8"
           },
           "yaxis": {
            "backgroundcolor": "white",
            "gridcolor": "#DFE8F3",
            "gridwidth": 2,
            "linecolor": "#EBF0F8",
            "showbackground": true,
            "ticks": "",
            "zerolinecolor": "#EBF0F8"
           },
           "zaxis": {
            "backgroundcolor": "white",
            "gridcolor": "#DFE8F3",
            "gridwidth": 2,
            "linecolor": "#EBF0F8",
            "showbackground": true,
            "ticks": "",
            "zerolinecolor": "#EBF0F8"
           }
          },
          "shapedefaults": {
           "line": {
            "color": "#2a3f5f"
           }
          },
          "ternary": {
           "aaxis": {
            "gridcolor": "#DFE8F3",
            "linecolor": "#A2B1C6",
            "ticks": ""
           },
           "baxis": {
            "gridcolor": "#DFE8F3",
            "linecolor": "#A2B1C6",
            "ticks": ""
           },
           "bgcolor": "white",
           "caxis": {
            "gridcolor": "#DFE8F3",
            "linecolor": "#A2B1C6",
            "ticks": ""
           }
          },
          "title": {
           "x": 0.05
          },
          "xaxis": {
           "automargin": true,
           "gridcolor": "#EBF0F8",
           "linecolor": "#EBF0F8",
           "ticks": "",
           "title": {
            "standoff": 15
           },
           "zerolinecolor": "#EBF0F8",
           "zerolinewidth": 2
          },
          "yaxis": {
           "automargin": true,
           "gridcolor": "#EBF0F8",
           "linecolor": "#EBF0F8",
           "ticks": "",
           "title": {
            "standoff": 15
           },
           "zerolinecolor": "#EBF0F8",
           "zerolinewidth": 2
          }
         }
        },
        "title": {
         "text": "CTR Distribution per Campaign"
        },
        "xaxis": {
         "title": {
          "text": "Campaigns"
         }
        },
        "yaxis": {
         "title": {
          "text": "CTR (%)"
         }
        }
       }
      },
      "text/html": [
       "<div>                            <div id=\"5484d831-8e64-4298-980d-c7f68a7fc0c7\" class=\"plotly-graph-div\" style=\"height:525px; width:100%;\"></div>            <script type=\"text/javascript\">                require([\"plotly\"], function(Plotly) {                    window.PLOTLYENV=window.PLOTLYENV || {};                                    if (document.getElementById(\"5484d831-8e64-4298-980d-c7f68a7fc0c7\")) {                    Plotly.newPlot(                        \"5484d831-8e64-4298-980d-c7f68a7fc0c7\",                        [{\"boxmean\":true,\"name\":\"1\",\"y\":[0.0,0.3333,0.0,0.0,0.0,0.0,0.25,1.0,1.0,0.0,0.25,0.0,0.0,1.0,1.0,0.0,0.0,0.0,0.0,0.0,0.0,0.0,0.0,0.4667,0.3636,0.5556,0.3571,0.3529,0.2308,0.4286,0.3846,0.2308,0.125,0.6667,0.3077,0.25,0.3333,0.25,0.1429,0.3636,0.4,0.3077,0.5714,0.25,0.5625,0.6,0.8571,1.0,0.6667,0.4,0.4,0.4167,0.4,0.2,0.3333,0.1,0.5455,0.1429,0.0,0.2778,0.2,0.3,0.3462,0.1429,0.2857,0.2222,0.5,0.4167,0.2727,0.375,0.1935,0.1481,0.2222,0.35,0.2759,0.3333,0.1053,0.2222,0.3,0.2258,0.5385,0.5714,1.0,0.5455,0.5714,0.5625,0.5,0.6562,0.8333,0.5,0.4615,0.75,0.7273,0.6875,0.619,0.7143,0.6364,0.5556,0.8,0.5294,1.0,0.4,0.2727,0.75,0.2222,0.5,0.5,0.8571,0.5556,0.375,0.5,0.75,0.6667,0.6667,0.7143,0.2857,0.3889,0.25,0.2,0.5,0.6667,0.6667,0.7778,0.4286,0.4286,0.3333,0.4286,0.3333,0.2308,0.5862,0.5417,0.5161,0.5,0.6129,0.5122,0.6857,0.5357,0.5,0.5333,1.0,1.0,1.0,1.0,1.3333,1.0,1.0,1.0,1.0,0.6667,1.0,0.7273,1.1,1.0,0.6667,1.0,1.0,1.3333,1.0,0.5,0.8889,0.9091,0.5,0.75,1.0,1.125,0.6154,0.5714,0.7692,0.6667,1.2,1.0833,0.5,0.6238,0.5023,0.6104,0.5814,0.6588,0.6103,0.5943,0.5989,0.6631,0.7258,0.6047,0.6173,0.6536,0.6987,0.5696,0.6364,0.6202,0.6435,0.6272,0.6682,0.6463,0.5369,0.6016,0.5941,0.6943,0.6332,0.6992,0.6566,0.609,0.6201,0.6436,0.6484,0.6564,0.6434,0.6347,0.5847,0.5743,0.5677,0.6227,0.5574,0.5712,0.5585,0.5498,0.5821,0.5796,0.6314,0.544,0.5319,0.5412,0.4854,0.515,0.6667,0.625,0.7,1.0,1.0,1.0,0.5,0.6667,1.0,0.0,0.6667,0.75,0.8333,0.0,0.8571,1.0,1.0,0.8,0.0,1.0,0.25,0.6,1.0,0.8571,0.4286,0.75,1.0,1.0,0.75,0.75,0.5,0.2,0.6,0.7778,0.5,0.3333,0.0,0.2857,0.4286,0.5556,1.0,0.5714,0.6667,0.5,1.0,0.75,0.5556,0.75,0.8571,0.7273,0.5,0.7647,0.4167,0.5,0.2857,0.5556,0.0,0.0,0.0,0.5,0.0,1.0,0.0,1.0,0.0,0.5,0.0,0.3333,1.0,1.0,0.0,1.0,1.0,0.3333,0.5,1.0,1.0,0.0,0.6667,0.3333,0.0,0.5,1.0,0.4,0.5,0.3667,0.6667,0.5588,0.6923,0.5556,0.6061,0.5833,0.5862,0.45,0.5238,0.5652,0.5357,0.4615,0.5652,0.8667,0.5455,0.5,0.5455,0.4839,0.52,0.3333,0.525,0.5938,0.7931,0.5263,0.6562,0.5,0.7027,0.5312,0.6857,0.56,0.6129,0.4878,0.5556,0.4545,0.4444,0.439,0.6,0.6111,0.8444,0.7188,0.5128,0.5263,0.5833,0.5714,0.7941,0.4524,0.619,0.5278,0.5,0.4615,0.5,0.4878,0.3548,0.5806,0.4262,0.5,0.5111,0.72,0.7308,0.8571,0.6087,0.7143,0.7073,0.8571,0.72,0.8261,0.5714,0.6875,0.6818,0.6842,0.8125,0.8333,0.5882,0.8667,0.6875,0.7857,0.7333,0.8235,0.85,0.7568,0.5417,0.6842,0.5909,0.6087,0.6774,1.1818,0.4286,0.9,0.8824,0.8,0.8333,0.5882,0.28,0.7778,0.7812,0.8889,0.75,0.8148,0.8077,0.6154,0.6,0.7619,0.8065,0.825,0.4815,0.75,0.5238,0.5778,0.6111,0.8333,0.6,0.7083,0.7353,0.8636,0.6316,0.0,0.5,1.0,0.0,0.5,0.6667,0.0,0.3333,0.5,1.5,0.3333,0.0,1.0,1.0,1.0,0.3333,1.0,0.3333,0.2,0.0,1.0,0.0,0.0,0.0,0.0,1.0,0.7,0.0,0.6667,0.5,1.0,1.0,0.75,0.5,0.375,0.0,0.5,0.0,0.0,0.3333,0.5,0.0,1.0,1.0,0.6,0.0,0.6,0.5,0.6,0.8,1.0,0.0,1.0,0.0,1.0,0.0,1.0,0.5,0.2857,0.0,1.0,0.4,0.5,1.0,1.0,1.0,1.0,0.0,0.25,0.5,1.0,1.0,0.0,1.0,0.5,0.0,1.0,0.5,1.0,1.0,1.0,1.0,1.0,0.0,1.0,0.0,1.0,0.0,1.0,0.0,1.0,1.0,0.0,0.0,1.0,1.0,0.0,0.0,0.0,1.0,0.5,0.0,0.0,1.3333,1.0,0.0,1.0,0.5,0.5,0.0,0.0,0.5,0.0,0.0,1.0,0.0,0.0,0.0,0.0,1.0,1.0,0.0,1.0,0.0,0.5,1.0,1.0,1.0,1.0,0.5,1.0,0.0,0.0,1.0,1.0,1.0,0.3333,0.2,0.5,1.0,0.75,0.2,0.625,0.75,1.0,0.0,0.0,0.4,0.5,1.0,0.5,1.0,0.5714,1.0,1.0,0.5,0.25,1.0,0.5,0.0,0.0,0.5,0.0,0.75,0.0,0.4,0.2,0.25,0.6,0.0,1.0,0.8333,0.1667,0.5,0.0,0.2857,1.0,1.0,1.0,1.0,1.0,0.0,0.0,2.0,0.0,0.0,0.0,0.0,0.0,0.5,0.0,1.0,0.5,0.6,0.5,0.0,0.0,0.0,0.1,1.0,0.0,0.0,0.0,0.0,1.0,0.5,1.0,0.0,0.5417,0.54,0.5625,0.5667,0.5357,0.6863,0.6667,0.6818,0.7447,0.7273,0.8636,0.7778,0.6667,0.7273,0.5417,0.6829,0.6957,0.6857,0.614,0.6562,0.5345,0.7042,0.6269,0.6571,0.7059,0.6349,0.6885,0.5932,0.5556,0.5741,0.6341,0.6389,0.68,0.5686,0.7407,0.4366,0.6977,0.6235,0.5538,0.5176,0.6479,0.5645,0.6216,0.6322,0.5645,0.6308,0.6216,0.5,0.5341,0.5079,0.4884,0.5068,0.5,0.5,0.7143,0.5288,0.6629,0.6438,0.5,0.3333,1.0,1.0,0.6667,0.3333,1.0,0.6,0.6667,0.6667,1.0,1.0,1.0,0.5,1.0,0.75,0.5,0.5,0.7,1.0,0.5,0.5,0.0,0.0,1.0,1.0,1.0,1.0,0.5,1.0,0.0,0.75,1.0,0.0,1.0,0.0,0.0,1.0,1.0,0.1667,1.0,0.6667,1.0,0.5,1.0,1.0,1.0,1.0,1.0,1.0,1.0,0.0,0.0,0.5,0.0,0.0,1.0,1.0,1.0,0.0,1.0,0.0,2.0,1.0,1.0,0.0,0.5,2.0,1.0,0.5714,1.0,1.0,0.5,0.0,0.2,1.0,0.0,0.0,0.0,0.5,0.5455,0.4259,0.6957,0.6,0.4074,0.5405,0.5625,0.5283,0.4545,0.5455,0.5517,0.6444,0.5,0.4839,0.4,0.4516,0.5556,0.4091,0.587,0.5094,0.375,0.5082,0.4872,0.5156,0.5946,0.587,0.6471,0.6545,0.6207,0.5504,0.5071,0.5,0.4902,0.3846,0.4146,0.3774,0.5769,0.4516,0.3529,0.5111,0.4375,0.3469,0.381,0.3571,0.3953,0.3415,0.3023,0.2143,0.5714,0.4,0.5278,0.0,0.4375,0.1875,0.35,0.4444,0.4359,0.5667,0.4,0.1724,0.1923,0.1304,0.1538,0.2143,0.2353,0.1667,0.0938,0.2308,0.087,0.2857,0.25,0.1364,0.0769,0.5,0.0,0.1667,0.2857,0.375,0.3448,0.2609,0.2162,0.2778,0.2059,0.4762,0.2258,0.3158,0.1905,0.1277,0.1538,0.0938,0.1154,0.375,0.2174,0.25,0.1613,0.1957,0.1875,0.3793,0.2759,0.3235,0.325,0.2545,0.2308,0.2889,0.1628,0.1842,0.2,0.2667,0.1892,0.2222,0.2553,0.3404,0.5,0.5,0.3333,0.25,0.5,1.0,0.25,0.0,0.6667,0.5,1.0,0.0,0.0,0.0,0.6667,0.5,0.5,1.0,1.0,0.6,0.0,0.0,0.6667,0.2,0.0,0.0,0.5,0.6,0.0,0.0,1.0,0.0,0.0,1.0,1.0,0.5,0.2857,0.0,0.4,0.0,0.5,0.0,0.5,0.0,0.3333,1.0,0.4286,0.4444,0.0,1.0,0.5,1.0,0.0,1.0,0.0,1.0,0.0,0.0,0.0,0.0,0.0,0.0,0.0,1.0,1.0,1.0,0.6667,0.0,0.6667,0.0,0.0,0.0,1.0,0.5,1.0,1.0,1.0,0.5,0.3333,0.0,0.4,0.5,1.0,0.8,1.0,1.3333,0.5,1.0,0.5,1.0,0.0,0.0,0.0,1.0,0.0,0.4,1.0,0.0,0.0,1.0,0.0,0.0,1.0,0.1667,0.3333,0.0,1.0,0.1429,0.6667,0.3333,0.2,0.1429,1.0,0.5,1.0,0.6667,1.0,1.0,0.0,1.0,0.0,1.0,0.0,0.0,0.5,0.0,1.0,1.0,0.5,0.0,0.0,1.0,1.0,0.3333,0.0,0.0,1.0,0.0,1.0,1.0,0.5,0.0,0.5,0.5891,0.6188,0.6019,0.6308,0.6154,0.5944,0.5612,0.5949,0.5787,0.5661,0.6095,0.5632,0.5652,0.5709,0.5778,0.5896,0.56,0.5638,0.5501,0.5504,0.5539,0.5795,0.5861,0.5729,0.5876,0.5554,0.5977,0.5486,0.5724,0.5579,0.55,0.5792,0.5618,0.5453,0.5531,0.5567,0.5325,0.5422,0.5287,0.5392,0.5355,0.555,0.513,0.5425,0.525,0.5493,0.5241,0.5014,0.5009,0.5386,0.568,0.5579,0.5753,0.5436,0.5243,0.5266,0.599,0.5577],\"type\":\"box\"},{\"boxmean\":true,\"name\":\"3\",\"y\":[0.2059,0.3913,0.1622,0.2593,0.4242,0.3043,0.4667,0.5,0.2128,0.375,0.35,0.4211,0.4167,0.1667,0.25,0.4545,0.2105,0.4,0.2,0.2963,0.2308,0.2759,0.3929,0.3,0.3125,0.3929,0.3077,0.2727,0.1667,0.3333,0.3939,0.2778,0.1667,0.3,0.1324,0.1311,0.3182,0.3333,0.1818,0.2857,0.2963,0.0625,0.24,0.2381,0.2273,0.4,0.1562,0.3913,0.3158,0.1795,0.3125,0.3846,0.4364,0.2381,0.3333,0.3077,0.0,0.1538,0.0,0.0,1.0,1.0,0.0,0.0,0.0,0.3333,0.3333,0.5,0.3333,0.0,1.0,0.5,0.0,1.0,0.5,0.5,0.2,0.0,0.0,0.2,1.0,1.0,0.0,0.0,1.0,1.0,0.0,1.0,0.0,0.0,0.0,0.0,0.0,0.0,0.0,1.0,0.0,0.0,1.0,0.0,1.0,1.0,1.0,1.0,0.0,0.3333,0.0,0.5,1.0,0.2222,0.1429,0.375,0.2,0.375,0.4,0.6,0.25,0.25,0.7143,1.0,0.375,0.0,1.0,0.4,0.4444,0.5556,0.7778,0.7143,0.75,1.0,0.4,0.2,0.3333,0.5455,0.2,0.5,0.5,0.0,0.2,0.1429,0.1,0.25,0.8,0.5385,1.0,0.2,0.5714,0.2632,0.5,0.4615,0.2857,0.4545,0.4,0.4,0.2353,0.3333,0.4,0.5625,0.4783,0.2667,0.6364,0.6667,1.0,0.0,0.3333,0.0,0.0,0.0,0.0,1.0,1.0,1.0,0.0,0.3333,0.0,0.0,0.0,0.3333,1.0,0.0,0.0,0.0,0.0,0.0,0.5,0.0,0.6667,0.0,0.1667,0.0,0.0,0.2,0.3333,0.0,0.0,0.0,0.0,1.0,0.0,1.0,2.0,2.0,1.0,0.0,1.0,1.0,0.5,0.0,0.25,0.0,0.5,1.0,0.0,0.0,0.2857,0.3235,0.2857,0.6154,0.3947,0.2917,0.3913,0.381,0.4615,0.381,0.1,0.425,0.2903,0.2609,0.25,0.4706,0.1667,0.2143,0.3333,0.2456,0.1346,0.3226,0.2821,0.2353,0.3636,0.2564,0.1304,0.2955,0.3429,0.32,0.3143,0.2222,0.359,0.3036,0.4286,0.3235,0.4865,0.4054,0.2222,0.3182,0.3962,0.2364,0.2727,0.2857,0.2683,0.425,0.2911,0.3774,0.2778,0.3673,0.3438,0.3148,0.2933,0.2857,0.2593,0.38,1.0,0.2703,0.0,0.3333,0.0,0.0,0.5,0.0,1.0,0.0,0.0,0.0,0.0,0.0,0.0,0.0,0.0,0.5,0.0,0.0,0.5,0.125,0.0,0.0,0.0,0.25,0.0,1.0,0.5,0.0,1.0,1.0,1.0,0.5,1.0,0.0,0.5,0.0,1.0,1.0,0.0,1.0,0.0,0.0,1.0,0.0,0.0,2.0,0.0,1.0,0.0,1.0,0.5,0.25,0.5,1.0,0.0,0.0,0.0,0.25,1.0,0.4,0.0,0.5,0.0,0.0,0.0,0.0,0.0,0.0,0.5,1.0,0.5,0.0,0.0,0.0,0.6667,0.0,0.5,0.0,0.0,0.5,1.0,0.0,0.0,0.0,1.0,0.3333,0.0,0.3333,0.0,0.0,0.2,0.0,0.3333,1.0,0.0,0.5,0.6667,1.0,0.0,0.2,0.5,0.0,0.0,0.3158,0.3714,0.2143,0.36,0.3171,0.1935,0.2941,0.2105,0.2258,0.2667,0.1818,0.2143,0.3077,0.25,0.0769,0.3548,0.2353,0.1852,0.2,0.2414,0.3111,0.3659,0.2586,0.0909,0.275,0.1912,0.2,0.2182,0.1667,0.2029,0.1176,0.2679,0.2615,0.325,0.25,0.2029,0.3659,0.2381,0.4375,0.3404,0.3077,0.3404,0.2794,0.5455,0.3125,0.241,0.2794,0.25,0.1481,0.431,0.3014,0.3929,0.3016,0.1412,0.3614,0.3393,0.1667,0.4186,0.5,0.6667,0.0,0.6,0.4286,1.0,0.1429,0.7778,0.5,0.6667,0.0,1.0,0.0,2.0,0.5,0.25,0.625,0.6667,1.0,0.0833,0.0769,0.8,0.5,0.0,0.0,0.0,0.1739,0.0,0.5,0.25,0.4,0.25,0.1111,0.25,0.375,0.3913,0.25,0.4667,0.6154,0.3,0.2857,0.3571,0.1875,0.4444,0.5385,0.6667,0.3636,0.4167,0.25,0.4286,0.1667,0.1818,0.2,0.0,1.0,1.0,0.0,0.0,1.0,2.0,0.0,0.0,0.0,0.0,0.0,0.0,0.0,0.0,0.0,1.0,0.5,0.0,0.0,0.0,1.0,0.0,0.0,0.3333,0.0,0.0,0.0,0.0,0.0,1.0,1.0,1.0,1.0,0.5,0.0,0.0,0.0,0.0,0.0,0.0,0.0,0.0,1.0,2.0,0.3333,1.0,0.3333,0.6667,0.0,0.0,0.0,0.0,1.0,0.0,0.0,0.0,0.0,0.3333,1.0,1.0,0.25,1.0,0.0,0.5,1.0,1.0,0.0,0.0,0.25,0.5,0.3,0.3529,0.125,0.1667,0.0,0.0816,0.0,0.5,0.6,0.6,0.8333,0.0,0.0,0.3333,0.6,0.5,0.4,0.3333,0.0,0.2727,0.25,0.6667,1.0,0.5714,0.4,0.625,0.25,0.1429,0.7143,0.4,1.0,0.0,0.3333,0.4286,0.125,0.3889,0.4,0.2,0.5,0.3333,0.1111,0.2,0.7143,0.36,0.1429,0.5,0.3,0.25,0.5714,0.4286,0.5,0.0667,0.25,1.0,0.3,0.0,0.5,1.0,0.0,0.5,0.25,0.5,1.0,0.5,0.0,0.0,0.3333,0.0,0.0,1.0,0.0,0.0,1.0,0.8,1.0,0.0,0.0,0.5,1.0,0.0,0.5,0.3333,0.1667,1.0,0.3333,0.0,0.2,0.0,1.0,0.2,0.4,1.0,0.0,0.0,0.0,0.6667,0.3333,0.6667,1.0,0.3333,0.0,0.2857,0.0,1.0,0.6,0.75,0.0,0.0,1.0,1.0,0.0,0.0,0.2,0.3333,0.0,0.0,0.0,0.0625,0.0,0.5,0.0,0.375,0.0,0.0,0.3333,0.2,0.4286,0.3333,0.3333,0.2727,0.0833,0.2143,0.1429,0.5,0.0,0.3333,0.1765,0.25,0.5,0.2222,0.0769,0.0,0.4,0.2,0.0769,0.4,0.2143,0.2857,0.6154,0.1667,1.0,0.0,0.0,0.0,0.5,0.0,0.3333,0.0,0.0,0.0,0.5,0.0,0.5,0.25,0.6842,0.4211,0.6667,0.2667,0.5217,0.0,0.3333,0.3333,0.625,0.0,0.1765,0.5,0.375,0.3333,0.3333,0.5,0.5,0.25,0.2941,0.2727,0.3333,0.1818,0.4167,0.5333,0.25,0.3793,0.5333,0.2609,0.2857,0.5,0.2308,0.15,0.2917,0.55,0.3333,0.1765,0.4737,0.1379,0.375,0.1905,0.4211,0.3636,0.5556,0.3846,0.4667,0.4348,0.4,0.375,0.375,0.28,0.4348,0.32,0.15,0.5,1.0,0.5,1.0,0.2,0.5,1.0,0.0,0.0,0.5,0.0,0.0,1.0,1.0,0.0,0.0,0.0,0.0,0.0,0.0,1.0,0.0,0.0,1.0,0.0,0.0,1.0,0.0,0.75,1.0,0.0,0.0,0.0,0.0,0.0,0.0,0.0,1.0,0.0,0.0,0.25,0.0,1.0,0.0,0.0,0.0,0.1667,0.0,0.0,0.0,0.0,0.0,0.0,0.0,2.0,1.0,1.0,1.0,1.0,0.0,2.0,0.0,0.3333,0.4167,0.25,0.5,0.75,0.7143,0.2222,0.4286,0.3333,0.6667,0.4286,0.6667,0.2857,1.0,0.0,0.25,0.1111,0.5556,0.5,0.1818,0.1818,0.6667,0.3333,0.4545,0.5,0.0,0.625,0.3,0.0,0.3333,0.0,0.3,0.2353,0.2,0.2,0.5714,0.3333,0.1667,0.5,0.1429,0.25,0.5,0.375,0.625,0.4286,0.6667,0.4,0.25,0.6,0.6,0.6667,0.2857,0.25,0.0,1.0,0.0,0.0,0.0,1.0,0.0,0.0,0.5,1.0,0.0,1.0,1.5,1.0,1.0,1.0,0.0,1.0,0.0,0.0,0.0,1.0,1.0,0.0,0.5,1.0,0.0,0.5,0.0,0.0,0.2,1.0,0.0,2.0,0.0,0.0,0.0,1.0,0.0,2.0,0.0,0.5,0.0,0.0,0.0,0.0,0.0,0.0,0.0,1.0,1.0,0.0,1.0,1.0,0.5,0.0,0.0,0.5,1.0,0.0,0.0,0.0,0.0,1.0,0.0,0.0,1.0,0.0,0.0,1.0,0.2857,0.0,1.0,1.0,0.6,0.25,0.0,0.5,0.0,0.6667,0.0,0.0,0.6667,0.3333,0.5,0.0,0.6,0.0,0.2,0.5,0.5,0.0,0.0769,0.0,1.0,0.0,0.3333,0.0,1.0,0.0,0.3333,0.5,0.25,0.0,1.0,0.0,1.0,0.0,0.0,1.0,0.0,1.0,0.0,0.3333,0.0,1.0,0.1429,0.0,0.0,0.0,0.0,0.0,1.0,0.0,1.0,1.0,0.1667,0.6667,0.0,0.0,0.5,0.0,0.0,1.0,1.0,0.6,2.0,0.0,0.0,1.0,1.0,0.0,0.0,0.0,0.5,1.0,0.25,0.0,0.0,1.0,0.0,0.25,0.5,0.6667,1.0,1.0,0.5,0.0,0.0,0.5,0.0,0.4,0.3333,0.0,0.0,1.0,0.0,0.3333,1.0,1.0,0.0,1.0,0.0,0.0,0.0,0.0,0.0,1.0,0.0,1.0,0.0,0.0,0.0,1.0,0.5,1.0,0.5,0.0,0.0,0.5,0.6667,0.0,1.0,0.0,0.0,0.0,0.0,1.0,0.5,1.0,0.0,0.0,1.0,0.0,0.5714,0.3333,0.3333,0.3333,0.0,0.5,0.0,0.0,0.0,0.5,0.0,1.0,0.0,1.0,0.0,0.0,1.0,0.0,1.0,1.0,0.0,0.6667,0.0,0.0,0.8,0.0,0.5,0.0,0.3333,1.0,0.0,1.0,0.4,0.875,0.3333,0.2632,0.3333,0.4545,0.25,0.6154,0.375,0.4286,0.375,0.6667,0.3333,0.1111,0.6,1.0,0.4615,0.375,0.6,0.6,0.3333,0.1579,0.3571,0.125,0.5,1.0,0.5455,0.3333,0.625,0.4,0.3333,0.0938,0.2273,0.2308,0.3077,0.5714,1.0,0.7778,0.1429,0.625,0.4286,0.75,0.5,0.5,0.2727,0.5455,0.25,0.1333,0.375,0.5455,0.4,0.5,0.6923,0.3333,1.0,0.5,2.0,0.6667,0.0,0.6667,1.0,0.5,0.5,0.2143,0.5,0.0,0.0,1.0,1.0,1.0,0.0,0.0,0.0,0.6667,0.6667,0.5,0.5,0.75,0.0,0.0,0.6667,0.25,1.0,0.1429,1.0,0.75,1.0,0.3333,1.0,0.0,0.0,0.5,0.5,0.3333,1.0,0.6667,1.0,1.0,0.3333,1.0,0.2,0.0,0.5,1.0,0.3333,0.0,0.0,1.0,1.0,0.0,0.6667,0.5,1.0,0.0,0.6667,0.6667,0.0,0.4,0.25,0.0,0.0,0.25,0.5714,0.0,1.0,0.0,0.3333,0.0,1.0,0.0,1.0,0.0,0.0,0.3333,1.0,0.2857,0.75,0.0,0.0,0.5,0.75,1.0,0.0,0.5,0.5714,0.6667,0.4286,0.0,0.5,0.6667,0.0,0.0,0.5,0.5,0.5,0.4,0.0,0.6667,1.0,0.0,0.6667,0.5,0.5,0.625,0.8,0.5556,0.5,0.5556,0.1667,0.0,0.8,1.0,1.0,0.5556,0.0,0.4,0.4,0.4286,0.5,0.0,0.2857,0.5,0.3333,0.1667,0.3333,0.2,0.5556,0.5,0.5,0.3333,0.2,1.3333,0.7,0.5,0.5714,0.3333,0.3333,0.2857,0.5556,0.3,0.5,0.3333,0.5,0.0,0.0909,0.3333,0.5,1.0,0.0,0.3333,0.0,0.5,0.0,1.0,0.0,0.3333,0.3333,0.3077,0.3333,0.5556,0.6667,0.2,0.375,0.3333,0.1923,0.6154,1.0,0.4,0.4,0.25,0.2222,0.0,0.2857,0.375,0.4,0.3636,0.7,0.5294,0.5,0.3684,0.1765,0.4,0.6,0.25,0.2,0.3333,0.5,0.5714,0.375,0.3,0.7059,0.6667,0.625,0.2727,0.4615,0.2778,0.375,0.25,0.75,0.7143,0.4167,0.1667,0.4375,0.625,0.5455,0.3929,0.2857,0.5,0.1875,0.6154,0.3333,0.3571,0.4762,0.0,0.8571,0.3333,1.0,1.0,0.6667,0.0,0.6667,0.0,0.0,0.0,0.0,1.0,0.0,1.0,0.0,0.25,1.0,0.0,1.0,0.3333,0.0,0.6667,1.0,0.25,0.0,0.0,0.4,0.5,0.0,0.5,0.1333,0.0,0.3333,0.7778,1.0,0.0,0.2857,0.2,0.6667,0.0,0.0,0.0,1.0,0.6,0.0,0.5,0.5,0.2857,0.6667,0.2857,0.8,0.5,1.0,0.0,1.0,0.0,1.0,0.0,0.0,1.0,0.5,0.0,1.0,0.0,1.0,0.0,0.0,1.0,1.0,1.0,0.5,0.0,1.0,1.0,1.0,0.0,0.0,1.0,1.0,0.5,1.0,0.0,1.0,1.0,0.0,0.0,0.0,0.0,0.5,1.0,1.0,0.5,1.0,1.0,1.0,0.5,1.0,0.0,2.0,0.0,0.0,0.125,0.0,0.3333,1.0,0.0,0.5,0.5,1.0,0.0,0.0,1.0,0.0,0.0,0.5,0.5,0.0,0.5,0.1818,1.0,1.0],\"type\":\"box\"},{\"boxmean\":true,\"name\":\"7\",\"y\":[0.3125,0.4737,0.2222,0.375,0.35,0.0909,0.16,0.2105,0.4444,0.2727,0.0,0.3333,0.0714,0.2,0.5,0.375,0.4286,0.12,0.3333,0.1613,0.25,0.2,0.25,0.1053,0.4,0.1667,0.2727,0.2667,0.1905,0.2727,0.0833,0.1304,0.0,0.36,0.3636,0.3333,0.3077,0.2143,0.4,0.3125,0.3846,0.4706,0.3889,0.2778,0.4,0.0,0.381,0.1739,0.2778,0.1333,0.2222,0.2143,0.3158,0.0588,0.0,0.3,0.3333,0.2857,0.3333,1.0,0.0,0.0,0.1667,0.0,0.0,0.3333,0.6667,0.0,0.0,0.1429,0.0,0.25,0.0,0.3333,0.3333,0.3333,0.0,0.1,0.25,0.0,0.25,0.25,0.0,0.0,0.1429,0.1429,0.0,0.6667,0.3333,0.0833,0.0,0.0,0.1429,0.3333,0.2,0.2857,0.1667,0.2,0.1667,0.3333,0.0,0.4,0.2857,0.4,0.5,0.0,0.0,1.0,0.0,0.0,0.3333,0.25,0.4667,0.2432,0.2069,0.2593,0.3265,0.2895,0.5588,0.1667,0.1053,0.1739,0.2778,0.3469,0.3125,0.1739,0.4167,0.3077,0.2727,0.3333,0.2703,0.3,0.375,0.32,0.3103,0.3226,0.3571,0.24,0.3529,0.2857,0.1875,0.25,0.3,0.2273,0.12,0.3793,0.0526,0.1467,0.2464,0.1429,0.1724,0.1449,0.1935,0.209,0.1111,0.25,0.2727,0.1463,0.1667,0.2034,0.1343,0.1702,0.1613,0.0732,0.1,0.0345,0.2368,0.0435,0.0,0.5,0.0,0.0,0.0,0.0,0.0,0.5,0.4,0.0,0.1667,0.0,0.625,0.2,0.0,0.0,0.0,0.0909,0.2727,0.4,0.0,0.3333,0.0,0.0,0.0,0.1429,0.0,0.0,0.0,0.0,0.2179,0.1891,0.1919,0.2349,0.2037,0.1949,0.1921,0.1347,0.2402,0.1436,0.1961,0.24,0.1676,0.1525,0.2222,0.1387,0.1543,0.1074,0.1243,0.113,0.1923,0.1715,0.1623,0.1806,0.1793,0.0884,0.141,0.1575,0.1947,0.1143,0.2028,0.1389,0.1894,0.2015,0.1641,0.2143,0.1723,0.195,0.1888,0.2058,0.1919,0.1792,0.1903,0.2041,0.2246,0.1861,0.2273,0.2419,0.2438,0.1529,0.1407,0.184,0.2276,0.1986,0.1118,0.2377,0.0,0.4,0.2222,0.037,0.25,0.2308,0.24,0.0909,0.2083,0.2308,0.1538,0.1667,0.1667,0.1875,0.2308,0.1429,0.0556,0.1111,0.2857,0.12,0.1667,0.25,0.3333,0.4706,0.3158,0.0714,0.1,0.1538,0.3333,0.4167,0.2857,0.1,0.375,0.2069,0.1818,0.2162,0.1538,0.375,0.4348,0.087,0.4242,0.4667,0.1667,0.45,0.7143,0.2222,0.2683,0.25,0.32,0.4444,0.2105,0.3529,0.2857,0.0833,0.1667,0.1818,0.3333,0.0,0.3333,1.0,0.0,0.3333,0.5,1.0,0.0,0.0833,0.0,1.0,1.0,0.3333,0.0,0.5,0.1667,0.0,0.6667,1.0,0.0,1.0,0.0,0.0,0.25,1.0,0.3333,0.0,0.5,0.0,1.0,0.2,1.0,0.0,0.0,0.0,0.0,0.6667,0.0,0.0,0.0,0.3333,0.0,0.0,0.0,0.1667,0.0,0.0,0.1667,0.5,0.2857,0.25,0.0,0.2,0.0,2.0,0.0,0.0,1.0,0.3333,0.3333,0.6667,0.0,1.0,0.5,0.0,0.0,0.25,1.0,0.3333,0.1,0.0,0.0625,0.5,1.0,0.0,0.25,0.3333,0.3333,0.5,1.0,0.0,0.5,0.25,0.3333,0.1667,0.0,0.0,0.0909,0.1667,0.25,0.0,0.025,0.0,0.0,0.0,0.0,0.0,0.0,0.0,0.0,0.4,0.2143,0.3333,0.25,0.2857,0.2727,0.4,0.2727,0.3333,0.1667,0.0,0.0909,0.0,0.4286,0.75,0.5,0.1,0.0,0.0,0.0,0.0769,0.3333,0.0,0.375,0.25,0.3333,0.0,0.6,0.25,0.1667,0.0,0.75,0.6,0.0909,0.1667,0.0,0.0,0.6,0.1667,0.0909,0.3,0.0833,0.2,0.0,0.0,0.2,0.25,0.2857,0.0,0.0,0.0,0.3333,0.0,0.5,0.0,0.0,0.1667,0.3333,0.3333,0.0,0.0,0.0,1.0,0.0,1.0,0.0,0.0,1.0,0.0,0.5,0.0,0.0,0.0,0.0,0.6667,0.0,0.75,0.5,0.0,0.5,1.0,0.5,0.0,0.0,1.0,0.0,0.3333,1.0,0.0,0.0,0.4,0.0,0.0],\"type\":\"box\"},{\"boxmean\":true,\"name\":\"15\",\"y\":[0.0,0.0,0.0,0.0,0.0,0.0,0.0,0.0,0.0,0.0,0.0,0.0,0.0,0.0,0.0,0.0,0.0,0.0,0.0,0.0,0.0,0.0,0.0,0.0,0.0,0.0,0.0,1.0,0.0,0.0,0.0,0.0,0.0,0.0,0.0,0.0,0.0,0.0282,0.0088,0.0,0.0075,0.0,0.0107,0.0074,0.0067,0.0102,0.0052,0.0049,0.0063,0.0068,0.0064,0.0073,0.0065,0.0058,0.0074,0.0055,0.0068,0.0069,0.0087,0.0065,0.006,0.0054,0.005,0.0059,0.0044,0.0059,0.006,0.0054,0.0057,0.0067,0.0059,0.0057,0.0052,0.0059,0.0064,0.0052,0.0063,0.0082,0.0098,0.009,0.0054,0.0061,0.0097,0.0079,0.0118,0.0098,0.0107,0.0109,0.01,0.0066,0.0079,0.0081,0.0078,0.0068,0.0093,0.0094,0.009,0.008,0.0074,0.0096,0.004,0.0042,0.0,0.01,0.0,0.0047,0.0017,0.0065,0.0045,0.0019,0.0081,0.0,0.0027,0.0109,0.0041,0.0018,0.0053,0.0075,0.0029,0.0041,0.0064,0.0063,0.0016,0.005,0.0059,0.0024,0.0011,0.0061,0.0047,0.0019,0.0013,0.0013,0.0029,0.0122,0.0,0.0,0.0,0.0,0.0,0.0,0.0095,0.009,0.0082,0.0052,0.0042,0.0053,0.0024,0.0064,0.0042,0.0102,0.0069,0.0082,0.0113,0.0099,0.0058,0.0096,0.0074,0.0049,0.0063,0.0055,0.0067,0.0064,0.0038,0.0036,0.0039,0.0067,0.0075,0.0067,0.0048,0.01,0.0058,0.0031,0.0063,0.0051,0.008,0.0042,0.0064,0.0069,0.0072,0.0071,0.0062,0.0061,0.0049,0.0038,0.0054,0.0051,0.0071,0.0051,0.0052,0.0092,0.0085,0.0086,0.0089,0.0098,0.0097,0.0069,0.0057,0.0049,0.0057,0.0053,0.0062,0.0063,0.0073,0.0064,0.005,0.0042,0.0058,0.0053,0.0052,0.0052,0.0169,0.0122,0.0,0.0408,0.0036,0.0074,0.0075,0.0038,0.0032,0.0039,0.0095,0.0074,0.0147,0.003,0.0119,0.0104,0.0138,0.0051,0.0029,0.0031,0.0,0.0028,0.003,0.0025,0.0024,0.0053,0.0098,0.0057,0.0021,0.0051,0.0031,0.0068,0.0025,0.0,0.0,0.0082,0.0137,0.0116,0.0,0.0,0.0,0.0,0.0,0.0,0.0,0.0,0.0,0.0,0.0,0.0,0.0,0.0,0.0124,0.003,0.0046,0.0106,0.0043,0.0205,0.0206,0.0065,0.0076,0.0065,0.0068,0.0071,0.0074,0.0075,0.0072,0.0059,0.0074,0.007,0.0076,0.0062,0.006,0.0049,0.0061,0.0069,0.0054,0.0062,0.0061,0.0075,0.0068,0.007,0.006,0.0059,0.0075,0.0065,0.0049,0.0072,0.0065,0.0059,0.0051,0.0061,0.007,0.0066,0.0053,0.0093,0.0091,0.0041,0.006,0.0102,0.0088,0.011,0.0098,0.0078,0.0088,0.0089,0.0074,0.0059,0.006,0.0049,0.0059,0.0063,0.0056,0.0056,0.006,0.0133,0.0091,0.0078,0.0,0.0,0.0091,0.0056,0.0073,0.0065,0.0,0.0018,0.0,0.0,0.0113,0.0038,0.0,0.0054,0.0041,0.0069,0.0026,0.002,0.0052,0.0043,0.0013,0.0024,0.005,0.003,0.0047,0.0034,0.0053,0.0033,0.0089,0.0025,0.0104,0.0035,0.008,0.0054,0.0041,0.0118,0.0,0.0086,0.0101,0.0,0.0041,0.0149,0.0044,0.0081,0.0053,0.0025,0.0104,0.0055,0.0021,0.0038,0.0056,0.0079,0.0111,0.0074,0.0078,0.0199,0.0115,0.0096,0.0086,0.0083,0.0081,0.0075,0.0094,0.0085,0.0097,0.0087,0.0073,0.0062,0.0077,0.0089,0.0068,0.0059,0.007,0.006,0.0059,0.0075,0.007,0.0057,0.0046,0.0069,0.0065,0.0052,0.0064,0.0061,0.0051,0.0049,0.0065,0.0065,0.0049,0.0047,0.0047,0.0052,0.0088,0.0124,0.0125,0.0102,0.0135,0.0121,0.0095,0.0128,0.012,0.0104,0.0114,0.0119,0.0086,0.0095,0.0093,0.0081,0.0075,0.0097,0.01,0.0093,0.01,0.0162,0.0131,0.0097,0.0069,0.0015,0.0033,0.0038,0.0028,0.0071,0.0057,0.0061,0.0054,0.004,0.0066,0.0073,0.0,0.0072,0.0074,0.0036,0.0053,0.0074,0.0049,0.0063,0.0085,0.0051,0.0029,0.001,0.0042,0.0055,0.0084,0.0058,0.0013,0.0016,0.0036,0.0064,0.0019,0.0015,0.0021,0.0,0.0056,0.0101,0.0,0.0217,0.0129,0.006,0.0063,0.0,0.002,0.0082,0.0041,0.0037,0.0054,0.006,0.0062,0.0074,0.008,0.0067,0.006,0.0198,0.0123,0.0068,0.0054,0.006,0.0062,0.006,0.0053,0.0061,0.0076,0.0074,0.0063,0.005,0.0066,0.0053,0.0051,0.0052,0.006,0.0049,0.0057,0.0042,0.0049,0.0054,0.0057,0.0063,0.0055,0.0064,0.0058,0.0069,0.0068,0.0057,0.0051,0.0052,0.0056,0.0052,0.005,0.0064,0.0055,0.0097,0.0066,0.0055,0.006,0.0081,0.0084,0.0104,0.0105,0.0059,0.0077,0.007,0.0084,0.0069,0.0058,0.0066,0.0056,0.0073,0.006,0.0071,0.0072,0.0119,0.0098,0.0046,0.0068,0.0048,0.0048,0.0052,0.002,0.0021,0.0,0.0065,0.0,0.0041,0.0048,0.0055,0.0084,0.0021,0.0,0.0041,0.0057,0.0031,0.005,0.0049,0.0062,0.0042,0.0062,0.0094,0.0051,0.0121,0.0067,0.0036,0.0031,0.0088,0.0022,0.0045,0.0054,0.0058,0.0079,0.0062,0.0113,0.0045,0.0025,0.009,0.0102,0.0185,0.0059,0.008,0.011,0.0067,0.0097,0.0099,0.0052,0.0044,0.0061,0.0063,0.008,0.0032,0.0061,0.0178,0.0076,0.0103,0.0044,0.0048,0.0077,0.0066,0.0074,0.0079,0.006,0.0046,0.0051,0.0047,0.0067,0.006,0.0031,0.0095,0.007,0.0126,0.0076,0.012,0.0084,0.0089,0.0123,0.0103,0.0087,0.0074,0.0075,0.01,0.0082,0.0095,0.0084,0.0094,0.0088,0.0085,0.0085,0.0073,0.0082,0.008,0.0087,0.0111,0.0112,0.0142,0.0088,0.0105,0.0072,0.0061,0.0059,0.006,0.0076,0.0044,0.0055,0.0059,0.0037,0.0067,0.0083,0.0042,0.0057,0.0121,0.0088,0.0,0.0,0.0,0.0,0.0,0.0,0.0147,0.0056,0.0046,0.0051,0.0155,0.0044,0.0049,0.0186,0.0,0.0108,0.0154,0.0031,0.0055,0.0107,0.005,0.0063,0.01,0.0022,0.0027,0.0059,0.0,0.0082,0.0064,0.005,0.0053,0.0044,0.0,0.0088,0.0183,0.0066,0.0,0.0,0.0,0.0147,0.0,0.0435,0.0056,0.0,0.01,0.0,0.0,0.0,0.0075,0.0093,0.0,0.0146,0.0088,0.0157,0.0104,0.0115,0.0119,0.0076,0.0064,0.0107,0.0101,0.0069,0.009,0.0096,0.0093,0.01,0.0108,0.0079,0.009,0.007,0.0083,0.0071,0.0063,0.0075,0.0077,0.0059,0.0102,0.0089,0.0093,0.0062,0.0093,0.0084,0.0071,0.0073,0.0087,0.0059,0.0071,0.008,0.0071,0.0074,0.0071,0.0065,0.0057,0.0064,0.0114,0.0149,0.0141,0.0149,0.0094,0.007,0.0112,0.0089,0.0102,0.0098,0.0084,0.0095,0.008,0.0064,0.006,0.0069,0.0061,0.0048,0.0044,0.0079,0.0213,0.0,0.0,0.0,0.0234,0.0119,0.016,0.012,0.0069,0.0102,0.0054,0.0156,0.0126,0.0082,0.0081,0.0028,0.0055,0.0142,0.0079,0.0031,0.0035,0.0041,0.0035,0.0065,0.0111,0.0099,0.0096,0.0142,0.0107,0.0091,0.0091,0.0124,0.0102,0.008,0.0072,0.0078,0.0155,0.0139,0.0066,0.0113,0.0117,0.0147,0.0046,0.0069,0.0058,0.0073,0.0107,0.0086,0.008,0.0074,0.0116,0.0038,0.0135,0.0079,0.0154,0.0174,0.0106,0.0504,0.0,0.0316,0.0183,0.0312,0.0076,0.0226,0.0183,0.023,0.0184,0.0103,0.0116,0.0111,0.0161,0.0095,0.006,0.0159,0.0106,0.0178,0.007,0.0048,0.0023,0.0095,0.0096,0.0036,0.0062,0.0024,0.0051,0.0078,0.0023,0.0054,0.0102,0.0,0.0231,0.0072,0.011,0.006,0.0238,0.0,0.0,0.0,0.0263,0.0121,0.0191,0.009,0.0078,0.0089,0.0033,0.0068,0.0073,0.0046,0.0063,0.0065,0.0067,0.0088,0.0059,0.0077,0.0085,0.0079,0.0074,0.0074,0.0115,0.0086,0.0038,0.0051,0.0041,0.0053,0.0051,0.0039,0.0028,0.003,0.0046,0.011,0.0032,0.0047,0.0044,0.004,0.0065,0.0023,0.0016,0.004,0.0102,0.0069,0.0056,0.0072,0.0073,0.0053,0.0065,0.0055,0.0078,0.0055,0.0065,0.0054,0.0066,0.007,0.006,0.0061,0.0066,0.0035,0.0067,0.0033,0.0067,0.0091,0.0168,0.0036,0.0102,0.0087,0.0058,0.0032,0.0055,0.0065,0.008,0.0065,0.0046,0.0066,0.0079,0.0076,0.0079,0.009,0.0086,0.0099,0.0042,0.0016,0.0039,0.0054,0.0046,0.0027,0.0034,0.0034,0.0052,0.0098,0.008,0.0059,0.004,0.0008,0.0,0.0023,0.0026,0.0008,0.0015,0.0043,0.0015,0.0049,0.0032,0.0074,0.003,0.0012,0.0063,0.0085,0.0041,0.0039,0.0028,0.0034,0.0036,0.0036,0.0049,0.0011,0.0016,0.003,0.0024,0.005,0.0055,0.0033,0.0063,0.0013,0.0026,0.0026,0.0062,0.0049,0.0031,0.0072,0.005,0.0034,0.0063,0.0056,0.0054,0.0069,0.005,0.0076,0.0,0.0,0.0,0.0,0.0,0.0,0.0,0.0,0.0,0.0,0.0,0.0,0.0,0.0,0.0,0.0,0.0,0.0,0.0,0.0,0.0,0.0,0.0,0.0,0.0,0.0,0.0,0.0,0.0,0.0,0.0,0.0,0.0,0.0,0.0,0.0,0.0,0.0,0.0,0.0,0.0,0.0,0.0018,0.0052,0.0067,0.0,0.0,0.0,0.0,0.0018,0.0029,0.0042,0.0021,0.0018,0.0035,0.0028,0.0031,0.0033,0.004,0.0037,0.0032,0.003,0.004,0.0031,0.0039,0.0035,0.0035,0.0022,0.0026,0.0027,0.0035,0.0049,0.0029,0.0044,0.0038,0.0033,0.0029,0.003,0.0023,0.0029,0.003,0.0043,0.004,0.0044,0.0031,0.0051,0.0053,0.0031,0.0047,0.0036,0.0031,0.0059,0.0033,0.0066,0.003,0.0045,0.0031,0.0029,0.0053,0.0059,0.0059,0.0053,0.0063,0.0059,0.0055,0.0066,0.004,0.0023,0.0024,0.0027,0.0,0.0,0.0023,0.0021,0.0025,0.0,0.0025,0.0,0.0058,0.002,0.0019,0.0025,0.0,0.0,0.0,0.0,0.0048,0.0027,0.0013,0.0013,0.0,0.0017,0.0047,0.005,0.0011,0.0,0.0044,0.0033,0.0067,0.0012,0.0035,0.0025,0.0,0.0,0.0065,0.0031,0.0,0.003,0.0027,0.0042,0.0,0.0036,0.0031,0.0012,0.0025,0.0011,0.0,0.0062,0.0012,0.0062,0.0022,0.0039,0.0,0.0105,0.0,0.0004,0.0013,0.0,0.0026,0.0018,0.0012,0.0028,0.0024,0.0022,0.0036,0.0019,0.0028,0.003,0.0022,0.002,0.0027,0.0006,0.0007,0.0021,0.0026,0.0013,0.0028,0.0024,0.0023,0.0024,0.0025,0.0029,0.0017,0.0019,0.0023,0.001,0.0016,0.0008,0.0022,0.0014,0.0016,0.0022,0.0014,0.0022,0.0023,0.0,0.0008,0.0016,0.0015,0.0026,0.0025,0.0031,0.0034,0.003,0.0045,0.0031,0.0045,0.0038,0.003,0.0031,0.0033,0.0047,0.0048,0.0,0.0,0.0,0.0,0.0,0.0,0.0,0.0,0.0,0.0,0.0148,0.0075,0.004,0.0,0.0,0.0,0.0,0.0,0.0,0.0,0.0,0.0,0.0,0.0118,0.003,0.0044,0.0,0.0,0.0,0.0053,0.0065,0.0,0.0,0.0,0.0029,0.0,0.0,0.0,0.0104,0.0,0.0,0.0,0.0,0.0127,0.0053,0.0048,0.0,0.0039,0.0,0.0,0.0021,0.0028,0.0015,0.0028,0.0019,0.0,0.0062,0.0,0.0038,0.0041,0.0044,0.0027,0.0026,0.0038,0.0035,0.0033,0.0035,0.0038,0.0049,0.0027,0.0029,0.0035,0.0031,0.0027,0.0027,0.0033,0.0027,0.0033,0.004,0.004,0.0033,0.0036,0.0032,0.0028,0.0035,0.0034,0.0032,0.0026,0.0025,0.004,0.0036,0.0038,0.0042,0.0036,0.0048,0.0053,0.0046,0.0046,0.0044,0.0036,0.0064,0.0045,0.0051,0.004,0.0037,0.0051,0.0053,0.0067,0.0082,0.0058,0.0065,0.0066,0.006,0.0045,0.0069,0.0062,0.0015,0.0028,0.0018,0.0016,0.0026,0.0,0.0045,0.003,0.0,0.0017,0.0026,0.0011,0.0027,0.0,0.0,0.0029,0.0016,0.0,0.0013,0.0036,0.0,0.0,0.0011,0.0027,0.0025,0.0009,0.0039,0.0,0.0,0.0024,0.0013,0.0028,0.0019,0.0009,0.0009,0.0,0.0032,0.0,0.0,0.0,0.0,0.0,0.0,0.0,0.0054,0.0,0.0078,0.0027,0.004,0.0044,0.0017,0.0081,0.0075,0.0095,0.0041,0.0028,0.0033,0.0031,0.0031,0.0026,0.0028,0.003,0.0036,0.0031,0.0031,0.0034,0.0032,0.003,0.0031,0.0021,0.0027,0.0022,0.0018,0.0028,0.0017,0.003,0.003,0.0034,0.0035,0.0032,0.0027,0.0031,0.0024,0.003,0.0029,0.0029,0.0016,0.0024,0.0026,0.0029,0.0026,0.0025,0.0025,0.003,0.0051,0.002,0.0031,0.0024,0.0031,0.0017,0.0038,0.0026,0.0043,0.0038,0.0033,0.0036,0.0039,0.0053,0.0054,0.0041,0.0043,0.0043,0.0045,0.0049,0.0061,0.0047,0.0,0.0033,0.0046,0.0,0.0036,0.0,0.0014,0.0031,0.0012,0.0013,0.0027,0.0062,0.0011,0.0015,0.0017,0.0031,0.0015,0.0028,0.003,0.0023,0.0034,0.0018,0.0034,0.001,0.0012,0.0,0.0009,0.0024,0.0,0.0011,0.001,0.0012,0.0021,0.0,0.002,0.0,0.0047,0.0,0.0,0.0,0.0,0.0,0.0,0.0,0.0,0.0,0.0,0.0043,0.0022,0.0028,0.0045,0.0034,0.0037,0.0023,0.003,0.0043,0.0053,0.0032,0.002,0.002,0.0032,0.0022,0.0026,0.0029,0.0025,0.004,0.0026,0.0025,0.0027,0.0024,0.002,0.0023,0.0013,0.0033,0.0032,0.0032,0.0031,0.0029,0.0031,0.0028,0.003,0.0046,0.0036,0.0032,0.0026,0.0033,0.0025,0.0022,0.0026,0.0031,0.0031,0.0034,0.0028,0.0029,0.0044,0.0039,0.0031,0.0051,0.0044,0.0036,0.0031,0.0053,0.0031,0.0,0.0,0.0,0.0,0.0,0.0,0.0,0.0093,0.0032,0.0,0.0019,0.0044,0.004,0.0025,0.0045,0.0027,0.0094,0.0053,0.0092,0.0032,0.01,0.0212,0.0076,0.0,0.0,0.0,0.0238,0.0,0.0,0.0,0.0,0.0,0.0,0.0,0.0,0.0,0.0,0.0,0.0,0.0,0.0,0.0,0.0,0.0,0.0,0.0,0.0,0.0,0.0,0.0,0.0,0.0,0.0,0.0,0.0,0.0,0.0,0.0,0.0,0.0,0.0,0.0051,0.0021,0.0023,0.0,0.0024,0.0026,0.0029,0.0028,0.0031,0.0033,0.0027,0.0032,0.0029,0.0031,0.0034,0.0044,0.003,0.0038,0.0032,0.0019,0.0027,0.0025,0.0043,0.0027,0.0049,0.0041,0.0022,0.0032,0.0033,0.0021,0.0031,0.0037,0.0027,0.0027,0.0039,0.0042,0.0028,0.0026,0.0023,0.0022,0.0027,0.0035,0.0,0.0038,0.0044,0.0021,0.0054,0.0028,0.001,0.0022,0.0011,0.0031,0.0033,0.0022,0.0033,0.0037,0.0024,0.0042,0.005,0.0046,0.0044,0.0092,0.005,0.0,0.0,0.0,0.0,0.0,0.0,0.0,0.0,0.0,0.0,0.0,0.0,0.0,0.0,0.0051,0.0,0.0,0.0,0.0,0.0056,0.0,0.0,0.0022,0.0024,0.0024,0.0076,0.0,0.0,0.0021,0.0033,0.0025,0.0025,0.0,0.0024,0.004,0.0051,0.007,0.0056,0.0,0.0,0.006,0.0,0.0065,0.0083,0.0,0.0,0.0058,0.0,0.0018,0.002,0.0085,0.0046,0.0,0.0127,0.0027,0.0059,0.0,0.002,0.0042,0.0039,0.0038,0.0029,0.003,0.0041,0.0036,0.0032,0.0034,0.0033,0.0032,0.0027,0.0033,0.0027,0.0047,0.0025,0.0024,0.0025,0.0033,0.0018,0.0021,0.003,0.0021,0.0028,0.003,0.0027,0.0043,0.004,0.0028,0.0045,0.0016,0.0034,0.0019,0.0027,0.0021,0.0024,0.0058,0.0067,0.0076,0.0045,0.0049,0.0041,0.0048,0.0047,0.0056,0.0068,0.0069,0.0043,0.0058,0.0095,0.0072,0.0079,0.0066,0.0065,0.0052,0.006,0.0018,0.0,0.0,0.0,0.0,0.0,0.0,0.0,0.0,0.0,0.0,0.0,0.0,0.0,0.0,0.0,0.0,0.0,0.0,0.0,0.0,0.0,0.0,0.0,0.0309,0.0,0.0022,0.0029,0.0067,0.0019,0.0172,0.0,0.0027,0.0022,0.004,0.0046,0.0,0.0,0.0,0.0,0.0,0.0,0.0,0.0,0.0476,0.0,0.0,0.0,0.0,0.0,0.0,0.0,0.0048,0.0107,0.0089,0.0097,0.0127,0.0323,0.0204,0.0,0.0,0.0,0.0,0.0,0.0,0.0,0.0,0.0,0.0,0.0,0.0,0.0,0.0,0.0,0.0,0.0051,0.0,0.0054,0.0,0.0043,0.0,0.0,0.0,0.0065,0.0,0.0059,0.0,0.0,0.0,0.0,0.0,0.0,0.0,0.0,0.0,0.0,0.0,0.0,0.0,0.0,0.0,0.0,0.0028,0.0048,0.0073,0.004,0.0026,0.0055,0.003,0.0046,0.0025,0.001,0.0012,0.0014,0.0,0.0042,0.0025,0.0,0.0014,0.0011,0.0,0.0028,0.0012,0.0009,0.0,0.0024,0.0018,0.0018,0.0017,0.0013,0.0018,0.0017,0.0018,0.0032,0.0025,0.0022,0.0033,0.0027,0.0017,0.0027,0.0027,0.0041,0.0036,0.0045,0.0047,0.0037,0.0043,0.0029,0.0034,0.0042,0.0019,0.0039,0.003,0.0041,0.0029,0.0014,0.005,0.0031,0.0025,0.0023,0.0042,0.0026,0.0046,0.0038,0.0044,0.0049,0.0034,0.0009,0.0015,0.0015,0.0034,0.0037,0.0019,0.0017,0.0,0.0017,0.0024,0.0015,0.0019,0.0019,0.0034,0.0033,0.0022,0.0028,0.0043,0.0022,0.0034,0.0027,0.0029,0.0027,0.0013,0.0051,0.0023,0.0012,0.0018,0.0026,0.0008,0.0008,0.0022,0.0024,0.0011,0.0018,0.0018,0.0006,0.0037,0.0028,0.0031,0.0051,0.0036,0.0026,0.0013,0.0009,0.0024,0.0018,0.0023,0.0023,0.0027,0.0015,0.0036,0.0023,0.0028,0.0025,0.0018,0.0044,0.0022,0.0031,0.004,0.0075,0.0064,0.0063,0.0062,0.0064,0.0074,0.0061,0.0065,0.007,0.0072,0.0063,0.0064,0.0063,0.0058,0.0063,0.006,0.0061,0.006,0.0061,0.0056,0.0059,0.0054,0.0058,0.005,0.0053,0.0051,0.005,0.0049,0.0049,0.0059,0.0053,0.005,0.0043,0.0047,0.0053,0.0061,0.0067,0.0065,0.0058,0.0069,0.0049,0.0042,0.006,0.006,0.0061,0.0052,0.0055,0.0053,0.0056,0.0053,0.0052,0.0053,0.0062,0.0054,0.0048,0.0052,0.0083,0.0081,0.0032,0.0035],\"type\":\"box\"}],                        {\"template\":{\"data\":{\"barpolar\":[{\"marker\":{\"line\":{\"color\":\"white\",\"width\":0.5},\"pattern\":{\"fillmode\":\"overlay\",\"size\":10,\"solidity\":0.2}},\"type\":\"barpolar\"}],\"bar\":[{\"error_x\":{\"color\":\"#2a3f5f\"},\"error_y\":{\"color\":\"#2a3f5f\"},\"marker\":{\"line\":{\"color\":\"white\",\"width\":0.5},\"pattern\":{\"fillmode\":\"overlay\",\"size\":10,\"solidity\":0.2}},\"type\":\"bar\"}],\"carpet\":[{\"aaxis\":{\"endlinecolor\":\"#2a3f5f\",\"gridcolor\":\"#C8D4E3\",\"linecolor\":\"#C8D4E3\",\"minorgridcolor\":\"#C8D4E3\",\"startlinecolor\":\"#2a3f5f\"},\"baxis\":{\"endlinecolor\":\"#2a3f5f\",\"gridcolor\":\"#C8D4E3\",\"linecolor\":\"#C8D4E3\",\"minorgridcolor\":\"#C8D4E3\",\"startlinecolor\":\"#2a3f5f\"},\"type\":\"carpet\"}],\"choropleth\":[{\"colorbar\":{\"outlinewidth\":0,\"ticks\":\"\"},\"type\":\"choropleth\"}],\"contourcarpet\":[{\"colorbar\":{\"outlinewidth\":0,\"ticks\":\"\"},\"type\":\"contourcarpet\"}],\"contour\":[{\"colorbar\":{\"outlinewidth\":0,\"ticks\":\"\"},\"colorscale\":[[0.0,\"#0d0887\"],[0.1111111111111111,\"#46039f\"],[0.2222222222222222,\"#7201a8\"],[0.3333333333333333,\"#9c179e\"],[0.4444444444444444,\"#bd3786\"],[0.5555555555555556,\"#d8576b\"],[0.6666666666666666,\"#ed7953\"],[0.7777777777777778,\"#fb9f3a\"],[0.8888888888888888,\"#fdca26\"],[1.0,\"#f0f921\"]],\"type\":\"contour\"}],\"heatmapgl\":[{\"colorbar\":{\"outlinewidth\":0,\"ticks\":\"\"},\"colorscale\":[[0.0,\"#0d0887\"],[0.1111111111111111,\"#46039f\"],[0.2222222222222222,\"#7201a8\"],[0.3333333333333333,\"#9c179e\"],[0.4444444444444444,\"#bd3786\"],[0.5555555555555556,\"#d8576b\"],[0.6666666666666666,\"#ed7953\"],[0.7777777777777778,\"#fb9f3a\"],[0.8888888888888888,\"#fdca26\"],[1.0,\"#f0f921\"]],\"type\":\"heatmapgl\"}],\"heatmap\":[{\"colorbar\":{\"outlinewidth\":0,\"ticks\":\"\"},\"colorscale\":[[0.0,\"#0d0887\"],[0.1111111111111111,\"#46039f\"],[0.2222222222222222,\"#7201a8\"],[0.3333333333333333,\"#9c179e\"],[0.4444444444444444,\"#bd3786\"],[0.5555555555555556,\"#d8576b\"],[0.6666666666666666,\"#ed7953\"],[0.7777777777777778,\"#fb9f3a\"],[0.8888888888888888,\"#fdca26\"],[1.0,\"#f0f921\"]],\"type\":\"heatmap\"}],\"histogram2dcontour\":[{\"colorbar\":{\"outlinewidth\":0,\"ticks\":\"\"},\"colorscale\":[[0.0,\"#0d0887\"],[0.1111111111111111,\"#46039f\"],[0.2222222222222222,\"#7201a8\"],[0.3333333333333333,\"#9c179e\"],[0.4444444444444444,\"#bd3786\"],[0.5555555555555556,\"#d8576b\"],[0.6666666666666666,\"#ed7953\"],[0.7777777777777778,\"#fb9f3a\"],[0.8888888888888888,\"#fdca26\"],[1.0,\"#f0f921\"]],\"type\":\"histogram2dcontour\"}],\"histogram2d\":[{\"colorbar\":{\"outlinewidth\":0,\"ticks\":\"\"},\"colorscale\":[[0.0,\"#0d0887\"],[0.1111111111111111,\"#46039f\"],[0.2222222222222222,\"#7201a8\"],[0.3333333333333333,\"#9c179e\"],[0.4444444444444444,\"#bd3786\"],[0.5555555555555556,\"#d8576b\"],[0.6666666666666666,\"#ed7953\"],[0.7777777777777778,\"#fb9f3a\"],[0.8888888888888888,\"#fdca26\"],[1.0,\"#f0f921\"]],\"type\":\"histogram2d\"}],\"histogram\":[{\"marker\":{\"pattern\":{\"fillmode\":\"overlay\",\"size\":10,\"solidity\":0.2}},\"type\":\"histogram\"}],\"mesh3d\":[{\"colorbar\":{\"outlinewidth\":0,\"ticks\":\"\"},\"type\":\"mesh3d\"}],\"parcoords\":[{\"line\":{\"colorbar\":{\"outlinewidth\":0,\"ticks\":\"\"}},\"type\":\"parcoords\"}],\"pie\":[{\"automargin\":true,\"type\":\"pie\"}],\"scatter3d\":[{\"line\":{\"colorbar\":{\"outlinewidth\":0,\"ticks\":\"\"}},\"marker\":{\"colorbar\":{\"outlinewidth\":0,\"ticks\":\"\"}},\"type\":\"scatter3d\"}],\"scattercarpet\":[{\"marker\":{\"colorbar\":{\"outlinewidth\":0,\"ticks\":\"\"}},\"type\":\"scattercarpet\"}],\"scattergeo\":[{\"marker\":{\"colorbar\":{\"outlinewidth\":0,\"ticks\":\"\"}},\"type\":\"scattergeo\"}],\"scattergl\":[{\"marker\":{\"colorbar\":{\"outlinewidth\":0,\"ticks\":\"\"}},\"type\":\"scattergl\"}],\"scattermapbox\":[{\"marker\":{\"colorbar\":{\"outlinewidth\":0,\"ticks\":\"\"}},\"type\":\"scattermapbox\"}],\"scatterpolargl\":[{\"marker\":{\"colorbar\":{\"outlinewidth\":0,\"ticks\":\"\"}},\"type\":\"scatterpolargl\"}],\"scatterpolar\":[{\"marker\":{\"colorbar\":{\"outlinewidth\":0,\"ticks\":\"\"}},\"type\":\"scatterpolar\"}],\"scatter\":[{\"fillpattern\":{\"fillmode\":\"overlay\",\"size\":10,\"solidity\":0.2},\"type\":\"scatter\"}],\"scatterternary\":[{\"marker\":{\"colorbar\":{\"outlinewidth\":0,\"ticks\":\"\"}},\"type\":\"scatterternary\"}],\"surface\":[{\"colorbar\":{\"outlinewidth\":0,\"ticks\":\"\"},\"colorscale\":[[0.0,\"#0d0887\"],[0.1111111111111111,\"#46039f\"],[0.2222222222222222,\"#7201a8\"],[0.3333333333333333,\"#9c179e\"],[0.4444444444444444,\"#bd3786\"],[0.5555555555555556,\"#d8576b\"],[0.6666666666666666,\"#ed7953\"],[0.7777777777777778,\"#fb9f3a\"],[0.8888888888888888,\"#fdca26\"],[1.0,\"#f0f921\"]],\"type\":\"surface\"}],\"table\":[{\"cells\":{\"fill\":{\"color\":\"#EBF0F8\"},\"line\":{\"color\":\"white\"}},\"header\":{\"fill\":{\"color\":\"#C8D4E3\"},\"line\":{\"color\":\"white\"}},\"type\":\"table\"}]},\"layout\":{\"annotationdefaults\":{\"arrowcolor\":\"#2a3f5f\",\"arrowhead\":0,\"arrowwidth\":1},\"autotypenumbers\":\"strict\",\"coloraxis\":{\"colorbar\":{\"outlinewidth\":0,\"ticks\":\"\"}},\"colorscale\":{\"diverging\":[[0,\"#8e0152\"],[0.1,\"#c51b7d\"],[0.2,\"#de77ae\"],[0.3,\"#f1b6da\"],[0.4,\"#fde0ef\"],[0.5,\"#f7f7f7\"],[0.6,\"#e6f5d0\"],[0.7,\"#b8e186\"],[0.8,\"#7fbc41\"],[0.9,\"#4d9221\"],[1,\"#276419\"]],\"sequential\":[[0.0,\"#0d0887\"],[0.1111111111111111,\"#46039f\"],[0.2222222222222222,\"#7201a8\"],[0.3333333333333333,\"#9c179e\"],[0.4444444444444444,\"#bd3786\"],[0.5555555555555556,\"#d8576b\"],[0.6666666666666666,\"#ed7953\"],[0.7777777777777778,\"#fb9f3a\"],[0.8888888888888888,\"#fdca26\"],[1.0,\"#f0f921\"]],\"sequentialminus\":[[0.0,\"#0d0887\"],[0.1111111111111111,\"#46039f\"],[0.2222222222222222,\"#7201a8\"],[0.3333333333333333,\"#9c179e\"],[0.4444444444444444,\"#bd3786\"],[0.5555555555555556,\"#d8576b\"],[0.6666666666666666,\"#ed7953\"],[0.7777777777777778,\"#fb9f3a\"],[0.8888888888888888,\"#fdca26\"],[1.0,\"#f0f921\"]]},\"colorway\":[\"#636efa\",\"#EF553B\",\"#00cc96\",\"#ab63fa\",\"#FFA15A\",\"#19d3f3\",\"#FF6692\",\"#B6E880\",\"#FF97FF\",\"#FECB52\"],\"font\":{\"color\":\"#2a3f5f\"},\"geo\":{\"bgcolor\":\"white\",\"lakecolor\":\"white\",\"landcolor\":\"white\",\"showlakes\":true,\"showland\":true,\"subunitcolor\":\"#C8D4E3\"},\"hoverlabel\":{\"align\":\"left\"},\"hovermode\":\"closest\",\"mapbox\":{\"style\":\"light\"},\"paper_bgcolor\":\"white\",\"plot_bgcolor\":\"white\",\"polar\":{\"angularaxis\":{\"gridcolor\":\"#EBF0F8\",\"linecolor\":\"#EBF0F8\",\"ticks\":\"\"},\"bgcolor\":\"white\",\"radialaxis\":{\"gridcolor\":\"#EBF0F8\",\"linecolor\":\"#EBF0F8\",\"ticks\":\"\"}},\"scene\":{\"xaxis\":{\"backgroundcolor\":\"white\",\"gridcolor\":\"#DFE8F3\",\"gridwidth\":2,\"linecolor\":\"#EBF0F8\",\"showbackground\":true,\"ticks\":\"\",\"zerolinecolor\":\"#EBF0F8\"},\"yaxis\":{\"backgroundcolor\":\"white\",\"gridcolor\":\"#DFE8F3\",\"gridwidth\":2,\"linecolor\":\"#EBF0F8\",\"showbackground\":true,\"ticks\":\"\",\"zerolinecolor\":\"#EBF0F8\"},\"zaxis\":{\"backgroundcolor\":\"white\",\"gridcolor\":\"#DFE8F3\",\"gridwidth\":2,\"linecolor\":\"#EBF0F8\",\"showbackground\":true,\"ticks\":\"\",\"zerolinecolor\":\"#EBF0F8\"}},\"shapedefaults\":{\"line\":{\"color\":\"#2a3f5f\"}},\"ternary\":{\"aaxis\":{\"gridcolor\":\"#DFE8F3\",\"linecolor\":\"#A2B1C6\",\"ticks\":\"\"},\"baxis\":{\"gridcolor\":\"#DFE8F3\",\"linecolor\":\"#A2B1C6\",\"ticks\":\"\"},\"bgcolor\":\"white\",\"caxis\":{\"gridcolor\":\"#DFE8F3\",\"linecolor\":\"#A2B1C6\",\"ticks\":\"\"}},\"title\":{\"x\":0.05},\"xaxis\":{\"automargin\":true,\"gridcolor\":\"#EBF0F8\",\"linecolor\":\"#EBF0F8\",\"ticks\":\"\",\"title\":{\"standoff\":15},\"zerolinecolor\":\"#EBF0F8\",\"zerolinewidth\":2},\"yaxis\":{\"automargin\":true,\"gridcolor\":\"#EBF0F8\",\"linecolor\":\"#EBF0F8\",\"ticks\":\"\",\"title\":{\"standoff\":15},\"zerolinecolor\":\"#EBF0F8\",\"zerolinewidth\":2}}},\"title\":{\"text\":\"CTR Distribution per Campaign\"},\"yaxis\":{\"title\":{\"text\":\"CTR (%)\"}},\"xaxis\":{\"title\":{\"text\":\"Campaigns\"}}},                        {\"responsive\": true}                    ).then(function(){\n",
       "                            \n",
       "var gd = document.getElementById('5484d831-8e64-4298-980d-c7f68a7fc0c7');\n",
       "var x = new MutationObserver(function (mutations, observer) {{\n",
       "        var display = window.getComputedStyle(gd).display;\n",
       "        if (!display || display === 'none') {{\n",
       "            console.log([gd, 'removed!']);\n",
       "            Plotly.purge(gd);\n",
       "            observer.disconnect();\n",
       "        }}\n",
       "}});\n",
       "\n",
       "// Listen for the removal of the full notebook cells\n",
       "var notebookContainer = gd.closest('#notebook-container');\n",
       "if (notebookContainer) {{\n",
       "    x.observe(notebookContainer, {childList: true});\n",
       "}}\n",
       "\n",
       "// Listen for the clearing of the current output cell\n",
       "var outputEl = gd.closest('.output');\n",
       "if (outputEl) {{\n",
       "    x.observe(outputEl, {childList: true});\n",
       "}}\n",
       "\n",
       "                        })                };                });            </script>        </div>"
      ]
     },
     "metadata": {},
     "output_type": "display_data"
    }
   ],
   "source": [
    "df['Campaign']=df['Campaign'].astype('str')\n",
    "fig = go.Figure()\n",
    "\n",
    "for campaign in df[\"Campaign\"].unique():\n",
    "    fig.add_trace(go.Box(\n",
    "        y=df[df[\"Campaign\"]==campaign][\"CTR\"],\n",
    "        name=campaign,\n",
    "        boxmean=True))\n",
    "\n",
    "fig.update_layout(\n",
    "    title=\"CTR Distribution per Campaign\",\n",
    "    yaxis_title=\"CTR (%)\",\n",
    "    xaxis_title=\"Campaigns\",\n",
    "    template=\"plotly_white\")\n",
    "\n",
    "fig.show()"
   ]
  },
  {
   "cell_type": "code",
   "execution_count": 53,
   "id": "2c265d0b",
   "metadata": {},
   "outputs": [],
   "source": [
    "#the performance is effected by the groups"
   ]
  },
  {
   "cell_type": "markdown",
   "id": "05a651eb",
   "metadata": {},
   "source": [
    "# Analyze the data on weekly base"
   ]
  },
  {
   "cell_type": "code",
   "execution_count": 54,
   "id": "890d94a7",
   "metadata": {},
   "outputs": [
    {
     "data": {
      "application/vnd.plotly.v1+json": {
       "config": {
        "plotlyServerURL": "https://plot.ly"
       },
       "data": [
        {
         "mode": "lines+markers",
         "name": "ROAS",
         "type": "scatter",
         "x": [
          "2013-08-04T00:00:00",
          "2013-08-11T00:00:00",
          "2013-08-18T00:00:00",
          "2013-08-25T00:00:00",
          "2013-09-01T00:00:00",
          "2013-09-08T00:00:00",
          "2013-09-15T00:00:00",
          "2013-09-22T00:00:00",
          "2013-09-29T00:00:00"
         ],
         "y": [
          38.192199956905846,
          34.303770140257335,
          39.359210391735715,
          54.33080613800725,
          47.74650249472404,
          35.29799070171231,
          22.39991416104342,
          22.269496143850827,
          25.29581654193053
         ]
        }
       ],
       "layout": {
        "legend": {
         "title": {
          "text": "Metrics"
         }
        },
        "template": {
         "data": {
          "bar": [
           {
            "error_x": {
             "color": "#2a3f5f"
            },
            "error_y": {
             "color": "#2a3f5f"
            },
            "marker": {
             "line": {
              "color": "white",
              "width": 0.5
             },
             "pattern": {
              "fillmode": "overlay",
              "size": 10,
              "solidity": 0.2
             }
            },
            "type": "bar"
           }
          ],
          "barpolar": [
           {
            "marker": {
             "line": {
              "color": "white",
              "width": 0.5
             },
             "pattern": {
              "fillmode": "overlay",
              "size": 10,
              "solidity": 0.2
             }
            },
            "type": "barpolar"
           }
          ],
          "carpet": [
           {
            "aaxis": {
             "endlinecolor": "#2a3f5f",
             "gridcolor": "#C8D4E3",
             "linecolor": "#C8D4E3",
             "minorgridcolor": "#C8D4E3",
             "startlinecolor": "#2a3f5f"
            },
            "baxis": {
             "endlinecolor": "#2a3f5f",
             "gridcolor": "#C8D4E3",
             "linecolor": "#C8D4E3",
             "minorgridcolor": "#C8D4E3",
             "startlinecolor": "#2a3f5f"
            },
            "type": "carpet"
           }
          ],
          "choropleth": [
           {
            "colorbar": {
             "outlinewidth": 0,
             "ticks": ""
            },
            "type": "choropleth"
           }
          ],
          "contour": [
           {
            "colorbar": {
             "outlinewidth": 0,
             "ticks": ""
            },
            "colorscale": [
             [
              0,
              "#0d0887"
             ],
             [
              0.1111111111111111,
              "#46039f"
             ],
             [
              0.2222222222222222,
              "#7201a8"
             ],
             [
              0.3333333333333333,
              "#9c179e"
             ],
             [
              0.4444444444444444,
              "#bd3786"
             ],
             [
              0.5555555555555556,
              "#d8576b"
             ],
             [
              0.6666666666666666,
              "#ed7953"
             ],
             [
              0.7777777777777778,
              "#fb9f3a"
             ],
             [
              0.8888888888888888,
              "#fdca26"
             ],
             [
              1,
              "#f0f921"
             ]
            ],
            "type": "contour"
           }
          ],
          "contourcarpet": [
           {
            "colorbar": {
             "outlinewidth": 0,
             "ticks": ""
            },
            "type": "contourcarpet"
           }
          ],
          "heatmap": [
           {
            "colorbar": {
             "outlinewidth": 0,
             "ticks": ""
            },
            "colorscale": [
             [
              0,
              "#0d0887"
             ],
             [
              0.1111111111111111,
              "#46039f"
             ],
             [
              0.2222222222222222,
              "#7201a8"
             ],
             [
              0.3333333333333333,
              "#9c179e"
             ],
             [
              0.4444444444444444,
              "#bd3786"
             ],
             [
              0.5555555555555556,
              "#d8576b"
             ],
             [
              0.6666666666666666,
              "#ed7953"
             ],
             [
              0.7777777777777778,
              "#fb9f3a"
             ],
             [
              0.8888888888888888,
              "#fdca26"
             ],
             [
              1,
              "#f0f921"
             ]
            ],
            "type": "heatmap"
           }
          ],
          "heatmapgl": [
           {
            "colorbar": {
             "outlinewidth": 0,
             "ticks": ""
            },
            "colorscale": [
             [
              0,
              "#0d0887"
             ],
             [
              0.1111111111111111,
              "#46039f"
             ],
             [
              0.2222222222222222,
              "#7201a8"
             ],
             [
              0.3333333333333333,
              "#9c179e"
             ],
             [
              0.4444444444444444,
              "#bd3786"
             ],
             [
              0.5555555555555556,
              "#d8576b"
             ],
             [
              0.6666666666666666,
              "#ed7953"
             ],
             [
              0.7777777777777778,
              "#fb9f3a"
             ],
             [
              0.8888888888888888,
              "#fdca26"
             ],
             [
              1,
              "#f0f921"
             ]
            ],
            "type": "heatmapgl"
           }
          ],
          "histogram": [
           {
            "marker": {
             "pattern": {
              "fillmode": "overlay",
              "size": 10,
              "solidity": 0.2
             }
            },
            "type": "histogram"
           }
          ],
          "histogram2d": [
           {
            "colorbar": {
             "outlinewidth": 0,
             "ticks": ""
            },
            "colorscale": [
             [
              0,
              "#0d0887"
             ],
             [
              0.1111111111111111,
              "#46039f"
             ],
             [
              0.2222222222222222,
              "#7201a8"
             ],
             [
              0.3333333333333333,
              "#9c179e"
             ],
             [
              0.4444444444444444,
              "#bd3786"
             ],
             [
              0.5555555555555556,
              "#d8576b"
             ],
             [
              0.6666666666666666,
              "#ed7953"
             ],
             [
              0.7777777777777778,
              "#fb9f3a"
             ],
             [
              0.8888888888888888,
              "#fdca26"
             ],
             [
              1,
              "#f0f921"
             ]
            ],
            "type": "histogram2d"
           }
          ],
          "histogram2dcontour": [
           {
            "colorbar": {
             "outlinewidth": 0,
             "ticks": ""
            },
            "colorscale": [
             [
              0,
              "#0d0887"
             ],
             [
              0.1111111111111111,
              "#46039f"
             ],
             [
              0.2222222222222222,
              "#7201a8"
             ],
             [
              0.3333333333333333,
              "#9c179e"
             ],
             [
              0.4444444444444444,
              "#bd3786"
             ],
             [
              0.5555555555555556,
              "#d8576b"
             ],
             [
              0.6666666666666666,
              "#ed7953"
             ],
             [
              0.7777777777777778,
              "#fb9f3a"
             ],
             [
              0.8888888888888888,
              "#fdca26"
             ],
             [
              1,
              "#f0f921"
             ]
            ],
            "type": "histogram2dcontour"
           }
          ],
          "mesh3d": [
           {
            "colorbar": {
             "outlinewidth": 0,
             "ticks": ""
            },
            "type": "mesh3d"
           }
          ],
          "parcoords": [
           {
            "line": {
             "colorbar": {
              "outlinewidth": 0,
              "ticks": ""
             }
            },
            "type": "parcoords"
           }
          ],
          "pie": [
           {
            "automargin": true,
            "type": "pie"
           }
          ],
          "scatter": [
           {
            "fillpattern": {
             "fillmode": "overlay",
             "size": 10,
             "solidity": 0.2
            },
            "type": "scatter"
           }
          ],
          "scatter3d": [
           {
            "line": {
             "colorbar": {
              "outlinewidth": 0,
              "ticks": ""
             }
            },
            "marker": {
             "colorbar": {
              "outlinewidth": 0,
              "ticks": ""
             }
            },
            "type": "scatter3d"
           }
          ],
          "scattercarpet": [
           {
            "marker": {
             "colorbar": {
              "outlinewidth": 0,
              "ticks": ""
             }
            },
            "type": "scattercarpet"
           }
          ],
          "scattergeo": [
           {
            "marker": {
             "colorbar": {
              "outlinewidth": 0,
              "ticks": ""
             }
            },
            "type": "scattergeo"
           }
          ],
          "scattergl": [
           {
            "marker": {
             "colorbar": {
              "outlinewidth": 0,
              "ticks": ""
             }
            },
            "type": "scattergl"
           }
          ],
          "scattermapbox": [
           {
            "marker": {
             "colorbar": {
              "outlinewidth": 0,
              "ticks": ""
             }
            },
            "type": "scattermapbox"
           }
          ],
          "scatterpolar": [
           {
            "marker": {
             "colorbar": {
              "outlinewidth": 0,
              "ticks": ""
             }
            },
            "type": "scatterpolar"
           }
          ],
          "scatterpolargl": [
           {
            "marker": {
             "colorbar": {
              "outlinewidth": 0,
              "ticks": ""
             }
            },
            "type": "scatterpolargl"
           }
          ],
          "scatterternary": [
           {
            "marker": {
             "colorbar": {
              "outlinewidth": 0,
              "ticks": ""
             }
            },
            "type": "scatterternary"
           }
          ],
          "surface": [
           {
            "colorbar": {
             "outlinewidth": 0,
             "ticks": ""
            },
            "colorscale": [
             [
              0,
              "#0d0887"
             ],
             [
              0.1111111111111111,
              "#46039f"
             ],
             [
              0.2222222222222222,
              "#7201a8"
             ],
             [
              0.3333333333333333,
              "#9c179e"
             ],
             [
              0.4444444444444444,
              "#bd3786"
             ],
             [
              0.5555555555555556,
              "#d8576b"
             ],
             [
              0.6666666666666666,
              "#ed7953"
             ],
             [
              0.7777777777777778,
              "#fb9f3a"
             ],
             [
              0.8888888888888888,
              "#fdca26"
             ],
             [
              1,
              "#f0f921"
             ]
            ],
            "type": "surface"
           }
          ],
          "table": [
           {
            "cells": {
             "fill": {
              "color": "#EBF0F8"
             },
             "line": {
              "color": "white"
             }
            },
            "header": {
             "fill": {
              "color": "#C8D4E3"
             },
             "line": {
              "color": "white"
             }
            },
            "type": "table"
           }
          ]
         },
         "layout": {
          "annotationdefaults": {
           "arrowcolor": "#2a3f5f",
           "arrowhead": 0,
           "arrowwidth": 1
          },
          "autotypenumbers": "strict",
          "coloraxis": {
           "colorbar": {
            "outlinewidth": 0,
            "ticks": ""
           }
          },
          "colorscale": {
           "diverging": [
            [
             0,
             "#8e0152"
            ],
            [
             0.1,
             "#c51b7d"
            ],
            [
             0.2,
             "#de77ae"
            ],
            [
             0.3,
             "#f1b6da"
            ],
            [
             0.4,
             "#fde0ef"
            ],
            [
             0.5,
             "#f7f7f7"
            ],
            [
             0.6,
             "#e6f5d0"
            ],
            [
             0.7,
             "#b8e186"
            ],
            [
             0.8,
             "#7fbc41"
            ],
            [
             0.9,
             "#4d9221"
            ],
            [
             1,
             "#276419"
            ]
           ],
           "sequential": [
            [
             0,
             "#0d0887"
            ],
            [
             0.1111111111111111,
             "#46039f"
            ],
            [
             0.2222222222222222,
             "#7201a8"
            ],
            [
             0.3333333333333333,
             "#9c179e"
            ],
            [
             0.4444444444444444,
             "#bd3786"
            ],
            [
             0.5555555555555556,
             "#d8576b"
            ],
            [
             0.6666666666666666,
             "#ed7953"
            ],
            [
             0.7777777777777778,
             "#fb9f3a"
            ],
            [
             0.8888888888888888,
             "#fdca26"
            ],
            [
             1,
             "#f0f921"
            ]
           ],
           "sequentialminus": [
            [
             0,
             "#0d0887"
            ],
            [
             0.1111111111111111,
             "#46039f"
            ],
            [
             0.2222222222222222,
             "#7201a8"
            ],
            [
             0.3333333333333333,
             "#9c179e"
            ],
            [
             0.4444444444444444,
             "#bd3786"
            ],
            [
             0.5555555555555556,
             "#d8576b"
            ],
            [
             0.6666666666666666,
             "#ed7953"
            ],
            [
             0.7777777777777778,
             "#fb9f3a"
            ],
            [
             0.8888888888888888,
             "#fdca26"
            ],
            [
             1,
             "#f0f921"
            ]
           ]
          },
          "colorway": [
           "#636efa",
           "#EF553B",
           "#00cc96",
           "#ab63fa",
           "#FFA15A",
           "#19d3f3",
           "#FF6692",
           "#B6E880",
           "#FF97FF",
           "#FECB52"
          ],
          "font": {
           "color": "#2a3f5f"
          },
          "geo": {
           "bgcolor": "white",
           "lakecolor": "white",
           "landcolor": "white",
           "showlakes": true,
           "showland": true,
           "subunitcolor": "#C8D4E3"
          },
          "hoverlabel": {
           "align": "left"
          },
          "hovermode": "closest",
          "mapbox": {
           "style": "light"
          },
          "paper_bgcolor": "white",
          "plot_bgcolor": "white",
          "polar": {
           "angularaxis": {
            "gridcolor": "#EBF0F8",
            "linecolor": "#EBF0F8",
            "ticks": ""
           },
           "bgcolor": "white",
           "radialaxis": {
            "gridcolor": "#EBF0F8",
            "linecolor": "#EBF0F8",
            "ticks": ""
           }
          },
          "scene": {
           "xaxis": {
            "backgroundcolor": "white",
            "gridcolor": "#DFE8F3",
            "gridwidth": 2,
            "linecolor": "#EBF0F8",
            "showbackground": true,
            "ticks": "",
            "zerolinecolor": "#EBF0F8"
           },
           "yaxis": {
            "backgroundcolor": "white",
            "gridcolor": "#DFE8F3",
            "gridwidth": 2,
            "linecolor": "#EBF0F8",
            "showbackground": true,
            "ticks": "",
            "zerolinecolor": "#EBF0F8"
           },
           "zaxis": {
            "backgroundcolor": "white",
            "gridcolor": "#DFE8F3",
            "gridwidth": 2,
            "linecolor": "#EBF0F8",
            "showbackground": true,
            "ticks": "",
            "zerolinecolor": "#EBF0F8"
           }
          },
          "shapedefaults": {
           "line": {
            "color": "#2a3f5f"
           }
          },
          "ternary": {
           "aaxis": {
            "gridcolor": "#DFE8F3",
            "linecolor": "#A2B1C6",
            "ticks": ""
           },
           "baxis": {
            "gridcolor": "#DFE8F3",
            "linecolor": "#A2B1C6",
            "ticks": ""
           },
           "bgcolor": "white",
           "caxis": {
            "gridcolor": "#DFE8F3",
            "linecolor": "#A2B1C6",
            "ticks": ""
           }
          },
          "title": {
           "x": 0.05
          },
          "xaxis": {
           "automargin": true,
           "gridcolor": "#EBF0F8",
           "linecolor": "#EBF0F8",
           "ticks": "",
           "title": {
            "standoff": 15
           },
           "zerolinecolor": "#EBF0F8",
           "zerolinewidth": 2
          },
          "yaxis": {
           "automargin": true,
           "gridcolor": "#EBF0F8",
           "linecolor": "#EBF0F8",
           "ticks": "",
           "title": {
            "standoff": 15
           },
           "zerolinecolor": "#EBF0F8",
           "zerolinewidth": 2
          }
         }
        },
        "title": {
         "text": "Weekly Performance Trends"
        },
        "xaxis": {
         "title": {
          "text": "Week"
         }
        },
        "yaxis": {
         "title": {
          "text": "Values"
         }
        }
       }
      },
      "text/html": [
       "<div>                            <div id=\"7943efa7-c5f6-410d-8f94-0d3fdb79726c\" class=\"plotly-graph-div\" style=\"height:525px; width:100%;\"></div>            <script type=\"text/javascript\">                require([\"plotly\"], function(Plotly) {                    window.PLOTLYENV=window.PLOTLYENV || {};                                    if (document.getElementById(\"7943efa7-c5f6-410d-8f94-0d3fdb79726c\")) {                    Plotly.newPlot(                        \"7943efa7-c5f6-410d-8f94-0d3fdb79726c\",                        [{\"mode\":\"lines+markers\",\"name\":\"ROAS\",\"x\":[\"2013-08-04T00:00:00\",\"2013-08-11T00:00:00\",\"2013-08-18T00:00:00\",\"2013-08-25T00:00:00\",\"2013-09-01T00:00:00\",\"2013-09-08T00:00:00\",\"2013-09-15T00:00:00\",\"2013-09-22T00:00:00\",\"2013-09-29T00:00:00\"],\"y\":[38.192199956905846,34.303770140257335,39.359210391735715,54.33080613800725,47.74650249472404,35.29799070171231,22.39991416104342,22.269496143850827,25.29581654193053],\"type\":\"scatter\"}],                        {\"template\":{\"data\":{\"barpolar\":[{\"marker\":{\"line\":{\"color\":\"white\",\"width\":0.5},\"pattern\":{\"fillmode\":\"overlay\",\"size\":10,\"solidity\":0.2}},\"type\":\"barpolar\"}],\"bar\":[{\"error_x\":{\"color\":\"#2a3f5f\"},\"error_y\":{\"color\":\"#2a3f5f\"},\"marker\":{\"line\":{\"color\":\"white\",\"width\":0.5},\"pattern\":{\"fillmode\":\"overlay\",\"size\":10,\"solidity\":0.2}},\"type\":\"bar\"}],\"carpet\":[{\"aaxis\":{\"endlinecolor\":\"#2a3f5f\",\"gridcolor\":\"#C8D4E3\",\"linecolor\":\"#C8D4E3\",\"minorgridcolor\":\"#C8D4E3\",\"startlinecolor\":\"#2a3f5f\"},\"baxis\":{\"endlinecolor\":\"#2a3f5f\",\"gridcolor\":\"#C8D4E3\",\"linecolor\":\"#C8D4E3\",\"minorgridcolor\":\"#C8D4E3\",\"startlinecolor\":\"#2a3f5f\"},\"type\":\"carpet\"}],\"choropleth\":[{\"colorbar\":{\"outlinewidth\":0,\"ticks\":\"\"},\"type\":\"choropleth\"}],\"contourcarpet\":[{\"colorbar\":{\"outlinewidth\":0,\"ticks\":\"\"},\"type\":\"contourcarpet\"}],\"contour\":[{\"colorbar\":{\"outlinewidth\":0,\"ticks\":\"\"},\"colorscale\":[[0.0,\"#0d0887\"],[0.1111111111111111,\"#46039f\"],[0.2222222222222222,\"#7201a8\"],[0.3333333333333333,\"#9c179e\"],[0.4444444444444444,\"#bd3786\"],[0.5555555555555556,\"#d8576b\"],[0.6666666666666666,\"#ed7953\"],[0.7777777777777778,\"#fb9f3a\"],[0.8888888888888888,\"#fdca26\"],[1.0,\"#f0f921\"]],\"type\":\"contour\"}],\"heatmapgl\":[{\"colorbar\":{\"outlinewidth\":0,\"ticks\":\"\"},\"colorscale\":[[0.0,\"#0d0887\"],[0.1111111111111111,\"#46039f\"],[0.2222222222222222,\"#7201a8\"],[0.3333333333333333,\"#9c179e\"],[0.4444444444444444,\"#bd3786\"],[0.5555555555555556,\"#d8576b\"],[0.6666666666666666,\"#ed7953\"],[0.7777777777777778,\"#fb9f3a\"],[0.8888888888888888,\"#fdca26\"],[1.0,\"#f0f921\"]],\"type\":\"heatmapgl\"}],\"heatmap\":[{\"colorbar\":{\"outlinewidth\":0,\"ticks\":\"\"},\"colorscale\":[[0.0,\"#0d0887\"],[0.1111111111111111,\"#46039f\"],[0.2222222222222222,\"#7201a8\"],[0.3333333333333333,\"#9c179e\"],[0.4444444444444444,\"#bd3786\"],[0.5555555555555556,\"#d8576b\"],[0.6666666666666666,\"#ed7953\"],[0.7777777777777778,\"#fb9f3a\"],[0.8888888888888888,\"#fdca26\"],[1.0,\"#f0f921\"]],\"type\":\"heatmap\"}],\"histogram2dcontour\":[{\"colorbar\":{\"outlinewidth\":0,\"ticks\":\"\"},\"colorscale\":[[0.0,\"#0d0887\"],[0.1111111111111111,\"#46039f\"],[0.2222222222222222,\"#7201a8\"],[0.3333333333333333,\"#9c179e\"],[0.4444444444444444,\"#bd3786\"],[0.5555555555555556,\"#d8576b\"],[0.6666666666666666,\"#ed7953\"],[0.7777777777777778,\"#fb9f3a\"],[0.8888888888888888,\"#fdca26\"],[1.0,\"#f0f921\"]],\"type\":\"histogram2dcontour\"}],\"histogram2d\":[{\"colorbar\":{\"outlinewidth\":0,\"ticks\":\"\"},\"colorscale\":[[0.0,\"#0d0887\"],[0.1111111111111111,\"#46039f\"],[0.2222222222222222,\"#7201a8\"],[0.3333333333333333,\"#9c179e\"],[0.4444444444444444,\"#bd3786\"],[0.5555555555555556,\"#d8576b\"],[0.6666666666666666,\"#ed7953\"],[0.7777777777777778,\"#fb9f3a\"],[0.8888888888888888,\"#fdca26\"],[1.0,\"#f0f921\"]],\"type\":\"histogram2d\"}],\"histogram\":[{\"marker\":{\"pattern\":{\"fillmode\":\"overlay\",\"size\":10,\"solidity\":0.2}},\"type\":\"histogram\"}],\"mesh3d\":[{\"colorbar\":{\"outlinewidth\":0,\"ticks\":\"\"},\"type\":\"mesh3d\"}],\"parcoords\":[{\"line\":{\"colorbar\":{\"outlinewidth\":0,\"ticks\":\"\"}},\"type\":\"parcoords\"}],\"pie\":[{\"automargin\":true,\"type\":\"pie\"}],\"scatter3d\":[{\"line\":{\"colorbar\":{\"outlinewidth\":0,\"ticks\":\"\"}},\"marker\":{\"colorbar\":{\"outlinewidth\":0,\"ticks\":\"\"}},\"type\":\"scatter3d\"}],\"scattercarpet\":[{\"marker\":{\"colorbar\":{\"outlinewidth\":0,\"ticks\":\"\"}},\"type\":\"scattercarpet\"}],\"scattergeo\":[{\"marker\":{\"colorbar\":{\"outlinewidth\":0,\"ticks\":\"\"}},\"type\":\"scattergeo\"}],\"scattergl\":[{\"marker\":{\"colorbar\":{\"outlinewidth\":0,\"ticks\":\"\"}},\"type\":\"scattergl\"}],\"scattermapbox\":[{\"marker\":{\"colorbar\":{\"outlinewidth\":0,\"ticks\":\"\"}},\"type\":\"scattermapbox\"}],\"scatterpolargl\":[{\"marker\":{\"colorbar\":{\"outlinewidth\":0,\"ticks\":\"\"}},\"type\":\"scatterpolargl\"}],\"scatterpolar\":[{\"marker\":{\"colorbar\":{\"outlinewidth\":0,\"ticks\":\"\"}},\"type\":\"scatterpolar\"}],\"scatter\":[{\"fillpattern\":{\"fillmode\":\"overlay\",\"size\":10,\"solidity\":0.2},\"type\":\"scatter\"}],\"scatterternary\":[{\"marker\":{\"colorbar\":{\"outlinewidth\":0,\"ticks\":\"\"}},\"type\":\"scatterternary\"}],\"surface\":[{\"colorbar\":{\"outlinewidth\":0,\"ticks\":\"\"},\"colorscale\":[[0.0,\"#0d0887\"],[0.1111111111111111,\"#46039f\"],[0.2222222222222222,\"#7201a8\"],[0.3333333333333333,\"#9c179e\"],[0.4444444444444444,\"#bd3786\"],[0.5555555555555556,\"#d8576b\"],[0.6666666666666666,\"#ed7953\"],[0.7777777777777778,\"#fb9f3a\"],[0.8888888888888888,\"#fdca26\"],[1.0,\"#f0f921\"]],\"type\":\"surface\"}],\"table\":[{\"cells\":{\"fill\":{\"color\":\"#EBF0F8\"},\"line\":{\"color\":\"white\"}},\"header\":{\"fill\":{\"color\":\"#C8D4E3\"},\"line\":{\"color\":\"white\"}},\"type\":\"table\"}]},\"layout\":{\"annotationdefaults\":{\"arrowcolor\":\"#2a3f5f\",\"arrowhead\":0,\"arrowwidth\":1},\"autotypenumbers\":\"strict\",\"coloraxis\":{\"colorbar\":{\"outlinewidth\":0,\"ticks\":\"\"}},\"colorscale\":{\"diverging\":[[0,\"#8e0152\"],[0.1,\"#c51b7d\"],[0.2,\"#de77ae\"],[0.3,\"#f1b6da\"],[0.4,\"#fde0ef\"],[0.5,\"#f7f7f7\"],[0.6,\"#e6f5d0\"],[0.7,\"#b8e186\"],[0.8,\"#7fbc41\"],[0.9,\"#4d9221\"],[1,\"#276419\"]],\"sequential\":[[0.0,\"#0d0887\"],[0.1111111111111111,\"#46039f\"],[0.2222222222222222,\"#7201a8\"],[0.3333333333333333,\"#9c179e\"],[0.4444444444444444,\"#bd3786\"],[0.5555555555555556,\"#d8576b\"],[0.6666666666666666,\"#ed7953\"],[0.7777777777777778,\"#fb9f3a\"],[0.8888888888888888,\"#fdca26\"],[1.0,\"#f0f921\"]],\"sequentialminus\":[[0.0,\"#0d0887\"],[0.1111111111111111,\"#46039f\"],[0.2222222222222222,\"#7201a8\"],[0.3333333333333333,\"#9c179e\"],[0.4444444444444444,\"#bd3786\"],[0.5555555555555556,\"#d8576b\"],[0.6666666666666666,\"#ed7953\"],[0.7777777777777778,\"#fb9f3a\"],[0.8888888888888888,\"#fdca26\"],[1.0,\"#f0f921\"]]},\"colorway\":[\"#636efa\",\"#EF553B\",\"#00cc96\",\"#ab63fa\",\"#FFA15A\",\"#19d3f3\",\"#FF6692\",\"#B6E880\",\"#FF97FF\",\"#FECB52\"],\"font\":{\"color\":\"#2a3f5f\"},\"geo\":{\"bgcolor\":\"white\",\"lakecolor\":\"white\",\"landcolor\":\"white\",\"showlakes\":true,\"showland\":true,\"subunitcolor\":\"#C8D4E3\"},\"hoverlabel\":{\"align\":\"left\"},\"hovermode\":\"closest\",\"mapbox\":{\"style\":\"light\"},\"paper_bgcolor\":\"white\",\"plot_bgcolor\":\"white\",\"polar\":{\"angularaxis\":{\"gridcolor\":\"#EBF0F8\",\"linecolor\":\"#EBF0F8\",\"ticks\":\"\"},\"bgcolor\":\"white\",\"radialaxis\":{\"gridcolor\":\"#EBF0F8\",\"linecolor\":\"#EBF0F8\",\"ticks\":\"\"}},\"scene\":{\"xaxis\":{\"backgroundcolor\":\"white\",\"gridcolor\":\"#DFE8F3\",\"gridwidth\":2,\"linecolor\":\"#EBF0F8\",\"showbackground\":true,\"ticks\":\"\",\"zerolinecolor\":\"#EBF0F8\"},\"yaxis\":{\"backgroundcolor\":\"white\",\"gridcolor\":\"#DFE8F3\",\"gridwidth\":2,\"linecolor\":\"#EBF0F8\",\"showbackground\":true,\"ticks\":\"\",\"zerolinecolor\":\"#EBF0F8\"},\"zaxis\":{\"backgroundcolor\":\"white\",\"gridcolor\":\"#DFE8F3\",\"gridwidth\":2,\"linecolor\":\"#EBF0F8\",\"showbackground\":true,\"ticks\":\"\",\"zerolinecolor\":\"#EBF0F8\"}},\"shapedefaults\":{\"line\":{\"color\":\"#2a3f5f\"}},\"ternary\":{\"aaxis\":{\"gridcolor\":\"#DFE8F3\",\"linecolor\":\"#A2B1C6\",\"ticks\":\"\"},\"baxis\":{\"gridcolor\":\"#DFE8F3\",\"linecolor\":\"#A2B1C6\",\"ticks\":\"\"},\"bgcolor\":\"white\",\"caxis\":{\"gridcolor\":\"#DFE8F3\",\"linecolor\":\"#A2B1C6\",\"ticks\":\"\"}},\"title\":{\"x\":0.05},\"xaxis\":{\"automargin\":true,\"gridcolor\":\"#EBF0F8\",\"linecolor\":\"#EBF0F8\",\"ticks\":\"\",\"title\":{\"standoff\":15},\"zerolinecolor\":\"#EBF0F8\",\"zerolinewidth\":2},\"yaxis\":{\"automargin\":true,\"gridcolor\":\"#EBF0F8\",\"linecolor\":\"#EBF0F8\",\"ticks\":\"\",\"title\":{\"standoff\":15},\"zerolinecolor\":\"#EBF0F8\",\"zerolinewidth\":2}}},\"title\":{\"text\":\"Weekly Performance Trends\"},\"xaxis\":{\"title\":{\"text\":\"Week\"}},\"yaxis\":{\"title\":{\"text\":\"Values\"}},\"legend\":{\"title\":{\"text\":\"Metrics\"}}},                        {\"responsive\": true}                    ).then(function(){\n",
       "                            \n",
       "var gd = document.getElementById('7943efa7-c5f6-410d-8f94-0d3fdb79726c');\n",
       "var x = new MutationObserver(function (mutations, observer) {{\n",
       "        var display = window.getComputedStyle(gd).display;\n",
       "        if (!display || display === 'none') {{\n",
       "            console.log([gd, 'removed!']);\n",
       "            Plotly.purge(gd);\n",
       "            observer.disconnect();\n",
       "        }}\n",
       "}});\n",
       "\n",
       "// Listen for the removal of the full notebook cells\n",
       "var notebookContainer = gd.closest('#notebook-container');\n",
       "if (notebookContainer) {{\n",
       "    x.observe(notebookContainer, {childList: true});\n",
       "}}\n",
       "\n",
       "// Listen for the clearing of the current output cell\n",
       "var outputEl = gd.closest('.output');\n",
       "if (outputEl) {{\n",
       "    x.observe(outputEl, {childList: true});\n",
       "}}\n",
       "\n",
       "                        })                };                });            </script>        </div>"
      ]
     },
     "metadata": {},
     "output_type": "display_data"
    }
   ],
   "source": [
    "weekly_per=df.groupby(pd.Grouper(key=\"Day\", freq=\"W\")).mean()\n",
    "\n",
    "weekly_per[\"ROAS\"]=weekly_per[\"Total conv. value\"]/weekly_per[\"Cost\"]\n",
    "\n",
    "fig = go.Figure()\n",
    "\n",
    "fig.add_trace(go.Scatter(x=weekly_per.index,y=weekly_per[\"ROAS\"],mode=\"lines+markers\",name=\"ROAS\"))\n",
    "\n",
    "fig.update_layout(\n",
    "    title=\"Weekly Performance Trends\",\n",
    "    xaxis_title=\"Week\",\n",
    "    yaxis_title=\"Values\",\n",
    "    template=\"plotly_white\",\n",
    "    legend_title=\"Metrics\")\n",
    "\n",
    "fig.show()"
   ]
  },
  {
   "cell_type": "markdown",
   "id": "8ccf71e9",
   "metadata": {},
   "source": [
    "Distribution of budget and performance"
   ]
  },
  {
   "cell_type": "code",
   "execution_count": 55,
   "id": "828bd53b",
   "metadata": {},
   "outputs": [
    {
     "data": {
      "image/png": "[encoded data removed]",
      "text/plain": [
       "<Figure size 720x432 with 2 Axes>"
      ]
     },
     "metadata": {
      "needs_background": "light"
     },
     "output_type": "display_data"
    }
   ],
   "source": [
    "df_2=df[['Campaign','Cost','Total conv. value','Conversions']]\n",
    "\n",
    "campaign_per=df_2.groupby(\"Campaign\",as_index=False).sum()\n",
    "\n",
    "\n",
    "campaign_per[\"ROAS\"]=campaign_per[\"Total conv. value\"]/campaign_per[\"Cost\"]\n",
    "\n",
    "plt.figure(figsize=(10, 6))\n",
    "scatter = plt.scatter(\n",
    "    campaign_per[\"Cost\"], \n",
    "    campaign_per[\"Conversions\"], \n",
    "    s=campaign_per[\"ROAS\"]*50,\n",
    "    c=campaign_per[\"ROAS\"], \n",
    "    cmap=\"viridis\", \n",
    "    alpha=0.75, \n",
    "    edgecolors=\"black\")\n",
    "\n",
    "plt.colorbar(scatter, label=\"ROAS\")\n",
    "\n",
    "for i,campaign in enumerate(campaign_per[\"Campaign\"]):\n",
    "    plt.annotate(campaign,(campaign_per[\"Cost\"][i],campaign_per[\"Conversions\"][i]),fontsize=9)\n",
    "\n",
    "\n",
    "plt.title(\"Budget Allocation vs. Performance\",fontsize=14)\n",
    "plt.xlabel(\"Cost ($)\",fontsize=12)\n",
    "plt.ylabel(\"Conversions\",fontsize=12)\n",
    "plt.grid(True, linestyle=\"--\",alpha=0.6)\n",
    "\n",
    "plt.show()"
   ]
  },
  {
   "cell_type": "markdown",
   "id": "7ec20460",
   "metadata": {},
   "source": [
    "We observ that out budget hasn't been distributed properly"
   ]
  },
  {
   "cell_type": "markdown",
   "id": "af1b523d",
   "metadata": {},
   "source": [
    "CTR vs CPC"
   ]
  },
  {
   "cell_type": "code",
   "execution_count": 56,
   "id": "5de446ff",
   "metadata": {},
   "outputs": [
    {
     "data": {
      "application/vnd.plotly.v1+json": {
       "config": {
        "plotlyServerURL": "https://plot.ly"
       },
       "data": [
        {
         "marker": {
          "color": [
           0.5292373037857803,
           0.005126091081593928,
           0.3826556578947369,
           0.23573353174603173
          ],
          "colorscale": [
           [
            0,
            "#440154"
           ],
           [
            0.1111111111111111,
            "#482878"
           ],
           [
            0.2222222222222222,
            "#3e4989"
           ],
           [
            0.3333333333333333,
            "#31688e"
           ],
           [
            0.4444444444444444,
            "#26828e"
           ],
           [
            0.5555555555555556,
            "#1f9e89"
           ],
           [
            0.6666666666666666,
            "#35b779"
           ],
           [
            0.7777777777777778,
            "#6ece58"
           ],
           [
            0.8888888888888888,
            "#b5de2b"
           ],
           [
            1,
            "#fde725"
           ]
          ],
          "showscale": true,
          "size": [
           37.38842524272039,
           50,
           5.121699556785556,
           44.73891024630121
          ]
         },
         "mode": "markers",
         "name": "Campaigns",
         "text": [
          "1",
          "15",
          "3",
          "7"
         ],
         "type": "scatter",
         "x": [
          0.029732225300092337,
          0.06336812144212524,
          0.06078947368421053,
          0.17996031746031746
         ],
         "y": [
          0.5292373037857803,
          0.005126091081593928,
          0.3826556578947369,
          0.23573353174603173
         ]
        }
       ],
       "layout": {
        "legend": {
         "title": {
          "text": "Campaigns"
         }
        },
        "template": {
         "data": {
          "bar": [
           {
            "error_x": {
             "color": "#2a3f5f"
            },
            "error_y": {
             "color": "#2a3f5f"
            },
            "marker": {
             "line": {
              "color": "white",
              "width": 0.5
             },
             "pattern": {
              "fillmode": "overlay",
              "size": 10,
              "solidity": 0.2
             }
            },
            "type": "bar"
           }
          ],
          "barpolar": [
           {
            "marker": {
             "line": {
              "color": "white",
              "width": 0.5
             },
             "pattern": {
              "fillmode": "overlay",
              "size": 10,
              "solidity": 0.2
             }
            },
            "type": "barpolar"
           }
          ],
          "carpet": [
           {
            "aaxis": {
             "endlinecolor": "#2a3f5f",
             "gridcolor": "#C8D4E3",
             "linecolor": "#C8D4E3",
             "minorgridcolor": "#C8D4E3",
             "startlinecolor": "#2a3f5f"
            },
            "baxis": {
             "endlinecolor": "#2a3f5f",
             "gridcolor": "#C8D4E3",
             "linecolor": "#C8D4E3",
             "minorgridcolor": "#C8D4E3",
             "startlinecolor": "#2a3f5f"
            },
            "type": "carpet"
           }
          ],
          "choropleth": [
           {
            "colorbar": {
             "outlinewidth": 0,
             "ticks": ""
            },
            "type": "choropleth"
           }
          ],
          "contour": [
           {
            "colorbar": {
             "outlinewidth": 0,
             "ticks": ""
            },
            "colorscale": [
             [
              0,
              "#0d0887"
             ],
             [
              0.1111111111111111,
              "#46039f"
             ],
             [
              0.2222222222222222,
              "#7201a8"
             ],
             [
              0.3333333333333333,
              "#9c179e"
             ],
             [
              0.4444444444444444,
              "#bd3786"
             ],
             [
              0.5555555555555556,
              "#d8576b"
             ],
             [
              0.6666666666666666,
              "#ed7953"
             ],
             [
              0.7777777777777778,
              "#fb9f3a"
             ],
             [
              0.8888888888888888,
              "#fdca26"
             ],
             [
              1,
              "#f0f921"
             ]
            ],
            "type": "contour"
           }
          ],
          "contourcarpet": [
           {
            "colorbar": {
             "outlinewidth": 0,
             "ticks": ""
            },
            "type": "contourcarpet"
           }
          ],
          "heatmap": [
           {
            "colorbar": {
             "outlinewidth": 0,
             "ticks": ""
            },
            "colorscale": [
             [
              0,
              "#0d0887"
             ],
             [
              0.1111111111111111,
              "#46039f"
             ],
             [
              0.2222222222222222,
              "#7201a8"
             ],
             [
              0.3333333333333333,
              "#9c179e"
             ],
             [
              0.4444444444444444,
              "#bd3786"
             ],
             [
              0.5555555555555556,
              "#d8576b"
             ],
             [
              0.6666666666666666,
              "#ed7953"
             ],
             [
              0.7777777777777778,
              "#fb9f3a"
             ],
             [
              0.8888888888888888,
              "#fdca26"
             ],
             [
              1,
              "#f0f921"
             ]
            ],
            "type": "heatmap"
           }
          ],
          "heatmapgl": [
           {
            "colorbar": {
             "outlinewidth": 0,
             "ticks": ""
            },
            "colorscale": [
             [
              0,
              "#0d0887"
             ],
             [
              0.1111111111111111,
              "#46039f"
             ],
             [
              0.2222222222222222,
              "#7201a8"
             ],
             [
              0.3333333333333333,
              "#9c179e"
             ],
             [
              0.4444444444444444,
              "#bd3786"
             ],
             [
              0.5555555555555556,
              "#d8576b"
             ],
             [
              0.6666666666666666,
              "#ed7953"
             ],
             [
              0.7777777777777778,
              "#fb9f3a"
             ],
             [
              0.8888888888888888,
              "#fdca26"
             ],
             [
              1,
              "#f0f921"
             ]
            ],
            "type": "heatmapgl"
           }
          ],
          "histogram": [
           {
            "marker": {
             "pattern": {
              "fillmode": "overlay",
              "size": 10,
              "solidity": 0.2
             }
            },
            "type": "histogram"
           }
          ],
          "histogram2d": [
           {
            "colorbar": {
             "outlinewidth": 0,
             "ticks": ""
            },
            "colorscale": [
             [
              0,
              "#0d0887"
             ],
             [
              0.1111111111111111,
              "#46039f"
             ],
             [
              0.2222222222222222,
              "#7201a8"
             ],
             [
              0.3333333333333333,
              "#9c179e"
             ],
             [
              0.4444444444444444,
              "#bd3786"
             ],
             [
              0.5555555555555556,
              "#d8576b"
             ],
             [
              0.6666666666666666,
              "#ed7953"
             ],
             [
              0.7777777777777778,
              "#fb9f3a"
             ],
             [
              0.8888888888888888,
              "#fdca26"
             ],
             [
              1,
              "#f0f921"
             ]
            ],
            "type": "histogram2d"
           }
          ],
          "histogram2dcontour": [
           {
            "colorbar": {
             "outlinewidth": 0,
             "ticks": ""
            },
            "colorscale": [
             [
              0,
              "#0d0887"
             ],
             [
              0.1111111111111111,
              "#46039f"
             ],
             [
              0.2222222222222222,
              "#7201a8"
             ],
             [
              0.3333333333333333,
              "#9c179e"
             ],
             [
              0.4444444444444444,
              "#bd3786"
             ],
             [
              0.5555555555555556,
              "#d8576b"
             ],
             [
              0.6666666666666666,
              "#ed7953"
             ],
             [
              0.7777777777777778,
              "#fb9f3a"
             ],
             [
              0.8888888888888888,
              "#fdca26"
             ],
             [
              1,
              "#f0f921"
             ]
            ],
            "type": "histogram2dcontour"
           }
          ],
          "mesh3d": [
           {
            "colorbar": {
             "outlinewidth": 0,
             "ticks": ""
            },
            "type": "mesh3d"
           }
          ],
          "parcoords": [
           {
            "line": {
             "colorbar": {
              "outlinewidth": 0,
              "ticks": ""
             }
            },
            "type": "parcoords"
           }
          ],
          "pie": [
           {
            "automargin": true,
            "type": "pie"
           }
          ],
          "scatter": [
           {
            "fillpattern": {
             "fillmode": "overlay",
             "size": 10,
             "solidity": 0.2
            },
            "type": "scatter"
           }
          ],
          "scatter3d": [
           {
            "line": {
             "colorbar": {
              "outlinewidth": 0,
              "ticks": ""
             }
            },
            "marker": {
             "colorbar": {
              "outlinewidth": 0,
              "ticks": ""
             }
            },
            "type": "scatter3d"
           }
          ],
          "scattercarpet": [
           {
            "marker": {
             "colorbar": {
              "outlinewidth": 0,
              "ticks": ""
             }
            },
            "type": "scattercarpet"
           }
          ],
          "scattergeo": [
           {
            "marker": {
             "colorbar": {
              "outlinewidth": 0,
              "ticks": ""
             }
            },
            "type": "scattergeo"
           }
          ],
          "scattergl": [
           {
            "marker": {
             "colorbar": {
              "outlinewidth": 0,
              "ticks": ""
             }
            },
            "type": "scattergl"
           }
          ],
          "scattermapbox": [
           {
            "marker": {
             "colorbar": {
              "outlinewidth": 0,
              "ticks": ""
             }
            },
            "type": "scattermapbox"
           }
          ],
          "scatterpolar": [
           {
            "marker": {
             "colorbar": {
              "outlinewidth": 0,
              "ticks": ""
             }
            },
            "type": "scatterpolar"
           }
          ],
          "scatterpolargl": [
           {
            "marker": {
             "colorbar": {
              "outlinewidth": 0,
              "ticks": ""
             }
            },
            "type": "scatterpolargl"
           }
          ],
          "scatterternary": [
           {
            "marker": {
             "colorbar": {
              "outlinewidth": 0,
              "ticks": ""
             }
            },
            "type": "scatterternary"
           }
          ],
          "surface": [
           {
            "colorbar": {
             "outlinewidth": 0,
             "ticks": ""
            },
            "colorscale": [
             [
              0,
              "#0d0887"
             ],
             [
              0.1111111111111111,
              "#46039f"
             ],
             [
              0.2222222222222222,
              "#7201a8"
             ],
             [
              0.3333333333333333,
              "#9c179e"
             ],
             [
              0.4444444444444444,
              "#bd3786"
             ],
             [
              0.5555555555555556,
              "#d8576b"
             ],
             [
              0.6666666666666666,
              "#ed7953"
             ],
             [
              0.7777777777777778,
              "#fb9f3a"
             ],
             [
              0.8888888888888888,
              "#fdca26"
             ],
             [
              1,
              "#f0f921"
             ]
            ],
            "type": "surface"
           }
          ],
          "table": [
           {
            "cells": {
             "fill": {
              "color": "#EBF0F8"
             },
             "line": {
              "color": "white"
             }
            },
            "header": {
             "fill": {
              "color": "#C8D4E3"
             },
             "line": {
              "color": "white"
             }
            },
            "type": "table"
           }
          ]
         },
         "layout": {
          "annotationdefaults": {
           "arrowcolor": "#2a3f5f",
           "arrowhead": 0,
           "arrowwidth": 1
          },
          "autotypenumbers": "strict",
          "coloraxis": {
           "colorbar": {
            "outlinewidth": 0,
            "ticks": ""
           }
          },
          "colorscale": {
           "diverging": [
            [
             0,
             "#8e0152"
            ],
            [
             0.1,
             "#c51b7d"
            ],
            [
             0.2,
             "#de77ae"
            ],
            [
             0.3,
             "#f1b6da"
            ],
            [
             0.4,
             "#fde0ef"
            ],
            [
             0.5,
             "#f7f7f7"
            ],
            [
             0.6,
             "#e6f5d0"
            ],
            [
             0.7,
             "#b8e186"
            ],
            [
             0.8,
             "#7fbc41"
            ],
            [
             0.9,
             "#4d9221"
            ],
            [
             1,
             "#276419"
            ]
           ],
           "sequential": [
            [
             0,
             "#0d0887"
            ],
            [
             0.1111111111111111,
             "#46039f"
            ],
            [
             0.2222222222222222,
             "#7201a8"
            ],
            [
             0.3333333333333333,
             "#9c179e"
            ],
            [
             0.4444444444444444,
             "#bd3786"
            ],
            [
             0.5555555555555556,
             "#d8576b"
            ],
            [
             0.6666666666666666,
             "#ed7953"
            ],
            [
             0.7777777777777778,
             "#fb9f3a"
            ],
            [
             0.8888888888888888,
             "#fdca26"
            ],
            [
             1,
             "#f0f921"
            ]
           ],
           "sequentialminus": [
            [
             0,
             "#0d0887"
            ],
            [
             0.1111111111111111,
             "#46039f"
            ],
            [
             0.2222222222222222,
             "#7201a8"
            ],
            [
             0.3333333333333333,
             "#9c179e"
            ],
            [
             0.4444444444444444,
             "#bd3786"
            ],
            [
             0.5555555555555556,
             "#d8576b"
            ],
            [
             0.6666666666666666,
             "#ed7953"
            ],
            [
             0.7777777777777778,
             "#fb9f3a"
            ],
            [
             0.8888888888888888,
             "#fdca26"
            ],
            [
             1,
             "#f0f921"
            ]
           ]
          },
          "colorway": [
           "#636efa",
           "#EF553B",
           "#00cc96",
           "#ab63fa",
           "#FFA15A",
           "#19d3f3",
           "#FF6692",
           "#B6E880",
           "#FF97FF",
           "#FECB52"
          ],
          "font": {
           "color": "#2a3f5f"
          },
          "geo": {
           "bgcolor": "white",
           "lakecolor": "white",
           "landcolor": "white",
           "showlakes": true,
           "showland": true,
           "subunitcolor": "#C8D4E3"
          },
          "hoverlabel": {
           "align": "left"
          },
          "hovermode": "closest",
          "mapbox": {
           "style": "light"
          },
          "paper_bgcolor": "white",
          "plot_bgcolor": "white",
          "polar": {
           "angularaxis": {
            "gridcolor": "#EBF0F8",
            "linecolor": "#EBF0F8",
            "ticks": ""
           },
           "bgcolor": "white",
           "radialaxis": {
            "gridcolor": "#EBF0F8",
            "linecolor": "#EBF0F8",
            "ticks": ""
           }
          },
          "scene": {
           "xaxis": {
            "backgroundcolor": "white",
            "gridcolor": "#DFE8F3",
            "gridwidth": 2,
            "linecolor": "#EBF0F8",
            "showbackground": true,
            "ticks": "",
            "zerolinecolor": "#EBF0F8"
           },
           "yaxis": {
            "backgroundcolor": "white",
            "gridcolor": "#DFE8F3",
            "gridwidth": 2,
            "linecolor": "#EBF0F8",
            "showbackground": true,
            "ticks": "",
            "zerolinecolor": "#EBF0F8"
           },
           "zaxis": {
            "backgroundcolor": "white",
            "gridcolor": "#DFE8F3",
            "gridwidth": 2,
            "linecolor": "#EBF0F8",
            "showbackground": true,
            "ticks": "",
            "zerolinecolor": "#EBF0F8"
           }
          },
          "shapedefaults": {
           "line": {
            "color": "#2a3f5f"
           }
          },
          "ternary": {
           "aaxis": {
            "gridcolor": "#DFE8F3",
            "linecolor": "#A2B1C6",
            "ticks": ""
           },
           "baxis": {
            "gridcolor": "#DFE8F3",
            "linecolor": "#A2B1C6",
            "ticks": ""
           },
           "bgcolor": "white",
           "caxis": {
            "gridcolor": "#DFE8F3",
            "linecolor": "#A2B1C6",
            "ticks": ""
           }
          },
          "title": {
           "x": 0.05
          },
          "xaxis": {
           "automargin": true,
           "gridcolor": "#EBF0F8",
           "linecolor": "#EBF0F8",
           "ticks": "",
           "title": {
            "standoff": 15
           },
           "zerolinecolor": "#EBF0F8",
           "zerolinewidth": 2
          },
          "yaxis": {
           "automargin": true,
           "gridcolor": "#EBF0F8",
           "linecolor": "#EBF0F8",
           "ticks": "",
           "title": {
            "standoff": 15
           },
           "zerolinecolor": "#EBF0F8",
           "zerolinewidth": 2
          }
         }
        },
        "title": {
         "text": "CTR vs. CPC Insights"
        },
        "xaxis": {
         "title": {
          "text": "Cost Per Click (CPC $)"
         }
        },
        "yaxis": {
         "title": {
          "text": "Click-Through Rate (CTR %)"
         }
        }
       }
      },
      "text/html": [
       "<div>                            <div id=\"6eda7a90-bdf6-4acc-8735-0640a9394c3a\" class=\"plotly-graph-div\" style=\"height:525px; width:100%;\"></div>            <script type=\"text/javascript\">                require([\"plotly\"], function(Plotly) {                    window.PLOTLYENV=window.PLOTLYENV || {};                                    if (document.getElementById(\"6eda7a90-bdf6-4acc-8735-0640a9394c3a\")) {                    Plotly.newPlot(                        \"6eda7a90-bdf6-4acc-8735-0640a9394c3a\",                        [{\"marker\":{\"color\":[0.5292373037857803,0.005126091081593928,0.3826556578947369,0.23573353174603173],\"colorscale\":[[0.0,\"#440154\"],[0.1111111111111111,\"#482878\"],[0.2222222222222222,\"#3e4989\"],[0.3333333333333333,\"#31688e\"],[0.4444444444444444,\"#26828e\"],[0.5555555555555556,\"#1f9e89\"],[0.6666666666666666,\"#35b779\"],[0.7777777777777778,\"#6ece58\"],[0.8888888888888888,\"#b5de2b\"],[1.0,\"#fde725\"]],\"showscale\":true,\"size\":[37.38842524272039,50.0,5.121699556785556,44.73891024630121]},\"mode\":\"markers\",\"name\":\"Campaigns\",\"text\":[\"1\",\"15\",\"3\",\"7\"],\"x\":[0.029732225300092337,0.06336812144212524,0.06078947368421053,0.17996031746031746],\"y\":[0.5292373037857803,0.005126091081593928,0.3826556578947369,0.23573353174603173],\"type\":\"scatter\"}],                        {\"template\":{\"data\":{\"barpolar\":[{\"marker\":{\"line\":{\"color\":\"white\",\"width\":0.5},\"pattern\":{\"fillmode\":\"overlay\",\"size\":10,\"solidity\":0.2}},\"type\":\"barpolar\"}],\"bar\":[{\"error_x\":{\"color\":\"#2a3f5f\"},\"error_y\":{\"color\":\"#2a3f5f\"},\"marker\":{\"line\":{\"color\":\"white\",\"width\":0.5},\"pattern\":{\"fillmode\":\"overlay\",\"size\":10,\"solidity\":0.2}},\"type\":\"bar\"}],\"carpet\":[{\"aaxis\":{\"endlinecolor\":\"#2a3f5f\",\"gridcolor\":\"#C8D4E3\",\"linecolor\":\"#C8D4E3\",\"minorgridcolor\":\"#C8D4E3\",\"startlinecolor\":\"#2a3f5f\"},\"baxis\":{\"endlinecolor\":\"#2a3f5f\",\"gridcolor\":\"#C8D4E3\",\"linecolor\":\"#C8D4E3\",\"minorgridcolor\":\"#C8D4E3\",\"startlinecolor\":\"#2a3f5f\"},\"type\":\"carpet\"}],\"choropleth\":[{\"colorbar\":{\"outlinewidth\":0,\"ticks\":\"\"},\"type\":\"choropleth\"}],\"contourcarpet\":[{\"colorbar\":{\"outlinewidth\":0,\"ticks\":\"\"},\"type\":\"contourcarpet\"}],\"contour\":[{\"colorbar\":{\"outlinewidth\":0,\"ticks\":\"\"},\"colorscale\":[[0.0,\"#0d0887\"],[0.1111111111111111,\"#46039f\"],[0.2222222222222222,\"#7201a8\"],[0.3333333333333333,\"#9c179e\"],[0.4444444444444444,\"#bd3786\"],[0.5555555555555556,\"#d8576b\"],[0.6666666666666666,\"#ed7953\"],[0.7777777777777778,\"#fb9f3a\"],[0.8888888888888888,\"#fdca26\"],[1.0,\"#f0f921\"]],\"type\":\"contour\"}],\"heatmapgl\":[{\"colorbar\":{\"outlinewidth\":0,\"ticks\":\"\"},\"colorscale\":[[0.0,\"#0d0887\"],[0.1111111111111111,\"#46039f\"],[0.2222222222222222,\"#7201a8\"],[0.3333333333333333,\"#9c179e\"],[0.4444444444444444,\"#bd3786\"],[0.5555555555555556,\"#d8576b\"],[0.6666666666666666,\"#ed7953\"],[0.7777777777777778,\"#fb9f3a\"],[0.8888888888888888,\"#fdca26\"],[1.0,\"#f0f921\"]],\"type\":\"heatmapgl\"}],\"heatmap\":[{\"colorbar\":{\"outlinewidth\":0,\"ticks\":\"\"},\"colorscale\":[[0.0,\"#0d0887\"],[0.1111111111111111,\"#46039f\"],[0.2222222222222222,\"#7201a8\"],[0.3333333333333333,\"#9c179e\"],[0.4444444444444444,\"#bd3786\"],[0.5555555555555556,\"#d8576b\"],[0.6666666666666666,\"#ed7953\"],[0.7777777777777778,\"#fb9f3a\"],[0.8888888888888888,\"#fdca26\"],[1.0,\"#f0f921\"]],\"type\":\"heatmap\"}],\"histogram2dcontour\":[{\"colorbar\":{\"outlinewidth\":0,\"ticks\":\"\"},\"colorscale\":[[0.0,\"#0d0887\"],[0.1111111111111111,\"#46039f\"],[0.2222222222222222,\"#7201a8\"],[0.3333333333333333,\"#9c179e\"],[0.4444444444444444,\"#bd3786\"],[0.5555555555555556,\"#d8576b\"],[0.6666666666666666,\"#ed7953\"],[0.7777777777777778,\"#fb9f3a\"],[0.8888888888888888,\"#fdca26\"],[1.0,\"#f0f921\"]],\"type\":\"histogram2dcontour\"}],\"histogram2d\":[{\"colorbar\":{\"outlinewidth\":0,\"ticks\":\"\"},\"colorscale\":[[0.0,\"#0d0887\"],[0.1111111111111111,\"#46039f\"],[0.2222222222222222,\"#7201a8\"],[0.3333333333333333,\"#9c179e\"],[0.4444444444444444,\"#bd3786\"],[0.5555555555555556,\"#d8576b\"],[0.6666666666666666,\"#ed7953\"],[0.7777777777777778,\"#fb9f3a\"],[0.8888888888888888,\"#fdca26\"],[1.0,\"#f0f921\"]],\"type\":\"histogram2d\"}],\"histogram\":[{\"marker\":{\"pattern\":{\"fillmode\":\"overlay\",\"size\":10,\"solidity\":0.2}},\"type\":\"histogram\"}],\"mesh3d\":[{\"colorbar\":{\"outlinewidth\":0,\"ticks\":\"\"},\"type\":\"mesh3d\"}],\"parcoords\":[{\"line\":{\"colorbar\":{\"outlinewidth\":0,\"ticks\":\"\"}},\"type\":\"parcoords\"}],\"pie\":[{\"automargin\":true,\"type\":\"pie\"}],\"scatter3d\":[{\"line\":{\"colorbar\":{\"outlinewidth\":0,\"ticks\":\"\"}},\"marker\":{\"colorbar\":{\"outlinewidth\":0,\"ticks\":\"\"}},\"type\":\"scatter3d\"}],\"scattercarpet\":[{\"marker\":{\"colorbar\":{\"outlinewidth\":0,\"ticks\":\"\"}},\"type\":\"scattercarpet\"}],\"scattergeo\":[{\"marker\":{\"colorbar\":{\"outlinewidth\":0,\"ticks\":\"\"}},\"type\":\"scattergeo\"}],\"scattergl\":[{\"marker\":{\"colorbar\":{\"outlinewidth\":0,\"ticks\":\"\"}},\"type\":\"scattergl\"}],\"scattermapbox\":[{\"marker\":{\"colorbar\":{\"outlinewidth\":0,\"ticks\":\"\"}},\"type\":\"scattermapbox\"}],\"scatterpolargl\":[{\"marker\":{\"colorbar\":{\"outlinewidth\":0,\"ticks\":\"\"}},\"type\":\"scatterpolargl\"}],\"scatterpolar\":[{\"marker\":{\"colorbar\":{\"outlinewidth\":0,\"ticks\":\"\"}},\"type\":\"scatterpolar\"}],\"scatter\":[{\"fillpattern\":{\"fillmode\":\"overlay\",\"size\":10,\"solidity\":0.2},\"type\":\"scatter\"}],\"scatterternary\":[{\"marker\":{\"colorbar\":{\"outlinewidth\":0,\"ticks\":\"\"}},\"type\":\"scatterternary\"}],\"surface\":[{\"colorbar\":{\"outlinewidth\":0,\"ticks\":\"\"},\"colorscale\":[[0.0,\"#0d0887\"],[0.1111111111111111,\"#46039f\"],[0.2222222222222222,\"#7201a8\"],[0.3333333333333333,\"#9c179e\"],[0.4444444444444444,\"#bd3786\"],[0.5555555555555556,\"#d8576b\"],[0.6666666666666666,\"#ed7953\"],[0.7777777777777778,\"#fb9f3a\"],[0.8888888888888888,\"#fdca26\"],[1.0,\"#f0f921\"]],\"type\":\"surface\"}],\"table\":[{\"cells\":{\"fill\":{\"color\":\"#EBF0F8\"},\"line\":{\"color\":\"white\"}},\"header\":{\"fill\":{\"color\":\"#C8D4E3\"},\"line\":{\"color\":\"white\"}},\"type\":\"table\"}]},\"layout\":{\"annotationdefaults\":{\"arrowcolor\":\"#2a3f5f\",\"arrowhead\":0,\"arrowwidth\":1},\"autotypenumbers\":\"strict\",\"coloraxis\":{\"colorbar\":{\"outlinewidth\":0,\"ticks\":\"\"}},\"colorscale\":{\"diverging\":[[0,\"#8e0152\"],[0.1,\"#c51b7d\"],[0.2,\"#de77ae\"],[0.3,\"#f1b6da\"],[0.4,\"#fde0ef\"],[0.5,\"#f7f7f7\"],[0.6,\"#e6f5d0\"],[0.7,\"#b8e186\"],[0.8,\"#7fbc41\"],[0.9,\"#4d9221\"],[1,\"#276419\"]],\"sequential\":[[0.0,\"#0d0887\"],[0.1111111111111111,\"#46039f\"],[0.2222222222222222,\"#7201a8\"],[0.3333333333333333,\"#9c179e\"],[0.4444444444444444,\"#bd3786\"],[0.5555555555555556,\"#d8576b\"],[0.6666666666666666,\"#ed7953\"],[0.7777777777777778,\"#fb9f3a\"],[0.8888888888888888,\"#fdca26\"],[1.0,\"#f0f921\"]],\"sequentialminus\":[[0.0,\"#0d0887\"],[0.1111111111111111,\"#46039f\"],[0.2222222222222222,\"#7201a8\"],[0.3333333333333333,\"#9c179e\"],[0.4444444444444444,\"#bd3786\"],[0.5555555555555556,\"#d8576b\"],[0.6666666666666666,\"#ed7953\"],[0.7777777777777778,\"#fb9f3a\"],[0.8888888888888888,\"#fdca26\"],[1.0,\"#f0f921\"]]},\"colorway\":[\"#636efa\",\"#EF553B\",\"#00cc96\",\"#ab63fa\",\"#FFA15A\",\"#19d3f3\",\"#FF6692\",\"#B6E880\",\"#FF97FF\",\"#FECB52\"],\"font\":{\"color\":\"#2a3f5f\"},\"geo\":{\"bgcolor\":\"white\",\"lakecolor\":\"white\",\"landcolor\":\"white\",\"showlakes\":true,\"showland\":true,\"subunitcolor\":\"#C8D4E3\"},\"hoverlabel\":{\"align\":\"left\"},\"hovermode\":\"closest\",\"mapbox\":{\"style\":\"light\"},\"paper_bgcolor\":\"white\",\"plot_bgcolor\":\"white\",\"polar\":{\"angularaxis\":{\"gridcolor\":\"#EBF0F8\",\"linecolor\":\"#EBF0F8\",\"ticks\":\"\"},\"bgcolor\":\"white\",\"radialaxis\":{\"gridcolor\":\"#EBF0F8\",\"linecolor\":\"#EBF0F8\",\"ticks\":\"\"}},\"scene\":{\"xaxis\":{\"backgroundcolor\":\"white\",\"gridcolor\":\"#DFE8F3\",\"gridwidth\":2,\"linecolor\":\"#EBF0F8\",\"showbackground\":true,\"ticks\":\"\",\"zerolinecolor\":\"#EBF0F8\"},\"yaxis\":{\"backgroundcolor\":\"white\",\"gridcolor\":\"#DFE8F3\",\"gridwidth\":2,\"linecolor\":\"#EBF0F8\",\"showbackground\":true,\"ticks\":\"\",\"zerolinecolor\":\"#EBF0F8\"},\"zaxis\":{\"backgroundcolor\":\"white\",\"gridcolor\":\"#DFE8F3\",\"gridwidth\":2,\"linecolor\":\"#EBF0F8\",\"showbackground\":true,\"ticks\":\"\",\"zerolinecolor\":\"#EBF0F8\"}},\"shapedefaults\":{\"line\":{\"color\":\"#2a3f5f\"}},\"ternary\":{\"aaxis\":{\"gridcolor\":\"#DFE8F3\",\"linecolor\":\"#A2B1C6\",\"ticks\":\"\"},\"baxis\":{\"gridcolor\":\"#DFE8F3\",\"linecolor\":\"#A2B1C6\",\"ticks\":\"\"},\"bgcolor\":\"white\",\"caxis\":{\"gridcolor\":\"#DFE8F3\",\"linecolor\":\"#A2B1C6\",\"ticks\":\"\"}},\"title\":{\"x\":0.05},\"xaxis\":{\"automargin\":true,\"gridcolor\":\"#EBF0F8\",\"linecolor\":\"#EBF0F8\",\"ticks\":\"\",\"title\":{\"standoff\":15},\"zerolinecolor\":\"#EBF0F8\",\"zerolinewidth\":2},\"yaxis\":{\"automargin\":true,\"gridcolor\":\"#EBF0F8\",\"linecolor\":\"#EBF0F8\",\"ticks\":\"\",\"title\":{\"standoff\":15},\"zerolinecolor\":\"#EBF0F8\",\"zerolinewidth\":2}}},\"title\":{\"text\":\"CTR vs. CPC Insights\"},\"xaxis\":{\"title\":{\"text\":\"Cost Per Click (CPC $)\"}},\"yaxis\":{\"title\":{\"text\":\"Click-Through Rate (CTR %)\"}},\"legend\":{\"title\":{\"text\":\"Campaigns\"}}},                        {\"responsive\": true}                    ).then(function(){\n",
       "                            \n",
       "var gd = document.getElementById('6eda7a90-bdf6-4acc-8735-0640a9394c3a');\n",
       "var x = new MutationObserver(function (mutations, observer) {{\n",
       "        var display = window.getComputedStyle(gd).display;\n",
       "        if (!display || display === 'none') {{\n",
       "            console.log([gd, 'removed!']);\n",
       "            Plotly.purge(gd);\n",
       "            observer.disconnect();\n",
       "        }}\n",
       "}});\n",
       "\n",
       "// Listen for the removal of the full notebook cells\n",
       "var notebookContainer = gd.closest('#notebook-container');\n",
       "if (notebookContainer) {{\n",
       "    x.observe(notebookContainer, {childList: true});\n",
       "}}\n",
       "\n",
       "// Listen for the clearing of the current output cell\n",
       "var outputEl = gd.closest('.output');\n",
       "if (outputEl) {{\n",
       "    x.observe(outputEl, {childList: true});\n",
       "}}\n",
       "\n",
       "                        })                };                });            </script>        </div>"
      ]
     },
     "metadata": {},
     "output_type": "display_data"
    }
   ],
   "source": [
    "campaign_performance = df.groupby(\"Campaign\", as_index=False).mean()\n",
    "\n",
    "if campaign_performance.empty:\n",
    "    print(\"⚠️ Δεν υπάρχουν αρκετά δεδομένα για να δημιουργηθεί το γράφημα!\")\n",
    "else:\n",
    "    # Δημιουργία Scatter Plot\n",
    "    fig = go.Figure()\n",
    "\n",
    "    fig.add_trace(go.Scatter(\n",
    "        x=campaign_performance[\"Avg. CPC\"],\n",
    "        y=campaign_performance[\"CTR\"],\n",
    "        mode=\"markers\",\n",
    "        marker=dict(\n",
    "            size=campaign_performance[\"Cost\"] / campaign_performance[\"Cost\"].max() * 50,  # Κανονικοποίηση μεγέθους\n",
    "            color=campaign_performance[\"CTR\"],\n",
    "            colorscale=\"Viridis\",\n",
    "            showscale=True\n",
    "        ),\n",
    "        text=campaign_performance[\"Campaign\"],  # Όνομα καμπάνιας στο tooltip\n",
    "        name=\"Campaigns\"\n",
    "    ))\n",
    "\n",
    "    # Προσαρμογή γραφήματος\n",
    "    fig.update_layout(\n",
    "        title=\"CTR vs. CPC Insights\",\n",
    "        xaxis_title=\"Cost Per Click (CPC $)\",\n",
    "        yaxis_title=\"Click-Through Rate (CTR %)\",\n",
    "        template=\"plotly_white\",\n",
    "        legend_title=\"Campaigns\"\n",
    "    )\n",
    "\n",
    "    # Προβολή γραφήματος\n",
    "    fig.show()\n",
    "\n"
   ]
  }
 ],
 "metadata": {
  "kernelspec": {
   "display_name": "Python 3",
   "language": "python",
   "name": "python3"
  },
  "language_info": {
   "codemirror_mode": {
    "name": "ipython",
    "version": 3
   },
   "file_extension": ".py",
   "mimetype": "text/x-python",
   "name": "python",
   "nbconvert_exporter": "python",
   "pygments_lexer": "ipython3",
   "version": "3.8.8"
  }
 },
 "nbformat": 4,
 "nbformat_minor": 5
}
